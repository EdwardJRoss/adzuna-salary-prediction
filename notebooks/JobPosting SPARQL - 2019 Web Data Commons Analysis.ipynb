{
 "cells": [
  {
   "cell_type": "markdown",
   "metadata": {},
   "source": [
    "For more details see https://skeptric.com/sparql-analysing-rdf"
   ]
  },
  {
   "cell_type": "code",
   "execution_count": 1,
   "metadata": {},
   "outputs": [],
   "source": [
    "%load_ext autoreload\n",
    "%autoreload 2"
   ]
  },
  {
   "cell_type": "code",
   "execution_count": 2,
   "metadata": {},
   "outputs": [],
   "source": [
    "import sys\n",
    "import gzip\n",
    "import rdflib\n",
    "import urllib\n",
    "from urllib.request import urlretrieve\n",
    "from pathlib import Path\n",
    "\n",
    "import dateutil\n",
    "import datetime\n",
    "\n",
    "import logging\n",
    "\n",
    "from tqdm.notebook import tqdm"
   ]
  },
  {
   "cell_type": "code",
   "execution_count": 3,
   "metadata": {},
   "outputs": [],
   "source": [
    "sys.path.insert(0, '../src')"
   ]
  },
  {
   "cell_type": "code",
   "execution_count": 4,
   "metadata": {},
   "outputs": [],
   "source": [
    "from lib.rdftool import *"
   ]
  },
  {
   "cell_type": "markdown",
   "metadata": {},
   "source": [
    "Data From http://webdatacommons.org/structureddata/2019-12/stats/schema_org_subsets.html\n",
    "\n",
    "Download both the microdata (1.9GB) and the JSON-LD (700MB)"
   ]
  },
  {
   "cell_type": "code",
   "execution_count": 5,
   "metadata": {},
   "outputs": [],
   "source": [
    "DEST_DIR = Path('..') / 'data' / 'webcommons'\n",
    "DEST_DIR.mkdir(parents=True, exist_ok=True)"
   ]
  },
  {
   "cell_type": "code",
   "execution_count": 6,
   "metadata": {},
   "outputs": [],
   "source": [
    "class TqdmUpTo(tqdm):\n",
    "    def update_to(self, b=1, bsize=1, tsize=None):\n",
    "        if tsize is not None:\n",
    "            self.total = tsize\n",
    "        self.update(b * bsize - self.n)  # will also set self.n = b * bsize\n",
    "\n",
    "def download(url, filename, overwrite=False):\n",
    "    filename = Path(filename)\n",
    "    if (not filename.exists()) or overwrite:\n",
    "        with TqdmUpTo(unit = 'B', unit_scale = True, unit_divisor = 1024, miniters = 1, desc = Path(filename).name) as t:\n",
    "            urlretrieve(url, filename = filename, reporthook = t.update_to)"
   ]
  },
  {
   "cell_type": "code",
   "execution_count": 7,
   "metadata": {},
   "outputs": [],
   "source": [
    "JOBS_JSON_2019 = DEST_DIR / '2019-12_json_JobPosting.gz'"
   ]
  },
  {
   "cell_type": "code",
   "execution_count": 8,
   "metadata": {},
   "outputs": [],
   "source": [
    "JOBS_MD_2019 = DEST_DIR / '2019-12_md_JobPosting.gz'"
   ]
  },
  {
   "cell_type": "code",
   "execution_count": 9,
   "metadata": {},
   "outputs": [],
   "source": [
    "download('http://data.dws.informatik.uni-mannheim.de/structureddata/2019-12/quads/classspecific/json/schema_JobPosting.gz',\n",
    "         JOBS_JSON_2019)"
   ]
  },
  {
   "cell_type": "code",
   "execution_count": 10,
   "metadata": {},
   "outputs": [],
   "source": [
    "download('http://data.dws.informatik.uni-mannheim.de/structureddata/2019-12/quads/classspecific/md/schema_JobPosting.gz',\n",
    "         JOBS_MD_2019)"
   ]
  },
  {
   "cell_type": "markdown",
   "metadata": {},
   "source": [
    "# JSON"
   ]
  },
  {
   "cell_type": "code",
   "execution_count": 11,
   "metadata": {},
   "outputs": [],
   "source": [
    "def get_domain(url):\n",
    "    return urllib.parse.urlparse(url).netloc"
   ]
  },
  {
   "cell_type": "code",
   "execution_count": 12,
   "metadata": {},
   "outputs": [],
   "source": [
    "def parse_nquads_distinct(lines, total=None):\n",
    "    seen = set()\n",
    "    for group, quad_lines in tqdm(groupby(lines, get_quad_label), total=total):\n",
    "        domain = get_domain(group)\n",
    "        if domain in seen:\n",
    "            continue\n",
    "        graph = rdflib.Graph(identifier=group)\n",
    "        try:\n",
    "            graph.parse(data=''.join(quad_lines), format='nquads')\n",
    "        except rdflib.plugins.parsers.ntriples.ParseError as e:\n",
    "            msg = str(e)\n",
    "            if len(msg) > 255:\n",
    "                msg = msg[:255] + '...'\n",
    "            logging.error(str(msg))\n",
    "            continue\n",
    "        if list(get_job_postings(graph)):\n",
    "            seen.add(domain)\n",
    "            yield graph"
   ]
  },
  {
   "cell_type": "code",
   "execution_count": 13,
   "metadata": {},
   "outputs": [],
   "source": [
    "rdflib.term.bind(rdflib.term.URIRef(\"http://schema.org/Date\"), datetime.datetime, dateutil.parser.parse, lambda dt: dt.isoformat())\n",
    "rdflib.term.bind(rdflib.term.URIRef(\"http://schema.org/DateTime\"), datetime.datetime, dateutil.parser.parse, lambda dt: dt.isoformat())\n",
    "rdflib.term.bind(rdflib.term.URIRef(\"https://schema.org/Date\"), datetime.datetime, dateutil.parser.parse, lambda dt: dt.isoformat())\n",
    "rdflib.term.bind(rdflib.term.URIRef(\"https://schema.org/DateTime\"), datetime.datetime, dateutil.parser.parse, lambda dt: dt.isoformat())"
   ]
  },
  {
   "cell_type": "code",
   "execution_count": 14,
   "metadata": {
    "scrolled": true
   },
   "outputs": [
    {
     "data": {
      "application/vnd.jupyter.widget-view+json": {
       "model_id": "c32d5515abf8440588e5d1a03c2f8179",
       "version_major": 2,
       "version_minor": 0
      },
      "text/plain": [
       "HBox(children=(IntProgress(value=0, max=460000), HTML(value='')))"
      ]
     },
     "metadata": {},
     "output_type": "display_data"
    },
    {
     "name": "stderr",
     "output_type": "stream",
     "text": [
      "/home/eross/.virtualenvs/ds/lib/python3.6/site-packages/dateutil/parser/_parser.py:1204: UnknownTimezoneWarning: tzname CET identified but not understood.  Pass `tzinfos` argument in order to correctly return a timezone-aware datetime.  In a future version, this will raise an exception.\n",
      "  category=UnknownTimezoneWarning)\n",
      "skype:raloffice?call|skype:raloffice?chat does not look like a valid URI, trying to serialize this will break.\n",
      "https://www.accenture.com/us-en?c=us_us_brand_10460943&amp;n=psgs_brand_1218&amp;c=ad_usadfy17_10000001&amp;n=psgs_Brand-|-US-|-Exact_accenture&amp;gclid=EAIaIQobChMIpKXKyq2o5AIVksDACh36_QtlEAAYASAAEgLCbPD_BwE does not look like a valid URI, trying to serialize this will break.\n"
     ]
    },
    {
     "name": "stdout",
     "output_type": "stream",
     "text": [
      "\n"
     ]
    }
   ],
   "source": [
    "json_graphs = list(parse_nquads_distinct(gzip.open(JOBS_JSON_2019, 'rt'), 460_000))"
   ]
  },
  {
   "cell_type": "code",
   "execution_count": 15,
   "metadata": {
    "scrolled": false
   },
   "outputs": [
    {
     "data": {
      "application/vnd.jupyter.widget-view+json": {
       "model_id": "031241e69f234bd7a4dafa9341b93f57",
       "version_major": 2,
       "version_minor": 0
      },
      "text/plain": [
       "HBox(children=(IntProgress(value=0, max=680000), HTML(value='')))"
      ]
     },
     "metadata": {},
     "output_type": "display_data"
    },
    {
     "name": "stderr",
     "output_type": "stream",
     "text": [
      "http://chart.apis.google.com/chart?chs=155x155&cht=qr&chl=http%3A%2F%2Fwww%2Eemprega%2Einfo%2FVA%2D93231%2Demprego%2Dde%2DScrum%2DMaster%2Dem%2DCampinas%2DSP&chld=|0 does not look like a valid URI, trying to serialize this will break.\n",
      "https://www.flexibleworks.co.uk/homepage.php?employerid=16&company=Citizen\\ does not look like a valid URI, trying to serialize this will break.\n",
      "https://www.diversitylink.co.uk/homepage.php?employerid=122&company=St-Andrew\\ does not look like a valid URI, trying to serialize this will break.\n",
      "https://cbb.de/karriere/stellenboerse/detail/s-51-h-entwicklungsingenieur-entwicklungsingenieur-projektleiter-dipl-ing-elektrotechnik-dipl/javascript:linkTo_UnCryptMailto('nbjmup+kpctAdcc\\/ef'); does not look like a valid URI, trying to serialize this will break.\n",
      "ERROR:root:Invalid line (Failed to eat <([^:]+:[^\\s\"<>]*)> at <http://schema.org/JobPosting/\\\"description\\\"> \"\\n\\t\\t\\t\\t\\u0420\\u0430\\u0431\\u043E\\u0442\\u0430 \\u043D\\u0430 \\u0437\\u0430\\u0432\\u043E\\u0434\\u0435 \\u0432 \\u0427\\u0435\\u0445\\u0438\\u0438\\n\\u0413\\u043E\\u0440\\u...\n",
      "ERROR:root:Invalid line (Failed to eat <([^:]+:[^\\s\"<>]*)> at <http://schema.org/JobPosting/\\\"description\\\"> \"\\n\\t\\t\\t\\t\\u0420\\u0430\\u0431\\u043E\\u0442\\u0430 \\u0432 \\u0427\\u0435\\u0445\\u0456\\u0457 \\u043D\\u0430 \\u0417\\u0430\\u0432\\u043E\\u0434\\u0456 \\u041F\\u0430\\u043D\\u0...\n",
      "ERROR:root:Invalid line (Failed to eat <([^:]+:[^\\s\"<>]*)> at <http://schema.org/JobPosting/\\\"description\\\"> \"\\n\\t\\t\\t\\t\\u00A0\\n\\u0412\\u0410\\u041A\\u0410\\u041D\\u0421\\u0418\\u042F \\u0432 \\u0427\\u0435\\u0445\\u0438\\u0438 \\u041D\\u0410 \\u0417\\u0410\\u0412\\u041E\\u0414 \\u043A\\...\n",
      "ERROR:root:Invalid line (Failed to eat <([^:]+:[^\\s\"<>]*)> at <http://schema.org/JobPosting/\\\"description\\\"> \"\\n\\t\\t\\t\\t\\u0420\\u0430\\u0431\\u043E\\u0442\\u0430 \\u0434\\u043B\\u044F \\u044D\\u043B\\u0435\\u043A\\u0442\\u0440\\u0438\\u043A\\u043E\\u0432 \\u0432 \\u0427\\u0435\\u0445\\u04...\n",
      "ERROR:root:Invalid line (Failed to eat <([^:]+:[^\\s\"<>]*)> at <http://schema.org/JobPosting/\\\"description\\\"> \"\\n\\t\\t\\t\\t\\u0420\\u0430\\u0431\\u043E\\u0442\\u0430 \\u0432 \\u0427\\u0435\\u0445\\u0438\\u0438 \\u0443\\u043F\\u0430\\u043A\\u043E\\u0432\\u043A\\u0430 \\u043C\\u044F\\u0441\\u04...\n",
      "ERROR:root:Invalid line (Failed to eat <([^:]+:[^\\s\"<>]*)> at <http://schema.org/JobPosting/\\\"description\\\"> \"\\n\\t\\t\\t\\t\\u0420\\u0430\\u0431\\u043E\\u0442\\u0430 \\u0441\\u0432\\u0430\\u0440\\u0449\\u0438\\u043A\\u043E\\u043C \\u0432 \\u0427\\u0435\\u0445\\u0438\\u0438\\n\\u0417\\u0430\\u0...\n",
      "ERROR:root:Invalid line (Failed to eat <([^:]+:[^\\s\"<>]*)> at <http://schema.org/JobPosting/\\\"description\\\"> \"\\n\\t\\t\\t\\t\\u041F\\u0440\\u043E\\u0432\\u043E\\u0434\\u0438\\u0442\\u044C\\u0441\\u044F \\u043D\\u0430\\u0431\\u0456\\u0440 \\u043B\\u044E\\u0434\\u0435\\u0439 \\u043D\\u0430 \\u04...\n",
      "ERROR:root:Invalid line (Failed to eat <([^:]+:[^\\s\"<>]*)> at <http://schema.org/JobPosting/\\\"description\\\"> \"\\n\\t\\t\\t\\t\\u0412\\u0456\\u0434\\u043A\\u0440\\u0438\\u0442\\u0442\\u044F \\u0440\\u043E\\u0431\\u043E\\u0447\\u043E\\u0457 \\u0442\\u0440\\u044C\\u043E\\u0445\\u043C\\u0456\\u0441...\n",
      "ERROR:root:Invalid line (Failed to eat <([^:]+:[^\\s\"<>]*)> at <http://schema.org/JobPosting/\\\"description\\\"> \"\\n\\t\\t\\t\\t\\u041F\\u0440\\u043E\\u0438\\u0437\\u0432\\u043E\\u0434\\u0441\\u0442\\u0432\\u043E \\u043B\\u0438\\u0444\\u0442\\u043E\\u0432 \\u0432 \\u0427\\u0435\\u0445\\u0438\\u043...\n",
      "ERROR:root:Invalid line (Failed to eat <([^:]+:[^\\s\"<>]*)> at <http://schema.org/JobPosting/\\\"description\\\"> \"\\n\\t\\t\\t\\t\\u0420\\u0430\\u0431\\u043E\\u0442\\u0430 \\u043D\\u0430 \\u0437\\u0430\\u0432\\u043E\\u0434\\u0435 \\u0421embrit\\n\\n\\u0417\\u0430\\u0432\\u043E\\u0434 \\u0432\\u0438...\n",
      "ERROR:root:Invalid line (Failed to eat <([^:]+:[^\\s\"<>]*)> at <http://schema.org/JobPosting/\\\"description\\\"> \"\\n\\t\\t\\t\\t\\u0418\\u0437\\u0433\\u043E\\u0442\\u043E\\u0432\\u043B\\u0435\\u043D\\u0438\\u0435 \\u0438 \\u0441\\u0431\\u043E\\u0440 \\u0441\\u0438\\u0441\\u0442\\u0435\\u043C \\u04...\n",
      "ERROR:root:Invalid line (Failed to eat <([^:]+:[^\\s\"<>]*)> at <http://schema.org/JobPosting/\\\"description\\\"> \"\\n\\t\\t\\t\\t\\u0412\\u0456\\u0434\\u043A\\u0440\\u0438\\u0442\\u0442\\u044F \\u0440\\u043E\\u0431\\u043E\\u0447\\u043E\\u0457 \\u0442\\u0440\\u044C\\u043E\\u0445\\u043C\\u0456\\u0441...\n",
      "ERROR:root:Invalid line (Failed to eat <([^:]+:[^\\s\"<>]*)> at <http://schema.org/JobPosting/\\\"description\\\"> \"\\n\\t\\t\\t\\t\\u0420\\u0430\\u0431\\u043E\\u0442\\u0430 \\u0432 \\u0427\\u0435\\u0445\\u0438\\u0438 \\u043D\\u0430\\u00A0 DPD \\u041F\\u043E\\u0447\\u0442\\u0430 \\u0433\\u043E\\u044...\n",
      "ERROR:root:Invalid line (Failed to eat <([^:]+:[^\\s\"<>]*)> at <http://schema.org/JobPosting/\\\"description\\\"> \"\\n\\t\\t\\t\\t\\u0420\\u043E\\u0431\\u043E\\u0442\\u0430 \\u043D\\u0430 \\u0430\\u0432\\u0442\\u043E\\u043C\\u043E\\u0431\\u0456\\u043B\\u044C\\u043D\\u043E\\u043C\\u0443 \\u0437\\u043...\n",
      "ERROR:root:Invalid line (Failed to eat <([^:]+:[^\\s\"<>]*)> at <http://schema.org/JobPosting/\\\"description\\\"> \"\\n\\t\\t\\t\\t\\u041F\\u0440\\u043E\\u0438\\u0437\\u0432\\u043E\\u0434\\u0441\\u0442\\u0432\\u043E \\u043C\\u0435\\u043B\\u043A\\u0438\\u0445 \\u0434\\u0435\\u0442\\u0430\\u043B\\u0435...\n",
      "ERROR:root:Invalid line (Failed to eat <([^:]+:[^\\s\"<>]*)> at <http://schema.org/JobPosting/\\\"description\\\"> \"\\n\\t\\t\\t\\t\\u0412\\u0456\\u0434\\u043A\\u0440\\u0438\\u0442\\u0442\\u044F \\u0440\\u043E\\u0431\\u043E\\u0447\\u043E\\u0457 \\u0442\\u0440\\u044C\\u043E\\u0445\\u043C\\u0456\\u0441...\n",
      "ERROR:root:Invalid line (Failed to eat <([^:]+:[^\\s\"<>]*)> at <http://schema.org/JobPosting/\\\"description\\\"> \"\\n\\t\\t\\t\\t\\u0420\\u0430\\u0431\\u043E\\u0447\\u0438\\u0439 \\u043D\\u0430 \\u043F\\u0440\\u043E\\u0438\\u0437\\u0432\\u043E\\u0434\\u0441\\u0442\\u0432\\u043E \\u0432 \\u0427\\u04...\n",
      "ERROR:root:Invalid line (Failed to eat <([^:]+:[^\\s\"<>]*)> at <http://schema.org/JobPosting/\\\"description\\\"> \"\\n\\t\\t\\t\\t\\u0420\\u0430\\u0431\\u043E\\u0442\\u0430 \\u043D\\u0430 \\u0437\\u0430\\u0432\\u043E\\u0434\\u0435 \\u041F\\u0430\\u043D\\u0430\\u0441\\u043E\\u043D\\u0438\\u043A \\u04...\n",
      "ERROR:root:Invalid line (Failed to eat <([^:]+:[^\\s\"<>]*)> at <http://schema.org/JobPosting/\\\"description\\\"> \"\\n\\t\\t\\t\\t\\u0441\\u0442\\u043E\\u043B\\u044F\\u0440\\u044B \\u0438 \\u0434\\u0435\\u0440\\u0435\\u0432\\u043E\\u043E\\u0431\\u0440\\u0430\\u0431\\u043E\\u0442\\u0447\\u0438\\u043A...\n",
      "ERROR:root:Invalid line (Failed to eat <([^:]+:[^\\s\"<>]*)> at <http://schema.org/JobPosting/\\\"description\\\"> \"\\n\\t\\t\\t\\t\\u041A\\u043E\\u043D\\u0432\\u0435\\u0439\\u0435\\u0440 \\u043F\\u043E \\u0441\\u0431\\u043E\\u0440\\u0443 \\u0431\\u043B\\u043E\\u043A\\u043E\\u0432 \\u0443\\u043F\\u04...\n",
      "ERROR:root:Invalid line (Failed to eat <([^:]+:[^\\s\"<>]*)> at <http://schema.org/JobPosting/\\\"description\\\"> \"\\n\\t\\t\\t\\t\\u0412\\u0456\\u0434\\u043A\\u0440\\u0438\\u0442\\u0442\\u044F \\u0440\\u043E\\u0431\\u043E\\u0447\\u043E\\u0457 \\u0442\\u0440\\u044C\\u043E\\u0445\\u043C\\u0456\\u0441...\n",
      "ERROR:root:Invalid line (Failed to eat <([^:]+:[^\\s\"<>]*)> at <http://schema.org/JobPosting/\\\"description\\\"> \"\\n\\t\\t\\t\\t\\u0420\\u0430\\u0431\\u043E\\u0442\\u0430 \\u043D\\u0430 \\u0441\\u043A\\u043B\\u0430\\u0434\\u0430\\u0445\\u00A0 \\u0432 \\u0427\\u0435\\u0445\\u0438\\u044E\\n\\u0443\\u...\n",
      "ERROR:root:Invalid line (Failed to eat <([^:]+:[^\\s\"<>]*)> at <http://schema.org/JobPosting/\\\"description\\\"> \"\\n\\t\\t\\t\\t\\u0412\\u0456\\u0434\\u043A\\u0440\\u0438\\u0442\\u0442\\u044F \\u0440\\u043E\\u0431\\u043E\\u0447\\u043E\\u0457 \\u0442\\u0440\\u044C\\u043E\\u0445\\u043C\\u0456\\u0441...\n",
      "ERROR:root:Invalid line (Failed to eat <([^:]+:[^\\s\"<>]*)> at <http://schema.org/JobPosting/\\\"description\\\"> \"\\n\\t\\t\\t\\t\\u0412\\u0456\\u0434\\u043A\\u0440\\u0438\\u0442\\u0442\\u044F \\u0440\\u043E\\u0431\\u043E\\u0447\\u043E\\u0457 \\u0442\\u0440\\u044C\\u043E\\u0445\\u043C\\u0456\\u0441...\n",
      "ERROR:root:Invalid line (Failed to eat <([^:]+:[^\\s\"<>]*)> at <http://schema.org/JobPosting/\\\"description\\\"> \"\\n\\t\\t\\t\\t\\u0420\\u0430\\u0431\\u043E\\u0442\\u0430 \\u0432 \\u0427\\u0435\\u0445\\u0438\\u0438 \\u043D\\u0430 \\u0437\\u0430\\u0432\\u043E\\u0434\\u0435 \\u043C\\u0435\\u0442\\u0...\n",
      "ERROR:root:Invalid line (Failed to eat <([^:]+:[^\\s\"<>]*)> at <http://schema.org/JobPosting/\\\"description\\\"> \"\\n\\t\\t\\t\\t\\u0420\\u0430\\u0431\\u043E\\u0442\\u0430 \\u043D\\u0430 \\u0437\\u0430\\u0432\\u043E\\u0434\\u0435 Mubea \\u0432 \\u0433\\u043E\\u0440\\u043E\\u0434\\u0435 \\u0413\\u0...\n",
      "ERROR:root:Invalid line (Failed to eat <([^:]+:[^\\s\"<>]*)> at <http://schema.org/JobPosting/\\\"description\\\"> \"\\n\\t\\t\\t\\t\\u0420\\u0430\\u0431\\u043E\\u0442\\u0430 \\u0432 \\u0427\\u0435\\u0445\\u0438\\u0438 \\u043D\\u0430 \\u0437\\u0430\\u0432\\u043E\\u0434\\u0435 \\u0417\\u043E\\u0434\\u0...\n",
      "ERROR:root:Invalid line (Failed to eat <([^:]+:[^\\s\"<>]*)> at <http://schema.org/JobPosting/\\\"description\\\"> \"\\n\\t\\t\\t\\t\\u0420\\u0430\\u0431\\u043E\\u0447\\u0438\\u0439 \\u043D\\u0430 \\u043A\\u043E\\u043D\\u0432\\u0435\\u0439\\u0435\\u0440 \\u043F\\u043E \\u0441\\u0431\\u043E\\u0440\\u04...\n"
     ]
    },
    {
     "name": "stderr",
     "output_type": "stream",
     "text": [
      "ERROR:root:Invalid line (Failed to eat <([^:]+:[^\\s\"<>]*)> at <http://schema.org/JobPosting/\\\"description\\\"> \"\\n\\t\\t\\t\\t\\u0420\\u0410\\u0411\\u041E\\u0422\\u0410 \\u0412 \\u0427\\u0415\\u0425\\u0418\\u0418 \\u041D\\u0410 \\u0428\\u041E\\u041A\\u041E\\u041B\\u0410\\u0414\\u041D\\u041E\\u04...\n",
      "ERROR:root:Invalid line (Failed to eat <([^:]+:[^\\s\"<>]*)> at <http://schema.org/JobPosting/\\\"description\\\"> \"\\n\\t\\t\\t\\t\\u0421\\u043E\\u0441\\u0442\\u0430\\u0432\\u043B\\u0435\\u043D\\u0438\\u044F \\u0438 \\u043A\\u043E\\u043C\\u043F\\u043B\\u0435\\u043A\\u0442\\u0430\\u0446\\u0438\\u044F...\n",
      "ERROR:root:Invalid line (Failed to eat <([^:]+:[^\\s\"<>]*)> at <http://schema.org/JobPosting/\\\"description\\\"> \"\\n\\t\\t\\t\\t\\u0420\\u0430\\u0431\\u043E\\u0442\\u0430 \\u0432 \\u0427\\u0435\\u0445\\u0438\\u0438 \\u0422\\u0440\\u0430\\u043A\\u0442\\u043E\\u0440\\u0438\\u0441\\u0442\\u043E\\u043...\n",
      "ERROR:root:Invalid line (Failed to eat <([^:]+:[^\\s\"<>]*)> at <http://schema.org/JobPosting/\\\"description\\\"> \"\\n\\t\\t\\t\\t\\u0418\\u0437\\u0433\\u043E\\u0442\\u043E\\u0432\\u043B\\u0435\\u043D\\u0438\\u0435 \\u043A\\u043E\\u043D\\u0434\\u0438\\u0446\\u0438\\u043E\\u043D\\u0435\\u0440\\u043E\\...\n",
      "ERROR:root:Invalid line (Failed to eat <([^:]+:[^\\s\"<>]*)> at <http://schema.org/JobPosting/\\\"description\\\"> \"\\n\\t\\t\\t\\t\\u0420\\u0430\\u0431\\u043E\\u0442\\u0430 \\u0432 \\u0427\\u0435\\u0445\\u0438\\u0438 \\u0434\\u043B\\u044F \\u0436\\u0435\\u043D\\u0449\\u0438\\u043D \\u0434\\u043E 45...\n",
      "ERROR:root:Invalid line (Failed to eat <([^:]+:[^\\s\"<>]*)> at <http://schema.org/JobPosting/\\\"description\\\"> \"\\n\\t\\t\\t\\t\\u0420\\u0430\\u0431\\u043E\\u0442\\u0430 \\u0432 \\u0427\\u0435\\u0445\\u0438\\u0438 \\u0434\\u043B\\u044F\\u00A0 \\u043C\\u0443\\u0436\\u0447\\u0438\\u043D, \\u0434\\u...\n",
      "ERROR:root:Invalid line (Failed to eat <([^:]+:[^\\s\"<>]*)> at <http://schema.org/JobPosting/\\\"description\\\"> \"\\n\\t\\t\\t\\t\\u0420\\u0430\\u0431\\u043E\\u0442\\u0430 \\u043D\\u0430 \\u0441\\u043A\\u043B\\u0430\\u0434\\u0430\\u0445 \\u0438\\u043D\\u0442\\u0435\\u0440\\u043D\\u0435\\u0442 \\u04...\n",
      "ERROR:root:Invalid line (Failed to eat <([^:]+:[^\\s\"<>]*)> at <http://schema.org/JobPosting/\\\"description\\\"> \"\\n\\t\\t\\t\\t\\u0420\\u0430\\u0431\\u043E\\u0442\\u0430 \\u0432 \\u0427\\u0435\\u0445\\u0438\\u0438 \\u043D\\u0430 \\u0430\\u0432\\u0442\\u043E\\u0437\\u0430\\u0432\\u043E\\u0434\\u04...\n",
      "ERROR:root:Invalid line (Failed to eat <([^:]+:[^\\s\"<>]*)> at <http://schema.org/JobPosting/\\\"description\\\"> \"\\n\\t\\t\\t\\t\\u0420\\u0430\\u0431\\u043E\\u0442\\u0430 \\u0432 \\u0427\\u0435\\u0445\\u0438\\u0438\\u00A0 \\u043D\\u0430 \\u043F\\u0435\\u043A\\u0430\\u0440\\u043D\\u0435\\n\\u041E\\u...\n",
      "ERROR:root:Invalid line (Failed to eat <([^:]+:[^\\s\"<>]*)> at <http://schema.org/JobPosting/\\\"description\\\"> \"\\n\\t\\t\\t\\t\\u0420\\u0430\\u0431\\u043E\\u0442\\u0430 \\u0432 \\u0427\\u0435\\u0445\\u0438\\u0438 \\u043D\\u0430 \\u0437\\u0430\\u0432\\u043E\\u0434\\u0435 IZOPOL Plzen\\n\\u0412\\...\n",
      "WARNING:rdflib.term:https://spaceindividuals.com//job-details?id={{job._id}} does not look like a valid URI, trying to serialize this will break.\n"
     ]
    },
    {
     "name": "stdout",
     "output_type": "stream",
     "text": [
      "\n"
     ]
    }
   ],
   "source": [
    "md_graphs = list(parse_nquads_distinct(gzip.open(JOBS_MD_2019, 'rt'), 680_000))"
   ]
  },
  {
   "cell_type": "code",
   "execution_count": 16,
   "metadata": {},
   "outputs": [
    {
     "data": {
      "text/plain": [
       "5376"
      ]
     },
     "execution_count": 16,
     "metadata": {},
     "output_type": "execute_result"
    }
   ],
   "source": [
    "len(json_graphs)"
   ]
  },
  {
   "cell_type": "code",
   "execution_count": 17,
   "metadata": {},
   "outputs": [
    {
     "data": {
      "text/plain": [
       "10087"
      ]
     },
     "execution_count": 17,
     "metadata": {},
     "output_type": "execute_result"
    }
   ],
   "source": [
    "len(md_graphs)"
   ]
  },
  {
   "cell_type": "code",
   "execution_count": 18,
   "metadata": {},
   "outputs": [],
   "source": [
    "dataset = rdflib.Dataset()\n",
    "for graph in json_graphs + md_graphs:\n",
    "    dataset.add_graph(graph)"
   ]
  },
  {
   "cell_type": "markdown",
   "metadata": {},
   "source": [
    "# Starting SPARQL"
   ]
  },
  {
   "cell_type": "code",
   "execution_count": 19,
   "metadata": {},
   "outputs": [
    {
     "name": "stdout",
     "output_type": "stream",
     "text": [
      "(rdflib.term.URIRef('https://avantripbiblos.catsone.com/careers/3067-General/jobs/11459279-UX-Designer/'),)\n",
      "(rdflib.term.URIRef('https://pushkino.rabota.ru/vacancy/%D0%B3%D1%80%D1%83%D0%B7%D1%87%D0%B8%D0%BA-%D1%80%D0%B0%D0%B7%D0%BD%D0%BE%D1%80%D0%B0%D0%B1%D0%BE%D1%87%D0%B8%D0%B9/70000%20%D1%80%D1%83%D0%B1/'),)\n",
      "(rdflib.term.URIRef('https://www.ajilon.com/jobs/payment-poster/?ID=US_EN_7_843316_2709099'),)\n",
      "(rdflib.term.URIRef('https://www.barnardmarcus.co.uk/about-us'),)\n",
      "(rdflib.term.URIRef('https://it.careercast.com/jobs/product-analyst-data-scientist-gopro-san-diego-california-115313678-d?contextType=browse'),)\n"
     ]
    }
   ],
   "source": [
    "results = dataset.query('''\n",
    "SELECT ?src\n",
    "WHERE {\n",
    "GRAPH ?src\n",
    "{}\n",
    "}\n",
    "limit 5\n",
    "''')\n",
    "\n",
    "for row in results:\n",
    "    print(row)"
   ]
  },
  {
   "cell_type": "code",
   "execution_count": 20,
   "metadata": {},
   "outputs": [],
   "source": [
    "def head(items, n=5):\n",
    "    i = 0\n",
    "    for item in items:\n",
    "        i += 1\n",
    "        if i <= n:\n",
    "            print([field.toPython() if field else field for field in item])\n",
    "        # Exhaust the iterator, otherwise we get strange behaviour"
   ]
  },
  {
   "cell_type": "markdown",
   "metadata": {},
   "source": [
    "15,458 Jobs"
   ]
  },
  {
   "cell_type": "code",
   "execution_count": 21,
   "metadata": {},
   "outputs": [
    {
     "name": "stdout",
     "output_type": "stream",
     "text": [
      "[15458]\n"
     ]
    }
   ],
   "source": [
    "results = dataset.query('''\n",
    "SELECT (COUNT(?src) as ?count)\n",
    "WHERE {\n",
    "GRAPH ?src\n",
    "{}\n",
    "}\n",
    "''')\n",
    "\n",
    "head(results)"
   ]
  },
  {
   "cell_type": "markdown",
   "metadata": {},
   "source": [
    "38,760 job postings"
   ]
  },
  {
   "cell_type": "code",
   "execution_count": 22,
   "metadata": {},
   "outputs": [
    {
     "name": "stdout",
     "output_type": "stream",
     "text": [
      "[38760]\n"
     ]
    }
   ],
   "source": [
    "results = dataset.query('''\n",
    "PREFIX sdo: <http://schema.org/>\n",
    "SELECT (COUNT(?src) as ?count)\n",
    "WHERE {\n",
    "GRAPH ?src\n",
    "{[] a sdo:JobPosting . }\n",
    "}\n",
    "''')\n",
    "\n",
    "head(results)"
   ]
  },
  {
   "cell_type": "markdown",
   "metadata": {},
   "source": [
    "Only 13k of the 15k graphs have exactly one job posting"
   ]
  },
  {
   "cell_type": "code",
   "execution_count": 23,
   "metadata": {},
   "outputs": [
    {
     "name": "stdout",
     "output_type": "stream",
     "text": [
      "[13112]\n"
     ]
    }
   ],
   "source": [
    "results = dataset.query('''\n",
    "PREFIX sdo: <http://schema.org/>\n",
    "SELECT (COUNT(?src) as ?count) {\n",
    "SELECT ?src \n",
    "WHERE {\n",
    "GRAPH ?src\n",
    "{[] a sdo:JobPosting . }\n",
    "}\n",
    "GROUP BY ?src\n",
    "HAVING (COUNT(?src) = 1)\n",
    "}\n",
    "''')\n",
    "\n",
    "head(results)"
   ]
  },
  {
   "cell_type": "markdown",
   "metadata": {},
   "source": [
    "# Check the schema"
   ]
  },
  {
   "cell_type": "code",
   "execution_count": 24,
   "metadata": {},
   "outputs": [
    {
     "name": "stdout",
     "output_type": "stream",
     "text": [
      "['http://schema.org/JobPosting', 38760]\n",
      "['https://schema.org/JobPosting', 21]\n",
      "CPU times: user 4.19 s, sys: 219 ms, total: 4.41 s\n",
      "Wall time: 4.53 s\n"
     ]
    }
   ],
   "source": [
    "%%time\n",
    "results = dataset.query('''\n",
    "SELECT ?schema (COUNT(?src) AS ?total)\n",
    "WHERE {\n",
    "GRAPH ?src\n",
    "{\n",
    "{_:j a <http://schema.org/JobPosting> ;\n",
    "     a ?schema .\n",
    "}\n",
    "UNION\n",
    "{_:j a <https://schema.org/JobPosting> ;\n",
    "     a ?schema .\n",
    "}\n",
    "}\n",
    "}\n",
    "GROUP BY ?schema\n",
    "LIMIT 5\n",
    "''')\n",
    "\n",
    "head(results)"
   ]
  },
  {
   "cell_type": "code",
   "execution_count": 25,
   "metadata": {},
   "outputs": [
    {
     "name": "stdout",
     "output_type": "stream",
     "text": [
      "['http://schema.org/JobPosting', 38760]\n",
      "['https://schema.org/JobPosting', 21]\n",
      "CPU times: user 15 s, sys: 297 ms, total: 15.3 s\n",
      "Wall time: 15.7 s\n"
     ]
    }
   ],
   "source": [
    "%%time\n",
    "results = dataset.query('''\n",
    "SELECT ?type (COUNT(?type) as ?total)\n",
    "WHERE {\n",
    "    GRAPH ?src\n",
    "    {_:j a ?type . FILTER (REGEX(str(?type), 'https?://schema.org/JobPosting'))}\n",
    "}\n",
    "GROUP BY ?type\n",
    "ORDER BY DESC(?total)\n",
    "''')\n",
    "\n",
    "\n",
    "head(results)"
   ]
  },
  {
   "cell_type": "code",
   "execution_count": 26,
   "metadata": {},
   "outputs": [
    {
     "name": "stdout",
     "output_type": "stream",
     "text": [
      "['http://schema.org/JobPosting', 38760]\n",
      "['https://schema.org/JobPosting', 21]\n",
      "CPU times: user 14.9 s, sys: 719 ms, total: 15.6 s\n",
      "Wall time: 16.1 s\n"
     ]
    }
   ],
   "source": [
    "%%time\n",
    "results = dataset.query('''\n",
    "SELECT ?type (count(?src) as ?count)\n",
    "WHERE {\n",
    "    GRAPH ?src\n",
    "    {_:j a ?type .}\n",
    "    VALUES ?type { <http://schema.org/JobPosting> <https://schema.org/JobPosting> }\n",
    "}\n",
    "GROUP BY ?type\n",
    "ORDER BY DESC(?count)\n",
    "LIMIT 5\n",
    "''')\n",
    "\n",
    "\n",
    "head(results)"
   ]
  },
  {
   "cell_type": "markdown",
   "metadata": {},
   "source": [
    "# Just getting the singles\n",
    "\n",
    "Having lots of job ads from a single source could lead to unrealistic results"
   ]
  },
  {
   "cell_type": "code",
   "execution_count": 27,
   "metadata": {},
   "outputs": [
    {
     "name": "stdout",
     "output_type": "stream",
     "text": [
      "['http://schema.org/JobPosting', 38760]\n",
      "['https://schema.org/JobPosting', 21]\n",
      "CPU times: user 4.36 s, sys: 141 ms, total: 4.5 s\n",
      "Wall time: 4.65 s\n"
     ]
    }
   ],
   "source": [
    "%%time\n",
    "results = dataset.query('''\n",
    "SELECT ?schema (COUNT(?src) AS ?total)\n",
    "WHERE {\n",
    "GRAPH ?src\n",
    "{\n",
    "{_:j a <http://schema.org/JobPosting> ;\n",
    "     a ?schema .\n",
    "}\n",
    "UNION\n",
    "{_:j a <https://schema.org/JobPosting> ;\n",
    "     a ?schema .\n",
    "}\n",
    "}\n",
    "}\n",
    "GROUP BY ?schema\n",
    "LIMIT 5\n",
    "''')\n",
    "\n",
    "head(results)"
   ]
  },
  {
   "cell_type": "code",
   "execution_count": 28,
   "metadata": {},
   "outputs": [
    {
     "name": "stdout",
     "output_type": "stream",
     "text": [
      "['https://schema.org/JobPosting', 'https://trabaja.medicosdelmundo.org/empleos/oferta/408518/Psychologue-Republique-democratique-du-Congo.html']\n",
      "['https://schema.org/JobPosting', 'https://www.trabajando.com.co/empleos/oferta/836292/Foreman---Team-leader-Stripping-Area-E-Scrap-business.html']\n",
      "['https://schema.org/JobPosting', 'https://www.trabajando.es/empleos/oferta/412531/OPERARIO-A-CON-FUCNION-DE-LIMPIEZA.html']\n",
      "['https://schema.org/JobPosting', 'https://exalumnosudec.trabajando.com/empleos/ofertas/3782882/Ingeniero-Estudios-de-Mercado.html']\n",
      "['https://schema.org/JobPosting', 'https://bolsalaboralucn.trabajando.com/empleos/ofertas/3841806/Tecnico-informatico.html']\n",
      "CPU times: user 688 ms, sys: 78.1 ms, total: 766 ms\n",
      "Wall time: 810 ms\n"
     ]
    }
   ],
   "source": [
    "%%time\n",
    "results = dataset.query('''\n",
    "SELECT ?schema ?src\n",
    "WHERE {\n",
    "GRAPH ?src\n",
    "{_:j a <https://schema.org/JobPosting> ;\n",
    "     a ?schema .\n",
    "}\n",
    "}\n",
    "''')\n",
    "\n",
    "head(results)"
   ]
  },
  {
   "cell_type": "code",
   "execution_count": 29,
   "metadata": {},
   "outputs": [],
   "source": [
    "multiple_job_graphs = dataset.query('''\n",
    "PREFIX sdo: <http://schema.org/>\n",
    "PREFIX sdos: <https://schema.org/>\n",
    "SELECT ?src \n",
    "WHERE {\n",
    "GRAPH ?src\n",
    "{\n",
    "{[] a sdo:JobPosting . }\n",
    "UNION\n",
    "{[] a sdos:JobPosting .}\n",
    "}\n",
    "}\n",
    "GROUP BY ?src\n",
    "HAVING (COUNT(?src) > 1)\n",
    "''')\n",
    "\n",
    "multiple_job_graphs = set(x[0] for x in multiple_job_graphs)"
   ]
  },
  {
   "cell_type": "code",
   "execution_count": 30,
   "metadata": {},
   "outputs": [
    {
     "data": {
      "text/plain": [
       "2366"
      ]
     },
     "execution_count": 30,
     "metadata": {},
     "output_type": "execute_result"
    }
   ],
   "source": [
    "len(multiple_job_graphs)"
   ]
  },
  {
   "cell_type": "code",
   "execution_count": 31,
   "metadata": {},
   "outputs": [],
   "source": [
    "remove_graphs = []\n",
    "for graph in dataset.graphs():\n",
    "    if graph.identifier in multiple_job_graphs:\n",
    "        remove_graphs.append(graph)\n",
    "    \n",
    "for graph in remove_graphs:\n",
    "    dataset.remove_graph(graph)"
   ]
  },
  {
   "cell_type": "code",
   "execution_count": 32,
   "metadata": {},
   "outputs": [
    {
     "data": {
      "text/plain": [
       "13093"
      ]
     },
     "execution_count": 32,
     "metadata": {},
     "output_type": "execute_result"
    }
   ],
   "source": [
    "for idx, _graph in enumerate(dataset.graphs()):\n",
    "    pass\n",
    "idx + 1"
   ]
  },
  {
   "cell_type": "markdown",
   "metadata": {},
   "source": [
    "# Types"
   ]
  },
  {
   "cell_type": "code",
   "execution_count": 33,
   "metadata": {},
   "outputs": [
    {
     "name": "stdout",
     "output_type": "stream",
     "text": [
      "['http://schema.org/JobPosting', 13092, 13092]\n",
      "['http://schema.org/Place', 8734, 9301]\n",
      "['http://schema.org/Organization', 7972, 9184]\n",
      "['http://schema.org/PostalAddress', 8065, 9018]\n",
      "['http://schema.org/MonetaryAmount', 2958, 2970]\n",
      "['http://schema.org/PropertyValue', 2875, 2882]\n",
      "['http://schema.org/ListItem', 946, 2871]\n",
      "['http://schema.org/QuantitativeValue', 2602, 2619]\n",
      "['http://schema.org/ImageObject', 609, 1057]\n",
      "['http://schema.org/BreadcrumbList', 939, 988]\n",
      "['http://schema.org/WebSite', 770, 790]\n",
      "['http://schema.org/WebPage', 493, 672]\n",
      "['http://schema.org/LocalBusiness', 420, 557]\n",
      "['http://schema.org/ItemPage', 501, 501]\n",
      "['http://schema.org/GeoCoordinates', 438, 493]\n",
      "['http://schema.org/SearchAction', 363, 371]\n",
      "['http://schema.org/SiteNavigationElement', 221, 353]\n",
      "['http://data-vocabulary.org/Organization', 347, 348]\n",
      "['http://schema.org/Country', 343, 344]\n",
      "['http://data-vocabulary.org/Breadcrumb', 150, 342]\n",
      "CPU times: user 25.3 s, sys: 500 ms, total: 25.8 s\n",
      "Wall time: 27 s\n"
     ]
    }
   ],
   "source": [
    "%%time\n",
    "results = dataset.query('''\n",
    "SELECT ?type (COUNT(?src) AS ?postings) (SUM(?n) as ?total) {\n",
    "SELECT ?src ?type (COUNT(?type) AS ?n)\n",
    "WHERE {\n",
    "    GRAPH ?src\n",
    "    {_:j a ?type .}\n",
    "}\n",
    "GROUP BY ?src ?type\n",
    "}\n",
    "GROUP BY ?type\n",
    "HAVING (COUNT(?src) > 50)\n",
    "ORDER BY desc(?total)\n",
    "''')\n",
    "\n",
    "\n",
    "head(results, 20)"
   ]
  },
  {
   "cell_type": "code",
   "execution_count": 34,
   "metadata": {},
   "outputs": [],
   "source": [
    "import pandas as pd"
   ]
  },
  {
   "cell_type": "code",
   "execution_count": 35,
   "metadata": {},
   "outputs": [],
   "source": [
    "df = pd.DataFrame([[value.toPython() for value in row] for row in results], columns = ['uri', 'n', 'total'])"
   ]
  },
  {
   "cell_type": "code",
   "execution_count": 36,
   "metadata": {},
   "outputs": [
    {
     "data": {
      "text/html": [
       "<div>\n",
       "<style scoped>\n",
       "    .dataframe tbody tr th:only-of-type {\n",
       "        vertical-align: middle;\n",
       "    }\n",
       "\n",
       "    .dataframe tbody tr th {\n",
       "        vertical-align: top;\n",
       "    }\n",
       "\n",
       "    .dataframe thead th {\n",
       "        text-align: right;\n",
       "    }\n",
       "</style>\n",
       "<table border=\"1\" class=\"dataframe\">\n",
       "  <thead>\n",
       "    <tr style=\"text-align: right;\">\n",
       "      <th></th>\n",
       "      <th>uri</th>\n",
       "      <th>n</th>\n",
       "      <th>total</th>\n",
       "      <th>frac</th>\n",
       "      <th>avg</th>\n",
       "    </tr>\n",
       "  </thead>\n",
       "  <tbody>\n",
       "    <tr>\n",
       "      <th>0</th>\n",
       "      <td>http://schema.org/JobPosting</td>\n",
       "      <td>13092</td>\n",
       "      <td>13092</td>\n",
       "      <td>1.000000</td>\n",
       "      <td>1.000000</td>\n",
       "    </tr>\n",
       "    <tr>\n",
       "      <th>1</th>\n",
       "      <td>http://schema.org/Place</td>\n",
       "      <td>8734</td>\n",
       "      <td>9301</td>\n",
       "      <td>0.667125</td>\n",
       "      <td>1.064919</td>\n",
       "    </tr>\n",
       "    <tr>\n",
       "      <th>2</th>\n",
       "      <td>http://schema.org/Organization</td>\n",
       "      <td>7972</td>\n",
       "      <td>9184</td>\n",
       "      <td>0.608921</td>\n",
       "      <td>1.152032</td>\n",
       "    </tr>\n",
       "    <tr>\n",
       "      <th>3</th>\n",
       "      <td>http://schema.org/PostalAddress</td>\n",
       "      <td>8065</td>\n",
       "      <td>9018</td>\n",
       "      <td>0.616025</td>\n",
       "      <td>1.118165</td>\n",
       "    </tr>\n",
       "    <tr>\n",
       "      <th>4</th>\n",
       "      <td>http://schema.org/MonetaryAmount</td>\n",
       "      <td>2958</td>\n",
       "      <td>2970</td>\n",
       "      <td>0.225940</td>\n",
       "      <td>1.004057</td>\n",
       "    </tr>\n",
       "    <tr>\n",
       "      <th>5</th>\n",
       "      <td>http://schema.org/PropertyValue</td>\n",
       "      <td>2875</td>\n",
       "      <td>2882</td>\n",
       "      <td>0.219600</td>\n",
       "      <td>1.002435</td>\n",
       "    </tr>\n",
       "    <tr>\n",
       "      <th>6</th>\n",
       "      <td>http://schema.org/ListItem</td>\n",
       "      <td>946</td>\n",
       "      <td>2871</td>\n",
       "      <td>0.072258</td>\n",
       "      <td>3.034884</td>\n",
       "    </tr>\n",
       "    <tr>\n",
       "      <th>7</th>\n",
       "      <td>http://schema.org/QuantitativeValue</td>\n",
       "      <td>2602</td>\n",
       "      <td>2619</td>\n",
       "      <td>0.198747</td>\n",
       "      <td>1.006533</td>\n",
       "    </tr>\n",
       "    <tr>\n",
       "      <th>8</th>\n",
       "      <td>http://schema.org/ImageObject</td>\n",
       "      <td>609</td>\n",
       "      <td>1057</td>\n",
       "      <td>0.046517</td>\n",
       "      <td>1.735632</td>\n",
       "    </tr>\n",
       "    <tr>\n",
       "      <th>9</th>\n",
       "      <td>http://schema.org/BreadcrumbList</td>\n",
       "      <td>939</td>\n",
       "      <td>988</td>\n",
       "      <td>0.071723</td>\n",
       "      <td>1.052183</td>\n",
       "    </tr>\n",
       "    <tr>\n",
       "      <th>10</th>\n",
       "      <td>http://schema.org/WebSite</td>\n",
       "      <td>770</td>\n",
       "      <td>790</td>\n",
       "      <td>0.058815</td>\n",
       "      <td>1.025974</td>\n",
       "    </tr>\n",
       "    <tr>\n",
       "      <th>11</th>\n",
       "      <td>http://schema.org/WebPage</td>\n",
       "      <td>493</td>\n",
       "      <td>672</td>\n",
       "      <td>0.037657</td>\n",
       "      <td>1.363083</td>\n",
       "    </tr>\n",
       "    <tr>\n",
       "      <th>12</th>\n",
       "      <td>http://schema.org/LocalBusiness</td>\n",
       "      <td>420</td>\n",
       "      <td>557</td>\n",
       "      <td>0.032081</td>\n",
       "      <td>1.326190</td>\n",
       "    </tr>\n",
       "    <tr>\n",
       "      <th>13</th>\n",
       "      <td>http://schema.org/ItemPage</td>\n",
       "      <td>501</td>\n",
       "      <td>501</td>\n",
       "      <td>0.038268</td>\n",
       "      <td>1.000000</td>\n",
       "    </tr>\n",
       "    <tr>\n",
       "      <th>14</th>\n",
       "      <td>http://schema.org/GeoCoordinates</td>\n",
       "      <td>438</td>\n",
       "      <td>493</td>\n",
       "      <td>0.033456</td>\n",
       "      <td>1.125571</td>\n",
       "    </tr>\n",
       "  </tbody>\n",
       "</table>\n",
       "</div>"
      ],
      "text/plain": [
       "                                    uri      n  total      frac       avg\n",
       "0          http://schema.org/JobPosting  13092  13092  1.000000  1.000000\n",
       "1               http://schema.org/Place   8734   9301  0.667125  1.064919\n",
       "2        http://schema.org/Organization   7972   9184  0.608921  1.152032\n",
       "3       http://schema.org/PostalAddress   8065   9018  0.616025  1.118165\n",
       "4      http://schema.org/MonetaryAmount   2958   2970  0.225940  1.004057\n",
       "5       http://schema.org/PropertyValue   2875   2882  0.219600  1.002435\n",
       "6            http://schema.org/ListItem    946   2871  0.072258  3.034884\n",
       "7   http://schema.org/QuantitativeValue   2602   2619  0.198747  1.006533\n",
       "8         http://schema.org/ImageObject    609   1057  0.046517  1.735632\n",
       "9      http://schema.org/BreadcrumbList    939    988  0.071723  1.052183\n",
       "10            http://schema.org/WebSite    770    790  0.058815  1.025974\n",
       "11            http://schema.org/WebPage    493    672  0.037657  1.363083\n",
       "12      http://schema.org/LocalBusiness    420    557  0.032081  1.326190\n",
       "13           http://schema.org/ItemPage    501    501  0.038268  1.000000\n",
       "14     http://schema.org/GeoCoordinates    438    493  0.033456  1.125571"
      ]
     },
     "execution_count": 36,
     "metadata": {},
     "output_type": "execute_result"
    }
   ],
   "source": [
    "df.assign(frac=lambda df: df.n/max(df.n)).assign(avg = lambda df: df.total / df.n).head(15)"
   ]
  },
  {
   "cell_type": "markdown",
   "metadata": {},
   "source": [
    "## Properties of Job"
   ]
  },
  {
   "cell_type": "code",
   "execution_count": 46,
   "metadata": {},
   "outputs": [
    {
     "name": "stdout",
     "output_type": "stream",
     "text": [
      "CPU times: user 58.8 s, sys: 1.05 s, total: 59.8 s\n",
      "Wall time: 1min 3s\n"
     ]
    }
   ],
   "source": [
    "%%time\n",
    "results = dataset.query('''\n",
    "PREFIX sdo: <http://schema.org/>\n",
    "SELECT ?rel (COUNT(?src) AS ?postings) (SUM(?n) as ?total) {\n",
    "SELECT ?rel ?src (COUNT(?src) AS ?n)\n",
    "WHERE {\n",
    "    GRAPH ?src\n",
    "    {[] a sdo:JobPosting; ?pred ?data }\n",
    "    BIND (replace(str(?pred), 'https?://schema.org/(JobPosting/)?', '') AS ?rel)\n",
    "}\n",
    "GROUP BY ?rel ?src\n",
    "}\n",
    "GROUP BY ?rel\n",
    "ORDER BY desc(?postings)\n",
    "''')"
   ]
  },
  {
   "cell_type": "code",
   "execution_count": 47,
   "metadata": {},
   "outputs": [
    {
     "data": {
      "text/html": [
       "<div>\n",
       "<style scoped>\n",
       "    .dataframe tbody tr th:only-of-type {\n",
       "        vertical-align: middle;\n",
       "    }\n",
       "\n",
       "    .dataframe tbody tr th {\n",
       "        vertical-align: top;\n",
       "    }\n",
       "\n",
       "    .dataframe thead th {\n",
       "        text-align: right;\n",
       "    }\n",
       "</style>\n",
       "<table border=\"1\" class=\"dataframe\">\n",
       "  <thead>\n",
       "    <tr style=\"text-align: right;\">\n",
       "      <th></th>\n",
       "      <th>uri</th>\n",
       "      <th>n</th>\n",
       "      <th>total</th>\n",
       "      <th>frac</th>\n",
       "      <th>avg</th>\n",
       "    </tr>\n",
       "  </thead>\n",
       "  <tbody>\n",
       "    <tr>\n",
       "      <th>0</th>\n",
       "      <td>http://www.w3.org/1999/02/22-rdf-syntax-ns#type</td>\n",
       "      <td>13092</td>\n",
       "      <td>13092</td>\n",
       "      <td>1.000000</td>\n",
       "      <td>1.000000</td>\n",
       "    </tr>\n",
       "    <tr>\n",
       "      <th>1</th>\n",
       "      <td>title</td>\n",
       "      <td>11862</td>\n",
       "      <td>12052</td>\n",
       "      <td>0.906049</td>\n",
       "      <td>1.016018</td>\n",
       "    </tr>\n",
       "    <tr>\n",
       "      <th>2</th>\n",
       "      <td>description</td>\n",
       "      <td>11323</td>\n",
       "      <td>11540</td>\n",
       "      <td>0.864879</td>\n",
       "      <td>1.019165</td>\n",
       "    </tr>\n",
       "    <tr>\n",
       "      <th>3</th>\n",
       "      <td>datePosted</td>\n",
       "      <td>10420</td>\n",
       "      <td>10515</td>\n",
       "      <td>0.795906</td>\n",
       "      <td>1.009117</td>\n",
       "    </tr>\n",
       "    <tr>\n",
       "      <th>4</th>\n",
       "      <td>jobLocation</td>\n",
       "      <td>9800</td>\n",
       "      <td>10423</td>\n",
       "      <td>0.748549</td>\n",
       "      <td>1.063571</td>\n",
       "    </tr>\n",
       "    <tr>\n",
       "      <th>5</th>\n",
       "      <td>hiringOrganization</td>\n",
       "      <td>9568</td>\n",
       "      <td>9720</td>\n",
       "      <td>0.730828</td>\n",
       "      <td>1.015886</td>\n",
       "    </tr>\n",
       "    <tr>\n",
       "      <th>6</th>\n",
       "      <td>employmentType</td>\n",
       "      <td>7702</td>\n",
       "      <td>8139</td>\n",
       "      <td>0.588298</td>\n",
       "      <td>1.056739</td>\n",
       "    </tr>\n",
       "    <tr>\n",
       "      <th>7</th>\n",
       "      <td>validThrough</td>\n",
       "      <td>4688</td>\n",
       "      <td>4691</td>\n",
       "      <td>0.358081</td>\n",
       "      <td>1.000640</td>\n",
       "    </tr>\n",
       "    <tr>\n",
       "      <th>8</th>\n",
       "      <td>baseSalary</td>\n",
       "      <td>3657</td>\n",
       "      <td>3713</td>\n",
       "      <td>0.279331</td>\n",
       "      <td>1.015313</td>\n",
       "    </tr>\n",
       "    <tr>\n",
       "      <th>9</th>\n",
       "      <td>industry</td>\n",
       "      <td>3328</td>\n",
       "      <td>4081</td>\n",
       "      <td>0.254201</td>\n",
       "      <td>1.226262</td>\n",
       "    </tr>\n",
       "    <tr>\n",
       "      <th>10</th>\n",
       "      <td>identifier</td>\n",
       "      <td>3214</td>\n",
       "      <td>3217</td>\n",
       "      <td>0.245493</td>\n",
       "      <td>1.000933</td>\n",
       "    </tr>\n",
       "    <tr>\n",
       "      <th>11</th>\n",
       "      <td>url</td>\n",
       "      <td>2744</td>\n",
       "      <td>2894</td>\n",
       "      <td>0.209594</td>\n",
       "      <td>1.054665</td>\n",
       "    </tr>\n",
       "    <tr>\n",
       "      <th>12</th>\n",
       "      <td>workHours</td>\n",
       "      <td>1352</td>\n",
       "      <td>1366</td>\n",
       "      <td>0.103269</td>\n",
       "      <td>1.010355</td>\n",
       "    </tr>\n",
       "    <tr>\n",
       "      <th>13</th>\n",
       "      <td>experienceRequirements</td>\n",
       "      <td>1235</td>\n",
       "      <td>1262</td>\n",
       "      <td>0.094332</td>\n",
       "      <td>1.021862</td>\n",
       "    </tr>\n",
       "    <tr>\n",
       "      <th>14</th>\n",
       "      <td>occupationalCategory</td>\n",
       "      <td>1152</td>\n",
       "      <td>1509</td>\n",
       "      <td>0.087993</td>\n",
       "      <td>1.309896</td>\n",
       "    </tr>\n",
       "    <tr>\n",
       "      <th>15</th>\n",
       "      <td>educationRequirements</td>\n",
       "      <td>959</td>\n",
       "      <td>991</td>\n",
       "      <td>0.073251</td>\n",
       "      <td>1.033368</td>\n",
       "    </tr>\n",
       "    <tr>\n",
       "      <th>16</th>\n",
       "      <td>salaryCurrency</td>\n",
       "      <td>904</td>\n",
       "      <td>910</td>\n",
       "      <td>0.069050</td>\n",
       "      <td>1.006637</td>\n",
       "    </tr>\n",
       "    <tr>\n",
       "      <th>17</th>\n",
       "      <td>qualifications</td>\n",
       "      <td>839</td>\n",
       "      <td>902</td>\n",
       "      <td>0.064085</td>\n",
       "      <td>1.075089</td>\n",
       "    </tr>\n",
       "    <tr>\n",
       "      <th>18</th>\n",
       "      <td>responsibilities</td>\n",
       "      <td>834</td>\n",
       "      <td>894</td>\n",
       "      <td>0.063703</td>\n",
       "      <td>1.071942</td>\n",
       "    </tr>\n",
       "    <tr>\n",
       "      <th>19</th>\n",
       "      <td>image</td>\n",
       "      <td>790</td>\n",
       "      <td>859</td>\n",
       "      <td>0.060342</td>\n",
       "      <td>1.087342</td>\n",
       "    </tr>\n",
       "    <tr>\n",
       "      <th>20</th>\n",
       "      <td>skills</td>\n",
       "      <td>726</td>\n",
       "      <td>795</td>\n",
       "      <td>0.055454</td>\n",
       "      <td>1.095041</td>\n",
       "    </tr>\n",
       "    <tr>\n",
       "      <th>21</th>\n",
       "      <td>name</td>\n",
       "      <td>722</td>\n",
       "      <td>800</td>\n",
       "      <td>0.055148</td>\n",
       "      <td>1.108033</td>\n",
       "    </tr>\n",
       "    <tr>\n",
       "      <th>22</th>\n",
       "      <td>jobBenefits</td>\n",
       "      <td>464</td>\n",
       "      <td>518</td>\n",
       "      <td>0.035441</td>\n",
       "      <td>1.116379</td>\n",
       "    </tr>\n",
       "    <tr>\n",
       "      <th>23</th>\n",
       "      <td>address</td>\n",
       "      <td>304</td>\n",
       "      <td>310</td>\n",
       "      <td>0.023220</td>\n",
       "      <td>1.019737</td>\n",
       "    </tr>\n",
       "    <tr>\n",
       "      <th>24</th>\n",
       "      <td>jobLocationType</td>\n",
       "      <td>260</td>\n",
       "      <td>260</td>\n",
       "      <td>0.019859</td>\n",
       "      <td>1.000000</td>\n",
       "    </tr>\n",
       "    <tr>\n",
       "      <th>25</th>\n",
       "      <td>specialCommitments</td>\n",
       "      <td>246</td>\n",
       "      <td>246</td>\n",
       "      <td>0.018790</td>\n",
       "      <td>1.000000</td>\n",
       "    </tr>\n",
       "    <tr>\n",
       "      <th>26</th>\n",
       "      <td>incentiveCompensation</td>\n",
       "      <td>204</td>\n",
       "      <td>208</td>\n",
       "      <td>0.015582</td>\n",
       "      <td>1.019608</td>\n",
       "    </tr>\n",
       "    <tr>\n",
       "      <th>27</th>\n",
       "      <td>benefits</td>\n",
       "      <td>146</td>\n",
       "      <td>149</td>\n",
       "      <td>0.011152</td>\n",
       "      <td>1.020548</td>\n",
       "    </tr>\n",
       "    <tr>\n",
       "      <th>28</th>\n",
       "      <td>telephone</td>\n",
       "      <td>134</td>\n",
       "      <td>159</td>\n",
       "      <td>0.010235</td>\n",
       "      <td>1.186567</td>\n",
       "    </tr>\n",
       "    <tr>\n",
       "      <th>29</th>\n",
       "      <td>about</td>\n",
       "      <td>107</td>\n",
       "      <td>107</td>\n",
       "      <td>0.008173</td>\n",
       "      <td>1.000000</td>\n",
       "    </tr>\n",
       "  </tbody>\n",
       "</table>\n",
       "</div>"
      ],
      "text/plain": [
       "                                                uri      n  total      frac  \\\n",
       "0   http://www.w3.org/1999/02/22-rdf-syntax-ns#type  13092  13092  1.000000   \n",
       "1                                             title  11862  12052  0.906049   \n",
       "2                                       description  11323  11540  0.864879   \n",
       "3                                        datePosted  10420  10515  0.795906   \n",
       "4                                       jobLocation   9800  10423  0.748549   \n",
       "5                                hiringOrganization   9568   9720  0.730828   \n",
       "6                                    employmentType   7702   8139  0.588298   \n",
       "7                                      validThrough   4688   4691  0.358081   \n",
       "8                                        baseSalary   3657   3713  0.279331   \n",
       "9                                          industry   3328   4081  0.254201   \n",
       "10                                       identifier   3214   3217  0.245493   \n",
       "11                                              url   2744   2894  0.209594   \n",
       "12                                        workHours   1352   1366  0.103269   \n",
       "13                           experienceRequirements   1235   1262  0.094332   \n",
       "14                             occupationalCategory   1152   1509  0.087993   \n",
       "15                            educationRequirements    959    991  0.073251   \n",
       "16                                   salaryCurrency    904    910  0.069050   \n",
       "17                                   qualifications    839    902  0.064085   \n",
       "18                                 responsibilities    834    894  0.063703   \n",
       "19                                            image    790    859  0.060342   \n",
       "20                                           skills    726    795  0.055454   \n",
       "21                                             name    722    800  0.055148   \n",
       "22                                      jobBenefits    464    518  0.035441   \n",
       "23                                          address    304    310  0.023220   \n",
       "24                                  jobLocationType    260    260  0.019859   \n",
       "25                               specialCommitments    246    246  0.018790   \n",
       "26                            incentiveCompensation    204    208  0.015582   \n",
       "27                                         benefits    146    149  0.011152   \n",
       "28                                        telephone    134    159  0.010235   \n",
       "29                                            about    107    107  0.008173   \n",
       "\n",
       "         avg  \n",
       "0   1.000000  \n",
       "1   1.016018  \n",
       "2   1.019165  \n",
       "3   1.009117  \n",
       "4   1.063571  \n",
       "5   1.015886  \n",
       "6   1.056739  \n",
       "7   1.000640  \n",
       "8   1.015313  \n",
       "9   1.226262  \n",
       "10  1.000933  \n",
       "11  1.054665  \n",
       "12  1.010355  \n",
       "13  1.021862  \n",
       "14  1.309896  \n",
       "15  1.033368  \n",
       "16  1.006637  \n",
       "17  1.075089  \n",
       "18  1.071942  \n",
       "19  1.087342  \n",
       "20  1.095041  \n",
       "21  1.108033  \n",
       "22  1.116379  \n",
       "23  1.019737  \n",
       "24  1.000000  \n",
       "25  1.000000  \n",
       "26  1.019608  \n",
       "27  1.020548  \n",
       "28  1.186567  \n",
       "29  1.000000  "
      ]
     },
     "execution_count": 47,
     "metadata": {},
     "output_type": "execute_result"
    }
   ],
   "source": [
    "df = pd.DataFrame([[value.toPython() for value in row] for row in results], columns = ['uri', 'n', 'total'])\n",
    "df.assign(frac=lambda df: df.n/max(df.n)).assign(avg = lambda df: df.total / df.n).head(30)"
   ]
  },
  {
   "cell_type": "markdown",
   "metadata": {},
   "source": [
    "### Titles are strings"
   ]
  },
  {
   "cell_type": "code",
   "execution_count": 38,
   "metadata": {},
   "outputs": [
    {
     "name": "stdout",
     "output_type": "stream",
     "text": [
      "['http://www.w3.org/2001/XMLSchema#string', 5296]\n",
      "CPU times: user 2.14 s, sys: 78.1 ms, total: 2.22 s\n",
      "Wall time: 2.4 s\n"
     ]
    }
   ],
   "source": [
    "%%time\n",
    "results = dataset.query('''\n",
    "PREFIX sdo: <http://schema.org/>\n",
    "PREFIX sdo_jp: <http://schema.org/JobPosting>\n",
    "\n",
    "SELECT ?type (COUNT(?src) AS ?n)\n",
    "WHERE {\n",
    "    GRAPH ?src\n",
    "    {[] a sdo:JobPosting; sdo:title|sdo_jp:title ?data}\n",
    "    BIND (datatype(?data) as ?type)\n",
    "}\n",
    "GROUP BY ?type\n",
    "ORDER BY DESC(?n)\n",
    "LIMIT 10\n",
    "''')\n",
    "\n",
    "\n",
    "head(results, 10)"
   ]
  },
  {
   "cell_type": "markdown",
   "metadata": {},
   "source": [
    "### Descriptions are strings"
   ]
  },
  {
   "cell_type": "code",
   "execution_count": 39,
   "metadata": {},
   "outputs": [
    {
     "name": "stdout",
     "output_type": "stream",
     "text": [
      "['http://www.w3.org/2001/XMLSchema#string', 5288]\n",
      "CPU times: user 2.12 s, sys: 78.1 ms, total: 2.2 s\n",
      "Wall time: 2.34 s\n"
     ]
    }
   ],
   "source": [
    "%%time\n",
    "results = dataset.query('''\n",
    "PREFIX sdo: <http://schema.org/>\n",
    "PREFIX sdo_jp: <http://schema.org/JobPosting>\n",
    "\n",
    "SELECT ?type (COUNT(?src) AS ?n)\n",
    "WHERE {\n",
    "    GRAPH ?src\n",
    "    {[] a sdo:JobPosting; sdo:description|sdo_jp:description ?data}\n",
    "    BIND (datatype(?data) as ?type)\n",
    "}\n",
    "GROUP BY ?type\n",
    "ORDER BY DESC(?n)\n",
    "LIMIT 10\n",
    "''')\n",
    "\n",
    "\n",
    "head(results, 10)"
   ]
  },
  {
   "cell_type": "markdown",
   "metadata": {},
   "source": [
    "baseSalary is normally a Monetary Amount"
   ]
  },
  {
   "cell_type": "code",
   "execution_count": 40,
   "metadata": {},
   "outputs": [
    {
     "name": "stdout",
     "output_type": "stream",
     "text": [
      "['http://schema.org/MonetaryAmount', 2946]\n",
      "['http://www.w3.org/1999/02/22-rdf-syntax-ns#langString', 527]\n",
      "['http://www.w3.org/2001/XMLSchema#string', 135]\n",
      "['https://schema.org/MonetaryAmount', 72]\n",
      "[None, 16]\n",
      "['http://schema.org/PriceSpecification', 7]\n",
      "['http:/schema.orgMonetaryAmount', 6]\n",
      "['https://schema.org/PriceSpecification', 1]\n",
      "['http://www.w3.org/2001/XMLSchema#boolean', 1]\n",
      "['http://www.w3.org/2001/XMLSchema#integer', 1]\n",
      "['http://schema.org/12000%20-%2015000t', 1]\n",
      "CPU times: user 2.44 s, sys: 62.5 ms, total: 2.5 s\n",
      "Wall time: 2.75 s\n"
     ]
    }
   ],
   "source": [
    "%%time\n",
    "results = dataset.query('''\n",
    "PREFIX sdo: <http://schema.org/>\n",
    "PREFIX sdo_jp: <http://schema.org/JobPosting/>\n",
    "\n",
    "SELECT ?type (COUNT(?src) as ?n)\n",
    "WHERE {\n",
    "    GRAPH ?src\n",
    "    {[] a sdo:JobPosting; sdo:baseSalary|sdo_jp:baseSalary ?data .\n",
    "     OPTIONAL {?data a ?datatype .}\n",
    "     BIND (coalesce(datatype(?data), ?datatype) as ?type)}\n",
    "}\n",
    "GROUP BY ?type\n",
    "ORDER BY DESC(?n)\n",
    "LIMIT 20\n",
    "''')\n",
    "\n",
    "\n",
    "head(results, 20)"
   ]
  },
  {
   "cell_type": "code",
   "execution_count": 41,
   "metadata": {},
   "outputs": [
    {
     "name": "stdout",
     "output_type": "stream",
     "text": [
      "CPU times: user 5.97 s, sys: 156 ms, total: 6.12 s\n",
      "Wall time: 6.38 s\n"
     ]
    }
   ],
   "source": [
    "%%time\n",
    "results = dataset.query('''\n",
    "PREFIX sdo: <http://schema.org/>\n",
    "PREFIX sdo_jp: <http://schema.org/JobPosting/>\n",
    "\n",
    "SELECT ?rel (COUNT(?src) AS ?postings) (SUM(?n) as ?total) {\n",
    "SELECT ?rel ?src (COUNT(?src) AS ?n)\n",
    "WHERE {\n",
    "    GRAPH ?src\n",
    "    {[] a sdo:JobPosting; sdo:baseSalary|sdo_jp:baseSalary ?salary .\n",
    "     ?salary ?pred ?data .}\n",
    "    BIND (replace(str(?pred), 'https?://schema.org/(MonetaryAmount/)?', '') AS ?rel)\n",
    "}\n",
    "GROUP BY ?rel ?src\n",
    "}\n",
    "GROUP BY ?rel\n",
    "ORDER BY desc(?postings)\n",
    "''')"
   ]
  },
  {
   "cell_type": "code",
   "execution_count": 42,
   "metadata": {},
   "outputs": [
    {
     "data": {
      "text/html": [
       "<div>\n",
       "<style scoped>\n",
       "    .dataframe tbody tr th:only-of-type {\n",
       "        vertical-align: middle;\n",
       "    }\n",
       "\n",
       "    .dataframe tbody tr th {\n",
       "        vertical-align: top;\n",
       "    }\n",
       "\n",
       "    .dataframe thead th {\n",
       "        text-align: right;\n",
       "    }\n",
       "</style>\n",
       "<table border=\"1\" class=\"dataframe\">\n",
       "  <thead>\n",
       "    <tr style=\"text-align: right;\">\n",
       "      <th></th>\n",
       "      <th>uri</th>\n",
       "      <th>n</th>\n",
       "      <th>total</th>\n",
       "      <th>prop</th>\n",
       "      <th>frac</th>\n",
       "      <th>avg</th>\n",
       "    </tr>\n",
       "  </thead>\n",
       "  <tbody>\n",
       "    <tr>\n",
       "      <th>0</th>\n",
       "      <td>http://www.w3.org/1999/02/22-rdf-syntax-ns#type</td>\n",
       "      <td>3021</td>\n",
       "      <td>3033</td>\n",
       "      <td>0.230734</td>\n",
       "      <td>1.000000</td>\n",
       "      <td>1.003972</td>\n",
       "    </tr>\n",
       "    <tr>\n",
       "      <th>1</th>\n",
       "      <td>value</td>\n",
       "      <td>2826</td>\n",
       "      <td>2841</td>\n",
       "      <td>0.215841</td>\n",
       "      <td>0.935452</td>\n",
       "      <td>1.005308</td>\n",
       "    </tr>\n",
       "    <tr>\n",
       "      <th>2</th>\n",
       "      <td>currency</td>\n",
       "      <td>2706</td>\n",
       "      <td>2717</td>\n",
       "      <td>0.206675</td>\n",
       "      <td>0.895730</td>\n",
       "      <td>1.004065</td>\n",
       "    </tr>\n",
       "    <tr>\n",
       "      <th>3</th>\n",
       "      <td>minValue</td>\n",
       "      <td>143</td>\n",
       "      <td>143</td>\n",
       "      <td>0.010922</td>\n",
       "      <td>0.047335</td>\n",
       "      <td>1.000000</td>\n",
       "    </tr>\n",
       "    <tr>\n",
       "      <th>4</th>\n",
       "      <td>maxValue</td>\n",
       "      <td>141</td>\n",
       "      <td>141</td>\n",
       "      <td>0.010769</td>\n",
       "      <td>0.046673</td>\n",
       "      <td>1.000000</td>\n",
       "    </tr>\n",
       "    <tr>\n",
       "      <th>5</th>\n",
       "      <td>unitText</td>\n",
       "      <td>39</td>\n",
       "      <td>39</td>\n",
       "      <td>0.002979</td>\n",
       "      <td>0.012910</td>\n",
       "      <td>1.000000</td>\n",
       "    </tr>\n",
       "    <tr>\n",
       "      <th>6</th>\n",
       "      <td>PriceSpecification/maxPrice</td>\n",
       "      <td>6</td>\n",
       "      <td>6</td>\n",
       "      <td>0.000458</td>\n",
       "      <td>0.001986</td>\n",
       "      <td>1.000000</td>\n",
       "    </tr>\n",
       "    <tr>\n",
       "      <th>7</th>\n",
       "      <td>PriceSpecification/minPrice</td>\n",
       "      <td>6</td>\n",
       "      <td>6</td>\n",
       "      <td>0.000458</td>\n",
       "      <td>0.001986</td>\n",
       "      <td>1.000000</td>\n",
       "    </tr>\n",
       "    <tr>\n",
       "      <th>8</th>\n",
       "      <td>PriceSpecification/priceCurrency</td>\n",
       "      <td>6</td>\n",
       "      <td>6</td>\n",
       "      <td>0.000458</td>\n",
       "      <td>0.001986</td>\n",
       "      <td>1.000000</td>\n",
       "    </tr>\n",
       "    <tr>\n",
       "      <th>9</th>\n",
       "      <td>name</td>\n",
       "      <td>5</td>\n",
       "      <td>5</td>\n",
       "      <td>0.000382</td>\n",
       "      <td>0.001655</td>\n",
       "      <td>1.000000</td>\n",
       "    </tr>\n",
       "    <tr>\n",
       "      <th>10</th>\n",
       "      <td>description</td>\n",
       "      <td>5</td>\n",
       "      <td>8</td>\n",
       "      <td>0.000382</td>\n",
       "      <td>0.001655</td>\n",
       "      <td>1.600000</td>\n",
       "    </tr>\n",
       "    <tr>\n",
       "      <th>11</th>\n",
       "      <td>validThrough</td>\n",
       "      <td>4</td>\n",
       "      <td>4</td>\n",
       "      <td>0.000306</td>\n",
       "      <td>0.001324</td>\n",
       "      <td>1.000000</td>\n",
       "    </tr>\n",
       "    <tr>\n",
       "      <th>12</th>\n",
       "      <td>Value</td>\n",
       "      <td>3</td>\n",
       "      <td>3</td>\n",
       "      <td>0.000229</td>\n",
       "      <td>0.000993</td>\n",
       "      <td>1.000000</td>\n",
       "    </tr>\n",
       "    <tr>\n",
       "      <th>13</th>\n",
       "      <td>validFrom</td>\n",
       "      <td>3</td>\n",
       "      <td>3</td>\n",
       "      <td>0.000229</td>\n",
       "      <td>0.000993</td>\n",
       "      <td>1.000000</td>\n",
       "    </tr>\n",
       "    <tr>\n",
       "      <th>14</th>\n",
       "      <td>Currency</td>\n",
       "      <td>2</td>\n",
       "      <td>2</td>\n",
       "      <td>0.000153</td>\n",
       "      <td>0.000662</td>\n",
       "      <td>1.000000</td>\n",
       "    </tr>\n",
       "    <tr>\n",
       "      <th>15</th>\n",
       "      <td>PriceSpecification/price</td>\n",
       "      <td>2</td>\n",
       "      <td>2</td>\n",
       "      <td>0.000153</td>\n",
       "      <td>0.000662</td>\n",
       "      <td>1.000000</td>\n",
       "    </tr>\n",
       "    <tr>\n",
       "      <th>16</th>\n",
       "      <td>minvalue</td>\n",
       "      <td>1</td>\n",
       "      <td>1</td>\n",
       "      <td>0.000076</td>\n",
       "      <td>0.000331</td>\n",
       "      <td>1.000000</td>\n",
       "    </tr>\n",
       "    <tr>\n",
       "      <th>17</th>\n",
       "      <td>maxvalue</td>\n",
       "      <td>1</td>\n",
       "      <td>1</td>\n",
       "      <td>0.000076</td>\n",
       "      <td>0.000331</td>\n",
       "      <td>1.000000</td>\n",
       "    </tr>\n",
       "    <tr>\n",
       "      <th>18</th>\n",
       "      <td>unittext</td>\n",
       "      <td>1</td>\n",
       "      <td>1</td>\n",
       "      <td>0.000076</td>\n",
       "      <td>0.000331</td>\n",
       "      <td>1.000000</td>\n",
       "    </tr>\n",
       "    <tr>\n",
       "      <th>19</th>\n",
       "      <td>baseSalary</td>\n",
       "      <td>1</td>\n",
       "      <td>1</td>\n",
       "      <td>0.000076</td>\n",
       "      <td>0.000331</td>\n",
       "      <td>1.000000</td>\n",
       "    </tr>\n",
       "  </tbody>\n",
       "</table>\n",
       "</div>"
      ],
      "text/plain": [
       "                                                uri     n  total      prop  \\\n",
       "0   http://www.w3.org/1999/02/22-rdf-syntax-ns#type  3021   3033  0.230734   \n",
       "1                                             value  2826   2841  0.215841   \n",
       "2                                          currency  2706   2717  0.206675   \n",
       "3                                          minValue   143    143  0.010922   \n",
       "4                                          maxValue   141    141  0.010769   \n",
       "5                                          unitText    39     39  0.002979   \n",
       "6                       PriceSpecification/maxPrice     6      6  0.000458   \n",
       "7                       PriceSpecification/minPrice     6      6  0.000458   \n",
       "8                  PriceSpecification/priceCurrency     6      6  0.000458   \n",
       "9                                              name     5      5  0.000382   \n",
       "10                                      description     5      8  0.000382   \n",
       "11                                     validThrough     4      4  0.000306   \n",
       "12                                            Value     3      3  0.000229   \n",
       "13                                        validFrom     3      3  0.000229   \n",
       "14                                         Currency     2      2  0.000153   \n",
       "15                         PriceSpecification/price     2      2  0.000153   \n",
       "16                                         minvalue     1      1  0.000076   \n",
       "17                                         maxvalue     1      1  0.000076   \n",
       "18                                         unittext     1      1  0.000076   \n",
       "19                                       baseSalary     1      1  0.000076   \n",
       "\n",
       "        frac       avg  \n",
       "0   1.000000  1.003972  \n",
       "1   0.935452  1.005308  \n",
       "2   0.895730  1.004065  \n",
       "3   0.047335  1.000000  \n",
       "4   0.046673  1.000000  \n",
       "5   0.012910  1.000000  \n",
       "6   0.001986  1.000000  \n",
       "7   0.001986  1.000000  \n",
       "8   0.001986  1.000000  \n",
       "9   0.001655  1.000000  \n",
       "10  0.001655  1.600000  \n",
       "11  0.001324  1.000000  \n",
       "12  0.000993  1.000000  \n",
       "13  0.000993  1.000000  \n",
       "14  0.000662  1.000000  \n",
       "15  0.000662  1.000000  \n",
       "16  0.000331  1.000000  \n",
       "17  0.000331  1.000000  \n",
       "18  0.000331  1.000000  \n",
       "19  0.000331  1.000000  "
      ]
     },
     "execution_count": 42,
     "metadata": {},
     "output_type": "execute_result"
    }
   ],
   "source": [
    "df = pd.DataFrame([[value.toPython() for value in row] for row in results], columns = ['uri', 'n', 'total'])\n",
    "df.assign(prop=lambda df: df.n/13093,\n",
    "          frac=lambda df: df.n/max(df.n),\n",
    "          avg = lambda df: df.total / df.n).head(30)"
   ]
  },
  {
   "cell_type": "code",
   "execution_count": 43,
   "metadata": {},
   "outputs": [
    {
     "name": "stdout",
     "output_type": "stream",
     "text": [
      "['http://schema.org/QuantitativeValue', 2323]\n",
      "['http://www.w3.org/1999/02/22-rdf-syntax-ns#langString', 280]\n",
      "['http://www.w3.org/2001/XMLSchema#string', 152]\n",
      "[None, 7]\n",
      "['http://schema.org/PropertyValue', 4]\n",
      "['https://schema.org/QuantitativeValue', 2]\n",
      "['http://www.w3.org/2001/XMLSchema#boolean', 1]\n",
      "['http:/schema.orgQuantitativeValue', 1]\n",
      "['http://www.w3.org/2001/XMLSchema#integer', 1]\n",
      "['http://www.w3.org/2001/XMLSchema#double', 1]\n",
      "['http://schema.org/MonetaryAmount', 1]\n",
      "CPU times: user 2.19 s, sys: 62.5 ms, total: 2.25 s\n",
      "Wall time: 2.37 s\n"
     ]
    }
   ],
   "source": [
    "%%time\n",
    "results = dataset.query('''\n",
    "PREFIX sdo: <http://schema.org/>\n",
    "PREFIX sdo_jp: <http://schema.org/JobPosting/>\n",
    "PREFIX sdo_ma: <http://schema.org/MonetaryAmount/>\n",
    "\n",
    "\n",
    "SELECT ?type (COUNT(?src) as ?n)\n",
    "WHERE {\n",
    "    GRAPH ?src\n",
    "    {[] a sdo:JobPosting; (sdo:baseSalary|sdo_jp:baseSalary)/(sdo:value|sdo_ma:value) ?data .\n",
    "     OPTIONAL {?data a ?datatype .}\n",
    "     BIND (coalesce(datatype(?data), ?datatype) as ?type)}\n",
    "}\n",
    "GROUP BY ?type\n",
    "ORDER BY DESC(?n)\n",
    "LIMIT 20\n",
    "''')\n",
    "\n",
    "\n",
    "head(results, 20)"
   ]
  }
 ],
 "metadata": {
  "kernelspec": {
   "display_name": "Python 3",
   "language": "python",
   "name": "python3"
  },
  "language_info": {
   "codemirror_mode": {
    "name": "ipython",
    "version": 3
   },
   "file_extension": ".py",
   "mimetype": "text/x-python",
   "name": "python",
   "nbconvert_exporter": "python",
   "pygments_lexer": "ipython3",
   "version": "3.6.6"
  }
 },
 "nbformat": 4,
 "nbformat_minor": 2
}
