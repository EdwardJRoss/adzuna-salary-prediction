{
 "cells": [
  {
   "cell_type": "markdown",
   "metadata": {},
   "source": [
    "For details see https://skeptric.com/schema-jobposting"
   ]
  },
  {
   "cell_type": "code",
   "execution_count": 1,
   "metadata": {},
   "outputs": [],
   "source": [
    "%load_ext autoreload\n",
    "%autoreload 2"
   ]
  },
  {
   "cell_type": "code",
   "execution_count": 2,
   "metadata": {},
   "outputs": [],
   "source": [
    "import sys\n",
    "import gzip\n",
    "import rdflib\n",
    "from urllib.request import urlretrieve\n",
    "from pathlib import Path\n",
    "\n",
    "from tqdm.notebook import tqdm"
   ]
  },
  {
   "cell_type": "code",
   "execution_count": 3,
   "metadata": {},
   "outputs": [],
   "source": [
    "sys.path.insert(0, '../src')"
   ]
  },
  {
   "cell_type": "code",
   "execution_count": 4,
   "metadata": {},
   "outputs": [],
   "source": [
    "from lib.rdftool import *"
   ]
  },
  {
   "cell_type": "markdown",
   "metadata": {},
   "source": [
    "Data From http://webdatacommons.org/structureddata/2019-12/stats/schema_org_subsets.html\n",
    "\n",
    "Download both the microdata (1.9GB) and the JSON-LD (700MB)"
   ]
  },
  {
   "cell_type": "code",
   "execution_count": 5,
   "metadata": {},
   "outputs": [],
   "source": [
    "DEST_DIR = Path('..') / 'data' / 'webcommons'\n",
    "DEST_DIR.mkdir(parents=True, exist_ok=True)"
   ]
  },
  {
   "cell_type": "code",
   "execution_count": 6,
   "metadata": {},
   "outputs": [],
   "source": [
    "class TqdmUpTo(tqdm):\n",
    "    def update_to(self, b=1, bsize=1, tsize=None):\n",
    "        if tsize is not None:\n",
    "            self.total = tsize\n",
    "        self.update(b * bsize - self.n)  # will also set self.n = b * bsize\n",
    "\n",
    "def download(url, filename, overwrite=False):\n",
    "    filename = Path(filename)\n",
    "    if (not filename.exists()) or overwrite:\n",
    "        with TqdmUpTo(unit = 'B', unit_scale = True, unit_divisor = 1024, miniters = 1, desc = Path(filename).name) as t:\n",
    "            urlretrieve(url, filename = filename, reporthook = t.update_to)"
   ]
  },
  {
   "cell_type": "code",
   "execution_count": 7,
   "metadata": {},
   "outputs": [],
   "source": [
    "JOBS_JSON_2019 = DEST_DIR / '2019-12_json_JobPosting.gz'"
   ]
  },
  {
   "cell_type": "code",
   "execution_count": 31,
   "metadata": {},
   "outputs": [],
   "source": [
    "JOBS_MD_2019 = DEST_DIR / '2019-12_md_JobPosting.gz'"
   ]
  },
  {
   "cell_type": "code",
   "execution_count": 8,
   "metadata": {},
   "outputs": [],
   "source": [
    "download('http://data.dws.informatik.uni-mannheim.de/structureddata/2019-12/quads/classspecific/json/schema_JobPosting.gz',\n",
    "         JOBS_JSON_2019)"
   ]
  },
  {
   "cell_type": "code",
   "execution_count": 35,
   "metadata": {},
   "outputs": [],
   "source": [
    "download('http://data.dws.informatik.uni-mannheim.de/structureddata/2019-12/quads/classspecific/md/schema_JobPosting.gz',\n",
    "         JOBS_MD_2019)"
   ]
  },
  {
   "cell_type": "markdown",
   "metadata": {},
   "source": [
    "[N-quads](https://www.w3.org/TR/n-quads): Subject Predicate Object Graph\n",
    "\n",
    "First few lines:\n",
    "```\n",
    "(node with id) (has schema type) (Job posting) (from URL)\n",
    "(same node)  (has identifier) (another node) (from same URL)\n",
    "(same node) (has title) \"Category Manager - Prof. Audio Visual Solutions\" (from Same URL)\n",
    "(same node) (has description) (doubly encoded HTML job description) (from same URL)\n",
    "(same node) (has hiring organisation) (hirer node) (from same URL)\n",
    "...\n",
    "(hirer node) (has schema type) (Organization) (form same URL)\n",
    "(hirer node) (has name) \"Anixter International\" (from same URL)\n",
    "...\n",
    "```"
   ]
  },
  {
   "cell_type": "code",
   "execution_count": 9,
   "metadata": {},
   "outputs": [
    {
     "name": "stdout",
     "output_type": "stream",
     "text": [
      "_:genid2d8020c9b7d2294a778072a41d6d59640a2db0 <http://www.w3.org/1999/02/22-rdf-syntax-ns#type> <http://schema.org/JobPosting> <http://jobs.anixter.com/jobs/inventory-management/glenview-il-60026-/category-manager-prof-audio-visual-solutions/153414552962719?lang=en_us> .\r\n",
      "_:genid2d8020c9b7d2294a778072a41d6d59640a2db0 <http://schema.org/identifier> _:genid2d8020c9b7d2294a778072a41d6d59640a2db2 <http://jobs.anixter.com/jobs/inventory-management/glenview-il-60026-/category-manager-prof-audio-visual-solutions/153414552962719?lang=en_us> .\r\n",
      "_:genid2d8020c9b7d2294a778072a41d6d59640a2db0 <http://schema.org/title> \"Category Manager - Prof. Audio Visual Solutions\" <http://jobs.anixter.com/jobs/inventory-management/glenview-il-60026-/category-manager-prof-audio-visual-solutions/153414552962719?lang=en_us> .\r\n",
      "_:genid2d8020c9b7d2294a778072a41d6d59640a2db0 <http://schema.org/description> \"&amp;lt;p&amp;gt;&amp;lt;strong&amp;gt;Category Manager - Professional Audio Visual Solutions&amp;lt;br /&amp;gt;&amp;lt;br /&amp;gt;Company Information&amp;lt;br /&amp;gt;&amp;lt;br /&amp;gt;&amp;lt;/strong&amp;gt;Anixter is a Fortune 500 company and a leading global supplier of communication and security products and electrical and electronic wire and cable. Our high-performing team works closely with customers and the community to better understand their business challenges specify cost-saving solutions and make informed purchasing decisions around technologies, applications and relevant standards. Please view our video for more information &amp;lt;a href=&amp;quot;https://www.anixter.com/en_us/about-us.html&amp;quot;&amp;gt;about Anixter&amp;lt;/a&amp;gt;.&amp;lt;br /&amp;gt;&amp;lt;br /&amp;gt;Anixter offers competitive salary and a bonus program to reward your results. We are known for our exceptional training and on-going development programs to support your career growth including a tuition reimbursement. We provide our employees excellent benefits including medical, dental, 401(k) with employer match, and additional company provided retirement benefits. &amp;lt;strong&amp;gt;&amp;lt;br /&amp;gt;&amp;lt;br /&amp;gt;&amp;lt;br /&amp;gt;&amp;lt;/strong&amp;gt;&amp;lt;strong&amp;gt;Position Purpose:&amp;lt;/strong&amp;gt; &amp;lt;/p&amp;gt;&amp;lt;p&amp;gt;This Category Manager position will be primarily focused on managing a portfolio of professional A/V product solutions for a variety of enterprise and commercial environments.  Prior experience with suppliers and technologies within the professional A/V market is strongly desired.   &amp;lt;/p&amp;gt;&amp;lt;p&amp;gt;In the role you will be responsible for managing multiple supplier relationships/programs and creating marketing plans to promote growth and profitability. You will become the supplier&amp;rsquo;s primary point of contact and a valuable strategic resource for the sales team.&amp;lt;/p&amp;gt;&amp;lt;p&amp;gt;&amp;lt;strong&amp;gt;Responsibilities include:&amp;lt;/strong&amp;gt;&amp;lt;/p&amp;gt;&amp;lt;ul&amp;gt;&amp;lt;li&amp;gt;Developing profitable growth strategies with key suppliers supported by executable initiatives that deliver results in line with short and long term company goals&amp;lt;/li&amp;gt;&amp;lt;li&amp;gt;Build and maintain outstanding supplier relationships.&amp;lt;/li&amp;gt;&amp;lt;li&amp;gt;Articulate supplier&amp;rsquo;s value and differentiating features &amp;amp; benefits to internal sales team.&amp;lt;/li&amp;gt;&amp;lt;li&amp;gt;Articulate Anixter&amp;rsquo;s value, capabilities and differentiating features to our supplier partners and customers.&amp;lt;/li&amp;gt;&amp;lt;li&amp;gt;Monitor inventory levels and product performance. Work with Inventory Management team to develop inventory models and replenishment strategies&amp;lt;/li&amp;gt;&amp;lt;li&amp;gt;Lead and implement business performance reviews, developmental plans, and supplier negotiations&amp;lt;/li&amp;gt;&amp;lt;li&amp;gt;Develop and maintain sales tools.&amp;lt;/li&amp;gt;&amp;lt;li&amp;gt;Maintain appropriate product information databases and internal website.&amp;lt;/li&amp;gt;&amp;lt;li&amp;gt;Understand key business drivers for product categories to support sales growth. &amp;lt;/li&amp;gt;&amp;lt;/ul&amp;gt;&amp;lt;p&amp;gt;&amp;lt;strong&amp;gt;Requirements:&amp;lt;/strong&amp;gt;&amp;lt;/p&amp;gt;&amp;lt;ul&amp;gt;&amp;lt;li&amp;gt;Minimum 5 years&amp;#039; experience in Sales/Marketing &amp;lt;/li&amp;gt;&amp;lt;li&amp;gt;Professional A/V market experience preferred&amp;lt;/li&amp;gt;&amp;lt;li&amp;gt;Post-secondary education in related field or equivalent related work experience.&amp;lt;/li&amp;gt;&amp;lt;li&amp;gt;Ability to exceed expectations through relentless execution of a plan.&amp;lt;/li&amp;gt;&amp;lt;li&amp;gt;Strong communication and presentation skills. &amp;lt;/li&amp;gt;&amp;lt;li&amp;gt;Possess the ability to work independently, as well as a strong team player.&amp;lt;/li&amp;gt;&amp;lt;li&amp;gt;Ability to thrive in a fast-paced environment where continuous learning is required in order to grow personally and professionally.&amp;lt;/li&amp;gt;&amp;lt;li&amp;gt;Computer skills; MS Office (Word, Excel, Access, Power Point)&amp;lt;/li&amp;gt;&amp;lt;/ul&amp;gt;&amp;lt;p&amp;gt;&amp;lt;strong&amp;gt;Work Environment&amp;lt;/strong&amp;gt; &amp;lt;br /&amp;gt;Our founders developed the Blue Book more than 40 years ago to present the beliefs and ethos that define our business style. While we have grown and changed dramatically since we were established in 1957, one thing has remained constant: our commitment to the values presented in the Blue Book. You can review &amp;lt;a href=&amp;quot;http://goo.gl/ZabyOl&amp;quot;&amp;gt;The Blue Book here&amp;lt;/a&amp;gt;.&amp;lt;/p&amp;gt;&amp;lt;p&amp;gt;&amp;lt;br /&amp;gt;&amp;lt;strong&amp;gt;&amp;lt;em&amp;gt;Anixter is an Equal Opportunity and Affirmative Action Employer; Minority / Female / Disabled / Veteran. We require all of our employees to perform work in an ethical manner and uphold a culture of honesty and ethics at all times.&amp;lt;/em&amp;gt;&amp;lt;/strong&amp;gt;&amp;lt;/p&amp;gt;&amp;lt;p&amp;gt;&amp;lt;br /&amp;gt;&amp;lt;br /&amp;gt;&amp;lt;a href=&amp;quot;http://jobs.anixter.com/apply-us?JOBSHAREMRE3MDLFIYWRAN5IFRBW7A2GFVEXN6PGXQ2HWIV2XSJDB367INWSJGJREZAR7VYKUY&amp;quot;&amp;gt;Click here to apply online&amp;lt;/a&amp;gt;&amp;lt;/p&amp;gt;&amp;lt;p&amp;gt;&amp;lt;br /&amp;gt;EB-2618554352&amp;lt;/p&amp;gt;\" <http://jobs.anixter.com/jobs/inventory-management/glenview-il-60026-/category-manager-prof-audio-visual-solutions/153414552962719?lang=en_us> .\r\n",
      "_:genid2d8020c9b7d2294a778072a41d6d59640a2db0 <http://schema.org/hiringOrganization> _:genid2d8020c9b7d2294a778072a41d6d59640a2db1 <http://jobs.anixter.com/jobs/inventory-management/glenview-il-60026-/category-manager-prof-audio-visual-solutions/153414552962719?lang=en_us> .\r\n",
      "_:genid2d8020c9b7d2294a778072a41d6d59640a2db0 <http://schema.org/validThrough> \"2019-11-11\"^^<http://schema.org/DateTime> <http://jobs.anixter.com/jobs/inventory-management/glenview-il-60026-/category-manager-prof-audio-visual-solutions/153414552962719?lang=en_us> .\r\n",
      "_:genid2d8020c9b7d2294a778072a41d6d59640a2db0 <http://schema.org/jobLocation> _:genid2d8020c9b7d2294a778072a41d6d59640a2db3 <http://jobs.anixter.com/jobs/inventory-management/glenview-il-60026-/category-manager-prof-audio-visual-solutions/153414552962719?lang=en_us> .\r\n",
      "_:genid2d8020c9b7d2294a778072a41d6d59640a2db0 <http://schema.org/datePosted> \"2019-08-01 17:48:55\"^^<http://schema.org/Date> <http://jobs.anixter.com/jobs/inventory-management/glenview-il-60026-/category-manager-prof-audio-visual-solutions/153414552962719?lang=en_us> .\r\n",
      "_:genid2d8020c9b7d2294a778072a41d6d59640a2db0 <http://schema.org/employmentType> \"FULL_TIME\" <http://jobs.anixter.com/jobs/inventory-management/glenview-il-60026-/category-manager-prof-audio-visual-solutions/153414552962719?lang=en_us> .\r\n",
      "_:genid2d8020c9b7d2294a778072a41d6d59640a2db1 <http://www.w3.org/1999/02/22-rdf-syntax-ns#type> <http://schema.org/Organization> <http://jobs.anixter.com/jobs/inventory-management/glenview-il-60026-/category-manager-prof-audio-visual-solutions/153414552962719?lang=en_us> .\r\n",
      "_:genid2d8020c9b7d2294a778072a41d6d59640a2db1 <http://schema.org/name> \"Anixter International\" <http://jobs.anixter.com/jobs/inventory-management/glenview-il-60026-/category-manager-prof-audio-visual-solutions/153414552962719?lang=en_us> .\r\n",
      "_:genid2d8020c9b7d2294a778072a41d6d59640a2db2 <http://www.w3.org/1999/02/22-rdf-syntax-ns#type> <http://schema.org/PropertyValue> <http://jobs.anixter.com/jobs/inventory-management/glenview-il-60026-/category-manager-prof-audio-visual-solutions/153414552962719?lang=en_us> .\r\n",
      "_:genid2d8020c9b7d2294a778072a41d6d59640a2db2 <http://schema.org/name> \"Anixter International\" <http://jobs.anixter.com/jobs/inventory-management/glenview-il-60026-/category-manager-prof-audio-visual-solutions/153414552962719?lang=en_us> .\r\n",
      "_:genid2d8020c9b7d2294a778072a41d6d59640a2db2 <http://schema.org/value> \"inventory-management/glenview-il-60026-/category-manager-prof-audio-visual-solutions/153414552962719\" <http://jobs.anixter.com/jobs/inventory-management/glenview-il-60026-/category-manager-prof-audio-visual-solutions/153414552962719?lang=en_us> .\r\n",
      "_:genid2d8020c9b7d2294a778072a41d6d59640a2db3 <http://www.w3.org/1999/02/22-rdf-syntax-ns#type> <http://schema.org/Place> <http://jobs.anixter.com/jobs/inventory-management/glenview-il-60026-/category-manager-prof-audio-visual-solutions/153414552962719?lang=en_us> .\r\n",
      "_:genid2d8020c9b7d2294a778072a41d6d59640a2db3 <http://schema.org/address> _:genid2d8020c9b7d2294a778072a41d6d59640a2db4 <http://jobs.anixter.com/jobs/inventory-management/glenview-il-60026-/category-manager-prof-audio-visual-solutions/153414552962719?lang=en_us> .\r\n",
      "_:genid2d8020c9b7d2294a778072a41d6d59640a2db4 <http://www.w3.org/1999/02/22-rdf-syntax-ns#type> <http://schema.org/PostalAddress> <http://jobs.anixter.com/jobs/inventory-management/glenview-il-60026-/category-manager-prof-audio-visual-solutions/153414552962719?lang=en_us> .\r\n",
      "_:genid2d8020c9b7d2294a778072a41d6d59640a2db4 <http://schema.org/addressLocality> \"Glenview\" <http://jobs.anixter.com/jobs/inventory-management/glenview-il-60026-/category-manager-prof-audio-visual-solutions/153414552962719?lang=en_us> .\r\n",
      "_:genid2d8020c9b7d2294a778072a41d6d59640a2db4 <http://schema.org/addressRegion> \"IL\" <http://jobs.anixter.com/jobs/inventory-management/glenview-il-60026-/category-manager-prof-audio-visual-solutions/153414552962719?lang=en_us> .\r\n",
      "_:genid2d8020c9b7d2294a778072a41d6d59640a2db4 <http://schema.org/addressCountry> \"United States\" <http://jobs.anixter.com/jobs/inventory-management/glenview-il-60026-/category-manager-prof-audio-visual-solutions/153414552962719?lang=en_us> .\r\n",
      "\r\n",
      "gzip: stdout: Broken pipe\r\n"
     ]
    }
   ],
   "source": [
    "!zcat {JOBS_JSON_2019} |  head -n 20"
   ]
  },
  {
   "cell_type": "markdown",
   "metadata": {},
   "source": [
    "# JSON"
   ]
  },
  {
   "cell_type": "code",
   "execution_count": 356,
   "metadata": {},
   "outputs": [],
   "source": [
    "json_f = gzip.open(JOBS_JSON_2019, 'rt')"
   ]
  },
  {
   "cell_type": "code",
   "execution_count": 357,
   "metadata": {},
   "outputs": [],
   "source": [
    "json_all_graphs = parse_nquads(json_f)"
   ]
  },
  {
   "cell_type": "code",
   "execution_count": 358,
   "metadata": {},
   "outputs": [],
   "source": [
    "json_seen_domains = set()\n",
    "json_graphs = []"
   ]
  },
  {
   "cell_type": "code",
   "execution_count": 359,
   "metadata": {},
   "outputs": [],
   "source": [
    "json_skipped = []"
   ]
  },
  {
   "cell_type": "code",
   "execution_count": 360,
   "metadata": {},
   "outputs": [
    {
     "data": {
      "application/vnd.jupyter.widget-view+json": {
       "model_id": "32ae637d63c74918842dc5697d62d7b5",
       "version_major": 2,
       "version_minor": 0
      },
      "text/plain": [
       "HBox(children=(IntProgress(value=0, max=100000), HTML(value='')))"
      ]
     },
     "metadata": {},
     "output_type": "display_data"
    },
    {
     "name": "stderr",
     "output_type": "stream",
     "text": [
      "skype:raloffice?call|skype:raloffice?chat does not look like a valid URI, trying to serialize this will break.\n",
      "skype:raloffice?call|skype:raloffice?chat does not look like a valid URI, trying to serialize this will break.\n",
      "skype:raloffice?call|skype:raloffice?chat does not look like a valid URI, trying to serialize this will break.\n",
      "&pound;50k OTE &pound;100K + Full Benefits\\n\\nWe're looking for a Senior Recruiter to join our Tech team. The Technology Recruitment team at one of our most successful team and enjoys excellent market presence and success across a number of technologies.\\n\\nThe relationships and success we've forged in the markets have led to us recently expanding in London\\n\\nNow we'd like you to lead this growth further.\\n\\nYou will be a recognised thought leader in your niche field of tech and actively seek to develop the Brand and your personal presence within your market.\\n\\nYou will manage the full 360 recruitment process, developing new business and building your own pipeline of clients with a number working exclusively and/or on a retained basis.\\n\\nYou will have a dedicated Resourcer who will support you with candidate generation and account management of your desk.\\n\\nYou will play an active role in the development of the Business Plan for your niche field.\\n\\nYou will play a key role in identifying and managing commercial growth, opportunities and threats, developing effective strategies to ensure consistent delivery of revenue targets.\\n\\nSome of the benefits:\\n\\n* Guaranteed pay review every 6 months with dedicated personal development plan\\n\\n* Commission structure tailored for mid/high achieves, paying up to 40%\\n\\n* Dedicated Resourcer\\n\\n* Additional support & investment &ndash; Personal training courses, LI Recruiter, All Major Job Boards, Odro - The Intelligent Selection Process & Exhibiting & Sponsoring specialist UK & International Events & Talks.\\n\\n* Laptop / Phone / Healthcare / Gym / Pension Contribution\\n\\n* Flexible working hours | Remote working\\n\\n* Extended Lunch | Early Friday finish\\n\\n* Up to 35+ Holidays including duvet days\\n\\n* 5 Year Sabbatical\\n\\n* Quarterly Incentives &ndash; Fine Dinning & Team Events\\n\\n* Bi-annual Incentives - Dubai, Marbella, Barbados, and more\\n\\nBut we think the real sell is how we'll support you to source more candidates, bring on more clients, work smarter, develop and earn more money. You're going to enjoy it a lot more too.\\n\\nInterested?\\n\\nLet's have a confidential, informal chat, and we can tell you more about us, the role, and any other questions you might have.\\n\\nCall or Email\" <https://www.recruitment-international.co.uk/jobs/senior-it-recruitment-consultant-14 does not look like a valid URI, trying to serialize this will break.\n",
      "https://www.accenture.com/us-en?c=us_us_brand_10460943&amp;n=psgs_brand_1218&amp;c=ad_usadfy17_10000001&amp;n=psgs_Brand-|-US-|-Exact_accenture&amp;gclid=EAIaIQobChMIpKXKyq2o5AIVksDACh36_QtlEAAYASAAEgLCbPD_BwE does not look like a valid URI, trying to serialize this will break.\n",
      "https://careers2.hiredesk.net/ViewJobs/?Comp=Ago&amp;sPERS_ID=&amp;TP_ID=1&amp;JB_ID=&amp;PROJ_ID={1AC30D19-386D-43E5-B9C6-7768D2DBFEB1}&amp;LAN=en-US does not look like a valid URI, trying to serialize this will break.\n",
      "a href=\\\"mailto:j.goellner@virginia.edu\\\"\" <https://www.growwithuva.com/General/ does not look like a valid URI, trying to serialize this will break.\n",
      "a href=\\\"mailto:j.goellner@virginia.edu\\\"\" <https://www.growwithuva.com/General/ does not look like a valid URI, trying to serialize this will break.\n",
      "a href=\\\"mailto:j.goellner@virginia.edu\\\"\" <https://www.growwithuva.com/Nursing/ does not look like a valid URI, trying to serialize this will break.\n",
      "a href=\\\"mailto:j.goellner@virginia.edu\\\"\" <https://www.growwithuva.com/Nursing/ does not look like a valid URI, trying to serialize this will break.\n",
      "a href=\\\"mailto:j.goellner@virginia.edu\\\"\" <https://www.growwithuva.com/Emergency/ does not look like a valid URI, trying to serialize this will break.\n",
      "a href=\\\"mailto:j.goellner@virginia.edu\\\"\" <https://www.growwithuva.com/Emergency/ does not look like a valid URI, trying to serialize this will break.\n"
     ]
    },
    {
     "name": "stdout",
     "output_type": "stream",
     "text": [
      "\n"
     ]
    }
   ],
   "source": [
    "for _ in tqdm(range(100_000)):\n",
    "    graph = next(json_all_graphs)\n",
    "    dom = graph_domain(graph)\n",
    "    if dom in json_seen_domains:\n",
    "        continue\n",
    "    \n",
    "    try:\n",
    "        jp = list(get_job_postings(graph))[0]\n",
    "        json_graphs.append((graph, jp))\n",
    "        json_seen_domains.update([dom])\n",
    "    except IndexError:\n",
    "        json_skipped.append((graph.identifier, dom))\n",
    "        continue"
   ]
  },
  {
   "cell_type": "code",
   "execution_count": 362,
   "metadata": {},
   "outputs": [
    {
     "data": {
      "text/plain": [
       "(1843, 523, 1843)"
      ]
     },
     "execution_count": 362,
     "metadata": {},
     "output_type": "execute_result"
    }
   ],
   "source": [
    "len(json_seen_domains), len(json_skipped), len(json_graphs)"
   ]
  },
  {
   "cell_type": "code",
   "execution_count": 369,
   "metadata": {},
   "outputs": [
    {
     "data": {
      "text/plain": [
       "(rdflib.term.URIRef('http://schema.org/employmentType'),\n",
       " rdflib.term.Literal('FULL_TIME'))"
      ]
     },
     "execution_count": 369,
     "metadata": {},
     "output_type": "execute_result"
    }
   ],
   "source": [
    "[(p, o) for graph, s in json_graphs for p, o in graph.predicate_objects(s)][0]"
   ]
  },
  {
   "cell_type": "markdown",
   "metadata": {},
   "source": [
    "pd.DataFrame(c.items(), columns=['type', 'n']).assign(pct = lambda df: df['n'] / len(seen_domains)).sort_values('n', ascending=False)"
   ]
  },
  {
   "cell_type": "markdown",
   "metadata": {},
   "source": [
    "# Microdata"
   ]
  },
  {
   "cell_type": "code",
   "execution_count": 319,
   "metadata": {},
   "outputs": [],
   "source": [
    "f = gzip.open(JOBS_MD_2019, 'rt')"
   ]
  },
  {
   "cell_type": "code",
   "execution_count": 320,
   "metadata": {},
   "outputs": [],
   "source": [
    "all_graphs = parse_nquads(f)"
   ]
  },
  {
   "cell_type": "code",
   "execution_count": 321,
   "metadata": {},
   "outputs": [],
   "source": [
    "seen_domains = set()\n",
    "graphs = []"
   ]
  },
  {
   "cell_type": "code",
   "execution_count": 322,
   "metadata": {},
   "outputs": [],
   "source": [
    "skipped = []"
   ]
  },
  {
   "cell_type": "code",
   "execution_count": 323,
   "metadata": {},
   "outputs": [
    {
     "data": {
      "application/vnd.jupyter.widget-view+json": {
       "model_id": "43d5d16dfe72414d97f0072baa70ccc5",
       "version_major": 2,
       "version_minor": 0
      },
      "text/plain": [
       "HBox(children=(IntProgress(value=0, max=100000), HTML(value='')))"
      ]
     },
     "metadata": {},
     "output_type": "display_data"
    },
    {
     "name": "stderr",
     "output_type": "stream",
     "text": [
      "1 n\\u0103m        \" <https://thue.today/tuyen-dung/nhan-vien-trang-tri.5277 does not look like a valid URI, trying to serialize this will break.\n",
      "1 n\\u0103m        \" <https://thue.today/tuyen-dung/nhan-vien-pha-che-ban-hang.3806 does not look like a valid URI, trying to serialize this will break.\n",
      " email address removed Please provide information in your email in which country / roles you are interested in. Paediatrics, Paediatrician, Consultant, Registrar, GP, General Practitioner, Doctors, jobs, Malta, SHO, Senior House Office, hospital, China, Australia, New Zealand, Caribbean, Africa, England, Scotland, Wales, Ireland, IMC, GMC, Bahrain, Saudi Arabia, Angola Job Reference 177167/4 1574358277 APPLY Share this job All jobs by Headhunt International Salary/Rate \\u20AC45000 - \\u20AC180000 per annum Job Type Contract Location Bahrain Bahrain Date Posted 51 minutes ago Expiry Date 28 Nov 2019 Sectors Health, Medicine Languages English Qualifications Bachelors Degree or equivalent Job Reference 177167/4 1574358277 APPLY Similar Job Searches Consultant Paediatrician international opportunities More Jobs From Headhunt International Registrar General Medicine opportunities in Kilkenny Kilkenny, Kilkenny, Ireland \\u20AC65794 - \\u20AC78305 per annum German Advisor for Airbnb - Porto, Portugal Porto, Portugal Negotiable Registrar Obstetrics & Gynaecology Doctor Jobs in Dublin Dublin, Dublin, Ireland \\u20AC55872 - \\u20AC65794 per annum + allowances/overtime Sonne Meer, Strand & Job German Sales Rapresentative Athens, Greece Negotiable German Customer Service Porto Portugal Porto, Portugal Negotiable All Headhunt International Jobs JOB SEARCH WHAT Keywords / / skill / company WHERE Type any location in the box above, or select below : Africa Asia & Pacific CIS Europe Middle East North America South America Afghanistan \\u00C5land Islands Albania Algeria American Samoa Andorra Angola Anguilla Antarctica Antigua and Barbuda Argentina Armenia Aruba Australia Austria Azerbaijan Bahamas, The Bahrain Bangladesh Barbados Belarus Belgium Belize Benin Bermuda Bhutan Bolivia Bonaire, Sint Eustatius and Saba Bosnia and Herzegovina Botswana Bouvet Island Brazil British Indian Ocean Territory British Virgin Islands Brunei Bulgaria Burkina Faso Burundi Cambodia Cameroon Canada Cape Verde Cayman Islands Central African Republic Chad Chile China Christmas Island Cocos (Keeling) Islands Colombia Comoros Congo, Democratic Republic of the Congo, Republic of the Cook Islands Costa Rica Cote d'Ivoire Croatia Cura\\u00E7ao Cyprus Czech Republic Denmark Djibouti Dominica Dominican Republic East Timor Ecuador Egypt El Salvador Equatorial Guinea Eritrea Estonia Ethiopia Falkland Islands (Islas Malvinas) Faroe Islands Fiji Finland France French Guiana French Polynesia French Southern and Antarctic Lands Gabon Gambia, The Georgia Germany Ghana Gibraltar Greece Greenland Grenada Guadeloupe Guam Guatemala Guernsey Guinea Guinea-Bissau Guyana Haiti Heard Island and McDonald Islands Holy See (Vatican City) Honduras Hong Kong Hungary Iceland India Indonesia Iraq Ireland Isle of Man Israel Italy Jamaica Japan Jersey Jordan Kazakhstan Kenya Kiribati Korea, South Kosovo Kuwait Kyrgyzstan Laos Latvia Lebanon Lesotho Liberia Libyan Arab Liechtenstein Lithuania Luxembourg Macau Madagascar Malawi Malaysia Maldives Mali Malta Marshall Islands Martinique Mauritania Mauritius Mayotte Mexico Micronesia, Federated States of Moldova, Republic of Monaco Mongolia Montenegro Montserrat Morocco Mozambique Myanmar Namibia Nauru Nepal Netherlands Netherlands Antilles New Caledonia New Zealand Nicaragua Niger Nigeria Niue Norfolk Island Northern Mariana Islands Norway Oman Pakistan Palau Palestinian territories Panama Papua New Guinea Paraguay Peru Philippines Pitcairn Islands Poland Portugal Puerto Rico Qatar Reunion Romania Russia Rwanda Saint Barth\\u00E9lemy Saint Helena Saint Kitts and Nevis Saint Lucia Saint Martin Saint Pierre and Miquelon Saint Vincent and the Grenadines Samoa San Marino Sao Tome and Principe Saudi Arabia Senegal Serbia Seychelles Sierra Leone Singapore Sint Maarten Slovakia Slovenia Solomon Islands Somalia South Africa South Georgia and the Islands South Sudan Spain Sri Lanka Suriname Svalbard Swaziland Sweden Switzerland Taiwan Tajikistan Tanzania, United Republic of Thailand The Former Yugoslav Republic of Macedonia Togo Tokelau Tonga Trinidad and Tobago Tunisia Turkey Turkmenistan Turks and Caicos Islands Tuvalu Uganda United Arab Emirates United Kingdom United States United States Minor Outlying Islands Uruguay Uzbekistan Vanuatu Venezuela Vietnam Virgin Islands (US) Wallis and Futuna Western Sahara Yemen Zambia Zimbabwe Country, town, city or postcode Home Top Language Jobs Jobs HR Consultant Jobs Consultant Paediatrician international opportunities HOME All Top Language Jobs Job Alerts Upload Your CV CANDIDATE SERVICES CV Writing Services Accountancy Services Mortgage Services Umbrella Services Pension Services Insurance Services MY ACCOUNT Upload Your CV Login Contact Cookie Policy Close the menu CANDIDATE Your Account Salary Guide Candidate Advice Job Alerts JOBS Top Language jobs Popular Countries Popular Cities Popular Companies RECRUITER Recruiter Services CV Search COMPANY Social Media LEGAL Terms & Conditions Terms & Conditions for clients Cookie Policy Privacy Policy Contact Account Deletion Data Subject Access Request Anti-Slavery Declaration AUT BEL BGR CAN CHE CZE DEU DNK ESP FRA GIB HUN IRL ITA LUX MLT NLD NOR POL PRT ROU SVK SWE USA UK --Web 3--\\n                                    \" <https://www.gulfsalary.com/jobs-in-bahrain does not look like a valid URI, trying to serialize this will break.\n",
      " email address removed Please provide information in your email in which country / roles you are interested in. Paediatrics, Paediatrician, Consultant, Registrar, GP, General Practitioner, Doctors, jobs, Malta, SHO, Senior House Office, hospital, China, Australia, New Zealand, Caribbean, Africa, England, Scotland, Wales, Ireland, IMC, GMC, Bahrain, Saudi Arabia, Angola Job Reference 177167/4 1574358277 APPLY Share this job All jobs by Headhunt International Salary/Rate \\u20AC45000 - \\u20AC180000 per annum Job Type Contract Location Bahrain Bahrain Date Posted 2 minutes ago Expiry Date 28 Nov 2019 Sectors Health, Medicine Languages English Qualifications Bachelors Degree or equivalent Job Reference 177167/4 1574358277 APPLY Similar Job Searches Consultant Paediatrician international opportunities More Jobs From Headhunt International Sales & Business Development Recruitment Associate B2B Dublin, Dublin, Ireland \\u20AC45000 - \\u20AC50000 per annum Senior Pastry Chef Hotel in Leitrim, Ireland Leitrim, Leitrim, Ireland \\u20AC30000 - \\u20AC35000 per annum Business Development Manager Client Accounts Dublin, Dublin, Ireland \\u20AC110000 - \\u20AC160000.00 per annum + car, pension, commission Client Director Business Development opportunity in Dublin Dublin, Dublin, Ireland \\u20AC110000 - \\u20AC160000.00 per annum + car, pension, commission Pastry Chef Dublin Hotel Dublin, Dublin, Ireland \\u20AC30000 - \\u20AC35000 per annum All Headhunt International Jobs JOB SEARCH WHAT Keywords / / skill / company WHERE Type any location in the box above, or select below : Africa Asia & Pacific CIS Europe Middle East North America South America Afghanistan \\u00C5land Islands Albania Algeria American Samoa Andorra Angola Anguilla Antarctica Antigua and Barbuda Argentina Armenia Aruba Australia Austria Azerbaijan Bahamas, The Bahrain Bangladesh Barbados Belarus Belgium Belize Benin Bermuda Bhutan Bolivia Bonaire, Sint Eustatius and Saba Bosnia and Herzegovina Botswana Bouvet Island Brazil British Indian Ocean Territory British Virgin Islands Brunei Bulgaria Burkina Faso Burundi Cambodia Cameroon Canada Cape Verde Cayman Islands Central African Republic Chad Chile China Christmas Island Cocos (Keeling) Islands Colombia Comoros Congo, Democratic Republic of the Congo, Republic of the Cook Islands Costa Rica Cote d'Ivoire Croatia Cura\\u00E7ao Cyprus Czech Republic Denmark Djibouti Dominica Dominican Republic East Timor Ecuador Egypt El Salvador Equatorial Guinea Eritrea Estonia Ethiopia Falkland Islands (Islas Malvinas) Faroe Islands Fiji Finland France French Guiana French Polynesia French Southern and Antarctic Lands Gabon Gambia, The Georgia Germany Ghana Gibraltar Greece Greenland Grenada Guadeloupe Guam Guatemala Guernsey Guinea Guinea-Bissau Guyana Haiti Heard Island and McDonald Islands Holy See (Vatican City) Honduras Hong Kong Hungary Iceland India Indonesia Iraq Ireland Isle of Man Israel Italy Jamaica Japan Jersey Jordan Kazakhstan Kenya Kiribati Korea, South Kosovo Kuwait Kyrgyzstan Laos Latvia Lebanon Lesotho Liberia Libyan Arab Liechtenstein Lithuania Luxembourg Macau Madagascar Malawi Malaysia Maldives Mali Malta Marshall Islands Martinique Mauritania Mauritius Mayotte Mexico Micronesia, Federated States of Moldova, Republic of Monaco Mongolia Montenegro Montserrat Morocco Mozambique Myanmar Namibia Nauru Nepal Netherlands Netherlands Antilles New Caledonia New Zealand Nicaragua Niger Nigeria Niue Norfolk Island Northern Mariana Islands Norway Oman Pakistan Palau Palestinian territories Panama Papua New Guinea Paraguay Peru Philippines Pitcairn Islands Poland Portugal Puerto Rico Qatar Reunion Romania Russia Rwanda Saint Barth\\u00E9lemy Saint Helena Saint Kitts and Nevis Saint Lucia Saint Martin Saint Pierre and Miquelon Saint Vincent and the Grenadines Samoa San Marino Sao Tome and Principe Saudi Arabia Senegal Serbia Seychelles Sierra Leone Singapore Sint Maarten Slovakia Slovenia Solomon Islands Somalia South Africa South Georgia and the Islands South Sudan Spain Sri Lanka Suriname Svalbard Swaziland Sweden Switzerland Taiwan Tajikistan Tanzania, United Republic of Thailand The Former Yugoslav Republic of Macedonia Togo Tokelau Tonga Trinidad and Tobago Tunisia Turkey Turkmenistan Turks and Caicos Islands Tuvalu Uganda United Arab Emirates United Kingdom United States United States Minor Outlying Islands Uruguay Uzbekistan Vanuatu Venezuela Vietnam Virgin Islands (US) Wallis and Futuna Western Sahara Yemen Zambia Zimbabwe Country, town, city or postcode Home Top Language Jobs Jobs General Language Jobs Consultant Paediatrician international opportunities HOME All Top Language Jobs Job Alerts Upload Your CV CANDIDATE SERVICES CV Writing Services Accountancy Services Mortgage Services Umbrella Services Pension Services Insurance Services MY ACCOUNT Upload Your CV Login Contact Cookie Policy Close the menu CANDIDATE Your Account Salary Guide Candidate Advice Job Alerts JOBS Top Language jobs Popular Countries Popular Cities Popular Companies RECRUITER Recruiter Services CV Search COMPANY Social Media LEGAL Terms & Conditions Terms & Conditions for clients Cookie Policy Privacy Policy Contact Account Deletion Data Subject Access Request Anti-Slavery Declaration AUT BEL BGR CAN CHE CZE DEU DNK ESP FRA GIB HUN IRL ITA LUX MLT NLD NOR POL PRT ROU SVK SWE USA UK --Web1--\\n                                    \" <https://www.gulfsalary.com/jobs-in-bahrain does not look like a valid URI, trying to serialize this will break.\n"
     ]
    },
    {
     "name": "stderr",
     "output_type": "stream",
     "text": [
      "10% der Arbeitszeit\\n\\n\\n\\u00A0\\n\\nAls Tochtergesellschaft eines internationalen Konzerns bieten wir Ihnen entsprechende Perspektiven und pers\\u00F6nliche sowie fachliche Weiterentwicklungsm\\u00F6glichkeiten.\\n\\nHaben wir Ihr Interesse geweckt? Dann bewerben Sie sich mit Ihren aussagekr\\u00E4ftigen Bewerbungsunterlagen, inklusive Gehaltsvorstellungen, auf diese Stelle.\\n\\nFendt - Eine Marke der AGCO Corporation.\\n\\nSeit 1997 geh\\u00F6rt die Marke Fendt zum amerikanischen Global Player. Fendt ist jedoch kein Traktorenhersteller mehr, sondern ein Landtechnikunternehmen mit einem Full-Line Programm. Was Fendt auch innerhalb des AGCO Konzerns auszeichnet? Der Anspruch, die besten technischen L\\u00F6sungen zu entwickeln und die beste Qualit\\u00E4t zu liefern.\\n\\nWeitere Informationen zu AGCO finden Sie unter http://www.agcocorp.com/.\\u00A0 \\u00A0\\u00A0\\u00A0\\u00A0\\u00A0\\u00A0 \\n\\n\\u00A0\\n\\n\\u00A0\\n        \"@de-DE <https://careers.agcocorp.com/job/Marktoberdorf-Market-Manager-%28mwd%29-Harvesting-Gold-&-Application-BY/550794400/ does not look like a valid URI, trying to serialize this will break.\n",
      "1 n\\u0103m        \" <https://thue.today/tuyen-dung/barista-pha-che.3514 does not look like a valid URI, trying to serialize this will break.\n",
      "1 n\\u0103m        \" <https://thue.today/tuyen-dung/tuyen-dung-nhan-vien-phuc-vu-nha-hang-lau-buffet-sik-dak-fook.5153 does not look like a valid URI, trying to serialize this will break.\n",
      "=160 hour task) programming requirements with limited or no assistance from peers\\nBalance multiple small projects and works on larger projects with minimal guidance from more experienced developers to meet due dates and deadlines.\\nMaintains subject matter expertise in Acxiom technologies, verticals and lines of business in order to help align client business needs to products, solutions and services offered.\\nDocuments and shares best practices and case studies.What you will need:\\n\\n\\n\\n3-5 years of experience\\nNo certification required\\n4-year college degree in relevant field of study or relevant work experience\\nLanguage Syntax of 3 or more relevant software development languages\\nJava\\nSQL / PL \\u2013SQL\\nC / C++ Perl\\nShell Scripting\\nXML/HTML/JSON\\nOperating System Exposure in previous jobs or school is required\\nLinux/Unix Commands\\nLinux/Unix File Management\\nApplication of Relational Database Principles; Oracle or other DBMS\\nApplication of industry standards, best practices in solutions\\nExcellent communication skills, can communicate ideas clearly and effectively to other members of the development team #GD17\\n\\n\\nPrimary Location City/State: \\n\\nConway, Arkansas\\n\\nAdditional Locations (if applicable): \\n\\nAcxiom is an affirmative action and equal opportunity employer (AA/EOE/W/M/Vet/Disabled) and does not discriminate in recruiting, hiring, training, promotion or other employment of associates or the awarding of subcontracts because of a person's race, color, sex, age, religion, national origin, protected veteran, disability, sexual orientation, gender identity, genetics or other protected status.\\n\\nWho is Acxiom?\\n\\nWe are leaders in helping brands achieve the number one mantra for every business \\u2013 know your customer. For fifty years, we\\u2019ve helped marketers deal with a fast-changing future of growing channels, data and technology. By understanding the customer, marketers can communicate with relevance everywhere and drive better customer experiences that build a better brand and, in turn, better business.\\n\\nWe\\u2019re one of the marketing industry\\u2019s most experienced, respected and forward-thinking leaders. For nearly fifty years, we\\u2019ve helped the world\\u2019s best marketers understand their customers so that they can reach people with relevance rather than randomness. Our products and solutions form the data foundation that make it possible for marketers to drive better customer experiences and meaningful interactions at scale across every channel.\\n\\nOur job opportunities will give you the opportunity to showcase your talents, grow your skills, and expose you to cutting-edge technologies, whether you\\u2019re an engineer, developer, products guru, systems and security expert, sales and consulting executive, or an intern looking to gain real experience with a company that will make you stand out.\\n\\nAt Acxiom, our values begin with our associates, who are the single most important driver of our success. We\\u2019re looking to hire people who share our core values: collaboration, excellence, innovation, a focus on outcomes, and being empowered to make and own decisions that benefit our clients and our company. Our values represent our brand promise \\u2013 to our clients and to our associates \\u2013 and define our company culture.\\n\\nIf you are interested in applying for employment with Acxiom and need special assistance or an accommodation to apply for a posted position, contact our recruiting department at 1-877-314-2049.\\n\\nWe highly recommend you create an account to monitor your resume submissions. Click on the Sign In link above to create an account or sign up at the end of your application. \\n\\nInterested in Acxiom? Learn about our Equal Opportunities, job postings, and more:\\n\\nAbout Us  at http://www.acxiom.com/about-acxiom/ \\n\\nFollow Us on Twitter  at http://twitter.com/Acxiom \\n\\nFind Us on Facebook  at http://www.facebook.com/AcxiomRecruiting \\n\\nCareers Page  at http://www.acxiom.com/about-acxiom/careers/ \\n\\nLinkedIn  at http://www.linkedin.com/company/acxiom\\n\\n            \\n            \\n            \\n            \\n            \\n            \\n            \\n            \\n        \"@en <https://acxiom.dejobs.org/conway-ar/solution-developer/335B9CC5E65B440D9DB95D1640451509/job/ does not look like a valid URI, trying to serialize this will break.\n",
      "1 n\\u0103m        \" <https://thue.today/tuyen-dung/hostess.2539 does not look like a valid URI, trying to serialize this will break.\n",
      "1 n\\u0103m To\\u00E0n th\\u1EDDi gian - Tr\\u00ECnh \\u0111\\u1ED9 h\\u1ECDc v\\u1EA5n/Tr\\u00ECnh \\u0111\\u1ED9 chuy\\u00EAn m\\u00F4n Trung c\\u1EA5p tr\\u1EDF l\\u00EAn, \\u0111\\u00E3 h\\u1ECDc c\\u00E1c kh\\u00F3a \\u0111\\u00E0o t\\u1EA1o pha ch\\u1EBF \\n- Kinh nghi\\u1EC7m li\\u00EAn quan Kinh nghi\\u1EC7m d\\u01B0\\u1EDBi 1 n\\u0103m l\\u00E0m pha ch\\u1EBF t\\u1EA1i c\\u00E1c kh\\u00E1ch s\\u1EA1n, nh\\u00E0 h\\u00E0ng, qu\\u00E1n caf\\u00E9,...\\n- C\\u00E1c k\\u1EF9 n\\u0103ng c\\u01A1 b\\u1EA3n K\\u1EF9 n\\u0103ng pha ch\\u1EBF c\\u00E1c lo\\u1EA1i \\u0111\\u1ED3 u\\u1ED1ng\\n- Ph\\u1EA9m ch\\u1EA5t/Th\\u00E1i \\u0111\\u1ED9 l\\u00E0m vi\\u1EC7c Nhanh nh\\u1EB9n, nhi\\u1EC7t t\\u00ECnh, c\\u1EA9n th\\u1EADn, s\\u1EA1ch s\\u1EBD\\n- Lu\\u00F4n lu\\u00F4n \\u0111\\u1ED5i m\\u1EDBi v\\u00E0 kh\\u00F4ng ng\\u1EEBng ph\\u00E1t tri\\u1EC3n, ch\\u00FA tr\\u1ECDng kh\\u1EA3 n\\u0103ng s\\u00E1ng t\\u1EA1o   - \\u0110\\u01B0\\u1EE3c \\u0111\\u00E0o t\\u1EA1o chuy\\u00EAn nghi\\u1EC7p tr\\u01B0\\u1EDBc khi l\\u00E0m vi\\u1EC7c ch\\u00EDnh th\\u1EE9c.\\n- C\\u00F3 th\\u01B0\\u1EDFng cho nh\\u00E2n vi\\u00EAn l\\u00E0m vi\\u1EC7c t\\u00EDch c\\u1EF1c.\\n- \\u0110\\u01B0\\u1EE3c ph\\u00E1t \\u0111\\u1ED3ng ph\\u1EE5c si\\u00EAu cool\\n- L\\u01B0\\u01A1ng th\\u1ECFa thu\\u1EADn t\\u00F9y n\\u0103ng l\\u1EF1c \\n- M\\u00F4i tr\\u01B0\\u1EDDng n\\u0103ng \\u0111\\u1ED9ng, ch\\u00FA tr\\u1ECDng c\\u01A1 h\\u1ECFi ph\\u00E1t tri\\u1EC3n cho nh\\u00E2n vi\\u00EAn.  pha ch\\u1EBF,c\\u00E0 ph\\u00EA,barista,pha che,pha che,qu\\u00E1n c\\u00E0 ph\\u00EA,tuy\\u1EC3n d\\u1EE5ng,tuyen dung,hoa,tr\\u00E0,phache,kh\\u00E1ch s\\u1EA1n - nh\\u00E0 h\\u00E0ng,th\\u1EF1c ph\\u1EA9m - \\u0111\\u1ED3 u\\u1ED1ng\" <https://thue.today/tuyen-dung/barista-pha-che.1836 does not look like a valid URI, trying to serialize this will break.\n",
      "1 n\\u0103m        \" <https://thue.today/tuyen-dung/barista-pha-che.1836 does not look like a valid URI, trying to serialize this will break.\n",
      "https://www.municipiosefreguesias.pt/oferta-de-emprego/652/assistente-de-call-center--m/f----part-time-14h-21h-coimbra-sl//oferta-de-emprego/582/service-desk-agent---deutsch/english--w/m/d--|-fujitsu-portugal-gdc-sl does not look like a valid URI, trying to serialize this will break.\n",
      "https://www.municipiosefreguesias.pt/oferta-de-emprego/652/assistente-de-call-center--m/f----part-time-14h-21h-coimbra-sl//oferta-de-emprego/582/service-desk-agent---deutsch/english--w/m/d--|-fujitsu-portugal-gdc-sl does not look like a valid URI, trying to serialize this will break.\n"
     ]
    },
    {
     "name": "stderr",
     "output_type": "stream",
     "text": [
      "1 n\\u0103m        \" <https://thue.today/tuyen-dung/nv-kinh-doanh-xnk.4730 does not look like a valid URI, trying to serialize this will break.\n",
      "1 n\\u0103m, 1-2 n\\u0103m, 2-3 n\\u0103m        \" <https://thue.today/tuyen-dung/phuc-vu-server.3146 does not look like a valid URI, trying to serialize this will break.\n",
      "1 n\\u0103m L\\u00E0m theo ca Nhanh nh\\u1EB9n, trung th\\u1EF1c, c\\u00F3 \\u0111i\\u1EC7n tho\\u1EA1i c\\u1EA3m \\u1EE9ng \\u0111\\u1EC3 d\\u00F9ng apps thanh to\\u00E1n. N\\u1EBFu ko c\\u00F3, qu\\u00E1n c\\u00F3 th\\u1EC3 h\\u1ED7 tr\\u1EE3.   sinhvienlamthem vieclamthuduc,ph\\u1EE5c v\\u1EE5\" <https://thue.today/tuyen-dung/phuc-vu.3845 does not look like a valid URI, trying to serialize this will break.\n",
      "1 n\\u0103m        \" <https://thue.today/tuyen-dung/phuc-vu.3845 does not look like a valid URI, trying to serialize this will break.\n",
      "1 n\\u0103m To\\u00E0n th\\u1EDDi gian Si\\u00EAng n\\u0103ng, c\\u00F3 kinh nghi\\u1EC7m l\\u00E0 1 l\\u1EE3i th\\u1EBF  4 ng\\u00E0y off/ 1 th\\u00E1ng\\nL\\u01B0\\u01A1ng kh\\u1EDFi \\u0111i\\u1EC3m 5tr/1 th\\u00E1ng+ tip c\\u1EE9ng 1tr+bao \\u0103n vi\\u1EC7c l\\u00E0m t\\u1EBFt,pha ch\\u1EBF\" <https://thue.today/tuyen-dung/pha-che-barista.3636 does not look like a valid URI, trying to serialize this will break.\n",
      "1 n\\u0103m        \" <https://thue.today/tuyen-dung/pha-che-barista.3636 does not look like a valid URI, trying to serialize this will break.\n",
      "1 n\\u0103m        \" <https://thue.today/tuyen-dung/dung-bepphu-bep.2175 does not look like a valid URI, trying to serialize this will break.\n",
      "1 n\\u0103m, 1-2 n\\u0103m        \" <https://thue.today/tuyen-dung/ky-thuat-vien-sua-chua-bao-tri-may-photocopy.3279 does not look like a valid URI, trying to serialize this will break.\n",
      " email address removed Please provide information in your email in which country / roles you are interested in. Paediatrics, Paediatrician, Consultant, Registrar, GP, General Practitioner, Doctors, jobs, Malta, SHO, Senior House Office, hospital, China, Australia, New Zealand, Caribbean, Africa, England, Scotland, Wales, Ireland, IMC, GMC, Bahrain, Saudi Arabia, Angola Job Reference 177167/4 1574358277 APPLY Share this job All jobs by Headhunt International Salary/Rate \\u20AC45000 - \\u20AC180000 per annum Job Type Contract Location Bahrain Bahrain Date Posted 51 minutes ago Expiry Date 28 Nov 2019 Sectors Health, Medicine Languages English Qualifications Bachelors Degree or equivalent Job Reference 177167/4 1574358277 APPLY Similar Job Searches Consultant Paediatrician international opportunities More Jobs From Headhunt International Registrar General Medicine opportunities in Kilkenny Kilkenny, Kilkenny, Ireland \\u20AC65794 - \\u20AC78305 per annum German Advisor for Airbnb - Porto, Portugal Porto, Portugal Negotiable Registrar Obstetrics & Gynaecology Doctor Jobs in Dublin Dublin, Dublin, Ireland \\u20AC55872 - \\u20AC65794 per annum + allowances/overtime Sonne Meer, Strand & Job German Sales Rapresentative Athens, Greece Negotiable German Customer Service Porto Portugal Porto, Portugal Negotiable All Headhunt International Jobs JOB SEARCH WHAT Keywords / / skill / company WHERE Type any location in the box above, or select below : Africa Asia & Pacific CIS Europe Middle East North America South America Afghanistan \\u00C5land Islands Albania Algeria American Samoa Andorra Angola Anguilla Antarctica Antigua and Barbuda Argentina Armenia Aruba Australia Austria Azerbaijan Bahamas, The Bahrain Bangladesh Barbados Belarus Belgium Belize Benin Bermuda Bhutan Bolivia Bonaire, Sint Eustatius and Saba Bosnia and Herzegovina Botswana Bouvet Island Brazil British Indian Ocean Territory British Virgin Islands Brunei Bulgaria Burkina Faso Burundi Cambodia Cameroon Canada Cape Verde Cayman Islands Central African Republic Chad Chile China Christmas Island Cocos (Keeling) Islands Colombia Comoros Congo, Democratic Republic of the Congo, Republic of the Cook Islands Costa Rica Cote d'Ivoire Croatia Cura\\u00E7ao Cyprus Czech Republic Denmark Djibouti Dominica Dominican Republic East Timor Ecuador Egypt El Salvador Equatorial Guinea Eritrea Estonia Ethiopia Falkland Islands (Islas Malvinas) Faroe Islands Fiji Finland France French Guiana French Polynesia French Southern and Antarctic Lands Gabon Gambia, The Georgia Germany Ghana Gibraltar Greece Greenland Grenada Guadeloupe Guam Guatemala Guernsey Guinea Guinea-Bissau Guyana Haiti Heard Island and McDonald Islands Holy See (Vatican City) Honduras Hong Kong Hungary Iceland India Indonesia Iraq Ireland Isle of Man Israel Italy Jamaica Japan Jersey Jordan Kazakhstan Kenya Kiribati Korea, South Kosovo Kuwait Kyrgyzstan Laos Latvia Lebanon Lesotho Liberia Libyan Arab Liechtenstein Lithuania Luxembourg Macau Madagascar Malawi Malaysia Maldives Mali Malta Marshall Islands Martinique Mauritania Mauritius Mayotte Mexico Micronesia, Federated States of Moldova, Republic of Monaco Mongolia Montenegro Montserrat Morocco Mozambique Myanmar Namibia Nauru Nepal Netherlands Netherlands Antilles New Caledonia New Zealand Nicaragua Niger Nigeria Niue Norfolk Island Northern Mariana Islands Norway Oman Pakistan Palau Palestinian territories Panama Papua New Guinea Paraguay Peru Philippines Pitcairn Islands Poland Portugal Puerto Rico Qatar Reunion Romania Russia Rwanda Saint Barth\\u00E9lemy Saint Helena Saint Kitts and Nevis Saint Lucia Saint Martin Saint Pierre and Miquelon Saint Vincent and the Grenadines Samoa San Marino Sao Tome and Principe Saudi Arabia Senegal Serbia Seychelles Sierra Leone Singapore Sint Maarten Slovakia Slovenia Solomon Islands Somalia South Africa South Georgia and the Islands South Sudan Spain Sri Lanka Suriname Svalbard Swaziland Sweden Switzerland Taiwan Tajikistan Tanzania, United Republic of Thailand The Former Yugoslav Republic of Macedonia Togo Tokelau Tonga Trinidad and Tobago Tunisia Turkey Turkmenistan Turks and Caicos Islands Tuvalu Uganda United Arab Emirates United Kingdom United States United States Minor Outlying Islands Uruguay Uzbekistan Vanuatu Venezuela Vietnam Virgin Islands (US) Wallis and Futuna Western Sahara Yemen Zambia Zimbabwe Country, town, city or postcode Home Top Language Jobs Jobs HR Consultant Jobs Consultant Paediatrician international opportunities HOME All Top Language Jobs Job Alerts Upload Your CV CANDIDATE SERVICES CV Writing Services Accountancy Services Mortgage Services Umbrella Services Pension Services Insurance Services MY ACCOUNT Upload Your CV Login Contact Cookie Policy Close the menu CANDIDATE Your Account Salary Guide Candidate Advice Job Alerts JOBS Top Language jobs Popular Countries Popular Cities Popular Companies RECRUITER Recruiter Services CV Search COMPANY Social Media LEGAL Terms & Conditions Terms & Conditions for clients Cookie Policy Privacy Policy Contact Account Deletion Data Subject Access Request Anti-Slavery Declaration AUT BEL BGR CAN CHE CZE DEU DNK ESP FRA GIB HUN IRL ITA LUX MLT NLD NOR POL PRT ROU SVK SWE USA UK --Web 3--\\n                                    \" <https://www.gulfsalary.com/jobs?l=bahrain does not look like a valid URI, trying to serialize this will break.\n",
      " email address removed Please provide information in your email in which country / roles you are interested in. Paediatrics, Paediatrician, Consultant, Registrar, GP, General Practitioner, Doctors, jobs, Malta, SHO, Senior House Office, hospital, China, Australia, New Zealand, Caribbean, Africa, England, Scotland, Wales, Ireland, IMC, GMC, Bahrain, Saudi Arabia, Angola Job Reference 177167/4 1574358277 APPLY Share this job All jobs by Headhunt International Salary/Rate \\u20AC45000 - \\u20AC180000 per annum Job Type Contract Location Bahrain Bahrain Date Posted 2 minutes ago Expiry Date 28 Nov 2019 Sectors Health, Medicine Languages English Qualifications Bachelors Degree or equivalent Job Reference 177167/4 1574358277 APPLY Similar Job Searches Consultant Paediatrician international opportunities More Jobs From Headhunt International Sales & Business Development Recruitment Associate B2B Dublin, Dublin, Ireland \\u20AC45000 - \\u20AC50000 per annum Senior Pastry Chef Hotel in Leitrim, Ireland Leitrim, Leitrim, Ireland \\u20AC30000 - \\u20AC35000 per annum Business Development Manager Client Accounts Dublin, Dublin, Ireland \\u20AC110000 - \\u20AC160000.00 per annum + car, pension, commission Client Director Business Development opportunity in Dublin Dublin, Dublin, Ireland \\u20AC110000 - \\u20AC160000.00 per annum + car, pension, commission Pastry Chef Dublin Hotel Dublin, Dublin, Ireland \\u20AC30000 - \\u20AC35000 per annum All Headhunt International Jobs JOB SEARCH WHAT Keywords / / skill / company WHERE Type any location in the box above, or select below : Africa Asia & Pacific CIS Europe Middle East North America South America Afghanistan \\u00C5land Islands Albania Algeria American Samoa Andorra Angola Anguilla Antarctica Antigua and Barbuda Argentina Armenia Aruba Australia Austria Azerbaijan Bahamas, The Bahrain Bangladesh Barbados Belarus Belgium Belize Benin Bermuda Bhutan Bolivia Bonaire, Sint Eustatius and Saba Bosnia and Herzegovina Botswana Bouvet Island Brazil British Indian Ocean Territory British Virgin Islands Brunei Bulgaria Burkina Faso Burundi Cambodia Cameroon Canada Cape Verde Cayman Islands Central African Republic Chad Chile China Christmas Island Cocos (Keeling) Islands Colombia Comoros Congo, Democratic Republic of the Congo, Republic of the Cook Islands Costa Rica Cote d'Ivoire Croatia Cura\\u00E7ao Cyprus Czech Republic Denmark Djibouti Dominica Dominican Republic East Timor Ecuador Egypt El Salvador Equatorial Guinea Eritrea Estonia Ethiopia Falkland Islands (Islas Malvinas) Faroe Islands Fiji Finland France French Guiana French Polynesia French Southern and Antarctic Lands Gabon Gambia, The Georgia Germany Ghana Gibraltar Greece Greenland Grenada Guadeloupe Guam Guatemala Guernsey Guinea Guinea-Bissau Guyana Haiti Heard Island and McDonald Islands Holy See (Vatican City) Honduras Hong Kong Hungary Iceland India Indonesia Iraq Ireland Isle of Man Israel Italy Jamaica Japan Jersey Jordan Kazakhstan Kenya Kiribati Korea, South Kosovo Kuwait Kyrgyzstan Laos Latvia Lebanon Lesotho Liberia Libyan Arab Liechtenstein Lithuania Luxembourg Macau Madagascar Malawi Malaysia Maldives Mali Malta Marshall Islands Martinique Mauritania Mauritius Mayotte Mexico Micronesia, Federated States of Moldova, Republic of Monaco Mongolia Montenegro Montserrat Morocco Mozambique Myanmar Namibia Nauru Nepal Netherlands Netherlands Antilles New Caledonia New Zealand Nicaragua Niger Nigeria Niue Norfolk Island Northern Mariana Islands Norway Oman Pakistan Palau Palestinian territories Panama Papua New Guinea Paraguay Peru Philippines Pitcairn Islands Poland Portugal Puerto Rico Qatar Reunion Romania Russia Rwanda Saint Barth\\u00E9lemy Saint Helena Saint Kitts and Nevis Saint Lucia Saint Martin Saint Pierre and Miquelon Saint Vincent and the Grenadines Samoa San Marino Sao Tome and Principe Saudi Arabia Senegal Serbia Seychelles Sierra Leone Singapore Sint Maarten Slovakia Slovenia Solomon Islands Somalia South Africa South Georgia and the Islands South Sudan Spain Sri Lanka Suriname Svalbard Swaziland Sweden Switzerland Taiwan Tajikistan Tanzania, United Republic of Thailand The Former Yugoslav Republic of Macedonia Togo Tokelau Tonga Trinidad and Tobago Tunisia Turkey Turkmenistan Turks and Caicos Islands Tuvalu Uganda United Arab Emirates United Kingdom United States United States Minor Outlying Islands Uruguay Uzbekistan Vanuatu Venezuela Vietnam Virgin Islands (US) Wallis and Futuna Western Sahara Yemen Zambia Zimbabwe Country, town, city or postcode Home Top Language Jobs Jobs General Language Jobs Consultant Paediatrician international opportunities HOME All Top Language Jobs Job Alerts Upload Your CV CANDIDATE SERVICES CV Writing Services Accountancy Services Mortgage Services Umbrella Services Pension Services Insurance Services MY ACCOUNT Upload Your CV Login Contact Cookie Policy Close the menu CANDIDATE Your Account Salary Guide Candidate Advice Job Alerts JOBS Top Language jobs Popular Countries Popular Cities Popular Companies RECRUITER Recruiter Services CV Search COMPANY Social Media LEGAL Terms & Conditions Terms & Conditions for clients Cookie Policy Privacy Policy Contact Account Deletion Data Subject Access Request Anti-Slavery Declaration AUT BEL BGR CAN CHE CZE DEU DNK ESP FRA GIB HUN IRL ITA LUX MLT NLD NOR POL PRT ROU SVK SWE USA UK --Web1--\\n                                    \" <https://www.gulfsalary.com/jobs?l=bahrain does not look like a valid URI, trying to serialize this will break.\n"
     ]
    },
    {
     "name": "stderr",
     "output_type": "stream",
     "text": [
      "1 n\\u0103m        \" <https://thue.today/tuyen-dung/nhan-vien-phuc-vu.2815 does not look like a valid URI, trying to serialize this will break.\n",
      " 50\\u043C\\u0441). \\u0412\\u044B\\u0441\\u043E\\u043A\\u043E-\\u0434\\u043E\\u0441\\u0442\\u0443\\u043F\\u043D\\u044B\\u0435 \\u043A\\u043B\\u0430\\u0441\\u0442\\u0435\\u0440\\u0430 \\u043F\\u0440\\u0438\\u043B\\u043E\\u0436\\u0435\\u043D\\u0438\\u0439 (99.95). Percona MySQL, MongoDB, Redis, ClickHouse, RabbitMQ, Kinesis, InfluxDB, ELK.  \\u041C\\u044B \\u043E\\u0436\\u0438\\u0434\\u0430\\u0435\\u043C \\u043E\\u0442 \\u0432\\u0430\\u0441:   \\u041E\\u043F\\u044B\\u0442 \\u0430\\u0434\\u043C\\u0438\\u043D\\u0438\\u0441\\u0442\\u0440\\u0438\\u0440\\u043E\\u0432\\u0430\\u043D\\u0438\\u044F Linux (RHEL) \\u0441\\u0438\\u0441\\u0442\\u0435\\u043C. \\u041E\\u043F\\u044B\\u0442 \\u0430\\u0434\\u043C\\u0438\\u043D\\u0438\\u0441\\u0442\\u0440\\u0438\\u0440\\u043E\\u0432\\u0430\\u043D\\u0438\\u044F \\u0438/\\u0438\\u043B\\u0438 \\u043E\\u043F\\u0442\\u0438\\u043C\\u0438\\u0437\\u0430\\u0446\\u0438\\u0438 \\u0431\\u0430\\u0437 \\u0434\\u0430\\u043D\\u043D\\u044B\\u0445 (MySQL, MongoDB, Redis, ClickHouse). \\u0418\\u0441\\u043F\\u043E\\u043B\\u044C\\u0437\\u043E\\u0432\\u0430\\u043D\\u0438\\u0435 \\u0438\\u043D\\u0441\\u0442\\u0440\\u0443\\u043C\\u0435\\u043D\\u0442\\u043E\\u0432 \\u0434\\u043B\\u044F \\u0430\\u0432\\u0442\\u043E\\u043C\\u0430\\u0442\\u0438\\u0437\\u0430\\u0446\\u0438\\u0438 \\u043F\\u0440\\u043E\\u0432\\u0438\\u0436\\u0438\\u043D\\u0438\\u043D\\u0433\\u0430 \\u0438 \\u0434\\u043E\\u0441\\u0442\\u0430\\u0432\\u043A\\u0438 \\u0438\\u0437\\u043C\\u0435\\u043D\\u0435\\u043D\\u0438\\u0439 (Chef/Ansible/Puppet, Terraform). \\u0417\\u043D\\u0430\\u043D\\u0438\\u0435 \\u0441\\u043A\\u0440\\u0438\\u043F\\u0442\\u043E\\u0432\\u044B\\u0445 \\u044F\\u0437\\u044B\\u043A\\u043E\\u0432 \\u043F\\u0440\\u043E\\u0433\\u0440\\u0430\\u043C\\u043C\\u0438\\u0440\\u043E\\u0432\\u0430\\u043D\\u0438\\u044F (bash, perl, python \\u0438\\u043B\\u0438 ruby); \\u0420\\u0430\\u0437\\u0433\\u043E\\u0432\\u043E\\u0440\\u043D\\u044B\\u0439 \\u0430\\u043D\\u0433\\u043B\\u0438\\u0439\\u0441\\u043A\\u0438\\u0439 (\\u0443\\u0440\\u043E\\u0432\\u0435\\u043D\\u044C Intermediate \\u0438 \\u0432\\u044B\\u0448\\u0435).  \\u041C\\u044B \\u043F\\u0440\\u0435\\u0434\\u043B\\u0430\\u0433\\u0430\\u0435\\u043C:   \\u0420\\u0430\\u0431\\u043E\\u0442\\u0443 \\u0432 \\u043E\\u0434\\u043D\\u043E\\u0439 \\u0438\\u0437 \\u0447\\u0435\\u0442\\u044B\\u0440\\u0451\\u0445 \\u043A\\u0440\\u0443\\u043F\\u043D\\u0435\\u0439\\u0448\\u0438\\u0445 \\u0418\\u0422-\\u043A\\u043E\\u043C\\u043F\\u0430\\u043D\\u0438\\u0439 \\u0411\\u0435\\u043B\\u0430\\u0440\\u0443\\u0441\\u0438   \\u041F\\u0440\\u043E\\u0435\\u043A\\u0442\\u044B \\u0441 \\u0442\\u0430\\u043A\\u0438\\u043C\\u0438 \\u0437\\u0430\\u043A\\u0430\\u0437\\u0447\\u0438\\u043A\\u0430\\u043C\\u0438, \\u043A\\u0430\\u043A Xerox, Philips, adidas, Wargaming \\u0438 Toyota   \\u041A\\u043E\\u043D\\u043A\\u0443\\u0440\\u0435\\u043D\\u0442\\u043D\\u0443\\u044E \\u0437\\u0430\\u0440\\u043F\\u043B\\u0430\\u0442\\u0443, \\u0440\\u0430\\u0441\\u0442\\u0443\\u0449\\u0443\\u044E \\u0441 \\u043F\\u043E\\u0432\\u044B\\u0448\\u0435\\u043D\\u0438\\u0435\\u043C \\u043A\\u0432\\u0430\\u043B\\u0438\\u0444\\u0438\\u043A\\u0430\\u0446\\u0438\\u0438   \\u0421\\u0438\\u0441\\u0442\\u0435\\u043C\\u0443 \\u043A\\u0430\\u0440\\u044C\\u0435\\u0440\\u043D\\u043E\\u0433\\u043E \\u0440\\u043E\\u0441\\u0442\\u0430 \\u0441 \\u0447\\u0435\\u0442\\u043A\\u0438\\u043C\\u0438 \\u0442\\u0440\\u0435\\u0431\\u043E\\u0432\\u0430\\u043D\\u0438\\u044F\\u043C\\u0438 \\u043A \\u043A\\u0430\\u0436\\u0434\\u043E\\u043C\\u0443 \\u0443\\u0440\\u043E\\u0432\\u043D\\u044E \\u043A\\u0432\\u0430\\u043B\\u0438\\u0444\\u0438\\u043A\\u0430\\u0446\\u0438\\u0438   \\u0413\\u0438\\u0431\\u043A\\u0438\\u0439 \\u0433\\u0440\\u0430\\u0444\\u0438\\u043A \\u0440\\u0430\\u0431\\u043E\\u0442\\u044B   \\u041E\\u0444\\u0438\\u0441\\u044B \\u0432 \\u0446\\u0435\\u043D\\u0442\\u0440\\u0435 \\u0433\\u043E\\u0440\\u043E\\u0434\\u0430   \\u041A\\u043E\\u0440\\u043F\\u043E\\u0440\\u0430\\u0442\\u0438\\u0432\\u043D\\u0443\\u044E \\u0434\\u0438\\u0441\\u043A\\u043E\\u043D\\u0442\\u043D\\u0443\\u044E \\u043A\\u0430\\u0440\\u0442\\u0443 \\u0441\\u043E \\u0441\\u043A\\u0438\\u0434\\u043A\\u0430\\u043C\\u0438 \\u043D\\u0430 \\u043E\\u0431\\u0443\\u0447\\u0435\\u043D\\u0438\\u0435, \\u0440\\u0430\\u0437\\u0432\\u043B\\u0435\\u0447\\u0435\\u043D\\u0438\\u044F, \\u0441\\u0442\\u0440\\u0430\\u0445\\u043E\\u0432\\u0430\\u043D\\u0438\\u0435, \\u0434\\u0435\\u0442\\u0441\\u043A\\u0438\\u0439 \\u043E\\u0442\\u0434\\u044B\\u0445, \\u0434\\u043E\\u0441\\u0442\\u0430\\u0432\\u043A\\u0443 \\u0435\\u0434\\u044B \\u0438 \\u043C\\u043D\\u043E\\u0433\\u043E\\u0435 \\u0434\\u0440\\u0443\\u0433\\u043E\\u0435   \\u041A\\u0443\\u0440\\u0441\\u044B \\u0430\\u043D\\u0433\\u043B\\u0438\\u0439\\u0441\\u043A\\u043E\\u0433\\u043E \\u0432 \\u043E\\u0444\\u0438\\u0441\\u0435   \\u041A\\u043E\\u0440\\u043F\\u043E\\u0440\\u0430\\u0442\\u0438\\u0432\\u043D\\u044B\\u0435 \\u043F\\u0440\\u0430\\u0437\\u0434\\u043D\\u0438\\u043A\\u0438 \\u0438 \\u0442\\u0435\\u043C\\u0430\\u0442\\u0438\\u0447\\u0435\\u0441\\u043A\\u0438\\u0435 \\u0432\\u0435\\u0447\\u0435\\u0440\\u0438\\u043D\\u043A\\u0438 \\u0434\\u043B\\u044F \\u0441\\u043E\\u0442\\u0440\\u0443\\u0434\\u043D\\u0438\\u043A\\u043E\\u0432 \\u0438 \\u0438\\u0445 \\u0434\\u0435\\u0442\\u0435\\u0439   \\u0420\\u0435\\u0433\\u0443\\u043B\\u044F\\u0440\\u043D\\u044B\\u0435 \\u043A\\u043E\\u043D\\u0444\\u0435\\u0440\\u0435\\u043D\\u0446\\u0438\\u0438 \\u0438 \\u043C\\u0430\\u0441\\u0442\\u0435\\u0440-\\u043A\\u043B\\u0430\\u0441\\u0441\\u044B \\u0434\\u043B\\u044F \\u043E\\u0431\\u0443\\u0447\\u0435\\u043D\\u0438\\u044F \\u0438 \\u043E\\u0431\\u043C\\u0435\\u043D\\u0430 \\u043E\\u043F\\u044B\\u0442\\u043E\\u043C   \\u041A\\u043E\\u043C\\u043F\\u0435\\u043D\\u0441\\u0430\\u0446\\u0438\\u044E \\u0441\\u043F\\u043E\\u0440\\u0442\\u0438\\u0432\\u043D\\u044B\\u0445 \\u0430\\u0431\\u043E\\u043D\\u0435\\u043C\\u0435\\u043D\\u0442\\u043E\\u0432, \\u043A\\u043E\\u0440\\u043F\\u043E\\u0440\\u0430\\u0442\\u0438\\u0432\\u043D\\u044B\\u0435 \\u0441\\u043F\\u043E\\u0440\\u0442\\u0438\\u0432\\u043D\\u044B\\u0435 (\\u0432 \\u0442\\u043E\\u043C \\u0447\\u0438\\u0441\\u043B\\u0435 \\u0438 \\u043A\\u0438\\u0431\\u0435\\u0440-\\u0441\\u043F\\u043E\\u0440\\u0442\\u0438\\u0432\\u043D\\u044B\\u0435) \\u0441\\u043E\\u0440\\u0435\\u0432\\u043D\\u043E\\u0432\\u0430\\u043D\\u0438\\u044F, \\u043A\\u043E\\u0440\\u043F\\u043E\\u0440\\u0430\\u0442\\u0438\\u0432\\u043D\\u044B\\u0435 \\u043A\\u043E\\u043C\\u0430\\u043D\\u0434\\u044B \\u043F\\u043E \\u0444\\u0443\\u0442\\u0431\\u043E\\u043B\\u0443, \\u0431\\u0430\\u0441\\u043A\\u0435\\u0442\\u0431\\u043E\\u043B\\u0443 \\u0438 \\u0432\\u043E\\u043B\\u0435\\u0439\\u0431\\u043E\\u043B\\u0443   5 \\u0434\\u043D\\u0435\\u0439 \\u043E\\u043F\\u043B\\u0430\\u0447\\u0438\\u0432\\u0430\\u0435\\u043C\\u043E\\u0433\\u043E \\u0431\\u043E\\u043B\\u044C\\u043D\\u0438\\u0447\\u043D\\u043E\\u0433\\u043E \\u0432 \\u0433\\u043E\\u0434 \\u0431\\u0435\\u0437 \\u0441\\u043F\\u0440\\u0430\\u0432\\u043E\\u043A     \\u0415\\u0441\\u043B\\u0438 \\u0443\\u0432\\u0435\\u0440\\u0435\\u043D\\u044B, \\u0447\\u0442\\u043E \\u0412\\u0430\\u043C \\u044D\\u0442\\u043E \\u043F\\u043E \\u0441\\u0438\\u043B\\u0430\\u043C \\u0438\\u043B\\u0438 \\u0432\\u0441\\u0435\\u0433\\u0434\\u0430 \\u0445\\u043E\\u0442\\u0435\\u043B\\u0438 \\u043F\\u043E\\u043F\\u0440\\u043E\\u0431\\u043E\\u0432\\u0430\\u0442\\u044C \\u2014 \\u0431\\u0443\\u0434\\u0435\\u043C \\u0440\\u0430\\u0434\\u044B \\u043F\\u043E\\u0431\\u0435\\u0441\\u0435\\u0434\\u043E\\u0432\\u0430\\u0442\\u044C.\" <https://jobs.tut.by/vacancy/33653532 does not look like a valid URI, trying to serialize this will break.\n",
      "https://www.municipiosefreguesias.pt/oferta-de-emprego/651/assistentes-de-call-center--m/f----full-time-12h-21h---coimbra-sl//oferta-de-emprego/581/service-desk-agent---deutsch/english--w/m/d--|-fujitsu-portugal-gdc-sl does not look like a valid URI, trying to serialize this will break.\n",
      "https://www.municipiosefreguesias.pt/oferta-de-emprego/651/assistentes-de-call-center--m/f----full-time-12h-21h---coimbra-sl//oferta-de-emprego/581/service-desk-agent---deutsch/english--w/m/d--|-fujitsu-portugal-gdc-sl does not look like a valid URI, trying to serialize this will break.\n",
      " 1 Jahr\\n                                                    \"@de <https://www.hogastjob.com/job/waldhof-fuschl-see/chef-de-rang-m-w/37545 does not look like a valid URI, trying to serialize this will break.\n",
      "1 n\\u0103m, 1-2 n\\u0103m        \" <https://thue.today/tuyen-dung/phu-bep.3304 does not look like a valid URI, trying to serialize this will break.\n",
      "5% of the timeValid, unexpired driver's license with a good driving record requiredAdditional Preferred Skills:Experience providing customer service, dispatch, quoting, or project management in the landscaping, snow removal and other exterior building maintenance  service spend categoriesAdditional knowledge in multiple building trades is beneficialBachelor's degree or equivalent experienceSenior Living background or experienceAble to use systems and technology to multi-task, manage time and create efficienciesProven ability to work in a team centered, collaborative environmentCompetencies:ApproachabilityCustomer FocusPeer RelationshipsIntegrity and TrustFunctional / Technical SkillsPriority SettingPersonal LearningDrive for ResultsConflict ManagementDealing with ParadoxWritten CommunicationLearning on the Fly  Job Number: 00C0FSchedule: Full-timePrimary Location: WI-Milwaukee  Direct Supply is an equal opportunity and affirmative action employer committed to a diverse workforce.\"@en <http://www.jobsinmodesto.com/job/detail/38967775/Building-Services-Consultant does not look like a valid URI, trying to serialize this will break.\n"
     ]
    },
    {
     "name": "stderr",
     "output_type": "stream",
     "text": [
      "25%\\n\\n\\nKnowledge, Skills and Abilities:  \\n\\n\\nProficiency in Microsoft Excel\\nAbility to interface professionally with the client and provide expertise as needed\\nStrong oral/written communication skills\\nKnowledge of Navy ERP\\n\\n\\nPhysical Demands:  (The physical demands described here are representative of those that must be met by an employee to successfully perform the essential functions of this job. Reasonable accommodations may be made to enable individuals with disabilities to perform the essential functions.)\\n\\n\\nWhile performing the duties of this Job, the employee is regularly required to sit and talk or hear. The employee is frequently required to walk; use hands to finger, handle, or feel and reach with hands and arms. The employee is occasionally required to stand; climb or balance and stoop, kneel, crouch, or crawl. The employee must occasionally lift and/or move up to 25 pounds. Specific vision abilities required by this job include close vision.\\n\\n\\nWork Environment:  (The work environment characteristics described here are representative of those an employee encounters while performing the essential functions of this job.)\\n\\n\\nThe employee will normally work in a temperature-controlled office environment, with frequent exposure to electronic office equipment.\\nDuring visits to areas of operations, may be exposed to extreme cold or hot weather conditions. Is occasionally exposed to fumes or airborne particles, toxic or caustic chemicals, and loud noise.\\n\\n\\nChenega Corporation and family of companies is an EOE.  \\n\\nEqual Opportunity Employer/Veterans/Disabled \\n\\nNative preference under PL 93-638. \\n\\nWe participate in the E-Verify Employment Verification Program.\\n\\nPrimary Location:  United States-District of Columbia-Washington DC\\n\\nOrganization:  Ajanta Consulting \\nStrategic Business Unit:  Environmental Healthcare and Facilities \\nSecurity Requirements:  Secret \\nJob Schedule:  Full Time Exempt \\nRecruiter:  Cathleen Stewart \\nReq ID:  1900004353\\n\\n            \\n            \\n            \\n            \\n            \\n            \\n            \\n            \\n        \"@en <https://careers.gijobs.com/washington-dc-dc/financial-improvement-audit-readiness-fiar-analyst/08E8EA81AB14482DBEFB03D55A8E1A7E/job/ does not look like a valid URI, trying to serialize this will break.\n",
      " 1 Jahr\\n                                                    \"@de <https://www.hogastjob.com/job/almesberger-wellnesshotel-aigen/restaurantfachmann-m-w/15733 does not look like a valid URI, trying to serialize this will break.\n",
      "5%).\\n\\n\\nPreferred qualifications: \\n\\n\\nAerospace industry experience.\\nAircraft-related industry standards for systems and/or software development.\\nAGILE development experience.\\nChange Management processes and tools\\nKey skills for success:\\nDemonstrated time management skills - ability to work unsupervised, multi-task, and coordinate work.\\nAbility to effectively coach others.\\nEffective communication (written, verbal, and interpersonal).\\n\\n\\nAt Collins, the paths we pave together lead to limitless possibility. And the bonds we form \\u2013 with our customers and with each other -- propel us all higher, again and again.\\n\\nSome of our competitive benefits package includes:\\n\\n\\u2022 Medical, dental, and vision insurance\\n\\n\\u2022 Three weeks of vacation for newly hired employees\\n\\n\\u2022 Generous 401(k) plan that includes employer matching funds and separate employer retirement contribution\\n\\n\\u2022 Tuition reimbursement\\n\\n\\u2022 Life insurance and disability coverage\\n\\n\\u2022 And more\\n\\nApply now and be part of the team that\\u2019s redefining aerospace, every day.\\n\\nUnited Technologies Corporation is An Equal   Opportunity/Affirmative   Action Employer. All qualified applicants will receive consideration for employment without regard to race, color, religion, sex, sexual orientation, gender identity, national origin, disability or veteran status, age or any other federally protected class. \\n\\nPrivacy Policy and Terms: \\n\\nClick on this  link  to read the Policy and Terms\\n\\nQualification:\\n\\nUnited Technologies Corporation is an Equal Opportunity/Affirmative Action Employer. All qualified applicants will receive consideration for employment without regard to race, color, religion, sex, sexual orientation, gender identity, national origin, disability or veteran status, age, or any other federally protected class.\\n\\nThank you for your interest in a career at United Technologies! We will soon upgrade to an improved job application system to simplify the apply experience. You will still be able to apply to any of our current job openings through December 18, 2018. On January 2, 2019, our new and improved job application system will launch; please check back on that date to see all of our job openings.\\n\\n            \\n            \\n            \\n            \\n            \\n            \\n            \\n            \\n        \"@en <https://utc-disability.jobs/cedar-rapids-ia/staff-systems-engineer-military-avionics-agile-development/FFE21E7681974174BB7809E852CB93A1/job/?vs=28 does not look like a valid URI, trying to serialize this will break.\n",
      "1 n\\u0103m        \" <https://thue.today/tuyen-dung/nhan-vien-phu-bep.1025 does not look like a valid URI, trying to serialize this will break.\n",
      "https://www.municipiosefreguesias.pt/oferta-de-emprego/19/estudos-cliente-misterio---distrito-de-braganca-sl//oferta-de-emprego/580/agent-de-centre-d-assistance-francais--m/f--|-gdc-fujitsu-portugal-sl does not look like a valid URI, trying to serialize this will break.\n",
      "https://www.municipiosefreguesias.pt/oferta-de-emprego/19/estudos-cliente-misterio---distrito-de-braganca-sl//oferta-de-emprego/580/agent-de-centre-d-assistance-francais--m/f--|-gdc-fujitsu-portugal-sl does not look like a valid URI, trying to serialize this will break.\n",
      " 1 Jahr\\n                                                    \"@de <https://www.hogastjob.com/job/almhof-nauders-reschenpass/barkeeper-m-w/42247 does not look like a valid URI, trying to serialize this will break.\n",
      "https://www.municipiosefreguesias.pt/oferta-de-emprego/186/web-designer-e-multimedia--m/f--sl//oferta-de-emprego/580/agent-de-centre-d-assistance-francais--m/f--|-gdc-fujitsu-portugal-sl does not look like a valid URI, trying to serialize this will break.\n",
      "https://www.municipiosefreguesias.pt/oferta-de-emprego/186/web-designer-e-multimedia--m/f--sl//oferta-de-emprego/580/agent-de-centre-d-assistance-francais--m/f--|-gdc-fujitsu-portugal-sl does not look like a valid URI, trying to serialize this will break.\n",
      " 1 Jahr\\n                                                    \"@de <https://www.hogastjob.com/job/almesberger-wellnesshotel-aigen/restaurantleiter-stellvertreter-m-w/41984 does not look like a valid URI, trying to serialize this will break.\n",
      " 1 Jahr\\n                                                    \"@de <https://www.hogastjob.com/job/waldhof-fuschl-see/chef-de-partie/29011 does not look like a valid URI, trying to serialize this will break.\n",
      "http://chart.apis.google.com/chart?chs=155x155&cht=qr&chl=http%3A%2F%2Fwww%2Eemprega%2Einfo%2FVA%2D93231%2Demprego%2Dde%2DScrum%2DMaster%2Dem%2DCampinas%2DSP&chld=|0 does not look like a valid URI, trying to serialize this will break.\n",
      "1 n\\u0103m        \" <https://thue.today/tuyen-dung/tuyen-2-ke-toan-lam-viec-tai-nha-may-duc-hoa-long-an.4076 does not look like a valid URI, trying to serialize this will break.\n",
      " 1 Jahr\\n                                                    \"@de <https://www.hogastjob.com/job/interalpen-tyrol-telfs-buchen/commis-de-bar-m-w/35842 does not look like a valid URI, trying to serialize this will break.\n",
      "http://chart.apis.google.com/chart?chs=155x155&cht=qr&chl=http%3A%2F%2Fwww%2Eemprega%2Einfo%2FVA%2D93235%2Demprego%2Dde%2DT%E9cnico%2Dem%2DOpera%E7%F5es%2D%96%2DAn%E1polis%2FGO%2Dem%2DAnapolis%2DGO&chld=|0 does not look like a valid URI, trying to serialize this will break.\n",
      "http://chart.apis.google.com/chart?chs=155x155&cht=qr&chl=http%3A%2F%2Fwww%2Eemprega%2Einfo&chld=|0 does not look like a valid URI, trying to serialize this will break.\n",
      " 1 Jahr\\n                                                    \"@de <https://www.hogastjob.com/job/zimba-brand/chef-de-partie/42521 does not look like a valid URI, trying to serialize this will break.\n"
     ]
    },
    {
     "name": "stderr",
     "output_type": "stream",
     "text": [
      "http://chart.apis.google.com/chart?chs=155x155&cht=qr&chl=http%3A%2F%2Fwww%2Eemprega%2Einfo%2FVA%2D93237%2Demprego%2Dde%2DDesenvolvedor%2DC%2Dem%2DCampinas%2DSP&chld=|0 does not look like a valid URI, trying to serialize this will break.\n",
      "1 n\\u0103m, 1-2 n\\u0103m, 2-3 n\\u0103m, 3-5 n\\u0103m, 5-7 n\\u0103m, 7+ n\\u0103m        \" <https://thue.today/tuyen-dung/tap-doan-365.4623 does not look like a valid URI, trying to serialize this will break.\n",
      "1 n\\u0103m        \" <https://thue.today/tuyen-dung/gap-phuc-vu-nam-ca-toi-ca-xoay-nh-mon-au-quan-1.1661 does not look like a valid URI, trying to serialize this will break.\n",
      "http://chart.apis.google.com/chart?chs=155x155&cht=qr&chl=http%3A%2F%2Fwww%2Eemprega%2Einfo%2FVA%2D93236%2Demprego%2Dde%2DProgramador%2Dem%2DPorto%2DAlegre%2DRS&chld=|0 does not look like a valid URI, trying to serialize this will break.\n",
      " 25%  \"@en <https://it.careercast.com/jobs/sr-data-scientist-batteries-cupertino-ca-115603893-d does not look like a valid URI, trying to serialize this will break.\n",
      "1 n\\u0103m        \" <https://thue.today/tuyen-dung/nhan-vien-kinh-doanh.4196 does not look like a valid URI, trying to serialize this will break.\n",
      " 1 Jahr\\n                                                    \"@de <https://www.hogastjob.com/job/laudersbach-altenmarkt/chef-tournant/39409 does not look like a valid URI, trying to serialize this will break.\n",
      " 1 Jahr\\n                                                    \"@de <https://www.hogastjob.com/job/larmach-alm-gerlos/koch/26030 does not look like a valid URI, trying to serialize this will break.\n",
      "3 \\n\"@en <https://va.workhands.us/jobs/statistician-data-scientist-28-02-01-18-2019-ca33add3 does not look like a valid URI, trying to serialize this will break.\n",
      "http://chart.apis.google.com/chart?chs=155x155&cht=qr&chl=http%3A%2F%2Fwww%2Eemprega%2Einfo%2Fempregos%2Dem%2DCampinas%2DSP&chld=|0 does not look like a valid URI, trying to serialize this will break.\n",
      "https://www.flexibleworks.co.uk/homepage.php?employerid=16&company=Citizen\\ does not look like a valid URI, trying to serialize this will break.\n",
      "https://www.hipo.ro/locuri-de-munca/cautajob/Toate-Domeniile/Toate-Orasele/Secretara-/-https:/cmjeler.ro//locuri-de-munca/vizualizareFirma/30/Digi-|-RCS--RDS does not look like a valid URI, trying to serialize this will break.\n",
      "https://www.hipo.ro/locuri-de-munca/cautajob/Toate-Domeniile/Toate-Orasele/Secretara-/-https:/cmjeler.ro//locuri-de-munca/locuri_de_munca/133775/Digi-|-RCS--RDS/Secretara does not look like a valid URI, trying to serialize this will break.\n",
      "5% of the timeWork HoursThis position requires the incumbent to work during core business hours\\u00A0\" <https://jobs.smartrecruiters.com/Visa/743999695557830-business-operations-analyst?trid=7d1dcdfa-96a8-4e55-bb9c-0db211f5a9b3 does not look like a valid URI, trying to serialize this will break.\n",
      "5% of the timeWork HoursThis position requires the incumbent to work during core business hours\\u00A0\" <https://jobs.smartrecruiters.com/Visa/743999695557830-business-operations-analyst?trid=7d1dcdfa-96a8-4e55-bb9c-0db211f5a9b3 does not look like a valid URI, trying to serialize this will break.\n",
      "3 years engineering or valuation experience. The successful candidate will demonstrate the following skills and personal traits:   Bachelor\\u2019s Degree in Engineering \\u2013 preferably Civil or Mechanical or equivalent degree suitable to valuations;  Experience in an asset management or cost estimating role would be highly desirable;  Motivated self-starter;  Open to learning;  Ability to be both self-sufficient and work as part of a team;  Professional presentation;  Client focused;   Exceptional communication  skills \\u2013 both written and verbal;  Willing to travel both inter and intra state;  Strong attention to detail; and  Advanced computer competency, in particular MS Outlook, MS Word, MS Excel      About Marsh    Marsh is a global leader in insurance broking and risk management. Marsh helps clients succeed by defining, designing, and delivering innovative industry-specific solutions that help them effectively manage risk. Marsh\\u2019s approximately 30,000 colleagues work together to serve clients in more than 130 countries. Marsh is a wholly owned subsidiary of  Marsh & McLennan Companies  (NYSE: MMC), a global professional services firm offering clients advice and solutions in the areas of risk, strategy, and people.     How to apply    Please send your resume and cover letter to Harveen Bhinder by using the link provided.     Applications will only be accepted from candidates who have the appropriate approval to work in Australia. Successful applicants will be required to complete Criminal Record check prior to commencement of employment.        Marsh is an equal opportunity employer committed to embracing a diverse and inclusive work environment. We aim to attract and retain the best people regardless of their gender, marital/parental status, ethnic origin, nationality, age, background, disability, sexual orientation and gender identity.      Marsh & McLennan Companies and its Affiliates are EOE Minority/Female/Disability/Vet/Sexual Orientation/Gender Identity employers.   R071411-en R071411\\n\\n            \\n            \\n            \\n            \\n            \\n            \\n            \\n            \\n        \"@en <https://careers.gijobs.com/sydney-aus/valuation-consultant/99F6994B3DB0467AA6317BDAF5B22FD6/job/ does not look like a valid URI, trying to serialize this will break.\n",
      "https://www.hipo.ro/locuri-de-munca/cautajob/Toate-Domeniile/Toate-Orasele/Technical-Customer-Support-//locuri-de-munca/locuri_de_munca/136857/DK-Global-Recruitment/Customer-Support-Analyst-needed-in-Cluj-|-Spanish-speakers-apply-today!-[AL1785] does not look like a valid URI, trying to serialize this will break.\n",
      "https://www.hipo.ro/locuri-de-munca/cautajob/Toate-Domeniile/Toate-Orasele/Technical-Customer-Support-//locuri-de-munca/locuri_de_munca/136856/DK-Global-Recruitment/Customer-Support-Analyst-needed-in-Cluj-|-German-speakers-apply-today!-[AL1648] does not look like a valid URI, trying to serialize this will break.\n",
      "https://www.hipo.ro/locuri-de-munca/cautajob/Toate-Domeniile/Toate-Orasele/Technical-Customer-Support-//locuri-de-munca/locuri_de_munca/136855/DK-Global-Recruitment/Customer-Support-Analyst-needed-in-Cluj-|-French-speakers-apply-today!-[AL9485] does not look like a valid URI, trying to serialize this will break.\n",
      "5% of the timeWork HoursThis position requires the incumbent to work during core business hours\\u00A0\" <https://jobs.smartrecruiters.com/Visa/743999695557830-business-operations-analyst?trid=162ef3c2-cdcc-47a9-8327-c69d95269302 does not look like a valid URI, trying to serialize this will break.\n",
      "5% of the timeWork HoursThis position requires the incumbent to work during core business hours\\u00A0\" <https://jobs.smartrecruiters.com/Visa/743999695557830-business-operations-analyst?trid=162ef3c2-cdcc-47a9-8327-c69d95269302 does not look like a valid URI, trying to serialize this will break.\n",
      "https://www.hipo.ro/locuri-de-munca/cautajob/Toate-Domeniile/Toate-Orasele/Account-manager-Senior//locuri-de-munca/locuri_de_munca/114457/Deloitte-Romania/Tax-Consultant-|-Cluj-Napoca-Office does not look like a valid URI, trying to serialize this will break.\n",
      "1 n\\u0103m        \" <https://thue.today/tuyen-dung/nhan-vien-thu-ngan-ca-hanh-chinhca-toi.5524 does not look like a valid URI, trying to serialize this will break.\n",
      "1 n\\u0103m        \" <https://thue.today/tuyen-dung/phuc-vu.2526 does not look like a valid URI, trying to serialize this will break.\n",
      "1 n\\u0103m        \" <https://thue.today/tuyen-dung/nhan-vien-dieu-hanh-tour-noi-dia.3998 does not look like a valid URI, trying to serialize this will break.\n",
      "1 n\\u0103m        \" <https://thue.today/tuyen-dung/tiep-thuc.3100 does not look like a valid URI, trying to serialize this will break.\n",
      "1 n\\u0103m        \" <https://thue.today/tuyen-dung/tuyen-ke-toan-ban-hang-tai-binh-tan-tphcm-luong-cao-on-dinh.2941 does not look like a valid URI, trying to serialize this will break.\n",
      "3 von M\\u00FCnchenKlingt das Projekt prinzipiell f\\u00FCr Sie interessant?Wir freuen uns auf Ihre R\\u00FCckmeldung!\\n\\n                            \" <https://www.freelancermap.de/projektboerse/projekte/it-infrastructure/1325692-projekt-it-anwendungssupporter-redhat-muenchen.html does not look like a valid URI, trying to serialize this will break.\n"
     ]
    },
    {
     "name": "stderr",
     "output_type": "stream",
     "text": [
      "1 n\\u0103m        \" <https://thue.today/tuyen-dung/nhan-vien-phu-bep-nu-ca-sang-25-40-tuoi.2998 does not look like a valid URI, trying to serialize this will break.\n",
      "https://www.diversitylink.co.uk/homepage.php?employerid=122&company=St-Andrew\\ does not look like a valid URI, trying to serialize this will break.\n",
      "1 n\\u0103m        \" <https://thue.today/tuyen-dung/nhan-vien-xuat-khau-ca-phe-va-ho-tieu.5304 does not look like a valid URI, trying to serialize this will break.\n",
      "https://www.diversitylink.co.uk/homepage.php?employerid=122&company=St-Andrew\\ does not look like a valid URI, trying to serialize this will break.\n",
      "1 n\\u0103m        \" <https://thue.today/tuyen-dung/nhan-vien-pha-che-bartender.3964 does not look like a valid URI, trying to serialize this will break.\n",
      "https://www.diversitylink.co.uk/homepage.php?employerid=122&company=St-Andrew\\ does not look like a valid URI, trying to serialize this will break.\n",
      "https://www.diversitylink.co.uk/homepage.php?employerid=122&company=St-Andrew\\ does not look like a valid URI, trying to serialize this will break.\n",
      "https://www.diversitylink.co.uk/homepage.php?employerid=122&company=St-Andrew\\ does not look like a valid URI, trying to serialize this will break.\n",
      "https://www.diversitylink.co.uk/homepage.php?employerid=122&company=St-Andrew\\ does not look like a valid URI, trying to serialize this will break.\n",
      "https://www.diversitylink.co.uk/homepage.php?employerid=122&company=St-Andrew\\ does not look like a valid URI, trying to serialize this will break.\n",
      "https://www.diversitylink.co.uk/homepage.php?employerid=122&company=St-Andrew\\ does not look like a valid URI, trying to serialize this will break.\n",
      "https://www.diversitylink.co.uk/homepage.php?employerid=122&company=St-Andrew\\ does not look like a valid URI, trying to serialize this will break.\n",
      "https://www.diversitylink.co.uk/homepage.php?employerid=122&company=St-Andrew\\ does not look like a valid URI, trying to serialize this will break.\n",
      "https://www.diversitylink.co.uk/homepage.php?employerid=122&company=St-Andrew\\ does not look like a valid URI, trying to serialize this will break.\n",
      "https://www.diversitylink.co.uk/homepage.php?employerid=122&company=St-Andrew\\ does not look like a valid URI, trying to serialize this will break.\n",
      "https://www.diversitylink.co.uk/homepage.php?employerid=122&company=St-Andrew\\ does not look like a valid URI, trying to serialize this will break.\n",
      "https://www.diversitylink.co.uk/homepage.php?employerid=122&company=St-Andrew\\ does not look like a valid URI, trying to serialize this will break.\n",
      "https://www.diversitylink.co.uk/homepage.php?employerid=122&company=St-Andrew\\ does not look like a valid URI, trying to serialize this will break.\n",
      "https://www.diversitylink.co.uk/homepage.php?employerid=122&company=St-Andrew\\ does not look like a valid URI, trying to serialize this will break.\n",
      "https://www.diversitylink.co.uk/homepage.php?employerid=122&company=St-Andrew\\ does not look like a valid URI, trying to serialize this will break.\n",
      "https://www.diversitylink.co.uk/homepage.php?employerid=122&company=St-Andrew\\ does not look like a valid URI, trying to serialize this will break.\n",
      "https://www.diversitylink.co.uk/homepage.php?employerid=122&company=St-Andrew\\ does not look like a valid URI, trying to serialize this will break.\n",
      "https://www.diversitylink.co.uk/homepage.php?employerid=122&company=St-Andrew\\ does not look like a valid URI, trying to serialize this will break.\n",
      "https://www.diversitylink.co.uk/homepage.php?employerid=122&company=St-Andrew\\ does not look like a valid URI, trying to serialize this will break.\n",
      "https://www.diversitylink.co.uk/homepage.php?employerid=122&company=St-Andrew\\ does not look like a valid URI, trying to serialize this will break.\n",
      "https://www.diversitylink.co.uk/homepage.php?employerid=122&company=St-Andrew\\ does not look like a valid URI, trying to serialize this will break.\n",
      "https://www.diversitylink.co.uk/homepage.php?employerid=122&company=St-Andrew\\ does not look like a valid URI, trying to serialize this will break.\n",
      "https://www.diversitylink.co.uk/homepage.php?employerid=122&company=St-Andrew\\ does not look like a valid URI, trying to serialize this will break.\n",
      "https://www.diversitylink.co.uk/homepage.php?employerid=122&company=St-Andrew\\ does not look like a valid URI, trying to serialize this will break.\n",
      "https://www.diversitylink.co.uk/homepage.php?employerid=122&company=St-Andrew\\ does not look like a valid URI, trying to serialize this will break.\n",
      "https://www.diversitylink.co.uk/homepage.php?employerid=122&company=St-Andrew\\ does not look like a valid URI, trying to serialize this will break.\n",
      "https://www.diversitylink.co.uk/homepage.php?employerid=122&company=St-Andrew\\ does not look like a valid URI, trying to serialize this will break.\n",
      "https://www.diversitylink.co.uk/homepage.php?employerid=122&company=St-Andrew\\ does not look like a valid URI, trying to serialize this will break.\n",
      "https://www.diversitylink.co.uk/homepage.php?employerid=122&company=St-Andrew\\ does not look like a valid URI, trying to serialize this will break.\n",
      "https://www.diversitylink.co.uk/homepage.php?employerid=122&company=St-Andrew\\ does not look like a valid URI, trying to serialize this will break.\n",
      "https://www.diversitylink.co.uk/homepage.php?employerid=122&company=St-Andrew\\ does not look like a valid URI, trying to serialize this will break.\n",
      "https://www.diversitylink.co.uk/homepage.php?employerid=122&company=St-Andrew\\ does not look like a valid URI, trying to serialize this will break.\n",
      "https://www.diversitylink.co.uk/homepage.php?employerid=122&company=St-Andrew\\ does not look like a valid URI, trying to serialize this will break.\n",
      "https://www.diversitylink.co.uk/homepage.php?employerid=122&company=St-Andrew\\ does not look like a valid URI, trying to serialize this will break.\n",
      "https://www.diversitylink.co.uk/homepage.php?employerid=122&company=St-Andrew\\ does not look like a valid URI, trying to serialize this will break.\n",
      "3 \\u0412\\u044B\\u043F\\u043E\\u043B\\u043D\\u0435\\u043D\\u043E \\u0431\\u043E\\u043B\\u0435\\u0435...\" <https://grubber.ru/rostov-na-donu/project-manager does not look like a valid URI, trying to serialize this will break.\n",
      "https://www.diversitylink.co.uk/homepage.php?employerid=122&company=St-Andrew\\ does not look like a valid URI, trying to serialize this will break.\n",
      "https://www.diversitylink.co.uk/homepage.php?employerid=122&company=St-Andrew\\ does not look like a valid URI, trying to serialize this will break.\n",
      "https://www.diversitylink.co.uk/homepage.php?employerid=122&company=St-Andrew\\ does not look like a valid URI, trying to serialize this will break.\n",
      "https://www.diversitylink.co.uk/homepage.php?employerid=122&company=St-Andrew\\ does not look like a valid URI, trying to serialize this will break.\n",
      "3\\n\\nOferecemos informa\\u00E7\\u00E3o, jornalismo, cultura, educa\\u00E7\\u00E3o, entretenimento, m\\u00FAsica, esporte, cinema e as grandes produ\\u00E7\\u00F5es do audiovisual brasileiro e mundial. Tudo isso dispon\\u00EDvel em diferentes plataformas.\\n\\n\\u00A0\\n\\nNossas marcas s\\u00E3o premiadas e s\\u00E3o not\\u00EDcia nos meios de comunica\\u00E7\\u00E3o mais respeitados do Brasil! Dentre elas: GNT, Sportv, Multishow, Viva, Canal OFF, Gloob e muitas outras!\\n                \\n    \"@pt-BR <https://carreiras.globosat.com.br/job/Rio-de-Janeiro-Banco-de-Talentos-Destinado-%C3%A0-Pessoas-com-Defici%C3%AAncia-RJ-e-SP/543066800/ does not look like a valid URI, trying to serialize this will break.\n",
      "https://www.diversitylink.co.uk/homepage.php?employerid=122&company=St-Andrew\\ does not look like a valid URI, trying to serialize this will break.\n",
      "https://www.diversitylink.co.uk/homepage.php?employerid=122&company=St-Andrew\\ does not look like a valid URI, trying to serialize this will break.\n",
      "https://www.diversitylink.co.uk/homepage.php?employerid=122&company=St-Andrew\\ does not look like a valid URI, trying to serialize this will break.\n",
      "https://www.diversitylink.co.uk/homepage.php?employerid=122&company=St-Andrew\\ does not look like a valid URI, trying to serialize this will break.\n",
      "5%\\u00A0Visa will consider for employment qualified applicants with criminal histories in a manner consistent with EEOC guidelines and applicable local law.Visa is an EEO Employer.\\u00A0 Qualified applicants will receive consideration for employment without regard to race, color, religion, sex, national origin, sexual orientation, gender identity, disability or protected veteran status.\\u00A0 Visa will also consider for employment qualified applicants with criminal histories in a manner consistent with EEOC guidelines and applicable local law.\" <https://www.smartrecruiters.com/Visa/743999698677319-workday-integration-developer-sr-software-engineer does not look like a valid URI, trying to serialize this will break.\n"
     ]
    },
    {
     "name": "stderr",
     "output_type": "stream",
     "text": [
      "5%\\u00A0Visa will consider for employment qualified applicants with criminal histories in a manner consistent with EEOC guidelines and applicable local law.Visa is an EEO Employer.\\u00A0 Qualified applicants will receive consideration for employment without regard to race, color, religion, sex, national origin, sexual orientation, gender identity, disability or protected veteran status.\\u00A0 Visa will also consider for employment qualified applicants with criminal histories in a manner consistent with EEOC guidelines and applicable local law.\" <https://www.smartrecruiters.com/Visa/743999698677319-workday-integration-developer-sr-software-engineer does not look like a valid URI, trying to serialize this will break.\n",
      "5% of the timeWork HoursIncumbent must make themselves available occasionally to support teams in our US and Asia Pacific offices.\\u00A0Think you have what it takes? If you are interested in a career that will challenge and inspire you \\u2013 we\\u2019d love to hear from you!\\u00A0\" <https://www.smartrecruiters.com/Visa/743999698275467-pmo-lead-level-6 does not look like a valid URI, trying to serialize this will break.\n",
      "5% of the timeWork HoursIncumbent must make themselves available occasionally to support teams in our US and Asia Pacific offices.\\u00A0Think you have what it takes? If you are interested in a career that will challenge and inspire you \\u2013 we\\u2019d love to hear from you!\\u00A0Additional InformationDiversity & Inclusion Universal acceptance for everyone, everywhere, is not only our brand promise, it\\u2019s the foundation of our company culture. We foster a feeling of connectedness in the workplace, support diversity of thought, culture and background, fight for important initiatives like Equal Pay and actively work to eliminate unconscious biases that hold us all back.By leveraging the diverse backgrounds and perspectives of our worldwide teams, Visa is a better place to work and a better business partner to our clients.\" <https://www.smartrecruiters.com/Visa/743999698275467-pmo-lead-level-6 does not look like a valid URI, trying to serialize this will break.\n",
      " 3 x EBE (non retrait\\u00E9).L'auxiliaire pharmaceutique, plus de d\\u00E9tail sur :www.auxi-pharma.com/annonces/detail/12088\" <https://www.lemoniteurdespharmacies.fr/transaction/espace-acheteurs/lire-les-annonces/vente-30912088.html does not look like a valid URI, trying to serialize this will break.\n",
      "5% travelWork HoursThis position will require the incumbent to work during core business hoursAll your information will be kept confidential according to EEO guidelines.\\u00A0\\u00A0\\u00A0\" <https://www.smartrecruiters.com/Visa/743999699014838-sr-program-manager-legal,-risk-and-compliance-technology does not look like a valid URI, trying to serialize this will break.\n",
      "5% travelWork HoursThis position will require the incumbent to work during core business hoursAll your information will be kept confidential according to EEO guidelines.\\u00A0\\u00A0\\u00A0\" <https://www.smartrecruiters.com/Visa/743999699014838-sr-program-manager-legal,-risk-and-compliance-technology does not look like a valid URI, trying to serialize this will break.\n",
      "1 n\\u0103m        \" <https://thue.today/tuyen-dung/nhan-vien-marketing-online.6123?utm_source=thue.today.article&utm_media=noi-quy-cho-nhan-vien-trong-khach-san&utm_campain=thue.today.article does not look like a valid URI, trying to serialize this will break.\n",
      "1 n\\u0103m        \" <https://thue.today/tuyen-dung/nhan-vien-nhac-han-thanh-toan-qua-dien-thoai.6122?utm_source=thue.today.article&utm_media=truoc-khi-mo-mot-khach-san-dung-quen-ban-can-khach-hang&utm_campain=thue.today.article does not look like a valid URI, trying to serialize this will break.\n",
      "10% of the time.Physical RequirementsThis position will be performed in an office setting.\\u00A0 The position will require the incumbent to sit and stand at a desk, communicate in person and by telephone, frequently operate standard office equipment, such as telephones and computers, reach with hands and arms, and bend or lift up to 25 pounds.\\u00A0\\u00A0Visa is an EEO Employer.\\u00A0 Qualified applicants will receive consideration for employment without regard to race, color, religion, sex, national origin, sexual orientation, gender identity, disability or protected veteran status.\\u00A0 Visa will also consider for employment qualified applicants with criminal histories in a manner consistent with EEOC guidelines and applicable local law.\" <https://www.smartrecruiters.com/Visa/743999698385713-junior-project-manager-scrum-master-client-services does not look like a valid URI, trying to serialize this will break.\n",
      "10% of the time.Physical RequirementsThis position will be performed in an office setting.\\u00A0 The position will require the incumbent to sit and stand at a desk, communicate in person and by telephone, frequently operate standard office equipment, such as telephones and computers, reach with hands and arms, and bend or lift up to 25 pounds.\\u00A0\\u00A0Visa is an EEO Employer.\\u00A0 Qualified applicants will receive consideration for employment without regard to race, color, religion, sex, national origin, sexual orientation, gender identity, disability or protected veteran status.\\u00A0 Visa will also consider for employment qualified applicants with criminal histories in a manner consistent with EEOC guidelines and applicable local law.\" <https://www.smartrecruiters.com/Visa/743999698385713-junior-project-manager-scrum-master-client-services does not look like a valid URI, trying to serialize this will break.\n",
      "1 n\\u0103m L\\u00E0m theo gi\\u1EDD   Trao \\u0111\\u1ED5i khi ph\\u1ECFng v\\u1EA5n\\n ph\\u1EE5c v\\u1EE5\" <https://thue.today/tuyen-dung/phu-bep-phuc-vu.6068 does not look like a valid URI, trying to serialize this will break.\n",
      "1 n\\u0103m        \" <https://thue.today/tuyen-dung/phu-bep-phuc-vu.6068 does not look like a valid URI, trying to serialize this will break.\n",
      "10% of the time.Mental/Physical Requirements This position will be performed in an office setting.\\u00A0 The position will require the incumbent to sit and stand at a desk, communicate in person and by telephone, frequently operate standard office equipment, such as telephones and computers, and reach with hands and arms.EEO Statement Visa is an EEO Employer.\\u00A0 Qualified applicants will receive consideration for employment without regard to race, color, religion, sex, national origin, sexual orientation, gender identity, disability or protected veteran status.\\u00A0 Visa will also consider for employment qualified applicants with criminal histories in a manner consistent with EEOC guidelines and applicable local law.\" <https://www.smartrecruiters.com/Visa/743999699134810-director-crm-tools does not look like a valid URI, trying to serialize this will break.\n",
      "10% of the time.Mental/Physical Requirements This position will be performed in an office setting.\\u00A0 The position will require the incumbent to sit and stand at a desk, communicate in person and by telephone, frequently operate standard office equipment, such as telephones and computers, and reach with hands and arms.EEO Statement Visa is an EEO Employer.\\u00A0 Qualified applicants will receive consideration for employment without regard to race, color, religion, sex, national origin, sexual orientation, gender identity, disability or protected veteran status.\\u00A0 Visa will also consider for employment qualified applicants with criminal histories in a manner consistent with EEOC guidelines and applicable local law.\" <https://www.smartrecruiters.com/Visa/743999699134810-director-crm-tools does not look like a valid URI, trying to serialize this will break.\n",
      "https://www.albertinen.de/beruf-karriere/arbeiten-bei-immanuel-albertinen/stellenangebote/stellenangebotsdetail/job/show/job-detail/altenpfleger-gesundheits-und-krankenpfleger-mwd-fuer-unseren-hausinternen-ambulanten-dienst/javascript:linkTo_UnCryptMailto('ocknvq,o0ukgdgpuqjpBtgukfgpb\\/ykgugpmcor0fg'); does not look like a valid URI, trying to serialize this will break.\n",
      " 1 Jahr\\n                                                    \"@de <https://www.hogastjob.com/job/aqua-dome-langenfeld/restaurantfachmann-m-w/43452 does not look like a valid URI, trying to serialize this will break.\n"
     ]
    },
    {
     "name": "stderr",
     "output_type": "stream",
     "text": [
      "1 n\\u0103m        \" <https://thue.today/tuyen-dung/nhan-vien-cham-soc-khach-hang-customer-service.5422?utm_source=thue.today.article&utm_media=cocktail-huong-vi-pho-su-ket-hop-hoan-hao-trong-pha-che&utm_campain=thue.today.article does not look like a valid URI, trying to serialize this will break.\n",
      "https://www.diversitylink.co.uk/homepage.php?employerid=122&company=St-Andrew\\ does not look like a valid URI, trying to serialize this will break.\n",
      "https://www.diversitylink.co.uk/homepage.php?employerid=122&company=St-Andrew\\ does not look like a valid URI, trying to serialize this will break.\n",
      "https://www.diversitylink.co.uk/homepage.php?employerid=122&company=St-Andrew\\ does not look like a valid URI, trying to serialize this will break.\n",
      "https://www.diversitylink.co.uk/homepage.php?employerid=122&company=St-Andrew\\ does not look like a valid URI, trying to serialize this will break.\n",
      "https://www.diversitylink.co.uk/homepage.php?employerid=122&company=St-Andrew\\ does not look like a valid URI, trying to serialize this will break.\n",
      "https://www.diversitylink.co.uk/homepage.php?employerid=122&company=St-Andrew\\ does not look like a valid URI, trying to serialize this will break.\n",
      "https://www.diversitylink.co.uk/homepage.php?employerid=122&company=St-Andrew\\ does not look like a valid URI, trying to serialize this will break.\n",
      "https://www.diversitylink.co.uk/homepage.php?employerid=122&company=St-Andrew\\ does not look like a valid URI, trying to serialize this will break.\n",
      "https://www.diversitylink.co.uk/homepage.php?employerid=122&company=St-Andrew\\ does not look like a valid URI, trying to serialize this will break.\n",
      "https://www.diversitylink.co.uk/homepage.php?employerid=122&company=St-Andrew\\ does not look like a valid URI, trying to serialize this will break.\n",
      "https://www.diversitylink.co.uk/homepage.php?employerid=122&company=St-Andrew\\ does not look like a valid URI, trying to serialize this will break.\n",
      "https://www.diversitylink.co.uk/homepage.php?employerid=122&company=St-Andrew\\ does not look like a valid URI, trying to serialize this will break.\n",
      " 100) ? iFrameHeight = 540 : iFrameHeight;\\n      }\\n      resizeIframe(iFrameHeight);\\n    });\\n\\n    var iFrameSource = \\\"/jobs/outsourced_postings/deutschlandweit-senior-consultant-risk-management-schwerpunkt-credit-business-advisory-financial-services-51892194\\\";\\n\\n    layoutIframe.attr(\\\"src\\\", iFrameSource + \\\"?1574396824\\\");\\n\\n    var resizeIframe = function(height) {\\n      layoutIframe.height(parseInt(height, 10) + 60);\\n    };\\n  });\\n\\n\\n\\n              \\n                 Senior Consultant (w/m/d) \\u2013 Risk Management mit Schwerpunkt Credit Business \\u2013 Advisory (Financial Services) - ALL001GO  \\nGemeinsam zukunftsweisende L\\u00F6sungen f\\u00FCr die Finanzwelt von morgen entwickeln: Das ist das Ziel unserer international auf Banken, Versicherungen und Asset Management spezialisierten Kolleginnen und Kollegen. Mit unseren innovativen Dienstleistungen in der Wirtschaftspr\\u00FCfung, Steuerberatung, Transaktions- und Managementberatung f\\u00FCr den Finanzsektor nehmen wir eine herausragende Position in der Branche ein und begleiten unsere Mandanten in die Zukunft. \\n \\nIn unserem Bereich Financial Services fokussieren Sie sich auf die Themen der Zukunft und unterst\\u00FCtzen unsere Mandanten dabei,\\u00A0in\\u00A0einer sich stets ver\\u00E4ndernden und schnelllebigen Welt weiter erfolgreich zu sein.\\u00A0Bei uns entfalten Sie in internationalen und interdisziplin\\u00E4ren Teams Ihre individuellen F\\u00E4higkeiten und sind Teil dieser spannenden Entwicklungen.     \\nDas erwartet Sie bei uns - Erfahrungen, von denen Sie ein Leben lang profitieren \\nAls Teil unseres Risk-Teams in Berlin, D\\u00FCsseldorf, Hamburg, Frankfurt/Main, K\\u00F6ln, M\\u00FCnchen oder Stuttgart beraten Sie unsere Kunden bei der Entwicklung von Risikostrategien und Kontrollsystemen, bei ihrem quantitativen und qualitativen Management von Risiken und bei der Umsetzung regulatorischer Anforderungen. Dabei nutzen Sie innovative Technologien und intelligente Methoden und \\u00FCbernehmen vielf\\u00E4ltige Aufgaben:  \\n \\n Steigerung der Tragf\\u00E4higkeit und Profitabilit\\u00E4t des Kreditgesch\\u00E4fts nationaler und internationaler Banken und Finanzdienstleister im Rahmen eines umfassenden Risk-/Return-Beratungsansatzes \\n Gestaltung und Optimierung der Aufbau- und Ablauforganisation, insbesondere im Hinblick auf kreditgesch\\u00E4ftliche Themen \\n Gestaltung der digitalen Transformation im Kreditgesch\\u00E4ft und Risikomanagement sowie Implementierung optimierter Prozess-, Methodik- und IT-L\\u00F6sungen im weiteren Adressrisikomanagement \\n Analyse von Gesch\\u00E4fts-, Risiko- und Kreditprozessen sowie deren Werttreibern und Steigerung der Effizienz von Kreditprozessabl\\u00E4ufen \\n Beratung unserer Mandanten bei der Implementierung gesetzlicher und regulatorischer Anforderungen in die bestehende Gesch\\u00E4fts-, Organisations- und Systemstruktur \\n      \\nDas bringen Sie mit - F\\u00E4higkeiten, mit denen Sie die Zukunft gestalten \\n \\n Mindestens 3 Jahre Berufserfahrung bei einer Unternehmensberatung oder einem Finanzinstitut, hohe Affinit\\u00E4t zu Informationstechnologien sowie idealerweise praktische Erfahrungen mit Risikomanagement und/oder dem Kreditgesch\\u00E4ft in Unternehmen; dar\\u00FCber hinaus sicherer Umgang mit MS Office \\n Abgeschlossenes Studium der Wirtschaftswissenschaften mit Schwerpunkt Risikomanagement, Regulierung, Management oder Organisation, Controlling/Rechnungslegung \\n Analytische F\\u00E4higkeiten und pr\\u00E4zise Arbeitsweise \\n Engagierter Teamplayer mit hohem Verantwortungsbewusstsein und Reisebereitschaft \\n Sehr gute Kommunikationsf\\u00E4higkeiten in Deutsch und Englisch \\n     \\nDas bieten wir Ihnen - ein inspirierendes Arbeitsumfeld \\n \\n Individuelle Karrieref\\u00F6rderung und umfassende Trainingsangebote \\n Inspiration und individuelle F\\u00F6rderung durch Ihre Vorgesetzten \\n Unterschiedliche Teilzeit-, Freistellungs- und Home-Office-M\\u00F6glichkeiten sowie Freizeitausgleich \\n \\nErfahren Sie hier mehr \\u00FCber unsere vielf\\u00E4ltigen Benefits, von denen Sie als Mitarbeiter bei EY profitieren.       \\nWerden Sie Teil unserer Highest Performing Teams! \\nBewerben Sie sich jetzt \\u00FCber unser Jobportal www.de.ey.com/karriere Unser Recruitment-Center beantwortet gerne Ihre Fragen unter +49 6196 996 10005\\n              \\n        \"@en <https://www.xing.com/jobs/deutschlandweit-senior-consultant-risk-management-schwerpunkt-credit-business-advisory-financial-services-51892194?_source=aff32c9757e does not look like a valid URI, trying to serialize this will break.\n",
      "https://www.diversitylink.co.uk/homepage.php?employerid=122&company=St-Andrew\\ does not look like a valid URI, trying to serialize this will break.\n",
      "https://www.diversitylink.co.uk/homepage.php?employerid=122&company=St-Andrew\\ does not look like a valid URI, trying to serialize this will break.\n",
      "https://www.diversitylink.co.uk/homepage.php?employerid=122&company=St-Andrew\\ does not look like a valid URI, trying to serialize this will break.\n",
      "https://www.diversitylink.co.uk/homepage.php?employerid=122&company=St-Andrew\\ does not look like a valid URI, trying to serialize this will break.\n",
      "https://www.diversitylink.co.uk/homepage.php?employerid=122&company=St-Andrew\\ does not look like a valid URI, trying to serialize this will break.\n",
      "https://www.diversitylink.co.uk/homepage.php?employerid=122&company=St-Andrew\\ does not look like a valid URI, trying to serialize this will break.\n",
      "https://www.diversitylink.co.uk/homepage.php?employerid=122&company=St-Andrew\\ does not look like a valid URI, trying to serialize this will break.\n",
      "https://www.diversitylink.co.uk/homepage.php?employerid=122&company=St-Andrew\\ does not look like a valid URI, trying to serialize this will break.\n",
      "https://www.diversitylink.co.uk/homepage.php?employerid=122&company=St-Andrew\\ does not look like a valid URI, trying to serialize this will break.\n",
      "https://www.diversitylink.co.uk/homepage.php?employerid=122&company=St-Andrew\\ does not look like a valid URI, trying to serialize this will break.\n",
      "https://www.diversitylink.co.uk/homepage.php?employerid=122&company=St-Andrew\\ does not look like a valid URI, trying to serialize this will break.\n"
     ]
    },
    {
     "name": "stderr",
     "output_type": "stream",
     "text": [
      "https://www.diversitylink.co.uk/homepage.php?employerid=122&company=St-Andrew\\ does not look like a valid URI, trying to serialize this will break.\n",
      "https://www.diversitylink.co.uk/homepage.php?employerid=122&company=St-Andrew\\ does not look like a valid URI, trying to serialize this will break.\n",
      "https://www.diversitylink.co.uk/homepage.php?employerid=122&company=St-Andrew\\ does not look like a valid URI, trying to serialize this will break.\n",
      "https://www.diversitylink.co.uk/homepage.php?employerid=122&company=St-Andrew\\ does not look like a valid URI, trying to serialize this will break.\n",
      "https://www.municipiosefreguesias.pt/oferta-de-emprego/332/tecnico-comercial---aveiro//oferta-de-emprego/582/service-desk-agent---deutsch/english--w/m/d--|-fujitsu-portugal-gdc-sl does not look like a valid URI, trying to serialize this will break.\n",
      "https://www.municipiosefreguesias.pt/oferta-de-emprego/332/tecnico-comercial---aveiro//oferta-de-emprego/582/service-desk-agent---deutsch/english--w/m/d--|-fujitsu-portugal-gdc-sl does not look like a valid URI, trying to serialize this will break.\n",
      "https://www.diversitylink.co.uk/homepage.php?employerid=122&company=St-Andrew\\ does not look like a valid URI, trying to serialize this will break.\n",
      "https://www.diversitylink.co.uk/homepage.php?employerid=122&company=St-Andrew\\ does not look like a valid URI, trying to serialize this will break.\n",
      "https://www.diversitylink.co.uk/homepage.php?employerid=122&company=St-Andrew\\ does not look like a valid URI, trying to serialize this will break.\n",
      "https://www.diversitylink.co.uk/homepage.php?employerid=122&company=St-Andrew\\ does not look like a valid URI, trying to serialize this will break.\n",
      "https://www.diversitylink.co.uk/homepage.php?employerid=122&company=St-Andrew\\ does not look like a valid URI, trying to serialize this will break.\n",
      "1 n\\u0103m        \" <https://thue.today/tuyen-dung/nhan-vien-ky-thuat-dien-lanh-hcm.6091?utm_source=thue.today.article&utm_media=17-ly-do-tai-sao-ban-nen-di-du-lich-mot-minh-phan-1&utm_campain=thue.today.article does not look like a valid URI, trying to serialize this will break.\n",
      "https://www.diversitylink.co.uk/homepage.php?employerid=122&company=St-Andrew\\ does not look like a valid URI, trying to serialize this will break.\n",
      "https://www.diversitylink.co.uk/homepage.php?employerid=122&company=St-Andrew\\ does not look like a valid URI, trying to serialize this will break.\n",
      "https://www.diversitylink.co.uk/homepage.php?employerid=122&company=St-Andrew\\ does not look like a valid URI, trying to serialize this will break.\n",
      "https://www.diversitylink.co.uk/homepage.php?employerid=122&company=St-Andrew\\ does not look like a valid URI, trying to serialize this will break.\n",
      " 1 Jahr\\n                                                    \"@de <https://www.hogastjob.com/job/sporthotel-wagrain/commis-de-rang-m-w/45950 does not look like a valid URI, trying to serialize this will break.\n",
      "1 n\\u0103m        \" <https://thue.today/tuyen-dung/nhan-vien-ky-thuat-dien-lanh-hcm.6091?utm_source=thue.today.article&utm_media=cac-cau-hoi-tuyen-dung-pho-bien-trong-buoi-phong-van-lan-2&utm_campain=thue.today.article does not look like a valid URI, trying to serialize this will break.\n",
      " $2 Million USDESSENTIAL DUTIES AND RESPONSIBILITIES\\u00A0\\u00A0Manages all facets of project management (budget, schedule, procurement, quality & risk) for individual real estate projects including planning, design, construction, occupancy and closeout. Demonstrates capability to read, understand and apply standard to moderately complex documents affecting real estate projects, including but not limited to: agreements/contracts, leases, work letters, project charters, surveys and drawings.Interfaces directly with clients to define project requirements. Prepares scope of work, project delivery resource requirements, cost estimate & budget, work plan schedule & milestones, quality control, and risk identification. Identifies project delivery resources from pre-qualified lists or through individual project qualification process; conducts standard request for proposals; completes bid analysis; recommends resources to clients.Leads project delivery resources/team providing project guidance and direction to achieve project goals. Implements communication plan for meetings and written reports/meeting minutes to keep client and project resources informed. Facilitates project meetings.Implements project documentation governance aligned with company and Client requirements. Ensure project data integrity and documentation is accurate, timely and coordinated. Tracks progress of each project against goals, objectives, approved budgets, approved timelines. Reports status and variances. Creates action plans to meet objectives, budget and schedule.Implements change management routines to assess change requests, make recommendations, secure client approvals, and issue change orders. Assesses change requests to determine impacts to scope, budget, schedule, quality and risk.Demonstrates ability to identify project risks, develop risk mitigation and contingency plans, and implement action plans to reduce or eliminate project risks.Other duties as assigned.SUPERVISORY RESPONSIBILITIES\\u00A0\\u00A0No formal supervisory responsibilities in this position. Provides informal assistance such as technical guidance, and/or training to coworkers. May lead project teams and/or plan, and supervise assignments of lower level employees.Manages 3rd party project delivery resources/team. Responsible for identifying training needs, tracking performance, coaching, and motivating team members. \"@en <https://constructionjobs.com/jobs/project-manager-commercial-construction-design-sunnyvale-ca-94086-115527818-d does not look like a valid URI, trying to serialize this will break.\n",
      "1 n\\u0103m, 1-2 n\\u0103m        \" <https://thue.today/tuyen-dung/nhan-vien-purchasing.6121?utm_source=thue.today.article&utm_media=du-lich-viet-nam-dang-la-xu-huong-lua-chon-cua-nhieu-du-khach&utm_campain=thue.today.article does not look like a valid URI, trying to serialize this will break.\n",
      " 1 Jahr\\n                                                    \"@de <https://www.hogastjob.com/job/erika-nauders/restaurantfachmann-m-w/44107 does not look like a valid URI, trying to serialize this will break.\n",
      "1 n\\u0103m        \" <https://thue.today/tuyen-dung/nhan-vien-kho.5470 does not look like a valid URI, trying to serialize this will break.\n",
      " 1 Jahr\\n                                                    \"@de <https://www.hogastjob.com/job/drei-sonnen-serfaus/restaurantfachmann-m-w/39069 does not look like a valid URI, trying to serialize this will break.\n",
      " 1 Jahr\\n                                                    \"@de <https://www.hogastjob.com/job/saalbacher-hof-saalbach/chef-de-bar/38515 does not look like a valid URI, trying to serialize this will break.\n",
      " $2 Million USDESSENTIAL DUTIES AND RESPONSIBILITIES\\u00A0\\u00A0Manages all facets of project management (budget, schedule, procurement, quality & risk) for individual real estate projects including planning, design, construction, occupancy and closeout. Demonstrates capability to read, understand and apply standard to moderately complex documents affecting real estate projects, including but not limited to: agreements/contracts, leases, work letters, project charters, surveys and drawings.Interfaces directly with clients to define project requirements. Prepares scope of work, project delivery resource requirements, cost estimate & budget, work plan schedule & milestones, quality control, and risk identification. Identifies project delivery resources from pre-qualified lists or through individual project qualification process; conducts standard request for proposals; completes bid analysis; recommends resources to clients.Leads project delivery resources/team providing project guidance and direction to achieve project goals. Implements communication plan for meetings and written reports/meeting minutes to keep client and project resources informed. Facilitates project meetings.Implements project documentation governance aligned with company and Client requirements. Ensure project data integrity and documentation is accurate, timely and coordinated. Tracks progress of each project against goals, objectives, approved budgets, approved timelines. Reports status and variances. Creates action plans to meet objectives, budget and schedule.Implements change management routines to assess change requests, make recommendations, secure client approvals, and issue change orders. Assesses change requests to determine impacts to scope, budget, schedule, quality and risk.Demonstrates ability to identify project risks, develop risk mitigation and contingency plans, and implement action plans to reduce or eliminate project risks.Other duties as assigned.SUPERVISORY RESPONSIBILITIES\\u00A0\\u00A0No formal supervisory responsibilities in this position. Provides informal assistance such as technical guidance, and/or training to coworkers. May lead project teams and/or plan, and supervise assignments of lower level employees.Manages 3rd party project delivery resources/team. Responsible for identifying training needs, tracking performance, coaching, and motivating team members. \"@en <https://constructionjobs.com/jobs/project-manager-commercial-construction-design-sunnyvale-ca-94086-115528781-d does not look like a valid URI, trying to serialize this will break.\n"
     ]
    },
    {
     "name": "stderr",
     "output_type": "stream",
     "text": [
      "10 000 -  Saint-Ouen - Travail | VilleTravail.fr\"@fr <https://villetravail.fr/offres?l=Saint-Ouen&q=&salary=0 does not look like a valid URI, trying to serialize this will break.\n",
      "1 n\\u0103m        \" <https://thue.today/tuyen-dung/nhan-vien-ky-thuat-bao-tri-nha-hang.5814 does not look like a valid URI, trying to serialize this will break.\n",
      " 1 Jahr\\n                                                    \"@de <https://www.hogastjob.com/job/gamsleiten-obertauern/serviererin-ohne-inkasso-m-w/38254 does not look like a valid URI, trying to serialize this will break.\n",
      "1 n\\u0103m, 1-2 n\\u0103m        \" <https://thue.today/tuyen-dung/sales-executive-nhan-vien-kinh-doanh.6137?utm_source=thue.today.article&utm_media=5-hanh-vi-tieu-cuc-can-tranh-trong-buoi-phong-van-xin-viec&utm_campain=thue.today.article does not look like a valid URI, trying to serialize this will break.\n",
      "1 n\\u0103m        \" <https://thue.today/tuyen-dung/thu-ngan-pha-che.5250 does not look like a valid URI, trying to serialize this will break.\n",
      "1 n\\u0103m        \" <https://thue.today/tuyen-dung/quan-tri-online-admin.3334?utm_source=job.priority.discussions&utm_medium=fo-la-gi-cong-viec-cua-bo-phan-fo&utm_campaign=job_priorities does not look like a valid URI, trying to serialize this will break.\n",
      "1 n\\u0103m        \" <https://thue.today/tuyen-dung/nhan-vien-kinh-doanh.5824 does not look like a valid URI, trying to serialize this will break.\n",
      "1 n\\u0103m        \" <https://thue.today/tuyen-dung/nhan-vien-buong-phong-khach-san-quan-1-hcm.5795 does not look like a valid URI, trying to serialize this will break.\n",
      " 1 Jahr\\n                                                    \"@de <https://www.hogastjob.com/job/dolce-vita-hotel-preidlhof-s-naturns/demichef-de-bar/8631 does not look like a valid URI, trying to serialize this will break.\n",
      "1 n\\u0103m        \" <https://thue.today/tuyen-dung/tuyen-nhan-vien-giao-nhan-theo-ca.5936 does not look like a valid URI, trying to serialize this will break.\n",
      " 1 Jahr\\n                                                    \"@de <https://www.hogastjob.com/job/schwarzacher-hinterglemm/jungkoch/45483 does not look like a valid URI, trying to serialize this will break.\n",
      "1 n\\u0103m        \" <https://thue.today/tuyen-dung/chuyen-vien-tu-van-kinh-doanh-tai-quy-nhon-gio-hanh-chinh-lam-viec-tai-van-phong.3474 does not look like a valid URI, trying to serialize this will break.\n",
      " 2 years of work experience in a related job discipline.\\n\\nPreferred Qualifications\\n\\nEducation\\n\\n1)Bachelor's degree\\n\\nExperience\\n\\n1)Experience with induced pluripotent stem cell (iPS) culture, or neuronal culture and cell-based assays.\\n\\n2) Knowledge of medical terminology/environment.\\n\\nRequired Documents\\n\\n1) Resume/CV\\n\\nNOTE: When applying, all required documents MUST be uploaded under the Resume/CV section of the application\\n\\nFLSA Status\\n\\nNon-Exempt\\n\\nPay Frequency\\n\\nBiweekly\\n\\nPay Grade\\n\\nDepends on Qualifications\\n\\nScheduled Weekly Hours\\n\\n40\\n\\nBenefits Eligible\\n\\nYes\\n\\nDrug Test Required\\n\\nNo\\n\\nHealth Screen Required\\n\\nNo\\n\\nMotor Vehicle Record Inquiry Required\\n\\nNo\\n\\nPosting Date\\n\\n2019-08-16-07:00\\n\\nRemove from Posting On or Before\\n\\n2020-02-16-08:00\\n\\nPosting Statement\\n\\nThe University of Chicago is an Affirmative Action/Equal Opportunity/Disabled/Veterans Employer and does not discriminate on the basis of race, color, religion, sex, sexual orientation, gender identity, national or ethnic origin, age, status as an individual with a disability, protected veteran status, genetic information, or other protected classes under the law. For additional information please see the University's Notice of Nondiscrimination.\\n\\nStaff Job seekers in need of a reasonable accommodation to complete the application process should call 773-702-5800 or submit a request via Applicant Inquiry Form.\\n\\nThe University of Chicago's Annual Security & Fire Safety Report (Report) provides information about University offices and programs that provide safety support, crime and fire statistics, emergency response and communications plans, and other policies and information. The Report can be accessed online at: http://securityreport.uchicago.edu. Paper copies of the Report are available, upon request, from the University of Chicago Police Department, 850 E. 61st Street, Chicago, IL 60637.\\n\\n\\nPosted 30+ Days Ago\\nFull time\\nJR06138\\n\\n\\n            \\n            \\n            \\n            \\n            \\n            \\n            \\n            \\n        \"@en <https://workinillinois-manufacturing.jobs/chicago-il/research-technical-assistant/3FEC8EFABC554DEC8D99FE4A2AEC7E43/job/ does not look like a valid URI, trying to serialize this will break.\n",
      "2 years Licenses & Certifications * Cardiopulmonary Resuscitation Benefits Statement Note: not all benefits apply to all openings\\u00A0...                      \"@en <https://justjobs.io/job-list/Sappington,%20MO/Allied%20Health does not look like a valid URI, trying to serialize this will break.\n",
      "2 years Licenses & Certifications * Cardiopulmonary Resuscitation Additional Job Information * 37.5 Hours per Week - * Benefits Eligible                      \"@en <https://justjobs.io/job-list/Sappington,%20MO/Allied%20Health does not look like a valid URI, trying to serialize this will break.\n",
      "0.5%. \" <https://www.meridiantech.edu/job/welder-iii-guthrie-ok/ does not look like a valid URI, trying to serialize this will break.\n",
      "https://www.hipo.ro/index.php/cautajob/IT-Software/Toate-Orasele//locuri-de-munca/locuri_de_munca/136791/DK-Global-Recruitment/Customer-Support-Specialist-needed-in-Cluj-|-Spanish-speakers-apply-right-here!-[AL4646] does not look like a valid URI, trying to serialize this will break.\n",
      "https://www.hipo.ro/index.php/cautajob/IT-Software/Toate-Orasele//locuri-de-munca/locuri_de_munca/136790/DK-Global-Recruitment/Customer-Support-roles-open-in-Cluj-|-French-speakers-needed!-[AL3491] does not look like a valid URI, trying to serialize this will break.\n",
      "https://www.hipo.ro/index.php/cautajob/IT-Software/Toate-Orasele//locuri-de-munca/locuri_de_munca/136789/DK-Global-Recruitment/Customer-Support-Analyst-needed-in-Cluj-|-German-speakers-apply-today!-[AL9297] does not look like a valid URI, trying to serialize this will break.\n",
      "1 n\\u0103m, 1-2 n\\u0103m, 2-3 n\\u0103m, 3-5 n\\u0103m, 5-7 n\\u0103m, 7+ n\\u0103m        \" <https://thue.today/tuyen-dung/nhan-vien-kinh-doanh-bat-dong-san-nha-pho-cac-quan-trong-thanh-pho-ho-chi-minh.3355 does not look like a valid URI, trying to serialize this will break.\n",
      " $2 Million USDESSENTIAL DU\\t\\t\\t\\t\\t\\t\\t\\t\" <http://www.consultancyprojectmanagement.com/jobs/q-Representative-jobs.html does not look like a valid URI, trying to serialize this will break.\n",
      " $2 Million USDESSENTIAL DU\\t\\t\\t\\t\\t\\t\\t\\t\" <http://www.consultancyprojectmanagement.com/jobs/q-Analyst-jobs.html does not look like a valid URI, trying to serialize this will break.\n",
      "1 n\\u0103m        \" <https://thue.today/tuyen-dung/nhan-vien-ky-thuat-dien-lanh.2804 does not look like a valid URI, trying to serialize this will break.\n",
      " $2 Million USDESSENTIAL DU\\t\\t\\t\\t\\t\\t\\t\\t\" <http://www.consultancyprojectmanagement.com/jobs/q-Technical-jobs.html does not look like a valid URI, trying to serialize this will break.\n",
      "1 n\\u0103m        \" <https://thue.today/tuyen-dung/marketing-intern.2898 does not look like a valid URI, trying to serialize this will break.\n",
      " 1 Jahr\\n                                                    \"@de <https://www.hogastjob.com/job/blaue-gans-salzburg/front-office-managerin/45783 does not look like a valid URI, trying to serialize this will break.\n",
      " 1 Jahr\\n                                                    \"@de <https://www.hogastjob.com/job/bio-hotel-daberer-st-daniel/saucier/13575 does not look like a valid URI, trying to serialize this will break.\n",
      "1 n\\u0103m        \" <https://thue.today/tuyen-dung/nhan-vien-pha-che.4846 does not look like a valid URI, trying to serialize this will break.\n",
      "1 n\\u0103m        \" <https://thue.today/tuyen-dung/nhan-vien-cham-soc-khach-hang.4837 does not look like a valid URI, trying to serialize this will break.\n",
      " $2 Million USDESSENTIAL DU\\t\\t\\t\\t\\t\\t\\t\\t\" <http://www.consultancyprojectmanagement.com/jobs/q-Assistant-jobs.html does not look like a valid URI, trying to serialize this will break.\n"
     ]
    },
    {
     "name": "stderr",
     "output_type": "stream",
     "text": [
      " 1 Jahr\\n                                                    \"@de <https://www.hogastjob.com/job/gasthof-kleefeld-strobl/kellnerin-mit-inkasso-m-w/31087 does not look like a valid URI, trying to serialize this will break.\n",
      " 1 Jahr\\n                                                    \"@de <https://www.hogastjob.com/job/drei-sonnen-serfaus/chef-de-rang-m-w/22835 does not look like a valid URI, trying to serialize this will break.\n",
      " 1 Jahr\\n                                                    \"@de <https://www.hogastjob.com/job/andrelwirt-rauris/kellnerin-mit-inkasso-m-w/11342 does not look like a valid URI, trying to serialize this will break.\n",
      " 1 Jahr\\n                                                    \"@de <https://www.hogastjob.com/job/dolce-vita-hotel-preidlhof-s-naturns/demichef-de-bar/8631 does not look like a valid URI, trying to serialize this will break.\n",
      " 20\\n\\nCategory   Field Jobs\\n\\n            \\n            \\n            \\n            \\n            \\n            \\n            \\n            \\n        \"@en <https://acosta.jobs/fort-myers-fl/retail-service-merchandiser/6D70C693CE9B4E5E8596BF52BB4F6723/job/ does not look like a valid URI, trying to serialize this will break.\n",
      " 20\\n\\nCategory   Field Jobs\\n\\n            \\n            \\n            \\n            \\n            \\n            \\n            \\n            \\n        \"@en <https://acosta.jobs/keene-nh/retail-service-merchandiser/9DDB19D89F3C4B20819C02201BD302BD/job/ does not look like a valid URI, trying to serialize this will break.\n",
      " 7 years of related experience Marketing know-how (pref. degree). Basic understanding of Finance and logistics. Relevant industry/market know-how ideally gained from FMCG matrix environment. Professional negotiations skills. Experience in Sales in B2B or B2C environment Team management experience Strong communicator - good presentation skills A friendly and driven personality: a go-getter who likes challenges. Strong team-player. Fluent in English and native language, verbally and in writing. Managing a small commercial team Certified LEAN Basic (LEAN Advanced preferred) \" <https://wuzzuf.net/jobs/p/230458-General-Manager---North-East-Africa-in-Cairo-Egypt-Philips-Cairo-Egypt?l=bp&t=bj&a=FMCG-Sales-Jobs-in-Egypt&o=17 does not look like a valid URI, trying to serialize this will break.\n",
      " $2 Million USDESSENTIAL DUTIES AND RESPONSIBILITIES\\u00A0\\u00A0Manages all facets of project management (budget, schedule, procurement, quality & risk) for individual real estate projects including planning, design, construction, occupancy and closeout.  Demonstrates capability to read,  understand and apply standard to moderately complex documents affecting real estate projects, including but not limited to: agreements/contracts, leases, work letters, project charters, surveys and drawings.Interfaces directly with clients to define project requirements. Prepares scope of work, project delivery resource requirements, cost estimate & budget, work plan schedule & milestones, quality control, and risk identification. Identifies project delivery resources from pre-qualified lists or through individual project qualification process; conducts standard request for proposals; completes bid analysis; recommends resources to clients.Leads project delivery resources/team providing project guidance and direction to achieve project goals.  Implements communication plan for meetings and written reports/meeting minutes to keep client and project resources informed. Facilitates project meetings.Implements project documentation governance aligned with company and Client requirements. Ensure project data integrity and documentation is accurate, timely and coordinated. Tracks progress of each project against goals, objectives, approved budgets, approved timelines. Reports status and variances. Creates action plans to meet objectives, budget and schedule.Implements change management routines to assess change requests, make recommendations, secure client approvals, and issue change orders. Assesses change requests to determine impacts to scope, budget, schedule, quality and risk.Demonstrates ability to identify project risks, develop risk mitigation and contingency plans, and implement action plans to reduce or eliminate project risks.Other duties as assigned.SUPERVISORY RESPONSIBILITIES\\u00A0\\u00A0No formal supervisory responsibilities in this position. Provides informal assistance such as technical guidance, and/or training to coworkers.  May lead project teams and/or plan, and supervise assignments of lower level employees.Manages 3rd party project delivery resources/team. Responsible for identifying training needs, tracking performance, coaching, and motivating team members.  \"@en <https://constructionjobs.com/jobs/project-manager-commercial-real-estate-phoenix-az-85003-115527670-d?contextType=browse does not look like a valid URI, trying to serialize this will break.\n",
      " 20\\n\\nCategory   Field Jobs\\n\\n            \\n            \\n            \\n            \\n            \\n            \\n            \\n            \\n        \"@en <https://acosta.jobs/granville-ny/grocery-retail-coverage-merchandiser-pt/D13154B9335545419BEB13DB5E4E5B67/job/ does not look like a valid URI, trying to serialize this will break.\n",
      "= 3.500 KG, ASIENTOS <=9, CON REMOLQUE <= 750 KG, Y TRICICLOS Y CUATRICICLOS DE MOTOR\\n\\n\"@es <https://apps.lanbide.euskadi.net/apps/OF_DETALLE_OFERTA_TRABAJO?LG=C&ML=OFEMEN1&MS=Eaaa&IDRG=162019013351&CTRG=1&ORGN=LG%3DC%7CML%3DOFEMEN1%7CMS%3DEaa%7CCTRG%3D1%7CRG%3D1%7CPM2%3D01%7CORDN%3D12%7CFAMB%3D%7CFNIV%3D%7CFTIC%3D%7CFMUN%3D01036%7CRP%3D5 does not look like a valid URI, trying to serialize this will break.\n",
      " 20\\n\\nCategory   Field Jobs\\n\\n            \\n            \\n            \\n            \\n            \\n            \\n            \\n            \\n        \"@en <https://acosta.jobs/south-ozone-park-ny/retail-service-merchandiser/35768CDD318E43EAB3D5193ED0B50432/job/ does not look like a valid URI, trying to serialize this will break.\n",
      "1 n\\u0103m        \" <https://thue.today/tuyen-dung/nhan-vien-pha-che-ban-hang.3806 does not look like a valid URI, trying to serialize this will break.\n",
      "1 n\\u0103m        \" <https://thue.today/tuyen-dung/nhan-vien-gioi-thieu-san-pham.1899 does not look like a valid URI, trying to serialize this will break.\n",
      "1 n\\u0103m, 1-2 n\\u0103m        \" <https://thue.today/tuyen-dung/lap-trinh-vien-front-end.3316 does not look like a valid URI, trying to serialize this will break.\n",
      "1 n\\u0103m        \" <https://thue.today/tuyen-dung/nhan-vien-phuc-vu-nha-hang-phap-cao-cap.2169 does not look like a valid URI, trying to serialize this will break.\n",
      "1 n\\u0103m        \" <https://thue.today/tuyen-dung/nhan-vien-kinh-doanh.3650 does not look like a valid URI, trying to serialize this will break.\n",
      "1 n\\u0103m        \" <https://thue.today/tuyen-dung/nhan-vien-pha-che-chuyen-ve-ruou.2928 does not look like a valid URI, trying to serialize this will break.\n"
     ]
    },
    {
     "name": "stdout",
     "output_type": "stream",
     "text": [
      "\n"
     ]
    }
   ],
   "source": [
    "for _ in tqdm(range(100_000)):\n",
    "    graph = next(all_graphs)\n",
    "    dom = graph_domain(graph)\n",
    "    if dom in seen_domains:\n",
    "        continue\n",
    "    try:\n",
    "        jp = list(get_job_postings(graph))[0]\n",
    "    except IndexError:\n",
    "        skipped.append((graph.identifier, dom))\n",
    "    seen_domains.update([dom])\n",
    "    graphs.append((graph, jp))"
   ]
  },
  {
   "cell_type": "code",
   "execution_count": 330,
   "metadata": {},
   "outputs": [
    {
     "data": {
      "text/plain": [
       "(2820, 17, 2820)"
      ]
     },
     "execution_count": 330,
     "metadata": {},
     "output_type": "execute_result"
    }
   ],
   "source": [
    "len(seen_domains), len(skipped), len(graphs)"
   ]
  },
  {
   "cell_type": "code",
   "execution_count": 310,
   "metadata": {},
   "outputs": [],
   "source": [
    "graph, jp = graphs[0]"
   ]
  },
  {
   "cell_type": "code",
   "execution_count": 312,
   "metadata": {},
   "outputs": [
    {
     "data": {
      "text/plain": [
       "[rdflib.term.URIRef('http://schema.org/JobPosting/hiringOrganization'),\n",
       " rdflib.term.URIRef('http://schema.org/JobPosting/datePosted'),\n",
       " rdflib.term.URIRef('http://schema.org/JobPosting/title'),\n",
       " rdflib.term.URIRef('http://schema.org/JobPosting/salaryCurrency'),\n",
       " rdflib.term.URIRef('http://schema.org/JobPosting/hiringOrganization'),\n",
       " rdflib.term.URIRef('http://schema.org/JobPosting/baseSalary'),\n",
       " rdflib.term.URIRef('http://schema.org/JobPosting/jobLocation'),\n",
       " rdflib.term.URIRef('http://schema.org/JobPosting/industry'),\n",
       " rdflib.term.URIRef('http://schema.org/JobPosting/datePosted'),\n",
       " rdflib.term.URIRef('http://schema.org/JobPosting/employmentType'),\n",
       " rdflib.term.URIRef('http://schema.org/JobPosting/description'),\n",
       " rdflib.term.URIRef('http://schema.org/JobPosting/validThrough'),\n",
       " rdflib.term.URIRef('http://www.w3.org/1999/02/22-rdf-syntax-ns#type')]"
      ]
     },
     "execution_count": 312,
     "metadata": {},
     "output_type": "execute_result"
    }
   ],
   "source": [
    "[p for p, o in graph.predicate_objects(jp)]"
   ]
  },
  {
   "cell_type": "code",
   "execution_count": 267,
   "metadata": {},
   "outputs": [
    {
     "data": {
      "text/html": [
       "<div>\n",
       "<style scoped>\n",
       "    .dataframe tbody tr th:only-of-type {\n",
       "        vertical-align: middle;\n",
       "    }\n",
       "\n",
       "    .dataframe tbody tr th {\n",
       "        vertical-align: top;\n",
       "    }\n",
       "\n",
       "    .dataframe thead th {\n",
       "        text-align: right;\n",
       "    }\n",
       "</style>\n",
       "<table border=\"1\" class=\"dataframe\">\n",
       "  <thead>\n",
       "    <tr style=\"text-align: right;\">\n",
       "      <th></th>\n",
       "      <th>type</th>\n",
       "      <th>n</th>\n",
       "      <th>pct</th>\n",
       "    </tr>\n",
       "  </thead>\n",
       "  <tbody>\n",
       "    <tr>\n",
       "      <th>2</th>\n",
       "      <td>http://www.w3.org/1999/02/22-rdf-syntax-ns#type</td>\n",
       "      <td>2803</td>\n",
       "      <td>0.993972</td>\n",
       "    </tr>\n",
       "    <tr>\n",
       "      <th>5</th>\n",
       "      <td>http://schema.org/JobPosting/title</td>\n",
       "      <td>2387</td>\n",
       "      <td>0.846454</td>\n",
       "    </tr>\n",
       "    <tr>\n",
       "      <th>6</th>\n",
       "      <td>http://schema.org/JobPosting/description</td>\n",
       "      <td>2153</td>\n",
       "      <td>0.763475</td>\n",
       "    </tr>\n",
       "    <tr>\n",
       "      <th>1</th>\n",
       "      <td>http://schema.org/JobPosting/datePosted</td>\n",
       "      <td>1826</td>\n",
       "      <td>0.647518</td>\n",
       "    </tr>\n",
       "    <tr>\n",
       "      <th>3</th>\n",
       "      <td>http://schema.org/JobPosting/jobLocation</td>\n",
       "      <td>1765</td>\n",
       "      <td>0.625887</td>\n",
       "    </tr>\n",
       "    <tr>\n",
       "      <th>...</th>\n",
       "      <td>...</td>\n",
       "      <td>...</td>\n",
       "      <td>...</td>\n",
       "    </tr>\n",
       "    <tr>\n",
       "      <th>86</th>\n",
       "      <td>http://schema.org/JobPosting/country</td>\n",
       "      <td>1</td>\n",
       "      <td>0.000355</td>\n",
       "    </tr>\n",
       "    <tr>\n",
       "      <th>88</th>\n",
       "      <td>http://schema.org/JobPosting/disambiguatingDes...</td>\n",
       "      <td>1</td>\n",
       "      <td>0.000355</td>\n",
       "    </tr>\n",
       "    <tr>\n",
       "      <th>90</th>\n",
       "      <td>http://schema.org/JobPosting/expirienceRequire...</td>\n",
       "      <td>1</td>\n",
       "      <td>0.000355</td>\n",
       "    </tr>\n",
       "    <tr>\n",
       "      <th>91</th>\n",
       "      <td>http://schema.org/JobPosting/Responsibilities</td>\n",
       "      <td>1</td>\n",
       "      <td>0.000355</td>\n",
       "    </tr>\n",
       "    <tr>\n",
       "      <th>121</th>\n",
       "      <td>http://schema.org/JobPosting/startDate</td>\n",
       "      <td>1</td>\n",
       "      <td>0.000355</td>\n",
       "    </tr>\n",
       "  </tbody>\n",
       "</table>\n",
       "<p>122 rows × 3 columns</p>\n",
       "</div>"
      ],
      "text/plain": [
       "                                                  type     n       pct\n",
       "2      http://www.w3.org/1999/02/22-rdf-syntax-ns#type  2803  0.993972\n",
       "5                   http://schema.org/JobPosting/title  2387  0.846454\n",
       "6             http://schema.org/JobPosting/description  2153  0.763475\n",
       "1              http://schema.org/JobPosting/datePosted  1826  0.647518\n",
       "3             http://schema.org/JobPosting/jobLocation  1765  0.625887\n",
       "..                                                 ...   ...       ...\n",
       "86                http://schema.org/JobPosting/country     1  0.000355\n",
       "88   http://schema.org/JobPosting/disambiguatingDes...     1  0.000355\n",
       "90   http://schema.org/JobPosting/expirienceRequire...     1  0.000355\n",
       "91       http://schema.org/JobPosting/Responsibilities     1  0.000355\n",
       "121             http://schema.org/JobPosting/startDate     1  0.000355\n",
       "\n",
       "[122 rows x 3 columns]"
      ]
     },
     "execution_count": 267,
     "metadata": {},
     "output_type": "execute_result"
    }
   ],
   "source": [
    "pd.DataFrame(c.items(), columns=['type', 'n']).assign(pct = lambda df: df['n'] / len(seen_domains)).sort_values('n', ascending=False)"
   ]
  },
  {
   "cell_type": "markdown",
   "metadata": {},
   "source": [
    "# Analysis"
   ]
  },
  {
   "cell_type": "code",
   "execution_count": 501,
   "metadata": {},
   "outputs": [
    {
     "data": {
      "text/plain": [
       "(1843, 2820)"
      ]
     },
     "execution_count": 501,
     "metadata": {},
     "output_type": "execute_result"
    }
   ],
   "source": [
    "len(json_graphs), len(graphs)"
   ]
  },
  {
   "cell_type": "markdown",
   "metadata": {},
   "source": [
    "How often is each type present from JSON-LD graphs"
   ]
  },
  {
   "cell_type": "code",
   "execution_count": 474,
   "metadata": {},
   "outputs": [],
   "source": [
    "j_counts = pd.DataFrame([Counter(p for p, o in graph.predicate_objects(s)) for graph, s in json_graphs])"
   ]
  },
  {
   "cell_type": "code",
   "execution_count": 477,
   "metadata": {},
   "outputs": [
    {
     "data": {
      "text/html": [
       "<div>\n",
       "<style scoped>\n",
       "    .dataframe tbody tr th:only-of-type {\n",
       "        vertical-align: middle;\n",
       "    }\n",
       "\n",
       "    .dataframe tbody tr th {\n",
       "        vertical-align: top;\n",
       "    }\n",
       "\n",
       "    .dataframe thead th {\n",
       "        text-align: right;\n",
       "    }\n",
       "</style>\n",
       "<table border=\"1\" class=\"dataframe\">\n",
       "  <thead>\n",
       "    <tr style=\"text-align: right;\">\n",
       "      <th></th>\n",
       "      <th>http://www.w3.org/1999/02/22-rdf-syntax-ns#type</th>\n",
       "      <th>http://schema.org/datePosted</th>\n",
       "      <th>http://schema.org/title</th>\n",
       "      <th>http://schema.org/description</th>\n",
       "      <th>http://schema.org/hiringOrganization</th>\n",
       "      <th>http://schema.org/jobLocation</th>\n",
       "      <th>http://schema.org/employmentType</th>\n",
       "      <th>http://schema.org/validThrough</th>\n",
       "      <th>http://schema.org/baseSalary</th>\n",
       "      <th>http://schema.org/identifier</th>\n",
       "      <th>http://schema.org/industry</th>\n",
       "      <th>http://schema.org/url</th>\n",
       "      <th>http://schema.org/salaryCurrency</th>\n",
       "      <th>http://schema.org/educationRequirements</th>\n",
       "      <th>http://schema.org/occupationalCategory</th>\n",
       "      <th>http://schema.org/experienceRequirements</th>\n",
       "      <th>http://schema.org/workHours</th>\n",
       "      <th>http://schema.org/jobBenefits</th>\n",
       "      <th>http://schema.org/skills</th>\n",
       "      <th>http://schema.org/qualifications</th>\n",
       "      <th>http://schema.org/responsibilities</th>\n",
       "      <th>http://schema.org/image</th>\n",
       "      <th>http://schema.org/jobLocationType</th>\n",
       "      <th>http://schema.org/incentiveCompensation</th>\n",
       "      <th>http://schema.org/name</th>\n",
       "      <th>http://schema.org/mainEntityOfPage</th>\n",
       "      <th>http://schema.org/specialCommitments</th>\n",
       "      <th>http://schema.org/applicantLocationRequirements</th>\n",
       "      <th>http://schema.org/estimatedSalary</th>\n",
       "      <th>http://schema.org/sameAs</th>\n",
       "      <th>http://schema.org/disambiguatingDescription</th>\n",
       "      <th>http://schema.org/industries</th>\n",
       "      <th>http://schema.org/URL</th>\n",
       "      <th>http://schema.org/jobStartDate</th>\n",
       "      <th>http://schema.org/logo</th>\n",
       "      <th>http://schema.org/potentialAction</th>\n",
       "      <th>http://schema.org/HiringOrganization</th>\n",
       "      <th>http://schema.org/postalCode</th>\n",
       "      <th>http://schema.org/warningbaseSalary</th>\n",
       "      <th>http://schema.org/</th>\n",
       "      <th>http://schema.org/geo</th>\n",
       "      <th>http://schema.org/gvalidThrough</th>\n",
       "    </tr>\n",
       "  </thead>\n",
       "  <tbody>\n",
       "    <tr>\n",
       "      <th>0</th>\n",
       "      <td>1.0</td>\n",
       "      <td>0.996744</td>\n",
       "      <td>0.994031</td>\n",
       "      <td>0.991319</td>\n",
       "      <td>0.98318</td>\n",
       "      <td>0.975583</td>\n",
       "      <td>0.816603</td>\n",
       "      <td>0.604992</td>\n",
       "      <td>0.468801</td>\n",
       "      <td>0.414542</td>\n",
       "      <td>0.391753</td>\n",
       "      <td>0.227347</td>\n",
       "      <td>0.150298</td>\n",
       "      <td>0.10255</td>\n",
       "      <td>0.090071</td>\n",
       "      <td>0.088985</td>\n",
       "      <td>0.078676</td>\n",
       "      <td>0.077048</td>\n",
       "      <td>0.076506</td>\n",
       "      <td>0.071622</td>\n",
       "      <td>0.059143</td>\n",
       "      <td>0.057515</td>\n",
       "      <td>0.028215</td>\n",
       "      <td>0.025502</td>\n",
       "      <td>0.015193</td>\n",
       "      <td>0.011394</td>\n",
       "      <td>0.005969</td>\n",
       "      <td>0.004341</td>\n",
       "      <td>0.003798</td>\n",
       "      <td>0.001628</td>\n",
       "      <td>0.001628</td>\n",
       "      <td>0.001085</td>\n",
       "      <td>0.001085</td>\n",
       "      <td>0.000543</td>\n",
       "      <td>0.000543</td>\n",
       "      <td>0.000543</td>\n",
       "      <td>0.000543</td>\n",
       "      <td>0.000543</td>\n",
       "      <td>0.000543</td>\n",
       "      <td>0.000543</td>\n",
       "      <td>0.000543</td>\n",
       "      <td>0.000543</td>\n",
       "    </tr>\n",
       "  </tbody>\n",
       "</table>\n",
       "</div>"
      ],
      "text/plain": [
       "   http://www.w3.org/1999/02/22-rdf-syntax-ns#type  \\\n",
       "0                                              1.0   \n",
       "\n",
       "   http://schema.org/datePosted  http://schema.org/title  \\\n",
       "0                      0.996744                 0.994031   \n",
       "\n",
       "   http://schema.org/description  http://schema.org/hiringOrganization  \\\n",
       "0                       0.991319                               0.98318   \n",
       "\n",
       "   http://schema.org/jobLocation  http://schema.org/employmentType  \\\n",
       "0                       0.975583                          0.816603   \n",
       "\n",
       "   http://schema.org/validThrough  http://schema.org/baseSalary  \\\n",
       "0                        0.604992                      0.468801   \n",
       "\n",
       "   http://schema.org/identifier  http://schema.org/industry  \\\n",
       "0                      0.414542                    0.391753   \n",
       "\n",
       "   http://schema.org/url  http://schema.org/salaryCurrency  \\\n",
       "0               0.227347                          0.150298   \n",
       "\n",
       "   http://schema.org/educationRequirements  \\\n",
       "0                                  0.10255   \n",
       "\n",
       "   http://schema.org/occupationalCategory  \\\n",
       "0                                0.090071   \n",
       "\n",
       "   http://schema.org/experienceRequirements  http://schema.org/workHours  \\\n",
       "0                                  0.088985                     0.078676   \n",
       "\n",
       "   http://schema.org/jobBenefits  http://schema.org/skills  \\\n",
       "0                       0.077048                  0.076506   \n",
       "\n",
       "   http://schema.org/qualifications  http://schema.org/responsibilities  \\\n",
       "0                          0.071622                            0.059143   \n",
       "\n",
       "   http://schema.org/image  http://schema.org/jobLocationType  \\\n",
       "0                 0.057515                           0.028215   \n",
       "\n",
       "   http://schema.org/incentiveCompensation  http://schema.org/name  \\\n",
       "0                                 0.025502                0.015193   \n",
       "\n",
       "   http://schema.org/mainEntityOfPage  http://schema.org/specialCommitments  \\\n",
       "0                            0.011394                              0.005969   \n",
       "\n",
       "   http://schema.org/applicantLocationRequirements  \\\n",
       "0                                         0.004341   \n",
       "\n",
       "   http://schema.org/estimatedSalary  http://schema.org/sameAs  \\\n",
       "0                           0.003798                  0.001628   \n",
       "\n",
       "   http://schema.org/disambiguatingDescription  http://schema.org/industries  \\\n",
       "0                                     0.001628                      0.001085   \n",
       "\n",
       "   http://schema.org/URL  http://schema.org/jobStartDate  \\\n",
       "0               0.001085                        0.000543   \n",
       "\n",
       "   http://schema.org/logo  http://schema.org/potentialAction  \\\n",
       "0                0.000543                           0.000543   \n",
       "\n",
       "   http://schema.org/HiringOrganization  http://schema.org/postalCode  \\\n",
       "0                              0.000543                      0.000543   \n",
       "\n",
       "   http://schema.org/warningbaseSalary  http://schema.org/  \\\n",
       "0                             0.000543            0.000543   \n",
       "\n",
       "   http://schema.org/geo  http://schema.org/gvalidThrough  \n",
       "0               0.000543                         0.000543  "
      ]
     },
     "execution_count": 477,
     "metadata": {},
     "output_type": "execute_result"
    }
   ],
   "source": [
    "j_missing = j_counts.isna().mean().sort_values()\n",
    "(1 - j_missing).to_frame().T"
   ]
  },
  {
   "cell_type": "code",
   "execution_count": 487,
   "metadata": {},
   "outputs": [],
   "source": [
    "m_counts = pd.DataFrame([Counter(p for p, o in graph.predicate_objects(s)) for graph, s in graphs])"
   ]
  },
  {
   "cell_type": "code",
   "execution_count": 493,
   "metadata": {},
   "outputs": [
    {
     "data": {
      "text/html": [
       "<div>\n",
       "<style scoped>\n",
       "    .dataframe tbody tr th:only-of-type {\n",
       "        vertical-align: middle;\n",
       "    }\n",
       "\n",
       "    .dataframe tbody tr th {\n",
       "        vertical-align: top;\n",
       "    }\n",
       "\n",
       "    .dataframe thead th {\n",
       "        text-align: right;\n",
       "    }\n",
       "</style>\n",
       "<table border=\"1\" class=\"dataframe\">\n",
       "  <thead>\n",
       "    <tr style=\"text-align: right;\">\n",
       "      <th></th>\n",
       "      <th>http://www.w3.org/1999/02/22-rdf-syntax-ns#type</th>\n",
       "      <th>http://schema.org/JobPosting/title</th>\n",
       "      <th>http://schema.org/JobPosting/description</th>\n",
       "      <th>http://schema.org/JobPosting/datePosted</th>\n",
       "      <th>http://schema.org/JobPosting/jobLocation</th>\n",
       "      <th>http://schema.org/JobPosting/hiringOrganization</th>\n",
       "      <th>http://schema.org/JobPosting/employmentType</th>\n",
       "      <th>http://schema.org/JobPosting/validThrough</th>\n",
       "      <th>http://schema.org/JobPosting/baseSalary</th>\n",
       "      <th>http://schema.org/JobPosting/industry</th>\n",
       "      <th>http://schema.org/JobPosting/url</th>\n",
       "      <th>http://schema.org/JobPosting/workHours</th>\n",
       "      <th>http://schema.org/JobPosting/experienceRequirements</th>\n",
       "      <th>http://schema.org/JobPosting/occupationalCategory</th>\n",
       "      <th>http://schema.org/JobPosting/name</th>\n",
       "      <th>http://schema.org/JobPosting/image</th>\n",
       "      <th>http://schema.org/JobPosting/identifier</th>\n",
       "      <th>http://schema.org/JobPosting/educationRequirements</th>\n",
       "      <th>http://schema.org/JobPosting/qualifications</th>\n",
       "      <th>http://schema.org/JobPosting/responsibilities</th>\n",
       "      <th>http://schema.org/JobPosting/salaryCurrency</th>\n",
       "      <th>http://schema.org/JobPosting/address</th>\n",
       "      <th>http://schema.org/JobPosting/skills</th>\n",
       "      <th>http://schema.org/JobPosting/specialCommitments</th>\n",
       "      <th>http://schema.org/JobPosting/about</th>\n",
       "      <th>http://schema.org/JobPosting/jobBenefits</th>\n",
       "      <th>http://schema.org/JobPosting/benefits</th>\n",
       "      <th>http://schema.org/JobPosting/telephone</th>\n",
       "      <th>http://schema.org/JobPosting/incentives</th>\n",
       "      <th>http://schema.org/JobPosting/addressLocality</th>\n",
       "      <th>http://schema.org/JobPosting/col-md-12</th>\n",
       "      <th>http://schema.org/JobPosting/logo</th>\n",
       "      <th>http://schema.org/JobPosting/currency</th>\n",
       "      <th>http://schema.org/JobPosting/value</th>\n",
       "      <th>http://schema.org/JobPosting/addressRegion</th>\n",
       "      <th>http://schema.org/JobPosting/incentiveCompensation</th>\n",
       "      <th>http://schema.org/JobPosting/unitText</th>\n",
       "      <th>http://schema.org/JobPosting/postalCode</th>\n",
       "      <th>http://schema.org/JobPosting/addressCountry</th>\n",
       "      <th>http://schema.org/JobPosting/text</th>\n",
       "      <th>http://schema.org/JobPosting/jobLocationType</th>\n",
       "      <th>http://schema.org/JobPosting/estimatedSalary</th>\n",
       "      <th>http://schema.org/JobPosting/facility</th>\n",
       "      <th>http://schema.org/JobPosting/customfield2</th>\n",
       "      <th>http://schema.org/JobPosting/sameAs</th>\n",
       "      <th>http://schema.org/JobPosting/date</th>\n",
       "      <th>http://schema.org/JobPosting/customfield1</th>\n",
       "      <th>http://schema.org/JobPosting/department</th>\n",
       "      <th>http://schema.org/JobPosting/mainEntityOfPage</th>\n",
       "      <th>http://schema.org/JobPosting/shifttype</th>\n",
       "      <th>http://schema.org/JobPosting/contact</th>\n",
       "      <th>http://schema.org/JobPosting/customfield3</th>\n",
       "      <th>http://schema.org/JobPosting/potentialAction</th>\n",
       "      <th>http://schema.org/JobPosting/datePublished</th>\n",
       "      <th>http://schema.org/JobPosting/streetAddress</th>\n",
       "      <th>http://schema.org/JobPosting/hiringOrganisation</th>\n",
       "      <th>http://schema.org/JobPosting/dept</th>\n",
       "      <th>http://schema.org/JobPosting/headline</th>\n",
       "      <th>http://schema.org/JobPosting/city</th>\n",
       "      <th>http://schema.org/JobPosting/minValue</th>\n",
       "      <th>http://schema.org/JobPosting/responsabilities</th>\n",
       "      <th>http://schema.org/JobPosting/maxValue</th>\n",
       "      <th>http://schema.org/JobPosting/customfield4</th>\n",
       "      <th>http://schema.org/JobPosting/jobTitle</th>\n",
       "      <th>http://schema.org/JobPosting/email</th>\n",
       "      <th>http://schema.org/JobPosting/author</th>\n",
       "      <th>http://schema.org/JobPosting/employmenttype</th>\n",
       "      <th>http://schema.org/JobPosting/review</th>\n",
       "      <th>http://schema.org/JobPosting/additionalType</th>\n",
       "      <th>http://schema.org/JobPosting/jobLocation.address</th>\n",
       "      <th>http://schema.org/JobPosting/businessunit</th>\n",
       "      <th>http://schema.org/JobPosting/jobSalary</th>\n",
       "      <th>http://schema.org/JobPosting/salary</th>\n",
       "      <th>http://schema.org/JobPosting/validTrough</th>\n",
       "      <th>http://schema.org/JobPosting/significantLink</th>\n",
       "      <th>http://schema.org/JobPosting/employmentUnit</th>\n",
       "      <th>http://schema.org/JobPosting/joblocation</th>\n",
       "      <th>http://schema.org/JobPosting/jobStartDate</th>\n",
       "      <th>http://schema.org/JobPosting/jobCategory</th>\n",
       "      <th>http://schema.org/JobPosting/EventDate</th>\n",
       "      <th>http://schema.org/JobPosting/publisher</th>\n",
       "      <th>http://schema.org/JobPosting/dateModified</th>\n",
       "      <th>http://schema.org/JobPosting/member</th>\n",
       "      <th>http://schema.org/JobPosting/contentUrl</th>\n",
       "      <th>http://schema.org/JobPosting/blogPost</th>\n",
       "      <th>http://schema.org/JobPosting/jobCity</th>\n",
       "      <th>http://schema.org/JobPosting/thumbnailUrl</th>\n",
       "      <th>http://schema.org/JobPosting/location</th>\n",
       "      <th>http://schema.org/JobPosting/photo</th>\n",
       "      <th>http://schema.org/JobPosting/jobExpires</th>\n",
       "      <th>http://schema.org/JobPosting/alternateName</th>\n",
       "      <th>http://schema.org/JobPosting/dateposted</th>\n",
       "      <th>http://schema.org/JobPosting/jobLocationAddress</th>\n",
       "      <th>http://schema.org/JobPosting/jobReference</th>\n",
       "      <th>http://schema.org/JobPosting/urllink</th>\n",
       "      <th>http://schema.org/JobPosting/agent</th>\n",
       "      <th>http://schema.org/JobPosting/dateCreated</th>\n",
       "      <th>http://schema.org/JobPosting/RequirementsDescription</th>\n",
       "      <th>http://schema.org/JobPosting/keywords</th>\n",
       "      <th>http://schema.org/JobPosting/jobExperience</th>\n",
       "      <th>http://schema.org/JobPosting/jobstartdate</th>\n",
       "      <th>http://schema.org/JobPosting/dateExpires</th>\n",
       "      <th>https://schema.org/experienceRequirements</th>\n",
       "      <th>http://schema.org/JobPosting/adcode</th>\n",
       "      <th>http://schema.org/JobPosting/customfield5</th>\n",
       "      <th>http://schema.org/JobPosting/funder</th>\n",
       "      <th>http://schema.org/JobPosting/zip</th>\n",
       "      <th>http://schema.org/JobPosting/country</th>\n",
       "      <th>http://schema.org/JobPosting/disambiguatingDescription</th>\n",
       "      <th>http://schema.org/JobPosting/relatedLink</th>\n",
       "      <th>http://schema.org/JobPosting/expirienceRequirements</th>\n",
       "      <th>http://schema.org/JobPosting/Responsibilities</th>\n",
       "      <th>http://schema.org/JobPosting/startTime</th>\n",
       "      <th>http://schema.org/JobPosting/jobcategory</th>\n",
       "      <th>http://schema.org/JobPosting/txt_inline</th>\n",
       "      <th>http://schema.org/JobPosting/skillRequirements</th>\n",
       "      <th>http://schema.org/JobPosting/genre</th>\n",
       "      <th>http://schema.org/JobPosting/comment</th>\n",
       "      <th>http://schema.org/JobPosting/startDate</th>\n",
       "    </tr>\n",
       "  </thead>\n",
       "  <tbody>\n",
       "    <tr>\n",
       "      <th>0</th>\n",
       "      <td>0.993972</td>\n",
       "      <td>0.844681</td>\n",
       "      <td>0.762057</td>\n",
       "      <td>0.646454</td>\n",
       "      <td>0.625177</td>\n",
       "      <td>0.592908</td>\n",
       "      <td>0.385461</td>\n",
       "      <td>0.229433</td>\n",
       "      <td>0.211702</td>\n",
       "      <td>0.208156</td>\n",
       "      <td>0.203901</td>\n",
       "      <td>0.100709</td>\n",
       "      <td>0.089362</td>\n",
       "      <td>0.081206</td>\n",
       "      <td>0.080496</td>\n",
       "      <td>0.074468</td>\n",
       "      <td>0.069858</td>\n",
       "      <td>0.067376</td>\n",
       "      <td>0.061348</td>\n",
       "      <td>0.054255</td>\n",
       "      <td>0.043617</td>\n",
       "      <td>0.042553</td>\n",
       "      <td>0.042199</td>\n",
       "      <td>0.026596</td>\n",
       "      <td>0.021631</td>\n",
       "      <td>0.018085</td>\n",
       "      <td>0.018085</td>\n",
       "      <td>0.01383</td>\n",
       "      <td>0.010638</td>\n",
       "      <td>0.008156</td>\n",
       "      <td>0.007447</td>\n",
       "      <td>0.007092</td>\n",
       "      <td>0.005674</td>\n",
       "      <td>0.005319</td>\n",
       "      <td>0.005319</td>\n",
       "      <td>0.004965</td>\n",
       "      <td>0.004255</td>\n",
       "      <td>0.003901</td>\n",
       "      <td>0.003901</td>\n",
       "      <td>0.003191</td>\n",
       "      <td>0.003191</td>\n",
       "      <td>0.003191</td>\n",
       "      <td>0.002837</td>\n",
       "      <td>0.002482</td>\n",
       "      <td>0.002482</td>\n",
       "      <td>0.002482</td>\n",
       "      <td>0.002128</td>\n",
       "      <td>0.002128</td>\n",
       "      <td>0.002128</td>\n",
       "      <td>0.002128</td>\n",
       "      <td>0.001773</td>\n",
       "      <td>0.001773</td>\n",
       "      <td>0.001773</td>\n",
       "      <td>0.001773</td>\n",
       "      <td>0.001418</td>\n",
       "      <td>0.001418</td>\n",
       "      <td>0.001418</td>\n",
       "      <td>0.001418</td>\n",
       "      <td>0.001418</td>\n",
       "      <td>0.001064</td>\n",
       "      <td>0.001064</td>\n",
       "      <td>0.001064</td>\n",
       "      <td>0.001064</td>\n",
       "      <td>0.001064</td>\n",
       "      <td>0.001064</td>\n",
       "      <td>0.001064</td>\n",
       "      <td>0.000709</td>\n",
       "      <td>0.000709</td>\n",
       "      <td>0.000709</td>\n",
       "      <td>0.000709</td>\n",
       "      <td>0.000709</td>\n",
       "      <td>0.000709</td>\n",
       "      <td>0.000709</td>\n",
       "      <td>0.000709</td>\n",
       "      <td>0.000709</td>\n",
       "      <td>0.000709</td>\n",
       "      <td>0.000709</td>\n",
       "      <td>0.000709</td>\n",
       "      <td>0.000709</td>\n",
       "      <td>0.000355</td>\n",
       "      <td>0.000355</td>\n",
       "      <td>0.000355</td>\n",
       "      <td>0.000355</td>\n",
       "      <td>0.000355</td>\n",
       "      <td>0.000355</td>\n",
       "      <td>0.000355</td>\n",
       "      <td>0.000355</td>\n",
       "      <td>0.000355</td>\n",
       "      <td>0.000355</td>\n",
       "      <td>0.000355</td>\n",
       "      <td>0.000355</td>\n",
       "      <td>0.000355</td>\n",
       "      <td>0.000355</td>\n",
       "      <td>0.000355</td>\n",
       "      <td>0.000355</td>\n",
       "      <td>0.000355</td>\n",
       "      <td>0.000355</td>\n",
       "      <td>0.000355</td>\n",
       "      <td>0.000355</td>\n",
       "      <td>0.000355</td>\n",
       "      <td>0.000355</td>\n",
       "      <td>0.000355</td>\n",
       "      <td>0.000355</td>\n",
       "      <td>0.000355</td>\n",
       "      <td>0.000355</td>\n",
       "      <td>0.000355</td>\n",
       "      <td>0.000355</td>\n",
       "      <td>0.000355</td>\n",
       "      <td>0.000355</td>\n",
       "      <td>0.000355</td>\n",
       "      <td>0.000355</td>\n",
       "      <td>0.000355</td>\n",
       "      <td>0.000355</td>\n",
       "      <td>0.000355</td>\n",
       "      <td>0.000355</td>\n",
       "      <td>0.000355</td>\n",
       "      <td>0.000355</td>\n",
       "      <td>0.000355</td>\n",
       "      <td>0.000355</td>\n",
       "    </tr>\n",
       "  </tbody>\n",
       "</table>\n",
       "</div>"
      ],
      "text/plain": [
       "   http://www.w3.org/1999/02/22-rdf-syntax-ns#type  \\\n",
       "0                                         0.993972   \n",
       "\n",
       "   http://schema.org/JobPosting/title  \\\n",
       "0                            0.844681   \n",
       "\n",
       "   http://schema.org/JobPosting/description  \\\n",
       "0                                  0.762057   \n",
       "\n",
       "   http://schema.org/JobPosting/datePosted  \\\n",
       "0                                 0.646454   \n",
       "\n",
       "   http://schema.org/JobPosting/jobLocation  \\\n",
       "0                                  0.625177   \n",
       "\n",
       "   http://schema.org/JobPosting/hiringOrganization  \\\n",
       "0                                         0.592908   \n",
       "\n",
       "   http://schema.org/JobPosting/employmentType  \\\n",
       "0                                     0.385461   \n",
       "\n",
       "   http://schema.org/JobPosting/validThrough  \\\n",
       "0                                   0.229433   \n",
       "\n",
       "   http://schema.org/JobPosting/baseSalary  \\\n",
       "0                                 0.211702   \n",
       "\n",
       "   http://schema.org/JobPosting/industry  http://schema.org/JobPosting/url  \\\n",
       "0                               0.208156                          0.203901   \n",
       "\n",
       "   http://schema.org/JobPosting/workHours  \\\n",
       "0                                0.100709   \n",
       "\n",
       "   http://schema.org/JobPosting/experienceRequirements  \\\n",
       "0                                           0.089362     \n",
       "\n",
       "   http://schema.org/JobPosting/occupationalCategory  \\\n",
       "0                                           0.081206   \n",
       "\n",
       "   http://schema.org/JobPosting/name  http://schema.org/JobPosting/image  \\\n",
       "0                           0.080496                            0.074468   \n",
       "\n",
       "   http://schema.org/JobPosting/identifier  \\\n",
       "0                                 0.069858   \n",
       "\n",
       "   http://schema.org/JobPosting/educationRequirements  \\\n",
       "0                                           0.067376    \n",
       "\n",
       "   http://schema.org/JobPosting/qualifications  \\\n",
       "0                                     0.061348   \n",
       "\n",
       "   http://schema.org/JobPosting/responsibilities  \\\n",
       "0                                       0.054255   \n",
       "\n",
       "   http://schema.org/JobPosting/salaryCurrency  \\\n",
       "0                                     0.043617   \n",
       "\n",
       "   http://schema.org/JobPosting/address  http://schema.org/JobPosting/skills  \\\n",
       "0                              0.042553                             0.042199   \n",
       "\n",
       "   http://schema.org/JobPosting/specialCommitments  \\\n",
       "0                                         0.026596   \n",
       "\n",
       "   http://schema.org/JobPosting/about  \\\n",
       "0                            0.021631   \n",
       "\n",
       "   http://schema.org/JobPosting/jobBenefits  \\\n",
       "0                                  0.018085   \n",
       "\n",
       "   http://schema.org/JobPosting/benefits  \\\n",
       "0                               0.018085   \n",
       "\n",
       "   http://schema.org/JobPosting/telephone  \\\n",
       "0                                 0.01383   \n",
       "\n",
       "   http://schema.org/JobPosting/incentives  \\\n",
       "0                                 0.010638   \n",
       "\n",
       "   http://schema.org/JobPosting/addressLocality  \\\n",
       "0                                      0.008156   \n",
       "\n",
       "   http://schema.org/JobPosting/col-md-12  http://schema.org/JobPosting/logo  \\\n",
       "0                                0.007447                           0.007092   \n",
       "\n",
       "   http://schema.org/JobPosting/currency  http://schema.org/JobPosting/value  \\\n",
       "0                               0.005674                            0.005319   \n",
       "\n",
       "   http://schema.org/JobPosting/addressRegion  \\\n",
       "0                                    0.005319   \n",
       "\n",
       "   http://schema.org/JobPosting/incentiveCompensation  \\\n",
       "0                                           0.004965    \n",
       "\n",
       "   http://schema.org/JobPosting/unitText  \\\n",
       "0                               0.004255   \n",
       "\n",
       "   http://schema.org/JobPosting/postalCode  \\\n",
       "0                                 0.003901   \n",
       "\n",
       "   http://schema.org/JobPosting/addressCountry  \\\n",
       "0                                     0.003901   \n",
       "\n",
       "   http://schema.org/JobPosting/text  \\\n",
       "0                           0.003191   \n",
       "\n",
       "   http://schema.org/JobPosting/jobLocationType  \\\n",
       "0                                      0.003191   \n",
       "\n",
       "   http://schema.org/JobPosting/estimatedSalary  \\\n",
       "0                                      0.003191   \n",
       "\n",
       "   http://schema.org/JobPosting/facility  \\\n",
       "0                               0.002837   \n",
       "\n",
       "   http://schema.org/JobPosting/customfield2  \\\n",
       "0                                   0.002482   \n",
       "\n",
       "   http://schema.org/JobPosting/sameAs  http://schema.org/JobPosting/date  \\\n",
       "0                             0.002482                           0.002482   \n",
       "\n",
       "   http://schema.org/JobPosting/customfield1  \\\n",
       "0                                   0.002128   \n",
       "\n",
       "   http://schema.org/JobPosting/department  \\\n",
       "0                                 0.002128   \n",
       "\n",
       "   http://schema.org/JobPosting/mainEntityOfPage  \\\n",
       "0                                       0.002128   \n",
       "\n",
       "   http://schema.org/JobPosting/shifttype  \\\n",
       "0                                0.002128   \n",
       "\n",
       "   http://schema.org/JobPosting/contact  \\\n",
       "0                              0.001773   \n",
       "\n",
       "   http://schema.org/JobPosting/customfield3  \\\n",
       "0                                   0.001773   \n",
       "\n",
       "   http://schema.org/JobPosting/potentialAction  \\\n",
       "0                                      0.001773   \n",
       "\n",
       "   http://schema.org/JobPosting/datePublished  \\\n",
       "0                                    0.001773   \n",
       "\n",
       "   http://schema.org/JobPosting/streetAddress  \\\n",
       "0                                    0.001418   \n",
       "\n",
       "   http://schema.org/JobPosting/hiringOrganisation  \\\n",
       "0                                         0.001418   \n",
       "\n",
       "   http://schema.org/JobPosting/dept  http://schema.org/JobPosting/headline  \\\n",
       "0                           0.001418                               0.001418   \n",
       "\n",
       "   http://schema.org/JobPosting/city  http://schema.org/JobPosting/minValue  \\\n",
       "0                           0.001418                               0.001064   \n",
       "\n",
       "   http://schema.org/JobPosting/responsabilities  \\\n",
       "0                                       0.001064   \n",
       "\n",
       "   http://schema.org/JobPosting/maxValue  \\\n",
       "0                               0.001064   \n",
       "\n",
       "   http://schema.org/JobPosting/customfield4  \\\n",
       "0                                   0.001064   \n",
       "\n",
       "   http://schema.org/JobPosting/jobTitle  http://schema.org/JobPosting/email  \\\n",
       "0                               0.001064                            0.001064   \n",
       "\n",
       "   http://schema.org/JobPosting/author  \\\n",
       "0                             0.001064   \n",
       "\n",
       "   http://schema.org/JobPosting/employmenttype  \\\n",
       "0                                     0.000709   \n",
       "\n",
       "   http://schema.org/JobPosting/review  \\\n",
       "0                             0.000709   \n",
       "\n",
       "   http://schema.org/JobPosting/additionalType  \\\n",
       "0                                     0.000709   \n",
       "\n",
       "   http://schema.org/JobPosting/jobLocation.address  \\\n",
       "0                                          0.000709   \n",
       "\n",
       "   http://schema.org/JobPosting/businessunit  \\\n",
       "0                                   0.000709   \n",
       "\n",
       "   http://schema.org/JobPosting/jobSalary  \\\n",
       "0                                0.000709   \n",
       "\n",
       "   http://schema.org/JobPosting/salary  \\\n",
       "0                             0.000709   \n",
       "\n",
       "   http://schema.org/JobPosting/validTrough  \\\n",
       "0                                  0.000709   \n",
       "\n",
       "   http://schema.org/JobPosting/significantLink  \\\n",
       "0                                      0.000709   \n",
       "\n",
       "   http://schema.org/JobPosting/employmentUnit  \\\n",
       "0                                     0.000709   \n",
       "\n",
       "   http://schema.org/JobPosting/joblocation  \\\n",
       "0                                  0.000709   \n",
       "\n",
       "   http://schema.org/JobPosting/jobStartDate  \\\n",
       "0                                   0.000709   \n",
       "\n",
       "   http://schema.org/JobPosting/jobCategory  \\\n",
       "0                                  0.000709   \n",
       "\n",
       "   http://schema.org/JobPosting/EventDate  \\\n",
       "0                                0.000355   \n",
       "\n",
       "   http://schema.org/JobPosting/publisher  \\\n",
       "0                                0.000355   \n",
       "\n",
       "   http://schema.org/JobPosting/dateModified  \\\n",
       "0                                   0.000355   \n",
       "\n",
       "   http://schema.org/JobPosting/member  \\\n",
       "0                             0.000355   \n",
       "\n",
       "   http://schema.org/JobPosting/contentUrl  \\\n",
       "0                                 0.000355   \n",
       "\n",
       "   http://schema.org/JobPosting/blogPost  \\\n",
       "0                               0.000355   \n",
       "\n",
       "   http://schema.org/JobPosting/jobCity  \\\n",
       "0                              0.000355   \n",
       "\n",
       "   http://schema.org/JobPosting/thumbnailUrl  \\\n",
       "0                                   0.000355   \n",
       "\n",
       "   http://schema.org/JobPosting/location  http://schema.org/JobPosting/photo  \\\n",
       "0                               0.000355                            0.000355   \n",
       "\n",
       "   http://schema.org/JobPosting/jobExpires  \\\n",
       "0                                 0.000355   \n",
       "\n",
       "   http://schema.org/JobPosting/alternateName  \\\n",
       "0                                    0.000355   \n",
       "\n",
       "   http://schema.org/JobPosting/dateposted  \\\n",
       "0                                 0.000355   \n",
       "\n",
       "   http://schema.org/JobPosting/jobLocationAddress  \\\n",
       "0                                         0.000355   \n",
       "\n",
       "   http://schema.org/JobPosting/jobReference  \\\n",
       "0                                   0.000355   \n",
       "\n",
       "   http://schema.org/JobPosting/urllink  http://schema.org/JobPosting/agent  \\\n",
       "0                              0.000355                            0.000355   \n",
       "\n",
       "   http://schema.org/JobPosting/dateCreated  \\\n",
       "0                                  0.000355   \n",
       "\n",
       "   http://schema.org/JobPosting/RequirementsDescription  \\\n",
       "0                                           0.000355      \n",
       "\n",
       "   http://schema.org/JobPosting/keywords  \\\n",
       "0                               0.000355   \n",
       "\n",
       "   http://schema.org/JobPosting/jobExperience  \\\n",
       "0                                    0.000355   \n",
       "\n",
       "   http://schema.org/JobPosting/jobstartdate  \\\n",
       "0                                   0.000355   \n",
       "\n",
       "   http://schema.org/JobPosting/dateExpires  \\\n",
       "0                                  0.000355   \n",
       "\n",
       "   https://schema.org/experienceRequirements  \\\n",
       "0                                   0.000355   \n",
       "\n",
       "   http://schema.org/JobPosting/adcode  \\\n",
       "0                             0.000355   \n",
       "\n",
       "   http://schema.org/JobPosting/customfield5  \\\n",
       "0                                   0.000355   \n",
       "\n",
       "   http://schema.org/JobPosting/funder  http://schema.org/JobPosting/zip  \\\n",
       "0                             0.000355                          0.000355   \n",
       "\n",
       "   http://schema.org/JobPosting/country  \\\n",
       "0                              0.000355   \n",
       "\n",
       "   http://schema.org/JobPosting/disambiguatingDescription  \\\n",
       "0                                           0.000355        \n",
       "\n",
       "   http://schema.org/JobPosting/relatedLink  \\\n",
       "0                                  0.000355   \n",
       "\n",
       "   http://schema.org/JobPosting/expirienceRequirements  \\\n",
       "0                                           0.000355     \n",
       "\n",
       "   http://schema.org/JobPosting/Responsibilities  \\\n",
       "0                                       0.000355   \n",
       "\n",
       "   http://schema.org/JobPosting/startTime  \\\n",
       "0                                0.000355   \n",
       "\n",
       "   http://schema.org/JobPosting/jobcategory  \\\n",
       "0                                  0.000355   \n",
       "\n",
       "   http://schema.org/JobPosting/txt_inline  \\\n",
       "0                                 0.000355   \n",
       "\n",
       "   http://schema.org/JobPosting/skillRequirements  \\\n",
       "0                                        0.000355   \n",
       "\n",
       "   http://schema.org/JobPosting/genre  http://schema.org/JobPosting/comment  \\\n",
       "0                            0.000355                              0.000355   \n",
       "\n",
       "   http://schema.org/JobPosting/startDate  \n",
       "0                                0.000355  "
      ]
     },
     "execution_count": 493,
     "metadata": {},
     "output_type": "execute_result"
    }
   ],
   "source": [
    "m_missing = m_counts.isna().mean().sort_values()\n",
    "(1 - m_missing).to_frame().T"
   ]
  },
  {
   "cell_type": "code",
   "execution_count": 485,
   "metadata": {},
   "outputs": [],
   "source": [
    "def prop_more_than_1(x):\n",
    "    return (x > 1).mean()"
   ]
  },
  {
   "cell_type": "code",
   "execution_count": 492,
   "metadata": {},
   "outputs": [
    {
     "data": {
      "text/html": [
       "<div>\n",
       "<style scoped>\n",
       "    .dataframe tbody tr th:only-of-type {\n",
       "        vertical-align: middle;\n",
       "    }\n",
       "\n",
       "    .dataframe tbody tr th {\n",
       "        vertical-align: top;\n",
       "    }\n",
       "\n",
       "    .dataframe thead th {\n",
       "        text-align: right;\n",
       "    }\n",
       "</style>\n",
       "<table border=\"1\" class=\"dataframe\">\n",
       "  <thead>\n",
       "    <tr style=\"text-align: right;\">\n",
       "      <th></th>\n",
       "      <th>http://www.w3.org/1999/02/22-rdf-syntax-ns#type</th>\n",
       "      <th>http://schema.org/datePosted</th>\n",
       "      <th>http://schema.org/title</th>\n",
       "      <th>http://schema.org/description</th>\n",
       "      <th>http://schema.org/hiringOrganization</th>\n",
       "      <th>http://schema.org/jobLocation</th>\n",
       "      <th>http://schema.org/employmentType</th>\n",
       "      <th>http://schema.org/validThrough</th>\n",
       "      <th>http://schema.org/baseSalary</th>\n",
       "      <th>http://schema.org/identifier</th>\n",
       "      <th>http://schema.org/industry</th>\n",
       "      <th>http://schema.org/url</th>\n",
       "      <th>http://schema.org/salaryCurrency</th>\n",
       "      <th>http://schema.org/educationRequirements</th>\n",
       "      <th>http://schema.org/occupationalCategory</th>\n",
       "      <th>http://schema.org/experienceRequirements</th>\n",
       "      <th>http://schema.org/workHours</th>\n",
       "      <th>http://schema.org/jobBenefits</th>\n",
       "      <th>http://schema.org/skills</th>\n",
       "      <th>http://schema.org/qualifications</th>\n",
       "      <th>http://schema.org/responsibilities</th>\n",
       "      <th>http://schema.org/image</th>\n",
       "      <th>http://schema.org/jobLocationType</th>\n",
       "      <th>http://schema.org/incentiveCompensation</th>\n",
       "      <th>http://schema.org/name</th>\n",
       "      <th>http://schema.org/mainEntityOfPage</th>\n",
       "      <th>http://schema.org/specialCommitments</th>\n",
       "      <th>http://schema.org/applicantLocationRequirements</th>\n",
       "      <th>http://schema.org/estimatedSalary</th>\n",
       "      <th>http://schema.org/sameAs</th>\n",
       "      <th>http://schema.org/disambiguatingDescription</th>\n",
       "      <th>http://schema.org/industries</th>\n",
       "      <th>http://schema.org/URL</th>\n",
       "      <th>http://schema.org/jobStartDate</th>\n",
       "      <th>http://schema.org/logo</th>\n",
       "      <th>http://schema.org/potentialAction</th>\n",
       "      <th>http://schema.org/HiringOrganization</th>\n",
       "      <th>http://schema.org/postalCode</th>\n",
       "      <th>http://schema.org/warningbaseSalary</th>\n",
       "      <th>http://schema.org/</th>\n",
       "      <th>http://schema.org/geo</th>\n",
       "      <th>http://schema.org/gvalidThrough</th>\n",
       "    </tr>\n",
       "  </thead>\n",
       "  <tbody>\n",
       "    <tr>\n",
       "      <th>min</th>\n",
       "      <td>1.0</td>\n",
       "      <td>1.0</td>\n",
       "      <td>1.000000</td>\n",
       "      <td>1.0</td>\n",
       "      <td>1.0</td>\n",
       "      <td>1.000000</td>\n",
       "      <td>1.000000</td>\n",
       "      <td>1.0</td>\n",
       "      <td>1.000000</td>\n",
       "      <td>1.0</td>\n",
       "      <td>1.000000</td>\n",
       "      <td>1.0</td>\n",
       "      <td>1.0</td>\n",
       "      <td>1.000000</td>\n",
       "      <td>1.000000</td>\n",
       "      <td>1.000000</td>\n",
       "      <td>1.000000</td>\n",
       "      <td>1.000000</td>\n",
       "      <td>1.000000</td>\n",
       "      <td>1.0</td>\n",
       "      <td>1.000000</td>\n",
       "      <td>1.000000</td>\n",
       "      <td>1.0</td>\n",
       "      <td>1.0</td>\n",
       "      <td>1.0</td>\n",
       "      <td>1.0</td>\n",
       "      <td>1.0</td>\n",
       "      <td>1.0</td>\n",
       "      <td>1.0</td>\n",
       "      <td>1.0</td>\n",
       "      <td>1.0</td>\n",
       "      <td>1.0</td>\n",
       "      <td>1.0</td>\n",
       "      <td>1.0</td>\n",
       "      <td>1.0</td>\n",
       "      <td>1.0</td>\n",
       "      <td>1.0</td>\n",
       "      <td>1.0</td>\n",
       "      <td>1.0</td>\n",
       "      <td>1.0</td>\n",
       "      <td>1.0</td>\n",
       "      <td>1.0</td>\n",
       "    </tr>\n",
       "    <tr>\n",
       "      <th>mean</th>\n",
       "      <td>1.0</td>\n",
       "      <td>1.0</td>\n",
       "      <td>1.001638</td>\n",
       "      <td>1.0</td>\n",
       "      <td>1.0</td>\n",
       "      <td>1.036151</td>\n",
       "      <td>1.047841</td>\n",
       "      <td>1.0</td>\n",
       "      <td>1.003472</td>\n",
       "      <td>1.0</td>\n",
       "      <td>1.047091</td>\n",
       "      <td>1.0</td>\n",
       "      <td>1.0</td>\n",
       "      <td>1.010582</td>\n",
       "      <td>1.427711</td>\n",
       "      <td>1.079268</td>\n",
       "      <td>1.006897</td>\n",
       "      <td>1.098592</td>\n",
       "      <td>1.042553</td>\n",
       "      <td>1.0</td>\n",
       "      <td>1.229358</td>\n",
       "      <td>1.009434</td>\n",
       "      <td>1.0</td>\n",
       "      <td>1.0</td>\n",
       "      <td>1.0</td>\n",
       "      <td>1.0</td>\n",
       "      <td>1.0</td>\n",
       "      <td>1.0</td>\n",
       "      <td>1.0</td>\n",
       "      <td>1.0</td>\n",
       "      <td>1.0</td>\n",
       "      <td>1.0</td>\n",
       "      <td>1.0</td>\n",
       "      <td>1.0</td>\n",
       "      <td>1.0</td>\n",
       "      <td>1.0</td>\n",
       "      <td>1.0</td>\n",
       "      <td>1.0</td>\n",
       "      <td>1.0</td>\n",
       "      <td>1.0</td>\n",
       "      <td>1.0</td>\n",
       "      <td>1.0</td>\n",
       "    </tr>\n",
       "    <tr>\n",
       "      <th>max</th>\n",
       "      <td>1.0</td>\n",
       "      <td>1.0</td>\n",
       "      <td>4.000000</td>\n",
       "      <td>1.0</td>\n",
       "      <td>1.0</td>\n",
       "      <td>23.000000</td>\n",
       "      <td>6.000000</td>\n",
       "      <td>1.0</td>\n",
       "      <td>3.000000</td>\n",
       "      <td>1.0</td>\n",
       "      <td>8.000000</td>\n",
       "      <td>1.0</td>\n",
       "      <td>1.0</td>\n",
       "      <td>3.000000</td>\n",
       "      <td>9.000000</td>\n",
       "      <td>6.000000</td>\n",
       "      <td>2.000000</td>\n",
       "      <td>9.000000</td>\n",
       "      <td>5.000000</td>\n",
       "      <td>1.0</td>\n",
       "      <td>16.000000</td>\n",
       "      <td>2.000000</td>\n",
       "      <td>1.0</td>\n",
       "      <td>1.0</td>\n",
       "      <td>1.0</td>\n",
       "      <td>1.0</td>\n",
       "      <td>1.0</td>\n",
       "      <td>1.0</td>\n",
       "      <td>1.0</td>\n",
       "      <td>1.0</td>\n",
       "      <td>1.0</td>\n",
       "      <td>1.0</td>\n",
       "      <td>1.0</td>\n",
       "      <td>1.0</td>\n",
       "      <td>1.0</td>\n",
       "      <td>1.0</td>\n",
       "      <td>1.0</td>\n",
       "      <td>1.0</td>\n",
       "      <td>1.0</td>\n",
       "      <td>1.0</td>\n",
       "      <td>1.0</td>\n",
       "      <td>1.0</td>\n",
       "    </tr>\n",
       "    <tr>\n",
       "      <th>prop_more_than_1</th>\n",
       "      <td>0.0</td>\n",
       "      <td>0.0</td>\n",
       "      <td>0.000543</td>\n",
       "      <td>0.0</td>\n",
       "      <td>0.0</td>\n",
       "      <td>0.008681</td>\n",
       "      <td>0.029300</td>\n",
       "      <td>0.0</td>\n",
       "      <td>0.001085</td>\n",
       "      <td>0.0</td>\n",
       "      <td>0.008681</td>\n",
       "      <td>0.0</td>\n",
       "      <td>0.0</td>\n",
       "      <td>0.000543</td>\n",
       "      <td>0.017363</td>\n",
       "      <td>0.002170</td>\n",
       "      <td>0.000543</td>\n",
       "      <td>0.001085</td>\n",
       "      <td>0.001085</td>\n",
       "      <td>0.0</td>\n",
       "      <td>0.001628</td>\n",
       "      <td>0.000543</td>\n",
       "      <td>0.0</td>\n",
       "      <td>0.0</td>\n",
       "      <td>0.0</td>\n",
       "      <td>0.0</td>\n",
       "      <td>0.0</td>\n",
       "      <td>0.0</td>\n",
       "      <td>0.0</td>\n",
       "      <td>0.0</td>\n",
       "      <td>0.0</td>\n",
       "      <td>0.0</td>\n",
       "      <td>0.0</td>\n",
       "      <td>0.0</td>\n",
       "      <td>0.0</td>\n",
       "      <td>0.0</td>\n",
       "      <td>0.0</td>\n",
       "      <td>0.0</td>\n",
       "      <td>0.0</td>\n",
       "      <td>0.0</td>\n",
       "      <td>0.0</td>\n",
       "      <td>0.0</td>\n",
       "    </tr>\n",
       "  </tbody>\n",
       "</table>\n",
       "</div>"
      ],
      "text/plain": [
       "                  http://www.w3.org/1999/02/22-rdf-syntax-ns#type  \\\n",
       "min                                                           1.0   \n",
       "mean                                                          1.0   \n",
       "max                                                           1.0   \n",
       "prop_more_than_1                                              0.0   \n",
       "\n",
       "                  http://schema.org/datePosted  http://schema.org/title  \\\n",
       "min                                        1.0                 1.000000   \n",
       "mean                                       1.0                 1.001638   \n",
       "max                                        1.0                 4.000000   \n",
       "prop_more_than_1                           0.0                 0.000543   \n",
       "\n",
       "                  http://schema.org/description  \\\n",
       "min                                         1.0   \n",
       "mean                                        1.0   \n",
       "max                                         1.0   \n",
       "prop_more_than_1                            0.0   \n",
       "\n",
       "                  http://schema.org/hiringOrganization  \\\n",
       "min                                                1.0   \n",
       "mean                                               1.0   \n",
       "max                                                1.0   \n",
       "prop_more_than_1                                   0.0   \n",
       "\n",
       "                  http://schema.org/jobLocation  \\\n",
       "min                                    1.000000   \n",
       "mean                                   1.036151   \n",
       "max                                   23.000000   \n",
       "prop_more_than_1                       0.008681   \n",
       "\n",
       "                  http://schema.org/employmentType  \\\n",
       "min                                       1.000000   \n",
       "mean                                      1.047841   \n",
       "max                                       6.000000   \n",
       "prop_more_than_1                          0.029300   \n",
       "\n",
       "                  http://schema.org/validThrough  \\\n",
       "min                                          1.0   \n",
       "mean                                         1.0   \n",
       "max                                          1.0   \n",
       "prop_more_than_1                             0.0   \n",
       "\n",
       "                  http://schema.org/baseSalary  http://schema.org/identifier  \\\n",
       "min                                   1.000000                           1.0   \n",
       "mean                                  1.003472                           1.0   \n",
       "max                                   3.000000                           1.0   \n",
       "prop_more_than_1                      0.001085                           0.0   \n",
       "\n",
       "                  http://schema.org/industry  http://schema.org/url  \\\n",
       "min                                 1.000000                    1.0   \n",
       "mean                                1.047091                    1.0   \n",
       "max                                 8.000000                    1.0   \n",
       "prop_more_than_1                    0.008681                    0.0   \n",
       "\n",
       "                  http://schema.org/salaryCurrency  \\\n",
       "min                                            1.0   \n",
       "mean                                           1.0   \n",
       "max                                            1.0   \n",
       "prop_more_than_1                               0.0   \n",
       "\n",
       "                  http://schema.org/educationRequirements  \\\n",
       "min                                              1.000000   \n",
       "mean                                             1.010582   \n",
       "max                                              3.000000   \n",
       "prop_more_than_1                                 0.000543   \n",
       "\n",
       "                  http://schema.org/occupationalCategory  \\\n",
       "min                                             1.000000   \n",
       "mean                                            1.427711   \n",
       "max                                             9.000000   \n",
       "prop_more_than_1                                0.017363   \n",
       "\n",
       "                  http://schema.org/experienceRequirements  \\\n",
       "min                                               1.000000   \n",
       "mean                                              1.079268   \n",
       "max                                               6.000000   \n",
       "prop_more_than_1                                  0.002170   \n",
       "\n",
       "                  http://schema.org/workHours  http://schema.org/jobBenefits  \\\n",
       "min                                  1.000000                       1.000000   \n",
       "mean                                 1.006897                       1.098592   \n",
       "max                                  2.000000                       9.000000   \n",
       "prop_more_than_1                     0.000543                       0.001085   \n",
       "\n",
       "                  http://schema.org/skills  http://schema.org/qualifications  \\\n",
       "min                               1.000000                               1.0   \n",
       "mean                              1.042553                               1.0   \n",
       "max                               5.000000                               1.0   \n",
       "prop_more_than_1                  0.001085                               0.0   \n",
       "\n",
       "                  http://schema.org/responsibilities  http://schema.org/image  \\\n",
       "min                                         1.000000                 1.000000   \n",
       "mean                                        1.229358                 1.009434   \n",
       "max                                        16.000000                 2.000000   \n",
       "prop_more_than_1                            0.001628                 0.000543   \n",
       "\n",
       "                  http://schema.org/jobLocationType  \\\n",
       "min                                             1.0   \n",
       "mean                                            1.0   \n",
       "max                                             1.0   \n",
       "prop_more_than_1                                0.0   \n",
       "\n",
       "                  http://schema.org/incentiveCompensation  \\\n",
       "min                                                   1.0   \n",
       "mean                                                  1.0   \n",
       "max                                                   1.0   \n",
       "prop_more_than_1                                      0.0   \n",
       "\n",
       "                  http://schema.org/name  http://schema.org/mainEntityOfPage  \\\n",
       "min                                  1.0                                 1.0   \n",
       "mean                                 1.0                                 1.0   \n",
       "max                                  1.0                                 1.0   \n",
       "prop_more_than_1                     0.0                                 0.0   \n",
       "\n",
       "                  http://schema.org/specialCommitments  \\\n",
       "min                                                1.0   \n",
       "mean                                               1.0   \n",
       "max                                                1.0   \n",
       "prop_more_than_1                                   0.0   \n",
       "\n",
       "                  http://schema.org/applicantLocationRequirements  \\\n",
       "min                                                           1.0   \n",
       "mean                                                          1.0   \n",
       "max                                                           1.0   \n",
       "prop_more_than_1                                              0.0   \n",
       "\n",
       "                  http://schema.org/estimatedSalary  http://schema.org/sameAs  \\\n",
       "min                                             1.0                       1.0   \n",
       "mean                                            1.0                       1.0   \n",
       "max                                             1.0                       1.0   \n",
       "prop_more_than_1                                0.0                       0.0   \n",
       "\n",
       "                  http://schema.org/disambiguatingDescription  \\\n",
       "min                                                       1.0   \n",
       "mean                                                      1.0   \n",
       "max                                                       1.0   \n",
       "prop_more_than_1                                          0.0   \n",
       "\n",
       "                  http://schema.org/industries  http://schema.org/URL  \\\n",
       "min                                        1.0                    1.0   \n",
       "mean                                       1.0                    1.0   \n",
       "max                                        1.0                    1.0   \n",
       "prop_more_than_1                           0.0                    0.0   \n",
       "\n",
       "                  http://schema.org/jobStartDate  http://schema.org/logo  \\\n",
       "min                                          1.0                     1.0   \n",
       "mean                                         1.0                     1.0   \n",
       "max                                          1.0                     1.0   \n",
       "prop_more_than_1                             0.0                     0.0   \n",
       "\n",
       "                  http://schema.org/potentialAction  \\\n",
       "min                                             1.0   \n",
       "mean                                            1.0   \n",
       "max                                             1.0   \n",
       "prop_more_than_1                                0.0   \n",
       "\n",
       "                  http://schema.org/HiringOrganization  \\\n",
       "min                                                1.0   \n",
       "mean                                               1.0   \n",
       "max                                                1.0   \n",
       "prop_more_than_1                                   0.0   \n",
       "\n",
       "                  http://schema.org/postalCode  \\\n",
       "min                                        1.0   \n",
       "mean                                       1.0   \n",
       "max                                        1.0   \n",
       "prop_more_than_1                           0.0   \n",
       "\n",
       "                  http://schema.org/warningbaseSalary  http://schema.org/  \\\n",
       "min                                               1.0                 1.0   \n",
       "mean                                              1.0                 1.0   \n",
       "max                                               1.0                 1.0   \n",
       "prop_more_than_1                                  0.0                 0.0   \n",
       "\n",
       "                  http://schema.org/geo  http://schema.org/gvalidThrough  \n",
       "min                                 1.0                              1.0  \n",
       "mean                                1.0                              1.0  \n",
       "max                                 1.0                              1.0  \n",
       "prop_more_than_1                    0.0                              0.0  "
      ]
     },
     "execution_count": 492,
     "metadata": {},
     "output_type": "execute_result"
    }
   ],
   "source": [
    "j_counts.agg(['min', 'mean', 'max', prop_more_than_1])[j_missing.index]"
   ]
  },
  {
   "cell_type": "code",
   "execution_count": 494,
   "metadata": {},
   "outputs": [
    {
     "data": {
      "text/html": [
       "<div>\n",
       "<style scoped>\n",
       "    .dataframe tbody tr th:only-of-type {\n",
       "        vertical-align: middle;\n",
       "    }\n",
       "\n",
       "    .dataframe tbody tr th {\n",
       "        vertical-align: top;\n",
       "    }\n",
       "\n",
       "    .dataframe thead th {\n",
       "        text-align: right;\n",
       "    }\n",
       "</style>\n",
       "<table border=\"1\" class=\"dataframe\">\n",
       "  <thead>\n",
       "    <tr style=\"text-align: right;\">\n",
       "      <th></th>\n",
       "      <th>http://www.w3.org/1999/02/22-rdf-syntax-ns#type</th>\n",
       "      <th>http://schema.org/JobPosting/title</th>\n",
       "      <th>http://schema.org/JobPosting/description</th>\n",
       "      <th>http://schema.org/JobPosting/datePosted</th>\n",
       "      <th>http://schema.org/JobPosting/jobLocation</th>\n",
       "      <th>http://schema.org/JobPosting/hiringOrganization</th>\n",
       "      <th>http://schema.org/JobPosting/employmentType</th>\n",
       "      <th>http://schema.org/JobPosting/validThrough</th>\n",
       "      <th>http://schema.org/JobPosting/baseSalary</th>\n",
       "      <th>http://schema.org/JobPosting/industry</th>\n",
       "      <th>http://schema.org/JobPosting/url</th>\n",
       "      <th>http://schema.org/JobPosting/workHours</th>\n",
       "      <th>http://schema.org/JobPosting/experienceRequirements</th>\n",
       "      <th>http://schema.org/JobPosting/occupationalCategory</th>\n",
       "      <th>http://schema.org/JobPosting/name</th>\n",
       "      <th>http://schema.org/JobPosting/image</th>\n",
       "      <th>http://schema.org/JobPosting/identifier</th>\n",
       "      <th>http://schema.org/JobPosting/educationRequirements</th>\n",
       "      <th>http://schema.org/JobPosting/qualifications</th>\n",
       "      <th>http://schema.org/JobPosting/responsibilities</th>\n",
       "      <th>http://schema.org/JobPosting/salaryCurrency</th>\n",
       "      <th>http://schema.org/JobPosting/address</th>\n",
       "      <th>http://schema.org/JobPosting/skills</th>\n",
       "      <th>http://schema.org/JobPosting/specialCommitments</th>\n",
       "      <th>http://schema.org/JobPosting/about</th>\n",
       "      <th>http://schema.org/JobPosting/jobBenefits</th>\n",
       "      <th>http://schema.org/JobPosting/benefits</th>\n",
       "      <th>http://schema.org/JobPosting/telephone</th>\n",
       "      <th>http://schema.org/JobPosting/incentives</th>\n",
       "      <th>http://schema.org/JobPosting/addressLocality</th>\n",
       "      <th>http://schema.org/JobPosting/col-md-12</th>\n",
       "      <th>http://schema.org/JobPosting/logo</th>\n",
       "      <th>http://schema.org/JobPosting/currency</th>\n",
       "      <th>http://schema.org/JobPosting/value</th>\n",
       "      <th>http://schema.org/JobPosting/addressRegion</th>\n",
       "      <th>http://schema.org/JobPosting/incentiveCompensation</th>\n",
       "      <th>http://schema.org/JobPosting/unitText</th>\n",
       "      <th>http://schema.org/JobPosting/postalCode</th>\n",
       "      <th>http://schema.org/JobPosting/addressCountry</th>\n",
       "      <th>http://schema.org/JobPosting/text</th>\n",
       "      <th>http://schema.org/JobPosting/jobLocationType</th>\n",
       "      <th>http://schema.org/JobPosting/estimatedSalary</th>\n",
       "      <th>http://schema.org/JobPosting/facility</th>\n",
       "      <th>http://schema.org/JobPosting/customfield2</th>\n",
       "      <th>http://schema.org/JobPosting/sameAs</th>\n",
       "      <th>http://schema.org/JobPosting/date</th>\n",
       "      <th>http://schema.org/JobPosting/customfield1</th>\n",
       "      <th>http://schema.org/JobPosting/department</th>\n",
       "      <th>http://schema.org/JobPosting/mainEntityOfPage</th>\n",
       "      <th>http://schema.org/JobPosting/shifttype</th>\n",
       "      <th>http://schema.org/JobPosting/contact</th>\n",
       "      <th>http://schema.org/JobPosting/customfield3</th>\n",
       "      <th>http://schema.org/JobPosting/potentialAction</th>\n",
       "      <th>http://schema.org/JobPosting/datePublished</th>\n",
       "      <th>http://schema.org/JobPosting/streetAddress</th>\n",
       "      <th>http://schema.org/JobPosting/hiringOrganisation</th>\n",
       "      <th>http://schema.org/JobPosting/dept</th>\n",
       "      <th>http://schema.org/JobPosting/headline</th>\n",
       "      <th>http://schema.org/JobPosting/city</th>\n",
       "      <th>http://schema.org/JobPosting/minValue</th>\n",
       "      <th>http://schema.org/JobPosting/responsabilities</th>\n",
       "      <th>http://schema.org/JobPosting/maxValue</th>\n",
       "      <th>http://schema.org/JobPosting/customfield4</th>\n",
       "      <th>http://schema.org/JobPosting/jobTitle</th>\n",
       "      <th>http://schema.org/JobPosting/email</th>\n",
       "      <th>http://schema.org/JobPosting/author</th>\n",
       "      <th>http://schema.org/JobPosting/employmenttype</th>\n",
       "      <th>http://schema.org/JobPosting/review</th>\n",
       "      <th>http://schema.org/JobPosting/additionalType</th>\n",
       "      <th>http://schema.org/JobPosting/jobLocation.address</th>\n",
       "      <th>http://schema.org/JobPosting/businessunit</th>\n",
       "      <th>http://schema.org/JobPosting/jobSalary</th>\n",
       "      <th>http://schema.org/JobPosting/salary</th>\n",
       "      <th>http://schema.org/JobPosting/validTrough</th>\n",
       "      <th>http://schema.org/JobPosting/significantLink</th>\n",
       "      <th>http://schema.org/JobPosting/employmentUnit</th>\n",
       "      <th>http://schema.org/JobPosting/joblocation</th>\n",
       "      <th>http://schema.org/JobPosting/jobStartDate</th>\n",
       "      <th>http://schema.org/JobPosting/jobCategory</th>\n",
       "      <th>http://schema.org/JobPosting/EventDate</th>\n",
       "      <th>http://schema.org/JobPosting/publisher</th>\n",
       "      <th>http://schema.org/JobPosting/dateModified</th>\n",
       "      <th>http://schema.org/JobPosting/member</th>\n",
       "      <th>http://schema.org/JobPosting/contentUrl</th>\n",
       "      <th>http://schema.org/JobPosting/blogPost</th>\n",
       "      <th>http://schema.org/JobPosting/jobCity</th>\n",
       "      <th>http://schema.org/JobPosting/thumbnailUrl</th>\n",
       "      <th>http://schema.org/JobPosting/location</th>\n",
       "      <th>http://schema.org/JobPosting/photo</th>\n",
       "      <th>http://schema.org/JobPosting/jobExpires</th>\n",
       "      <th>http://schema.org/JobPosting/alternateName</th>\n",
       "      <th>http://schema.org/JobPosting/dateposted</th>\n",
       "      <th>http://schema.org/JobPosting/jobLocationAddress</th>\n",
       "      <th>http://schema.org/JobPosting/jobReference</th>\n",
       "      <th>http://schema.org/JobPosting/urllink</th>\n",
       "      <th>http://schema.org/JobPosting/agent</th>\n",
       "      <th>http://schema.org/JobPosting/dateCreated</th>\n",
       "      <th>http://schema.org/JobPosting/RequirementsDescription</th>\n",
       "      <th>http://schema.org/JobPosting/keywords</th>\n",
       "      <th>http://schema.org/JobPosting/jobExperience</th>\n",
       "      <th>http://schema.org/JobPosting/jobstartdate</th>\n",
       "      <th>http://schema.org/JobPosting/dateExpires</th>\n",
       "      <th>https://schema.org/experienceRequirements</th>\n",
       "      <th>http://schema.org/JobPosting/adcode</th>\n",
       "      <th>http://schema.org/JobPosting/customfield5</th>\n",
       "      <th>http://schema.org/JobPosting/funder</th>\n",
       "      <th>http://schema.org/JobPosting/zip</th>\n",
       "      <th>http://schema.org/JobPosting/country</th>\n",
       "      <th>http://schema.org/JobPosting/disambiguatingDescription</th>\n",
       "      <th>http://schema.org/JobPosting/relatedLink</th>\n",
       "      <th>http://schema.org/JobPosting/expirienceRequirements</th>\n",
       "      <th>http://schema.org/JobPosting/Responsibilities</th>\n",
       "      <th>http://schema.org/JobPosting/startTime</th>\n",
       "      <th>http://schema.org/JobPosting/jobcategory</th>\n",
       "      <th>http://schema.org/JobPosting/txt_inline</th>\n",
       "      <th>http://schema.org/JobPosting/skillRequirements</th>\n",
       "      <th>http://schema.org/JobPosting/genre</th>\n",
       "      <th>http://schema.org/JobPosting/comment</th>\n",
       "      <th>http://schema.org/JobPosting/startDate</th>\n",
       "    </tr>\n",
       "  </thead>\n",
       "  <tbody>\n",
       "    <tr>\n",
       "      <th>min</th>\n",
       "      <td>1.0</td>\n",
       "      <td>1.000000</td>\n",
       "      <td>1.000000</td>\n",
       "      <td>1.000000</td>\n",
       "      <td>1.000000</td>\n",
       "      <td>1.000000</td>\n",
       "      <td>1.000000</td>\n",
       "      <td>1.000000</td>\n",
       "      <td>1.000000</td>\n",
       "      <td>1.000000</td>\n",
       "      <td>1.000000</td>\n",
       "      <td>1.000000</td>\n",
       "      <td>1.000000</td>\n",
       "      <td>1.000000</td>\n",
       "      <td>1.000000</td>\n",
       "      <td>1.000000</td>\n",
       "      <td>1.000000</td>\n",
       "      <td>1.000000</td>\n",
       "      <td>1.000000</td>\n",
       "      <td>1.000000</td>\n",
       "      <td>1.000000</td>\n",
       "      <td>1.000000</td>\n",
       "      <td>1.000000</td>\n",
       "      <td>1.0</td>\n",
       "      <td>1.0</td>\n",
       "      <td>1.000000</td>\n",
       "      <td>1.000000</td>\n",
       "      <td>1.000000</td>\n",
       "      <td>1.0</td>\n",
       "      <td>1.0</td>\n",
       "      <td>1.0</td>\n",
       "      <td>1.0</td>\n",
       "      <td>1.0</td>\n",
       "      <td>1.000000</td>\n",
       "      <td>1.0</td>\n",
       "      <td>1.0</td>\n",
       "      <td>1.0</td>\n",
       "      <td>1.0</td>\n",
       "      <td>1.0</td>\n",
       "      <td>1.0</td>\n",
       "      <td>1.0</td>\n",
       "      <td>1.0</td>\n",
       "      <td>1.0</td>\n",
       "      <td>1.0</td>\n",
       "      <td>1.000000</td>\n",
       "      <td>1.0</td>\n",
       "      <td>1.0</td>\n",
       "      <td>1.0</td>\n",
       "      <td>1.0</td>\n",
       "      <td>1.0</td>\n",
       "      <td>1.000000</td>\n",
       "      <td>1.0</td>\n",
       "      <td>1.000000</td>\n",
       "      <td>1.0</td>\n",
       "      <td>1.0</td>\n",
       "      <td>1.0</td>\n",
       "      <td>1.0</td>\n",
       "      <td>1.0</td>\n",
       "      <td>1.0</td>\n",
       "      <td>1.0</td>\n",
       "      <td>1.0</td>\n",
       "      <td>1.0</td>\n",
       "      <td>1.0</td>\n",
       "      <td>1.000000</td>\n",
       "      <td>1.0</td>\n",
       "      <td>1.0</td>\n",
       "      <td>1.0</td>\n",
       "      <td>1.000000</td>\n",
       "      <td>1.0</td>\n",
       "      <td>1.0</td>\n",
       "      <td>1.0</td>\n",
       "      <td>1.0</td>\n",
       "      <td>1.0</td>\n",
       "      <td>1.0</td>\n",
       "      <td>1.0</td>\n",
       "      <td>1.0</td>\n",
       "      <td>1.000000</td>\n",
       "      <td>1.0</td>\n",
       "      <td>1.0</td>\n",
       "      <td>1.0</td>\n",
       "      <td>1.0</td>\n",
       "      <td>1.0</td>\n",
       "      <td>1.0</td>\n",
       "      <td>1.0</td>\n",
       "      <td>1.0</td>\n",
       "      <td>1.0</td>\n",
       "      <td>1.0</td>\n",
       "      <td>1.0</td>\n",
       "      <td>1.0</td>\n",
       "      <td>1.0</td>\n",
       "      <td>1.0</td>\n",
       "      <td>1.0</td>\n",
       "      <td>1.0</td>\n",
       "      <td>1.0</td>\n",
       "      <td>1.0</td>\n",
       "      <td>1.0</td>\n",
       "      <td>1.0</td>\n",
       "      <td>1.0</td>\n",
       "      <td>1.0</td>\n",
       "      <td>1.0</td>\n",
       "      <td>1.0</td>\n",
       "      <td>1.0</td>\n",
       "      <td>1.0</td>\n",
       "      <td>1.0</td>\n",
       "      <td>1.0</td>\n",
       "      <td>1.0</td>\n",
       "      <td>1.0</td>\n",
       "      <td>1.0</td>\n",
       "      <td>1.0</td>\n",
       "      <td>3.000000</td>\n",
       "      <td>1.0</td>\n",
       "      <td>1.0</td>\n",
       "      <td>1.0</td>\n",
       "      <td>2.000000</td>\n",
       "      <td>1.0</td>\n",
       "      <td>3.000000</td>\n",
       "      <td>1.0</td>\n",
       "      <td>1.0</td>\n",
       "      <td>1.0</td>\n",
       "    </tr>\n",
       "    <tr>\n",
       "      <th>mean</th>\n",
       "      <td>1.0</td>\n",
       "      <td>1.025609</td>\n",
       "      <td>1.031643</td>\n",
       "      <td>1.027427</td>\n",
       "      <td>1.099830</td>\n",
       "      <td>1.040670</td>\n",
       "      <td>1.048758</td>\n",
       "      <td>1.003091</td>\n",
       "      <td>1.033501</td>\n",
       "      <td>1.323680</td>\n",
       "      <td>1.135652</td>\n",
       "      <td>1.010563</td>\n",
       "      <td>1.023810</td>\n",
       "      <td>1.209607</td>\n",
       "      <td>1.052863</td>\n",
       "      <td>1.200000</td>\n",
       "      <td>1.005076</td>\n",
       "      <td>1.036842</td>\n",
       "      <td>1.248555</td>\n",
       "      <td>1.039216</td>\n",
       "      <td>1.008130</td>\n",
       "      <td>1.008333</td>\n",
       "      <td>1.176471</td>\n",
       "      <td>1.0</td>\n",
       "      <td>1.0</td>\n",
       "      <td>1.039216</td>\n",
       "      <td>1.019608</td>\n",
       "      <td>1.128205</td>\n",
       "      <td>1.0</td>\n",
       "      <td>1.0</td>\n",
       "      <td>1.0</td>\n",
       "      <td>1.0</td>\n",
       "      <td>1.0</td>\n",
       "      <td>1.666667</td>\n",
       "      <td>1.0</td>\n",
       "      <td>1.0</td>\n",
       "      <td>1.0</td>\n",
       "      <td>1.0</td>\n",
       "      <td>1.0</td>\n",
       "      <td>1.0</td>\n",
       "      <td>1.0</td>\n",
       "      <td>1.0</td>\n",
       "      <td>1.0</td>\n",
       "      <td>1.0</td>\n",
       "      <td>1.142857</td>\n",
       "      <td>1.0</td>\n",
       "      <td>1.0</td>\n",
       "      <td>1.0</td>\n",
       "      <td>1.0</td>\n",
       "      <td>1.0</td>\n",
       "      <td>1.400000</td>\n",
       "      <td>1.0</td>\n",
       "      <td>1.600000</td>\n",
       "      <td>1.0</td>\n",
       "      <td>1.0</td>\n",
       "      <td>1.0</td>\n",
       "      <td>1.0</td>\n",
       "      <td>1.0</td>\n",
       "      <td>1.0</td>\n",
       "      <td>1.0</td>\n",
       "      <td>1.0</td>\n",
       "      <td>1.0</td>\n",
       "      <td>1.0</td>\n",
       "      <td>1.333333</td>\n",
       "      <td>1.0</td>\n",
       "      <td>1.0</td>\n",
       "      <td>1.0</td>\n",
       "      <td>5.000000</td>\n",
       "      <td>1.0</td>\n",
       "      <td>1.0</td>\n",
       "      <td>1.0</td>\n",
       "      <td>1.0</td>\n",
       "      <td>1.0</td>\n",
       "      <td>1.0</td>\n",
       "      <td>1.0</td>\n",
       "      <td>1.0</td>\n",
       "      <td>2.000000</td>\n",
       "      <td>1.0</td>\n",
       "      <td>1.0</td>\n",
       "      <td>1.0</td>\n",
       "      <td>1.0</td>\n",
       "      <td>1.0</td>\n",
       "      <td>1.0</td>\n",
       "      <td>1.0</td>\n",
       "      <td>1.0</td>\n",
       "      <td>1.0</td>\n",
       "      <td>1.0</td>\n",
       "      <td>1.0</td>\n",
       "      <td>1.0</td>\n",
       "      <td>1.0</td>\n",
       "      <td>1.0</td>\n",
       "      <td>1.0</td>\n",
       "      <td>1.0</td>\n",
       "      <td>1.0</td>\n",
       "      <td>1.0</td>\n",
       "      <td>1.0</td>\n",
       "      <td>1.0</td>\n",
       "      <td>1.0</td>\n",
       "      <td>1.0</td>\n",
       "      <td>1.0</td>\n",
       "      <td>1.0</td>\n",
       "      <td>1.0</td>\n",
       "      <td>1.0</td>\n",
       "      <td>1.0</td>\n",
       "      <td>1.0</td>\n",
       "      <td>1.0</td>\n",
       "      <td>1.0</td>\n",
       "      <td>1.0</td>\n",
       "      <td>1.0</td>\n",
       "      <td>3.000000</td>\n",
       "      <td>1.0</td>\n",
       "      <td>1.0</td>\n",
       "      <td>1.0</td>\n",
       "      <td>2.000000</td>\n",
       "      <td>1.0</td>\n",
       "      <td>3.000000</td>\n",
       "      <td>1.0</td>\n",
       "      <td>1.0</td>\n",
       "      <td>1.0</td>\n",
       "    </tr>\n",
       "    <tr>\n",
       "      <th>max</th>\n",
       "      <td>1.0</td>\n",
       "      <td>30.000000</td>\n",
       "      <td>11.000000</td>\n",
       "      <td>22.000000</td>\n",
       "      <td>20.000000</td>\n",
       "      <td>20.000000</td>\n",
       "      <td>6.000000</td>\n",
       "      <td>2.000000</td>\n",
       "      <td>6.000000</td>\n",
       "      <td>24.000000</td>\n",
       "      <td>30.000000</td>\n",
       "      <td>3.000000</td>\n",
       "      <td>3.000000</td>\n",
       "      <td>5.000000</td>\n",
       "      <td>4.000000</td>\n",
       "      <td>31.000000</td>\n",
       "      <td>2.000000</td>\n",
       "      <td>3.000000</td>\n",
       "      <td>19.000000</td>\n",
       "      <td>2.000000</td>\n",
       "      <td>2.000000</td>\n",
       "      <td>2.000000</td>\n",
       "      <td>14.000000</td>\n",
       "      <td>1.0</td>\n",
       "      <td>1.0</td>\n",
       "      <td>2.000000</td>\n",
       "      <td>2.000000</td>\n",
       "      <td>2.000000</td>\n",
       "      <td>1.0</td>\n",
       "      <td>1.0</td>\n",
       "      <td>1.0</td>\n",
       "      <td>1.0</td>\n",
       "      <td>1.0</td>\n",
       "      <td>2.000000</td>\n",
       "      <td>1.0</td>\n",
       "      <td>1.0</td>\n",
       "      <td>1.0</td>\n",
       "      <td>1.0</td>\n",
       "      <td>1.0</td>\n",
       "      <td>1.0</td>\n",
       "      <td>1.0</td>\n",
       "      <td>1.0</td>\n",
       "      <td>1.0</td>\n",
       "      <td>1.0</td>\n",
       "      <td>2.000000</td>\n",
       "      <td>1.0</td>\n",
       "      <td>1.0</td>\n",
       "      <td>1.0</td>\n",
       "      <td>1.0</td>\n",
       "      <td>1.0</td>\n",
       "      <td>3.000000</td>\n",
       "      <td>1.0</td>\n",
       "      <td>2.000000</td>\n",
       "      <td>1.0</td>\n",
       "      <td>1.0</td>\n",
       "      <td>1.0</td>\n",
       "      <td>1.0</td>\n",
       "      <td>1.0</td>\n",
       "      <td>1.0</td>\n",
       "      <td>1.0</td>\n",
       "      <td>1.0</td>\n",
       "      <td>1.0</td>\n",
       "      <td>1.0</td>\n",
       "      <td>2.000000</td>\n",
       "      <td>1.0</td>\n",
       "      <td>1.0</td>\n",
       "      <td>1.0</td>\n",
       "      <td>9.000000</td>\n",
       "      <td>1.0</td>\n",
       "      <td>1.0</td>\n",
       "      <td>1.0</td>\n",
       "      <td>1.0</td>\n",
       "      <td>1.0</td>\n",
       "      <td>1.0</td>\n",
       "      <td>1.0</td>\n",
       "      <td>1.0</td>\n",
       "      <td>3.000000</td>\n",
       "      <td>1.0</td>\n",
       "      <td>1.0</td>\n",
       "      <td>1.0</td>\n",
       "      <td>1.0</td>\n",
       "      <td>1.0</td>\n",
       "      <td>1.0</td>\n",
       "      <td>1.0</td>\n",
       "      <td>1.0</td>\n",
       "      <td>1.0</td>\n",
       "      <td>1.0</td>\n",
       "      <td>1.0</td>\n",
       "      <td>1.0</td>\n",
       "      <td>1.0</td>\n",
       "      <td>1.0</td>\n",
       "      <td>1.0</td>\n",
       "      <td>1.0</td>\n",
       "      <td>1.0</td>\n",
       "      <td>1.0</td>\n",
       "      <td>1.0</td>\n",
       "      <td>1.0</td>\n",
       "      <td>1.0</td>\n",
       "      <td>1.0</td>\n",
       "      <td>1.0</td>\n",
       "      <td>1.0</td>\n",
       "      <td>1.0</td>\n",
       "      <td>1.0</td>\n",
       "      <td>1.0</td>\n",
       "      <td>1.0</td>\n",
       "      <td>1.0</td>\n",
       "      <td>1.0</td>\n",
       "      <td>1.0</td>\n",
       "      <td>1.0</td>\n",
       "      <td>3.000000</td>\n",
       "      <td>1.0</td>\n",
       "      <td>1.0</td>\n",
       "      <td>1.0</td>\n",
       "      <td>2.000000</td>\n",
       "      <td>1.0</td>\n",
       "      <td>3.000000</td>\n",
       "      <td>1.0</td>\n",
       "      <td>1.0</td>\n",
       "      <td>1.0</td>\n",
       "    </tr>\n",
       "    <tr>\n",
       "      <th>prop_more_than_1</th>\n",
       "      <td>0.0</td>\n",
       "      <td>0.005674</td>\n",
       "      <td>0.012411</td>\n",
       "      <td>0.006383</td>\n",
       "      <td>0.024113</td>\n",
       "      <td>0.012411</td>\n",
       "      <td>0.015957</td>\n",
       "      <td>0.000709</td>\n",
       "      <td>0.003901</td>\n",
       "      <td>0.026596</td>\n",
       "      <td>0.003191</td>\n",
       "      <td>0.000709</td>\n",
       "      <td>0.001773</td>\n",
       "      <td>0.009220</td>\n",
       "      <td>0.003191</td>\n",
       "      <td>0.002837</td>\n",
       "      <td>0.000355</td>\n",
       "      <td>0.001773</td>\n",
       "      <td>0.003191</td>\n",
       "      <td>0.002128</td>\n",
       "      <td>0.000355</td>\n",
       "      <td>0.000355</td>\n",
       "      <td>0.002128</td>\n",
       "      <td>0.0</td>\n",
       "      <td>0.0</td>\n",
       "      <td>0.000709</td>\n",
       "      <td>0.000355</td>\n",
       "      <td>0.001773</td>\n",
       "      <td>0.0</td>\n",
       "      <td>0.0</td>\n",
       "      <td>0.0</td>\n",
       "      <td>0.0</td>\n",
       "      <td>0.0</td>\n",
       "      <td>0.003546</td>\n",
       "      <td>0.0</td>\n",
       "      <td>0.0</td>\n",
       "      <td>0.0</td>\n",
       "      <td>0.0</td>\n",
       "      <td>0.0</td>\n",
       "      <td>0.0</td>\n",
       "      <td>0.0</td>\n",
       "      <td>0.0</td>\n",
       "      <td>0.0</td>\n",
       "      <td>0.0</td>\n",
       "      <td>0.000355</td>\n",
       "      <td>0.0</td>\n",
       "      <td>0.0</td>\n",
       "      <td>0.0</td>\n",
       "      <td>0.0</td>\n",
       "      <td>0.0</td>\n",
       "      <td>0.000355</td>\n",
       "      <td>0.0</td>\n",
       "      <td>0.001064</td>\n",
       "      <td>0.0</td>\n",
       "      <td>0.0</td>\n",
       "      <td>0.0</td>\n",
       "      <td>0.0</td>\n",
       "      <td>0.0</td>\n",
       "      <td>0.0</td>\n",
       "      <td>0.0</td>\n",
       "      <td>0.0</td>\n",
       "      <td>0.0</td>\n",
       "      <td>0.0</td>\n",
       "      <td>0.000355</td>\n",
       "      <td>0.0</td>\n",
       "      <td>0.0</td>\n",
       "      <td>0.0</td>\n",
       "      <td>0.000355</td>\n",
       "      <td>0.0</td>\n",
       "      <td>0.0</td>\n",
       "      <td>0.0</td>\n",
       "      <td>0.0</td>\n",
       "      <td>0.0</td>\n",
       "      <td>0.0</td>\n",
       "      <td>0.0</td>\n",
       "      <td>0.0</td>\n",
       "      <td>0.000355</td>\n",
       "      <td>0.0</td>\n",
       "      <td>0.0</td>\n",
       "      <td>0.0</td>\n",
       "      <td>0.0</td>\n",
       "      <td>0.0</td>\n",
       "      <td>0.0</td>\n",
       "      <td>0.0</td>\n",
       "      <td>0.0</td>\n",
       "      <td>0.0</td>\n",
       "      <td>0.0</td>\n",
       "      <td>0.0</td>\n",
       "      <td>0.0</td>\n",
       "      <td>0.0</td>\n",
       "      <td>0.0</td>\n",
       "      <td>0.0</td>\n",
       "      <td>0.0</td>\n",
       "      <td>0.0</td>\n",
       "      <td>0.0</td>\n",
       "      <td>0.0</td>\n",
       "      <td>0.0</td>\n",
       "      <td>0.0</td>\n",
       "      <td>0.0</td>\n",
       "      <td>0.0</td>\n",
       "      <td>0.0</td>\n",
       "      <td>0.0</td>\n",
       "      <td>0.0</td>\n",
       "      <td>0.0</td>\n",
       "      <td>0.0</td>\n",
       "      <td>0.0</td>\n",
       "      <td>0.0</td>\n",
       "      <td>0.0</td>\n",
       "      <td>0.0</td>\n",
       "      <td>0.000355</td>\n",
       "      <td>0.0</td>\n",
       "      <td>0.0</td>\n",
       "      <td>0.0</td>\n",
       "      <td>0.000355</td>\n",
       "      <td>0.0</td>\n",
       "      <td>0.000355</td>\n",
       "      <td>0.0</td>\n",
       "      <td>0.0</td>\n",
       "      <td>0.0</td>\n",
       "    </tr>\n",
       "  </tbody>\n",
       "</table>\n",
       "</div>"
      ],
      "text/plain": [
       "                  http://www.w3.org/1999/02/22-rdf-syntax-ns#type  \\\n",
       "min                                                           1.0   \n",
       "mean                                                          1.0   \n",
       "max                                                           1.0   \n",
       "prop_more_than_1                                              0.0   \n",
       "\n",
       "                  http://schema.org/JobPosting/title  \\\n",
       "min                                         1.000000   \n",
       "mean                                        1.025609   \n",
       "max                                        30.000000   \n",
       "prop_more_than_1                            0.005674   \n",
       "\n",
       "                  http://schema.org/JobPosting/description  \\\n",
       "min                                               1.000000   \n",
       "mean                                              1.031643   \n",
       "max                                              11.000000   \n",
       "prop_more_than_1                                  0.012411   \n",
       "\n",
       "                  http://schema.org/JobPosting/datePosted  \\\n",
       "min                                              1.000000   \n",
       "mean                                             1.027427   \n",
       "max                                             22.000000   \n",
       "prop_more_than_1                                 0.006383   \n",
       "\n",
       "                  http://schema.org/JobPosting/jobLocation  \\\n",
       "min                                               1.000000   \n",
       "mean                                              1.099830   \n",
       "max                                              20.000000   \n",
       "prop_more_than_1                                  0.024113   \n",
       "\n",
       "                  http://schema.org/JobPosting/hiringOrganization  \\\n",
       "min                                                      1.000000   \n",
       "mean                                                     1.040670   \n",
       "max                                                     20.000000   \n",
       "prop_more_than_1                                         0.012411   \n",
       "\n",
       "                  http://schema.org/JobPosting/employmentType  \\\n",
       "min                                                  1.000000   \n",
       "mean                                                 1.048758   \n",
       "max                                                  6.000000   \n",
       "prop_more_than_1                                     0.015957   \n",
       "\n",
       "                  http://schema.org/JobPosting/validThrough  \\\n",
       "min                                                1.000000   \n",
       "mean                                               1.003091   \n",
       "max                                                2.000000   \n",
       "prop_more_than_1                                   0.000709   \n",
       "\n",
       "                  http://schema.org/JobPosting/baseSalary  \\\n",
       "min                                              1.000000   \n",
       "mean                                             1.033501   \n",
       "max                                              6.000000   \n",
       "prop_more_than_1                                 0.003901   \n",
       "\n",
       "                  http://schema.org/JobPosting/industry  \\\n",
       "min                                            1.000000   \n",
       "mean                                           1.323680   \n",
       "max                                           24.000000   \n",
       "prop_more_than_1                               0.026596   \n",
       "\n",
       "                  http://schema.org/JobPosting/url  \\\n",
       "min                                       1.000000   \n",
       "mean                                      1.135652   \n",
       "max                                      30.000000   \n",
       "prop_more_than_1                          0.003191   \n",
       "\n",
       "                  http://schema.org/JobPosting/workHours  \\\n",
       "min                                             1.000000   \n",
       "mean                                            1.010563   \n",
       "max                                             3.000000   \n",
       "prop_more_than_1                                0.000709   \n",
       "\n",
       "                  http://schema.org/JobPosting/experienceRequirements  \\\n",
       "min                                                        1.000000     \n",
       "mean                                                       1.023810     \n",
       "max                                                        3.000000     \n",
       "prop_more_than_1                                           0.001773     \n",
       "\n",
       "                  http://schema.org/JobPosting/occupationalCategory  \\\n",
       "min                                                        1.000000   \n",
       "mean                                                       1.209607   \n",
       "max                                                        5.000000   \n",
       "prop_more_than_1                                           0.009220   \n",
       "\n",
       "                  http://schema.org/JobPosting/name  \\\n",
       "min                                        1.000000   \n",
       "mean                                       1.052863   \n",
       "max                                        4.000000   \n",
       "prop_more_than_1                           0.003191   \n",
       "\n",
       "                  http://schema.org/JobPosting/image  \\\n",
       "min                                         1.000000   \n",
       "mean                                        1.200000   \n",
       "max                                        31.000000   \n",
       "prop_more_than_1                            0.002837   \n",
       "\n",
       "                  http://schema.org/JobPosting/identifier  \\\n",
       "min                                              1.000000   \n",
       "mean                                             1.005076   \n",
       "max                                              2.000000   \n",
       "prop_more_than_1                                 0.000355   \n",
       "\n",
       "                  http://schema.org/JobPosting/educationRequirements  \\\n",
       "min                                                        1.000000    \n",
       "mean                                                       1.036842    \n",
       "max                                                        3.000000    \n",
       "prop_more_than_1                                           0.001773    \n",
       "\n",
       "                  http://schema.org/JobPosting/qualifications  \\\n",
       "min                                                  1.000000   \n",
       "mean                                                 1.248555   \n",
       "max                                                 19.000000   \n",
       "prop_more_than_1                                     0.003191   \n",
       "\n",
       "                  http://schema.org/JobPosting/responsibilities  \\\n",
       "min                                                    1.000000   \n",
       "mean                                                   1.039216   \n",
       "max                                                    2.000000   \n",
       "prop_more_than_1                                       0.002128   \n",
       "\n",
       "                  http://schema.org/JobPosting/salaryCurrency  \\\n",
       "min                                                  1.000000   \n",
       "mean                                                 1.008130   \n",
       "max                                                  2.000000   \n",
       "prop_more_than_1                                     0.000355   \n",
       "\n",
       "                  http://schema.org/JobPosting/address  \\\n",
       "min                                           1.000000   \n",
       "mean                                          1.008333   \n",
       "max                                           2.000000   \n",
       "prop_more_than_1                              0.000355   \n",
       "\n",
       "                  http://schema.org/JobPosting/skills  \\\n",
       "min                                          1.000000   \n",
       "mean                                         1.176471   \n",
       "max                                         14.000000   \n",
       "prop_more_than_1                             0.002128   \n",
       "\n",
       "                  http://schema.org/JobPosting/specialCommitments  \\\n",
       "min                                                           1.0   \n",
       "mean                                                          1.0   \n",
       "max                                                           1.0   \n",
       "prop_more_than_1                                              0.0   \n",
       "\n",
       "                  http://schema.org/JobPosting/about  \\\n",
       "min                                              1.0   \n",
       "mean                                             1.0   \n",
       "max                                              1.0   \n",
       "prop_more_than_1                                 0.0   \n",
       "\n",
       "                  http://schema.org/JobPosting/jobBenefits  \\\n",
       "min                                               1.000000   \n",
       "mean                                              1.039216   \n",
       "max                                               2.000000   \n",
       "prop_more_than_1                                  0.000709   \n",
       "\n",
       "                  http://schema.org/JobPosting/benefits  \\\n",
       "min                                            1.000000   \n",
       "mean                                           1.019608   \n",
       "max                                            2.000000   \n",
       "prop_more_than_1                               0.000355   \n",
       "\n",
       "                  http://schema.org/JobPosting/telephone  \\\n",
       "min                                             1.000000   \n",
       "mean                                            1.128205   \n",
       "max                                             2.000000   \n",
       "prop_more_than_1                                0.001773   \n",
       "\n",
       "                  http://schema.org/JobPosting/incentives  \\\n",
       "min                                                   1.0   \n",
       "mean                                                  1.0   \n",
       "max                                                   1.0   \n",
       "prop_more_than_1                                      0.0   \n",
       "\n",
       "                  http://schema.org/JobPosting/addressLocality  \\\n",
       "min                                                        1.0   \n",
       "mean                                                       1.0   \n",
       "max                                                        1.0   \n",
       "prop_more_than_1                                           0.0   \n",
       "\n",
       "                  http://schema.org/JobPosting/col-md-12  \\\n",
       "min                                                  1.0   \n",
       "mean                                                 1.0   \n",
       "max                                                  1.0   \n",
       "prop_more_than_1                                     0.0   \n",
       "\n",
       "                  http://schema.org/JobPosting/logo  \\\n",
       "min                                             1.0   \n",
       "mean                                            1.0   \n",
       "max                                             1.0   \n",
       "prop_more_than_1                                0.0   \n",
       "\n",
       "                  http://schema.org/JobPosting/currency  \\\n",
       "min                                                 1.0   \n",
       "mean                                                1.0   \n",
       "max                                                 1.0   \n",
       "prop_more_than_1                                    0.0   \n",
       "\n",
       "                  http://schema.org/JobPosting/value  \\\n",
       "min                                         1.000000   \n",
       "mean                                        1.666667   \n",
       "max                                         2.000000   \n",
       "prop_more_than_1                            0.003546   \n",
       "\n",
       "                  http://schema.org/JobPosting/addressRegion  \\\n",
       "min                                                      1.0   \n",
       "mean                                                     1.0   \n",
       "max                                                      1.0   \n",
       "prop_more_than_1                                         0.0   \n",
       "\n",
       "                  http://schema.org/JobPosting/incentiveCompensation  \\\n",
       "min                                                             1.0    \n",
       "mean                                                            1.0    \n",
       "max                                                             1.0    \n",
       "prop_more_than_1                                                0.0    \n",
       "\n",
       "                  http://schema.org/JobPosting/unitText  \\\n",
       "min                                                 1.0   \n",
       "mean                                                1.0   \n",
       "max                                                 1.0   \n",
       "prop_more_than_1                                    0.0   \n",
       "\n",
       "                  http://schema.org/JobPosting/postalCode  \\\n",
       "min                                                   1.0   \n",
       "mean                                                  1.0   \n",
       "max                                                   1.0   \n",
       "prop_more_than_1                                      0.0   \n",
       "\n",
       "                  http://schema.org/JobPosting/addressCountry  \\\n",
       "min                                                       1.0   \n",
       "mean                                                      1.0   \n",
       "max                                                       1.0   \n",
       "prop_more_than_1                                          0.0   \n",
       "\n",
       "                  http://schema.org/JobPosting/text  \\\n",
       "min                                             1.0   \n",
       "mean                                            1.0   \n",
       "max                                             1.0   \n",
       "prop_more_than_1                                0.0   \n",
       "\n",
       "                  http://schema.org/JobPosting/jobLocationType  \\\n",
       "min                                                        1.0   \n",
       "mean                                                       1.0   \n",
       "max                                                        1.0   \n",
       "prop_more_than_1                                           0.0   \n",
       "\n",
       "                  http://schema.org/JobPosting/estimatedSalary  \\\n",
       "min                                                        1.0   \n",
       "mean                                                       1.0   \n",
       "max                                                        1.0   \n",
       "prop_more_than_1                                           0.0   \n",
       "\n",
       "                  http://schema.org/JobPosting/facility  \\\n",
       "min                                                 1.0   \n",
       "mean                                                1.0   \n",
       "max                                                 1.0   \n",
       "prop_more_than_1                                    0.0   \n",
       "\n",
       "                  http://schema.org/JobPosting/customfield2  \\\n",
       "min                                                     1.0   \n",
       "mean                                                    1.0   \n",
       "max                                                     1.0   \n",
       "prop_more_than_1                                        0.0   \n",
       "\n",
       "                  http://schema.org/JobPosting/sameAs  \\\n",
       "min                                          1.000000   \n",
       "mean                                         1.142857   \n",
       "max                                          2.000000   \n",
       "prop_more_than_1                             0.000355   \n",
       "\n",
       "                  http://schema.org/JobPosting/date  \\\n",
       "min                                             1.0   \n",
       "mean                                            1.0   \n",
       "max                                             1.0   \n",
       "prop_more_than_1                                0.0   \n",
       "\n",
       "                  http://schema.org/JobPosting/customfield1  \\\n",
       "min                                                     1.0   \n",
       "mean                                                    1.0   \n",
       "max                                                     1.0   \n",
       "prop_more_than_1                                        0.0   \n",
       "\n",
       "                  http://schema.org/JobPosting/department  \\\n",
       "min                                                   1.0   \n",
       "mean                                                  1.0   \n",
       "max                                                   1.0   \n",
       "prop_more_than_1                                      0.0   \n",
       "\n",
       "                  http://schema.org/JobPosting/mainEntityOfPage  \\\n",
       "min                                                         1.0   \n",
       "mean                                                        1.0   \n",
       "max                                                         1.0   \n",
       "prop_more_than_1                                            0.0   \n",
       "\n",
       "                  http://schema.org/JobPosting/shifttype  \\\n",
       "min                                                  1.0   \n",
       "mean                                                 1.0   \n",
       "max                                                  1.0   \n",
       "prop_more_than_1                                     0.0   \n",
       "\n",
       "                  http://schema.org/JobPosting/contact  \\\n",
       "min                                           1.000000   \n",
       "mean                                          1.400000   \n",
       "max                                           3.000000   \n",
       "prop_more_than_1                              0.000355   \n",
       "\n",
       "                  http://schema.org/JobPosting/customfield3  \\\n",
       "min                                                     1.0   \n",
       "mean                                                    1.0   \n",
       "max                                                     1.0   \n",
       "prop_more_than_1                                        0.0   \n",
       "\n",
       "                  http://schema.org/JobPosting/potentialAction  \\\n",
       "min                                                   1.000000   \n",
       "mean                                                  1.600000   \n",
       "max                                                   2.000000   \n",
       "prop_more_than_1                                      0.001064   \n",
       "\n",
       "                  http://schema.org/JobPosting/datePublished  \\\n",
       "min                                                      1.0   \n",
       "mean                                                     1.0   \n",
       "max                                                      1.0   \n",
       "prop_more_than_1                                         0.0   \n",
       "\n",
       "                  http://schema.org/JobPosting/streetAddress  \\\n",
       "min                                                      1.0   \n",
       "mean                                                     1.0   \n",
       "max                                                      1.0   \n",
       "prop_more_than_1                                         0.0   \n",
       "\n",
       "                  http://schema.org/JobPosting/hiringOrganisation  \\\n",
       "min                                                           1.0   \n",
       "mean                                                          1.0   \n",
       "max                                                           1.0   \n",
       "prop_more_than_1                                              0.0   \n",
       "\n",
       "                  http://schema.org/JobPosting/dept  \\\n",
       "min                                             1.0   \n",
       "mean                                            1.0   \n",
       "max                                             1.0   \n",
       "prop_more_than_1                                0.0   \n",
       "\n",
       "                  http://schema.org/JobPosting/headline  \\\n",
       "min                                                 1.0   \n",
       "mean                                                1.0   \n",
       "max                                                 1.0   \n",
       "prop_more_than_1                                    0.0   \n",
       "\n",
       "                  http://schema.org/JobPosting/city  \\\n",
       "min                                             1.0   \n",
       "mean                                            1.0   \n",
       "max                                             1.0   \n",
       "prop_more_than_1                                0.0   \n",
       "\n",
       "                  http://schema.org/JobPosting/minValue  \\\n",
       "min                                                 1.0   \n",
       "mean                                                1.0   \n",
       "max                                                 1.0   \n",
       "prop_more_than_1                                    0.0   \n",
       "\n",
       "                  http://schema.org/JobPosting/responsabilities  \\\n",
       "min                                                         1.0   \n",
       "mean                                                        1.0   \n",
       "max                                                         1.0   \n",
       "prop_more_than_1                                            0.0   \n",
       "\n",
       "                  http://schema.org/JobPosting/maxValue  \\\n",
       "min                                                 1.0   \n",
       "mean                                                1.0   \n",
       "max                                                 1.0   \n",
       "prop_more_than_1                                    0.0   \n",
       "\n",
       "                  http://schema.org/JobPosting/customfield4  \\\n",
       "min                                                     1.0   \n",
       "mean                                                    1.0   \n",
       "max                                                     1.0   \n",
       "prop_more_than_1                                        0.0   \n",
       "\n",
       "                  http://schema.org/JobPosting/jobTitle  \\\n",
       "min                                            1.000000   \n",
       "mean                                           1.333333   \n",
       "max                                            2.000000   \n",
       "prop_more_than_1                               0.000355   \n",
       "\n",
       "                  http://schema.org/JobPosting/email  \\\n",
       "min                                              1.0   \n",
       "mean                                             1.0   \n",
       "max                                              1.0   \n",
       "prop_more_than_1                                 0.0   \n",
       "\n",
       "                  http://schema.org/JobPosting/author  \\\n",
       "min                                               1.0   \n",
       "mean                                              1.0   \n",
       "max                                               1.0   \n",
       "prop_more_than_1                                  0.0   \n",
       "\n",
       "                  http://schema.org/JobPosting/employmenttype  \\\n",
       "min                                                       1.0   \n",
       "mean                                                      1.0   \n",
       "max                                                       1.0   \n",
       "prop_more_than_1                                          0.0   \n",
       "\n",
       "                  http://schema.org/JobPosting/review  \\\n",
       "min                                          1.000000   \n",
       "mean                                         5.000000   \n",
       "max                                          9.000000   \n",
       "prop_more_than_1                             0.000355   \n",
       "\n",
       "                  http://schema.org/JobPosting/additionalType  \\\n",
       "min                                                       1.0   \n",
       "mean                                                      1.0   \n",
       "max                                                       1.0   \n",
       "prop_more_than_1                                          0.0   \n",
       "\n",
       "                  http://schema.org/JobPosting/jobLocation.address  \\\n",
       "min                                                            1.0   \n",
       "mean                                                           1.0   \n",
       "max                                                            1.0   \n",
       "prop_more_than_1                                               0.0   \n",
       "\n",
       "                  http://schema.org/JobPosting/businessunit  \\\n",
       "min                                                     1.0   \n",
       "mean                                                    1.0   \n",
       "max                                                     1.0   \n",
       "prop_more_than_1                                        0.0   \n",
       "\n",
       "                  http://schema.org/JobPosting/jobSalary  \\\n",
       "min                                                  1.0   \n",
       "mean                                                 1.0   \n",
       "max                                                  1.0   \n",
       "prop_more_than_1                                     0.0   \n",
       "\n",
       "                  http://schema.org/JobPosting/salary  \\\n",
       "min                                               1.0   \n",
       "mean                                              1.0   \n",
       "max                                               1.0   \n",
       "prop_more_than_1                                  0.0   \n",
       "\n",
       "                  http://schema.org/JobPosting/validTrough  \\\n",
       "min                                                    1.0   \n",
       "mean                                                   1.0   \n",
       "max                                                    1.0   \n",
       "prop_more_than_1                                       0.0   \n",
       "\n",
       "                  http://schema.org/JobPosting/significantLink  \\\n",
       "min                                                        1.0   \n",
       "mean                                                       1.0   \n",
       "max                                                        1.0   \n",
       "prop_more_than_1                                           0.0   \n",
       "\n",
       "                  http://schema.org/JobPosting/employmentUnit  \\\n",
       "min                                                       1.0   \n",
       "mean                                                      1.0   \n",
       "max                                                       1.0   \n",
       "prop_more_than_1                                          0.0   \n",
       "\n",
       "                  http://schema.org/JobPosting/joblocation  \\\n",
       "min                                               1.000000   \n",
       "mean                                              2.000000   \n",
       "max                                               3.000000   \n",
       "prop_more_than_1                                  0.000355   \n",
       "\n",
       "                  http://schema.org/JobPosting/jobStartDate  \\\n",
       "min                                                     1.0   \n",
       "mean                                                    1.0   \n",
       "max                                                     1.0   \n",
       "prop_more_than_1                                        0.0   \n",
       "\n",
       "                  http://schema.org/JobPosting/jobCategory  \\\n",
       "min                                                    1.0   \n",
       "mean                                                   1.0   \n",
       "max                                                    1.0   \n",
       "prop_more_than_1                                       0.0   \n",
       "\n",
       "                  http://schema.org/JobPosting/EventDate  \\\n",
       "min                                                  1.0   \n",
       "mean                                                 1.0   \n",
       "max                                                  1.0   \n",
       "prop_more_than_1                                     0.0   \n",
       "\n",
       "                  http://schema.org/JobPosting/publisher  \\\n",
       "min                                                  1.0   \n",
       "mean                                                 1.0   \n",
       "max                                                  1.0   \n",
       "prop_more_than_1                                     0.0   \n",
       "\n",
       "                  http://schema.org/JobPosting/dateModified  \\\n",
       "min                                                     1.0   \n",
       "mean                                                    1.0   \n",
       "max                                                     1.0   \n",
       "prop_more_than_1                                        0.0   \n",
       "\n",
       "                  http://schema.org/JobPosting/member  \\\n",
       "min                                               1.0   \n",
       "mean                                              1.0   \n",
       "max                                               1.0   \n",
       "prop_more_than_1                                  0.0   \n",
       "\n",
       "                  http://schema.org/JobPosting/contentUrl  \\\n",
       "min                                                   1.0   \n",
       "mean                                                  1.0   \n",
       "max                                                   1.0   \n",
       "prop_more_than_1                                      0.0   \n",
       "\n",
       "                  http://schema.org/JobPosting/blogPost  \\\n",
       "min                                                 1.0   \n",
       "mean                                                1.0   \n",
       "max                                                 1.0   \n",
       "prop_more_than_1                                    0.0   \n",
       "\n",
       "                  http://schema.org/JobPosting/jobCity  \\\n",
       "min                                                1.0   \n",
       "mean                                               1.0   \n",
       "max                                                1.0   \n",
       "prop_more_than_1                                   0.0   \n",
       "\n",
       "                  http://schema.org/JobPosting/thumbnailUrl  \\\n",
       "min                                                     1.0   \n",
       "mean                                                    1.0   \n",
       "max                                                     1.0   \n",
       "prop_more_than_1                                        0.0   \n",
       "\n",
       "                  http://schema.org/JobPosting/location  \\\n",
       "min                                                 1.0   \n",
       "mean                                                1.0   \n",
       "max                                                 1.0   \n",
       "prop_more_than_1                                    0.0   \n",
       "\n",
       "                  http://schema.org/JobPosting/photo  \\\n",
       "min                                              1.0   \n",
       "mean                                             1.0   \n",
       "max                                              1.0   \n",
       "prop_more_than_1                                 0.0   \n",
       "\n",
       "                  http://schema.org/JobPosting/jobExpires  \\\n",
       "min                                                   1.0   \n",
       "mean                                                  1.0   \n",
       "max                                                   1.0   \n",
       "prop_more_than_1                                      0.0   \n",
       "\n",
       "                  http://schema.org/JobPosting/alternateName  \\\n",
       "min                                                      1.0   \n",
       "mean                                                     1.0   \n",
       "max                                                      1.0   \n",
       "prop_more_than_1                                         0.0   \n",
       "\n",
       "                  http://schema.org/JobPosting/dateposted  \\\n",
       "min                                                   1.0   \n",
       "mean                                                  1.0   \n",
       "max                                                   1.0   \n",
       "prop_more_than_1                                      0.0   \n",
       "\n",
       "                  http://schema.org/JobPosting/jobLocationAddress  \\\n",
       "min                                                           1.0   \n",
       "mean                                                          1.0   \n",
       "max                                                           1.0   \n",
       "prop_more_than_1                                              0.0   \n",
       "\n",
       "                  http://schema.org/JobPosting/jobReference  \\\n",
       "min                                                     1.0   \n",
       "mean                                                    1.0   \n",
       "max                                                     1.0   \n",
       "prop_more_than_1                                        0.0   \n",
       "\n",
       "                  http://schema.org/JobPosting/urllink  \\\n",
       "min                                                1.0   \n",
       "mean                                               1.0   \n",
       "max                                                1.0   \n",
       "prop_more_than_1                                   0.0   \n",
       "\n",
       "                  http://schema.org/JobPosting/agent  \\\n",
       "min                                              1.0   \n",
       "mean                                             1.0   \n",
       "max                                              1.0   \n",
       "prop_more_than_1                                 0.0   \n",
       "\n",
       "                  http://schema.org/JobPosting/dateCreated  \\\n",
       "min                                                    1.0   \n",
       "mean                                                   1.0   \n",
       "max                                                    1.0   \n",
       "prop_more_than_1                                       0.0   \n",
       "\n",
       "                  http://schema.org/JobPosting/RequirementsDescription  \\\n",
       "min                                                             1.0      \n",
       "mean                                                            1.0      \n",
       "max                                                             1.0      \n",
       "prop_more_than_1                                                0.0      \n",
       "\n",
       "                  http://schema.org/JobPosting/keywords  \\\n",
       "min                                                 1.0   \n",
       "mean                                                1.0   \n",
       "max                                                 1.0   \n",
       "prop_more_than_1                                    0.0   \n",
       "\n",
       "                  http://schema.org/JobPosting/jobExperience  \\\n",
       "min                                                      1.0   \n",
       "mean                                                     1.0   \n",
       "max                                                      1.0   \n",
       "prop_more_than_1                                         0.0   \n",
       "\n",
       "                  http://schema.org/JobPosting/jobstartdate  \\\n",
       "min                                                     1.0   \n",
       "mean                                                    1.0   \n",
       "max                                                     1.0   \n",
       "prop_more_than_1                                        0.0   \n",
       "\n",
       "                  http://schema.org/JobPosting/dateExpires  \\\n",
       "min                                                    1.0   \n",
       "mean                                                   1.0   \n",
       "max                                                    1.0   \n",
       "prop_more_than_1                                       0.0   \n",
       "\n",
       "                  https://schema.org/experienceRequirements  \\\n",
       "min                                                     1.0   \n",
       "mean                                                    1.0   \n",
       "max                                                     1.0   \n",
       "prop_more_than_1                                        0.0   \n",
       "\n",
       "                  http://schema.org/JobPosting/adcode  \\\n",
       "min                                               1.0   \n",
       "mean                                              1.0   \n",
       "max                                               1.0   \n",
       "prop_more_than_1                                  0.0   \n",
       "\n",
       "                  http://schema.org/JobPosting/customfield5  \\\n",
       "min                                                     1.0   \n",
       "mean                                                    1.0   \n",
       "max                                                     1.0   \n",
       "prop_more_than_1                                        0.0   \n",
       "\n",
       "                  http://schema.org/JobPosting/funder  \\\n",
       "min                                               1.0   \n",
       "mean                                              1.0   \n",
       "max                                               1.0   \n",
       "prop_more_than_1                                  0.0   \n",
       "\n",
       "                  http://schema.org/JobPosting/zip  \\\n",
       "min                                            1.0   \n",
       "mean                                           1.0   \n",
       "max                                            1.0   \n",
       "prop_more_than_1                               0.0   \n",
       "\n",
       "                  http://schema.org/JobPosting/country  \\\n",
       "min                                                1.0   \n",
       "mean                                               1.0   \n",
       "max                                                1.0   \n",
       "prop_more_than_1                                   0.0   \n",
       "\n",
       "                  http://schema.org/JobPosting/disambiguatingDescription  \\\n",
       "min                                                             1.0        \n",
       "mean                                                            1.0        \n",
       "max                                                             1.0        \n",
       "prop_more_than_1                                                0.0        \n",
       "\n",
       "                  http://schema.org/JobPosting/relatedLink  \\\n",
       "min                                               3.000000   \n",
       "mean                                              3.000000   \n",
       "max                                               3.000000   \n",
       "prop_more_than_1                                  0.000355   \n",
       "\n",
       "                  http://schema.org/JobPosting/expirienceRequirements  \\\n",
       "min                                                             1.0     \n",
       "mean                                                            1.0     \n",
       "max                                                             1.0     \n",
       "prop_more_than_1                                                0.0     \n",
       "\n",
       "                  http://schema.org/JobPosting/Responsibilities  \\\n",
       "min                                                         1.0   \n",
       "mean                                                        1.0   \n",
       "max                                                         1.0   \n",
       "prop_more_than_1                                            0.0   \n",
       "\n",
       "                  http://schema.org/JobPosting/startTime  \\\n",
       "min                                                  1.0   \n",
       "mean                                                 1.0   \n",
       "max                                                  1.0   \n",
       "prop_more_than_1                                     0.0   \n",
       "\n",
       "                  http://schema.org/JobPosting/jobcategory  \\\n",
       "min                                               2.000000   \n",
       "mean                                              2.000000   \n",
       "max                                               2.000000   \n",
       "prop_more_than_1                                  0.000355   \n",
       "\n",
       "                  http://schema.org/JobPosting/txt_inline  \\\n",
       "min                                                   1.0   \n",
       "mean                                                  1.0   \n",
       "max                                                   1.0   \n",
       "prop_more_than_1                                      0.0   \n",
       "\n",
       "                  http://schema.org/JobPosting/skillRequirements  \\\n",
       "min                                                     3.000000   \n",
       "mean                                                    3.000000   \n",
       "max                                                     3.000000   \n",
       "prop_more_than_1                                        0.000355   \n",
       "\n",
       "                  http://schema.org/JobPosting/genre  \\\n",
       "min                                              1.0   \n",
       "mean                                             1.0   \n",
       "max                                              1.0   \n",
       "prop_more_than_1                                 0.0   \n",
       "\n",
       "                  http://schema.org/JobPosting/comment  \\\n",
       "min                                                1.0   \n",
       "mean                                               1.0   \n",
       "max                                                1.0   \n",
       "prop_more_than_1                                   0.0   \n",
       "\n",
       "                  http://schema.org/JobPosting/startDate  \n",
       "min                                                  1.0  \n",
       "mean                                                 1.0  \n",
       "max                                                  1.0  \n",
       "prop_more_than_1                                     0.0  "
      ]
     },
     "execution_count": 494,
     "metadata": {},
     "output_type": "execute_result"
    }
   ],
   "source": [
    "m_counts.agg(['min', 'mean', 'max', prop_more_than_1])[m_missing.index]"
   ]
  },
  {
   "cell_type": "markdown",
   "metadata": {},
   "source": [
    "## Deeper analysis"
   ]
  },
  {
   "cell_type": "code",
   "execution_count": 510,
   "metadata": {},
   "outputs": [],
   "source": [
    "SDO = rdflib.namespace.Namespace('http://schema.org/')\n",
    "def extract_property(graphs, sdo_type):\n",
    "    predicate = SDO[sdo_type]\n",
    "    for items in ([graph_to_dict(graph, o) if isinstance(o, rdflib.term.BNode) else o.toPython() for o in graph.objects(s, predicate)] for graph, s in graphs):\n",
    "        if items:\n",
    "            yield items"
   ]
  },
  {
   "cell_type": "code",
   "execution_count": 606,
   "metadata": {},
   "outputs": [],
   "source": [
    "SDO = rdflib.namespace.Namespace('http://schema.org/')\n",
    "def extract_types(graphs, sdo_type):\n",
    "    predicate = SDO[sdo_type]\n",
    "    for graph, s in graphs:\n",
    "        items = list(graph.objects(s, predicate))\n",
    "        if items:\n",
    "            item = items[0]\n",
    "            if isinstance(item, rdflib.term.BNode):\n",
    "                try:\n",
    "                    dtype = list(graph.objects(item, rdflib.namespace.RDF.type))\n",
    "                    yield dtype[0].toPython()\n",
    "                except Exception:\n",
    "                    yield 'Unknown Object'\n",
    "            elif isinstance(item, rdflib.term.Literal):\n",
    "                dtype = type(item.toPython())\n",
    "                if dtype == rdflib.term.Literal:\n",
    "                    yield item.datatype.toPython()\n",
    "                else:\n",
    "                    yield dtype\n",
    "            elif isinstance(item, rdflib.term.URIRef):\n",
    "                yield 'URI'\n",
    "            else:\n",
    "                yield 'Unknown'"
   ]
  },
  {
   "cell_type": "markdown",
   "metadata": {},
   "source": [
    "### Title"
   ]
  },
  {
   "cell_type": "code",
   "execution_count": 607,
   "metadata": {},
   "outputs": [
    {
     "data": {
      "text/plain": [
       "(Counter({str: 1832}), Counter({str: 2272, 'URI': 110}))"
      ]
     },
     "execution_count": 607,
     "metadata": {},
     "output_type": "execute_result"
    }
   ],
   "source": [
    "Counter(extract_types(json_graphs, 'title')), Counter(extract_types(graphs, 'JobPosting/title'))"
   ]
  },
  {
   "cell_type": "code",
   "execution_count": 666,
   "metadata": {},
   "outputs": [
    {
     "data": {
      "text/plain": [
       "[['Category Manager - Prof. Audio Visual Solutions'],\n",
       " ['Stage Commerciële Economie'],\n",
       " ['Poster Distributor Wanted'],\n",
       " ['Montréal - Machiniste - Anglais - Français'],\n",
       " ['PT Faculty Pool - Apprenticeship/Electrical IID']]"
      ]
     },
     "execution_count": 666,
     "metadata": {},
     "output_type": "execute_result"
    }
   ],
   "source": [
    "list(extract_property(json_graphs, 'title'))[:5]"
   ]
  },
  {
   "cell_type": "code",
   "execution_count": 667,
   "metadata": {},
   "outputs": [
    {
     "data": {
      "text/plain": [
       "[['ADDETTO ALLA PIANIFICAZIONE DELLA PRODUZIONE JUNIOR'],\n",
       " ['Psychiatric Nurse Practitioner'],\n",
       " ['Visual Merchandiser ZARA Men Arnhem (fulltime)'],\n",
       " ['\\n\\t\\t\\t\\t\\tبحاجة الى العمل دكتور صيدلي\\t\\t\\t\\t\\t26 مشاهدة\\t\\t\\t\\t'],\n",
       " ['Philadelphia-Housekeepers']]"
      ]
     },
     "execution_count": 667,
     "metadata": {},
     "output_type": "execute_result"
    }
   ],
   "source": [
    "list(extract_property(graphs, 'JobPosting/title'))[:5]"
   ]
  },
  {
   "cell_type": "markdown",
   "metadata": {},
   "source": [
    "### Description"
   ]
  },
  {
   "cell_type": "code",
   "execution_count": 608,
   "metadata": {},
   "outputs": [
    {
     "data": {
      "text/plain": [
       "(Counter({str: 1827}), Counter({str: 2149}))"
      ]
     },
     "execution_count": 608,
     "metadata": {},
     "output_type": "execute_result"
    }
   ],
   "source": [
    "Counter(extract_types(json_graphs, 'description')), Counter(extract_types(graphs, 'JobPosting/description'))"
   ]
  },
  {
   "cell_type": "markdown",
   "metadata": {},
   "source": [
    "### JobLocation"
   ]
  },
  {
   "cell_type": "code",
   "execution_count": 609,
   "metadata": {},
   "outputs": [
    {
     "data": {
      "text/plain": [
       "(Counter({'http://schema.org/Place': 1760,\n",
       "          'Unknown Object': 27,\n",
       "          'http://schema.org/place': 8,\n",
       "          str: 1,\n",
       "          'http://schema.org/Country': 2}),\n",
       " Counter({'http://schema.org/Place': 1347,\n",
       "          str: 361,\n",
       "          'URI': 24,\n",
       "          'https://schema.org/Place': 11,\n",
       "          'http:/schema.orgPlace': 17,\n",
       "          'http://schema.org/PostalAddress': 1,\n",
       "          'Unknown Object': 1,\n",
       "          'http://schema.org/City': 1}))"
      ]
     },
     "execution_count": 609,
     "metadata": {},
     "output_type": "execute_result"
    }
   ],
   "source": [
    "Counter(extract_types(json_graphs, 'jobLocation')), Counter(extract_types(graphs, 'JobPosting/jobLocation'))"
   ]
  },
  {
   "cell_type": "code",
   "execution_count": 670,
   "metadata": {},
   "outputs": [
    {
     "data": {
      "text/plain": [
       "[[{'http://www.w3.org/1999/02/22-rdf-syntax-ns#type': ['http://schema.org/Place'],\n",
       "   'http://schema.org/address': [{'http://schema.org/addressCountry': ['United States'],\n",
       "     'http://schema.org/addressLocality': ['Glenview'],\n",
       "     'http://schema.org/addressRegion': ['IL'],\n",
       "     'http://schema.org/postalCode': ['60026'],\n",
       "     'http://www.w3.org/1999/02/22-rdf-syntax-ns#type': ['http://schema.org/PostalAddress']}],\n",
       "   '_label': ['http://jobs.anixter.com/jobs/inventory-management/glenview-il-60026-/category-manager-prof-audio-visual-solutions/153414552962719?lang=en_us']}],\n",
       " [{'http://www.w3.org/1999/02/22-rdf-syntax-ns#type': ['http://schema.org/Place'],\n",
       "   'http://schema.org/address': [{'http://schema.org/addressCountry': ['NL'],\n",
       "     'http://schema.org/postalCode': ['5223 MA'],\n",
       "     'http://schema.org/addressLocality': ['Den Bosch'],\n",
       "     'http://schema.org/addressRegion': ['NB'],\n",
       "     'http://www.w3.org/1999/02/22-rdf-syntax-ns#type': ['http://schema.org/PostalAddress']}],\n",
       "   '_label': ['http://stage.socialdeal.nl/o/stage-commerciele-economie-2']}],\n",
       " [{'http://www.w3.org/1999/02/22-rdf-syntax-ns#type': ['http://schema.org/Place'],\n",
       "   'http://schema.org/address': [{'http://schema.org/postalCode': ['SL6 8ND'],\n",
       "     'http://schema.org/addressLocality': ['Maidenhead'],\n",
       "     'http://schema.org/addressCountry': ['GB'],\n",
       "     'http://schema.org/streetAddress': ['21 Lassell Gardens'],\n",
       "     'http://schema.org/addressRegion': ['Berkshire'],\n",
       "     'http://www.w3.org/1999/02/22-rdf-syntax-ns#type': ['http://schema.org/PostalAddress']}],\n",
       "   '_label': ['http://www.poster-campaign.com/poster-distributors/']}]]"
      ]
     },
     "execution_count": 670,
     "metadata": {},
     "output_type": "execute_result"
    }
   ],
   "source": [
    "list(extract_property(json_graphs, 'jobLocation'))[:3]"
   ]
  },
  {
   "cell_type": "code",
   "execution_count": 671,
   "metadata": {},
   "outputs": [
    {
     "data": {
      "text/plain": [
       "[[{'http://schema.org/Place/address': [{'http://schema.org/PostalAddress/addressLocality': ['Reggio Emilia provincia'],\n",
       "     'http://www.w3.org/1999/02/22-rdf-syntax-ns#type': ['http://schema.org/PostalAddress'],\n",
       "     'http://schema.org/PostalAddress/addressRegion': ['Regione Emilia Romagna']}],\n",
       "   'http://www.w3.org/1999/02/22-rdf-syntax-ns#type': ['http://schema.org/Place'],\n",
       "   '_label': ['http://cambiolavoro.com/clav/bacheca.nsf/AnnunciDiLavoroNew/ADDETTO_ALLA_PIANIFICAZIONE_DELLA_PRODUZIONE_JUNIOR_REGIONE_EMILIA_ROMAGNA_REGGIO_EMILIA_2F4B6DB7F4B2420DC1258486004FDCCA?OpenDocument']}],\n",
       " [{'http://www.w3.org/1999/02/22-rdf-syntax-ns#type': ['http://schema.org/Place'],\n",
       "   'http://schema.org/Place/address': [{'http://www.w3.org/1999/02/22-rdf-syntax-ns#type': ['http://schema.org/PostalAddress'],\n",
       "     'http://schema.org/PostalAddress/addressRegion': ['NV'],\n",
       "     'http://schema.org/PostalAddress/addressLocality': ['Pahrump']}],\n",
       "   '_label': ['http://careers.cnsjobmarket.psychiatrist.com/jobs/psychiatric-nurse-practitioner-pahrump-nv-108424726-d']},\n",
       "  {'http://www.w3.org/1999/02/22-rdf-syntax-ns#type': ['http://schema.org/Place'],\n",
       "   'http://schema.org/Place/address': [{'http://www.w3.org/1999/02/22-rdf-syntax-ns#type': ['http://schema.org/PostalAddress'],\n",
       "     'http://schema.org/PostalAddress/addressRegion': ['NV'],\n",
       "     'http://schema.org/PostalAddress/addressLocality': ['Pahrump']}],\n",
       "   '_label': ['http://careers.cnsjobmarket.psychiatrist.com/jobs/psychiatric-nurse-practitioner-pahrump-nv-108424726-d']}],\n",
       " [{'http://schema.org/Place/address': ['Arnhem'],\n",
       "   'http://www.w3.org/1999/02/22-rdf-syntax-ns#type': ['http://schema.org/Place'],\n",
       "   '_label': ['http://emploi.lalibre.be/fr/emploi/37819/visual-merchandiser-zara-men-arnhem-fulltime']}]]"
      ]
     },
     "execution_count": 671,
     "metadata": {},
     "output_type": "execute_result"
    }
   ],
   "source": [
    "list(extract_property(graphs, 'JobPosting/jobLocation'))[:3]"
   ]
  },
  {
   "cell_type": "code",
   "execution_count": 734,
   "metadata": {},
   "outputs": [],
   "source": [
    "def extract_subtype(rdf_type, subtype, json=True):\n",
    "    if json:\n",
    "        data_graphs = json_graphs\n",
    "    else:\n",
    "        data_graphs = graphs\n",
    "        rdf_type = 'JobPosting/' + rdf_type\n",
    "    return [loc[0] for loc in extract_property(data_graphs, rdf_type) if loc and isinstance(loc[0], dict) and loc[0].get('http://www.w3.org/1999/02/22-rdf-syntax-ns#type') == ['http://schema.org/' + subtype]]"
   ]
  },
  {
   "cell_type": "markdown",
   "metadata": {},
   "source": [
    "Totals (1843, 2820)"
   ]
  },
  {
   "cell_type": "markdown",
   "metadata": {},
   "source": [
    "Common attributes for jobLocation"
   ]
  },
  {
   "cell_type": "code",
   "execution_count": 749,
   "metadata": {},
   "outputs": [
    {
     "data": {
      "text/plain": [
       "Counter({'http://www.w3.org/1999/02/22-rdf-syntax-ns#type': 1760,\n",
       "         'http://schema.org/address': 1739,\n",
       "         '_label': 1760,\n",
       "         'http://schema.org/geo': 100,\n",
       "         'http://schema.org/name': 55,\n",
       "         'http://schema.org/country': 4,\n",
       "         'http://schema.org/url': 4,\n",
       "         'http://schema.org/description': 1,\n",
       "         'http://schema.org/additionalProperty': 2,\n",
       "         'http://schema.org/image': 1,\n",
       "         'http://schema.org/Address': 1})"
      ]
     },
     "execution_count": 749,
     "metadata": {},
     "output_type": "execute_result"
    }
   ],
   "source": [
    "Counter(y for x in extract_subtype('jobLocation', 'Place') for y in x)"
   ]
  },
  {
   "cell_type": "code",
   "execution_count": 750,
   "metadata": {},
   "outputs": [
    {
     "data": {
      "text/plain": [
       "Counter({'http://schema.org/Place/address': 1236,\n",
       "         'http://www.w3.org/1999/02/22-rdf-syntax-ns#type': 1347,\n",
       "         '_label': 1347,\n",
       "         'http://schema.org/Place/name': 38,\n",
       "         'http://schema.org/Place/addressLocality': 20,\n",
       "         'http://schema.org/Place/geo': 17,\n",
       "         'http://schema.org/Place/datePosted': 10,\n",
       "         'http://schema.org/Place/telephone': 9,\n",
       "         'http://schema.org/Place/addressRegion': 12,\n",
       "         'http://schema.org/Place/Address': 1,\n",
       "         'http://schema.org/Place/hasMap': 2,\n",
       "         'http://schema.org/Place/postalCode': 3,\n",
       "         'http://schema.org/Place/streetAddress': 4,\n",
       "         'http://schema.org/Place/url': 1,\n",
       "         'http://schema.org/Place/telepohone': 1,\n",
       "         'http://schema.org/Place/jobLocation': 1})"
      ]
     },
     "execution_count": 750,
     "metadata": {},
     "output_type": "execute_result"
    }
   ],
   "source": [
    "Counter(y for x in extract_subtype('jobLocation', 'Place', False) for y in x)"
   ]
  },
  {
   "cell_type": "markdown",
   "metadata": {},
   "source": [
    "#### Job Location - Address"
   ]
  },
  {
   "cell_type": "code",
   "execution_count": 790,
   "metadata": {},
   "outputs": [],
   "source": [
    "c = Counter()\n",
    "for x in extract_subtype('jobLocation', 'Place'):\n",
    "    address = x.get('http://schema.org/address')\n",
    "    if address:\n",
    "        if isinstance(address[0], dict) and 'http://www.w3.org/1999/02/22-rdf-syntax-ns#type' in address[0]:\n",
    "            c.update([address[0]['http://www.w3.org/1999/02/22-rdf-syntax-ns#type'][0]])\n",
    "        else:\n",
    "            c.update([type(address[0])])"
   ]
  },
  {
   "cell_type": "code",
   "execution_count": 791,
   "metadata": {},
   "outputs": [
    {
     "data": {
      "text/plain": [
       "Counter({'http://schema.org/PostalAddress': 1559,\n",
       "         dict: 148,\n",
       "         'http://schema.org/postalAddress': 6,\n",
       "         str: 26})"
      ]
     },
     "execution_count": 791,
     "metadata": {},
     "output_type": "execute_result"
    }
   ],
   "source": [
    "c"
   ]
  },
  {
   "cell_type": "code",
   "execution_count": 795,
   "metadata": {},
   "outputs": [],
   "source": [
    "c = Counter()\n",
    "for x in extract_subtype('jobLocation', 'Place', False):\n",
    "    address = x.get('http://schema.org/Place/address')\n",
    "    if address:\n",
    "        if isinstance(address[0], dict) and 'http://www.w3.org/1999/02/22-rdf-syntax-ns#type' in address[0]:\n",
    "            c.update([address[0]['http://www.w3.org/1999/02/22-rdf-syntax-ns#type'][0]])\n",
    "        else:\n",
    "            c.update([type(address[0])])"
   ]
  },
  {
   "cell_type": "code",
   "execution_count": 796,
   "metadata": {},
   "outputs": [
    {
     "data": {
      "text/plain": [
       "Counter({'http://schema.org/PostalAddress': 1143,\n",
       "         str: 60,\n",
       "         'http://schema.org/Postaladdress': 19,\n",
       "         'http:/schema.orgPostalAddress': 13,\n",
       "         'http://schema.org/Address': 1})"
      ]
     },
     "execution_count": 796,
     "metadata": {},
     "output_type": "execute_result"
    }
   ],
   "source": [
    "c"
   ]
  },
  {
   "cell_type": "code",
   "execution_count": 786,
   "metadata": {},
   "outputs": [],
   "source": [
    "c = Counter()\n",
    "for x in extract_subtype('jobLocation', 'Place'):\n",
    "    address = x.get('http://schema.org/address')\n",
    "    if address and isinstance(address[0], dict):\n",
    "        c.update(address[0].keys())"
   ]
  },
  {
   "cell_type": "code",
   "execution_count": 821,
   "metadata": {},
   "outputs": [
    {
     "name": "stdout",
     "output_type": "stream",
     "text": [
      "UK\n",
      "N1H 3A1\n",
      "Amsterdam \n",
      "台灣台北市中正區襄陽路一號\n",
      "Industriveien 6,&amp;#xD; 2020 Skedsmokorset&amp;#xD;&amp;#xA;\n",
      "\n",
      "Chaponnay, Rhône-Alpes, Rhône, France\n",
      "東京都　千葉県　神奈川県　埼玉県を中心とした取引先企業\r\n",
      "※勤務地はご希望に応じます。\r\n",
      "※関東圏内での転勤の可能性あり\n",
      "China\n",
      "�ｿｽ�ｿｽ�ｿｽ鼬ｧ�ｿｽF�ｿｽ�ｿｽ�ｿｽs�ｿｽ�ｿｽc�ｿｽR�ｿｽ�ｿｽ966�ｿｽF�ｿｽ�ｿｽ�ｿｽ�ｿｽ�ｿｽ�ｿｽ�ｿｽ�ｿｽ�ｿｽﾝ地\n",
      "Symonds Yat East, Wye Valley\n"
     ]
    }
   ],
   "source": [
    "i = 0\n",
    "for x in extract_subtype('jobLocation', 'Place'):\n",
    "    address = x.get('http://schema.org/address')\n",
    "    if address and isinstance(address[0], str):\n",
    "        print(address[0])\n",
    "        i+=1\n",
    "        if i > 10: break"
   ]
  },
  {
   "cell_type": "code",
   "execution_count": 787,
   "metadata": {},
   "outputs": [
    {
     "data": {
      "text/plain": [
       "Counter({'http://schema.org/addressCountry': 1423,\n",
       "         'http://schema.org/addressLocality': 1643,\n",
       "         'http://schema.org/addressRegion': 1509,\n",
       "         'http://schema.org/postalCode': 994,\n",
       "         'http://www.w3.org/1999/02/22-rdf-syntax-ns#type': 1565,\n",
       "         'http://schema.org/streetAddress': 628,\n",
       "         'http://schema.org/url': 1,\n",
       "         'http://schema.org/name': 20,\n",
       "         'http://schema.org/postalcode': 1,\n",
       "         'http://schema.org/streetaddress': 1})"
      ]
     },
     "execution_count": 787,
     "metadata": {},
     "output_type": "execute_result"
    }
   ],
   "source": [
    "c"
   ]
  },
  {
   "cell_type": "markdown",
   "metadata": {},
   "source": [
    "md"
   ]
  },
  {
   "cell_type": "code",
   "execution_count": 797,
   "metadata": {},
   "outputs": [],
   "source": [
    "c = Counter()\n",
    "for x in extract_subtype('jobLocation', 'Place', False):\n",
    "    address = x.get('http://schema.org/Place/address')\n",
    "    if address and isinstance(address[0], dict):\n",
    "        c.update(address[0].keys())"
   ]
  },
  {
   "cell_type": "code",
   "execution_count": 798,
   "metadata": {},
   "outputs": [
    {
     "data": {
      "text/plain": [
       "Counter({'http://schema.org/PostalAddress/addressLocality': 962,\n",
       "         'http://www.w3.org/1999/02/22-rdf-syntax-ns#type': 1176,\n",
       "         'http://schema.org/PostalAddress/addressRegion': 857,\n",
       "         'http://schema.org/PostalAddress/postalCode': 354,\n",
       "         'http://schema.org/PostalAddress/addressCountry': 447,\n",
       "         'http://schema.org/PostalAddress/streetAddress': 206,\n",
       "         'http://schema.org/Postaladdress/addressLocality': 19,\n",
       "         'http://schema.org/PostalAddress/url': 2,\n",
       "         'http://schema.org/Postaladdress/addressRegion': 5,\n",
       "         'http://schema.org/PostalAddress/addresscountry': 1,\n",
       "         'http://schema.org/PostalAddress/name': 5,\n",
       "         'http://schema.org/PostalAddress/telephone': 10,\n",
       "         'http://schema.org/Address/addressLocality': 1,\n",
       "         'http://schema.org/PostalAddress/geo': 1})"
      ]
     },
     "execution_count": 798,
     "metadata": {},
     "output_type": "execute_result"
    }
   ],
   "source": [
    "c"
   ]
  },
  {
   "cell_type": "markdown",
   "metadata": {},
   "source": [
    "#### name"
   ]
  },
  {
   "cell_type": "code",
   "execution_count": 822,
   "metadata": {},
   "outputs": [
    {
     "data": {
      "text/plain": [
       "Counter({str: 55})"
      ]
     },
     "execution_count": 822,
     "metadata": {},
     "output_type": "execute_result"
    }
   ],
   "source": [
    "c = Counter()\n",
    "for x in extract_subtype('jobLocation', 'Place'):\n",
    "    address = x.get('http://schema.org/name')\n",
    "    if address:\n",
    "        if isinstance(address[0], dict) and 'http://www.w3.org/1999/02/22-rdf-syntax-ns#type' in address[0]:\n",
    "            c.update([address[0]['http://www.w3.org/1999/02/22-rdf-syntax-ns#type'][0]])\n",
    "        else:\n",
    "            c.update([type(address[0])])\n",
    "c"
   ]
  },
  {
   "cell_type": "code",
   "execution_count": 823,
   "metadata": {},
   "outputs": [
    {
     "data": {
      "text/plain": [
       "Counter({str: 38})"
      ]
     },
     "execution_count": 823,
     "metadata": {},
     "output_type": "execute_result"
    }
   ],
   "source": [
    "c = Counter()\n",
    "for x in extract_subtype('jobLocation', 'Place', False):\n",
    "    address = x.get('http://schema.org/Place/name')\n",
    "    if address:\n",
    "        if isinstance(address[0], dict) and 'http://www.w3.org/1999/02/22-rdf-syntax-ns#type' in address[0]:\n",
    "            c.update([address[0]['http://www.w3.org/1999/02/22-rdf-syntax-ns#type'][0]])\n",
    "        else:\n",
    "            c.update([type(address[0])])\n",
    "c"
   ]
  },
  {
   "cell_type": "code",
   "execution_count": 824,
   "metadata": {},
   "outputs": [
    {
     "name": "stdout",
     "output_type": "stream",
     "text": [
      "Southwark\n",
      "Birmingham\n",
      "Johnson &amp;amp; Johnson\n",
      "Wick, Caithness\n",
      "Cumbria\n"
     ]
    }
   ],
   "source": [
    "i = 0\n",
    "for x in extract_subtype('jobLocation', 'Place'):\n",
    "    address = x.get('http://schema.org/name')\n",
    "    if address:\n",
    "        print(address[0])\n",
    "        i += 1\n",
    "        if i>=5: break"
   ]
  },
  {
   "cell_type": "code",
   "execution_count": 825,
   "metadata": {},
   "outputs": [
    {
     "name": "stdout",
     "output_type": "stream",
     "text": [
      "Benin\n",
      "Amberg\n",
      "Челябинск\n",
      "Arlon\n",
      "Город:\n"
     ]
    }
   ],
   "source": [
    "i = 0\n",
    "for x in extract_subtype('jobLocation', 'Place', False):\n",
    "    address = x.get('http://schema.org/Place/name')\n",
    "    if address:\n",
    "        print(address[0])\n",
    "        i += 1\n",
    "        if i>=5: break"
   ]
  },
  {
   "cell_type": "markdown",
   "metadata": {},
   "source": [
    "#### geo"
   ]
  },
  {
   "cell_type": "code",
   "execution_count": 799,
   "metadata": {},
   "outputs": [],
   "source": [
    "c = Counter()\n",
    "for x in extract_subtype('jobLocation', 'Place'):\n",
    "    address = x.get('http://schema.org/geo')\n",
    "    if address:\n",
    "        if isinstance(address[0], dict) and 'http://www.w3.org/1999/02/22-rdf-syntax-ns#type' in address[0]:\n",
    "            c.update([address[0]['http://www.w3.org/1999/02/22-rdf-syntax-ns#type'][0]])\n",
    "        else:\n",
    "            c.update([type(address[0])])"
   ]
  },
  {
   "cell_type": "code",
   "execution_count": 800,
   "metadata": {},
   "outputs": [
    {
     "data": {
      "text/plain": [
       "Counter({'http://schema.org/GeoCoordinates': 100})"
      ]
     },
     "execution_count": 800,
     "metadata": {},
     "output_type": "execute_result"
    }
   ],
   "source": [
    "c"
   ]
  },
  {
   "cell_type": "code",
   "execution_count": 801,
   "metadata": {},
   "outputs": [],
   "source": [
    "c = Counter()\n",
    "for x in extract_subtype('jobLocation', 'Place', False):\n",
    "    address = x.get('http://schema.org/Place/geo')\n",
    "    if address:\n",
    "        if isinstance(address[0], dict) and 'http://www.w3.org/1999/02/22-rdf-syntax-ns#type' in address[0]:\n",
    "            c.update([address[0]['http://www.w3.org/1999/02/22-rdf-syntax-ns#type'][0]])\n",
    "        else:\n",
    "            c.update([type(address[0])])"
   ]
  },
  {
   "cell_type": "code",
   "execution_count": 802,
   "metadata": {},
   "outputs": [
    {
     "data": {
      "text/plain": [
       "Counter({'http://schema.org/GeoCoordinates': 12, str: 5})"
      ]
     },
     "execution_count": 802,
     "metadata": {},
     "output_type": "execute_result"
    }
   ],
   "source": [
    "c"
   ]
  },
  {
   "cell_type": "code",
   "execution_count": 803,
   "metadata": {},
   "outputs": [],
   "source": [
    "c = Counter()\n",
    "for x in extract_subtype('jobLocation', 'Place'):\n",
    "    address = x.get('http://schema.org/geo')\n",
    "    if address and isinstance(address[0], dict):\n",
    "        c.update(list(address[0]))"
   ]
  },
  {
   "cell_type": "code",
   "execution_count": 804,
   "metadata": {},
   "outputs": [
    {
     "data": {
      "text/plain": [
       "Counter({'http://schema.org/latitude': 99,\n",
       "         'http://schema.org/longitude': 99,\n",
       "         'http://www.w3.org/1999/02/22-rdf-syntax-ns#type': 100,\n",
       "         'http://schema.org/address': 1})"
      ]
     },
     "execution_count": 804,
     "metadata": {},
     "output_type": "execute_result"
    }
   ],
   "source": [
    "c"
   ]
  },
  {
   "cell_type": "code",
   "execution_count": 815,
   "metadata": {},
   "outputs": [
    {
     "name": "stdout",
     "output_type": "stream",
     "text": [
      "54.727615356462,55.955778063477\n",
      "55.980490257187,37.299160243061\n",
      "47.76697408393,39.942479411045\n",
      "60.002559475351,30.268780856466\n",
      "58.003400123447,55.663826612107\n"
     ]
    }
   ],
   "source": [
    "c = Counter()\n",
    "for x in extract_subtype('jobLocation', 'Place', False):\n",
    "    address = x.get('http://schema.org/Place/geo')\n",
    "    if address and isinstance(address[0], str):\n",
    "        print(address[0])"
   ]
  },
  {
   "cell_type": "code",
   "execution_count": 813,
   "metadata": {},
   "outputs": [],
   "source": [
    "c = Counter()\n",
    "for x in extract_subtype('jobLocation', 'Place', False):\n",
    "    address = x.get('http://schema.org/Place/geo')\n",
    "    if address and isinstance(address[0], dict):\n",
    "        c.update(list(address[0]))"
   ]
  },
  {
   "cell_type": "code",
   "execution_count": 814,
   "metadata": {},
   "outputs": [
    {
     "data": {
      "text/plain": [
       "Counter({'http://schema.org/GeoCoordinates/longitude': 12,\n",
       "         'http://schema.org/GeoCoordinates/latitude': 12,\n",
       "         'http://www.w3.org/1999/02/22-rdf-syntax-ns#type': 12})"
      ]
     },
     "execution_count": 814,
     "metadata": {},
     "output_type": "execute_result"
    }
   ],
   "source": [
    "c"
   ]
  },
  {
   "cell_type": "code",
   "execution_count": 806,
   "metadata": {},
   "outputs": [
    {
     "data": {
      "text/plain": [
       "Counter({str: 30, float: 69})"
      ]
     },
     "execution_count": 806,
     "metadata": {},
     "output_type": "execute_result"
    }
   ],
   "source": [
    "c = Counter()\n",
    "for x in extract_subtype('jobLocation', 'Place'):\n",
    "    address = x.get('http://schema.org/geo')\n",
    "    if address and isinstance(address[0], dict):\n",
    "        address = address[0]\n",
    "        if 'http://schema.org/latitude' in address:\n",
    "            c.update([type(address['http://schema.org/latitude'][0])])\n",
    "c"
   ]
  },
  {
   "cell_type": "code",
   "execution_count": 807,
   "metadata": {},
   "outputs": [
    {
     "data": {
      "text/plain": [
       "Counter({str: 30, float: 69})"
      ]
     },
     "execution_count": 807,
     "metadata": {},
     "output_type": "execute_result"
    }
   ],
   "source": [
    "c = Counter()\n",
    "for x in extract_subtype('jobLocation', 'Place'):\n",
    "    address = x.get('http://schema.org/geo')\n",
    "    if address and isinstance(address[0], dict):\n",
    "        address = address[0]\n",
    "        if 'http://schema.org/latitude' in address:\n",
    "            c.update([type(address['http://schema.org/longitude'][0])])\n",
    "c"
   ]
  },
  {
   "cell_type": "code",
   "execution_count": 817,
   "metadata": {},
   "outputs": [
    {
     "data": {
      "text/plain": [
       "Counter({str: 12})"
      ]
     },
     "execution_count": 817,
     "metadata": {},
     "output_type": "execute_result"
    }
   ],
   "source": [
    "c = Counter()\n",
    "for x in extract_subtype('jobLocation', 'Place', False):\n",
    "    address = x.get('http://schema.org/Place/geo')\n",
    "    if address and isinstance(address[0], dict):\n",
    "        address = address[0]\n",
    "        if 'http://schema.org/GeoCoordinates/latitude' in address:\n",
    "            c.update([type(address['http://schema.org/GeoCoordinates/latitude'][0])])\n",
    "c"
   ]
  },
  {
   "cell_type": "code",
   "execution_count": 818,
   "metadata": {},
   "outputs": [
    {
     "name": "stdout",
     "output_type": "stream",
     "text": [
      "18.424055299999964 -33.9248685\n",
      "-100.76 46.8\n",
      "0.000000 0.000000\n",
      "-3.43597299999999 55.378051\n",
      "-83.8261 33.5757\n",
      "-77.700485 39.633438\n",
      "-0.462222222 46.325\n",
      "10.6478 53.8672\n",
      "-75.694206 41.371868\n",
      "-92.017937 30.218462\n",
      "0.000000 0.000000\n",
      "8.045 52.84754\n"
     ]
    },
    {
     "data": {
      "text/plain": [
       "Counter()"
      ]
     },
     "execution_count": 818,
     "metadata": {},
     "output_type": "execute_result"
    }
   ],
   "source": [
    "c = Counter()\n",
    "for x in extract_subtype('jobLocation', 'Place', False):\n",
    "    address = x.get('http://schema.org/Place/geo')\n",
    "    if address and isinstance(address[0], dict):\n",
    "        address = address[0]\n",
    "        if 'http://schema.org/GeoCoordinates/longitude' in address:\n",
    "            print(address['http://schema.org/GeoCoordinates/longitude'][0], address['http://schema.org/GeoCoordinates/latitude'][0])\n",
    "c"
   ]
  },
  {
   "cell_type": "code",
   "execution_count": 809,
   "metadata": {},
   "outputs": [
    {
     "name": "stdout",
     "output_type": "stream",
     "text": [
      "['45.6685554'] ['13.1040857']\n",
      "[52.48142] [-1.89983]\n",
      "[35.35423] [139.320407]\n",
      "[53.131759] [8.706955]\n",
      "['50.7426'] ['7.1339']\n",
      "[55.378051] [-3.43597299999999]\n",
      "[33.8870126] [130.8499488]\n",
      "[48.7] [9.6667]\n",
      "[58.43333] [-3.08333]\n",
      "['46.7956'] ['7.1538']\n",
      "[52.6386] [-1.13169]\n"
     ]
    }
   ],
   "source": [
    "i = 0\n",
    "for x in extract_subtype('jobLocation', 'Place'):\n",
    "    address = x.get('http://schema.org/geo')\n",
    "    if address and isinstance(address[0], dict):\n",
    "        address = address[0]\n",
    "        if 'http://schema.org/latitude' in address:\n",
    "            i+=1\n",
    "            print(address['http://schema.org/latitude'], address['http://schema.org/longitude'])\n",
    "            if i > 10:\n",
    "                break"
   ]
  },
  {
   "cell_type": "markdown",
   "metadata": {},
   "source": [
    "### Postal Address"
   ]
  },
  {
   "cell_type": "code",
   "execution_count": 827,
   "metadata": {},
   "outputs": [
    {
     "data": {
      "text/plain": [
       "Counter({'http://schema.org/addressCountry': 1423,\n",
       "         'http://schema.org/addressLocality': 1643,\n",
       "         'http://schema.org/addressRegion': 1509,\n",
       "         'http://schema.org/postalCode': 994,\n",
       "         'http://www.w3.org/1999/02/22-rdf-syntax-ns#type': 1565,\n",
       "         'http://schema.org/streetAddress': 628,\n",
       "         'http://schema.org/url': 1,\n",
       "         'http://schema.org/name': 20,\n",
       "         'http://schema.org/postalcode': 1,\n",
       "         'http://schema.org/streetaddress': 1})"
      ]
     },
     "execution_count": 827,
     "metadata": {},
     "output_type": "execute_result"
    }
   ],
   "source": [
    "c = Counter()\n",
    "for x in extract_subtype('jobLocation', 'Place'):\n",
    "    address = x.get('http://schema.org/address')\n",
    "    if address and isinstance(address[0], dict):\n",
    "        c.update(address[0].keys())\n",
    "c"
   ]
  },
  {
   "cell_type": "code",
   "execution_count": 828,
   "metadata": {},
   "outputs": [
    {
     "data": {
      "text/plain": [
       "Counter({'http://schema.org/PostalAddress/addressLocality': 962,\n",
       "         'http://www.w3.org/1999/02/22-rdf-syntax-ns#type': 1176,\n",
       "         'http://schema.org/PostalAddress/addressRegion': 857,\n",
       "         'http://schema.org/PostalAddress/postalCode': 354,\n",
       "         'http://schema.org/PostalAddress/addressCountry': 447,\n",
       "         'http://schema.org/PostalAddress/streetAddress': 206,\n",
       "         'http://schema.org/Postaladdress/addressLocality': 19,\n",
       "         'http://schema.org/PostalAddress/url': 2,\n",
       "         'http://schema.org/Postaladdress/addressRegion': 5,\n",
       "         'http://schema.org/PostalAddress/addresscountry': 1,\n",
       "         'http://schema.org/PostalAddress/name': 5,\n",
       "         'http://schema.org/PostalAddress/telephone': 10,\n",
       "         'http://schema.org/Address/addressLocality': 1,\n",
       "         'http://schema.org/PostalAddress/geo': 1})"
      ]
     },
     "execution_count": 828,
     "metadata": {},
     "output_type": "execute_result"
    }
   ],
   "source": [
    "c = Counter()\n",
    "for x in extract_subtype('jobLocation', 'Place', False):\n",
    "    address = x.get('http://schema.org/Place/address')\n",
    "    if address and isinstance(address[0], dict):\n",
    "        c.update(address[0].keys())\n",
    "c"
   ]
  },
  {
   "cell_type": "markdown",
   "metadata": {},
   "source": [
    "#### addressCountry"
   ]
  },
  {
   "cell_type": "code",
   "execution_count": 837,
   "metadata": {},
   "outputs": [
    {
     "data": {
      "text/plain": [
       "['United States', 'NL', 'GB', 'CA', 'United States']"
      ]
     },
     "execution_count": 837,
     "metadata": {},
     "output_type": "execute_result"
    }
   ],
   "source": [
    "c = []\n",
    "for x in extract_subtype('jobLocation', 'Place'):\n",
    "    address = x.get('http://schema.org/address')\n",
    "    if address and isinstance(address[0], dict):\n",
    "        a = address[0].get('http://schema.org/addressCountry')\n",
    "        if a:\n",
    "            c.append(a[0])\n",
    "c[:5]"
   ]
  },
  {
   "cell_type": "code",
   "execution_count": 834,
   "metadata": {},
   "outputs": [
    {
     "data": {
      "text/plain": [
       "Counter({str: 1346, dict: 77})"
      ]
     },
     "execution_count": 834,
     "metadata": {},
     "output_type": "execute_result"
    }
   ],
   "source": [
    "Counter(map(type, c))"
   ]
  },
  {
   "cell_type": "code",
   "execution_count": 840,
   "metadata": {},
   "outputs": [
    {
     "data": {
      "text/plain": [
       "Counter({'http://www.w3.org/1999/02/22-rdf-syntax-ns#type': 76,\n",
       "         'http://schema.org/name': 76})"
      ]
     },
     "execution_count": 840,
     "metadata": {},
     "output_type": "execute_result"
    }
   ],
   "source": [
    "Counter(k for a in c for k in a if isinstance(a, dict))"
   ]
  },
  {
   "cell_type": "code",
   "execution_count": 841,
   "metadata": {},
   "outputs": [
    {
     "data": {
      "text/plain": [
       "Counter({'http://schema.org/Country': 152})"
      ]
     },
     "execution_count": 841,
     "metadata": {},
     "output_type": "execute_result"
    }
   ],
   "source": [
    "Counter(a['http://www.w3.org/1999/02/22-rdf-syntax-ns#type'][0] for a in c for k in a if isinstance(a, dict))"
   ]
  },
  {
   "cell_type": "code",
   "execution_count": 853,
   "metadata": {},
   "outputs": [
    {
     "data": {
      "text/plain": [
       "['Schweiz', 'Czech Republic', 'Belgium', 'United States', 'US']"
      ]
     },
     "execution_count": 853,
     "metadata": {},
     "output_type": "execute_result"
    }
   ],
   "source": [
    "c = []\n",
    "for x in extract_subtype('jobLocation', 'Place', False):\n",
    "    address = x.get('http://schema.org/Place/address')\n",
    "    if address and isinstance(address[0], dict):\n",
    "        a = address[0].get('http://schema.org/PostalAddress/addressCountry')\n",
    "        if a:\n",
    "            c.append(a[0])\n",
    "c[:5]"
   ]
  },
  {
   "cell_type": "code",
   "execution_count": 854,
   "metadata": {},
   "outputs": [
    {
     "data": {
      "text/plain": [
       "Counter({str: 437, dict: 10})"
      ]
     },
     "execution_count": 854,
     "metadata": {},
     "output_type": "execute_result"
    }
   ],
   "source": [
    "Counter(map(type, c))"
   ]
  },
  {
   "cell_type": "markdown",
   "metadata": {},
   "source": [
    "Empty..."
   ]
  },
  {
   "cell_type": "code",
   "execution_count": 857,
   "metadata": {},
   "outputs": [
    {
     "data": {
      "text/plain": [
       "[{}, {}, {}, {}, {}, {}, {}, {}, {}, {}]"
      ]
     },
     "execution_count": 857,
     "metadata": {},
     "output_type": "execute_result"
    }
   ],
   "source": [
    "[a for a in c if isinstance(a, dict)]"
   ]
  },
  {
   "cell_type": "markdown",
   "metadata": {},
   "source": [
    "Country name"
   ]
  },
  {
   "cell_type": "code",
   "execution_count": 865,
   "metadata": {},
   "outputs": [
    {
     "data": {
      "text/plain": [
       "(['Italia', 'IN', 'PL', 'US', 'UA'], 76, Counter({str: 76}))"
      ]
     },
     "execution_count": 865,
     "metadata": {},
     "output_type": "execute_result"
    }
   ],
   "source": [
    "c = []\n",
    "for x in extract_subtype('jobLocation', 'Place'):\n",
    "    address = x.get('http://schema.org/address')\n",
    "    if address and isinstance(address[0], dict):\n",
    "        a = address[0].get('http://schema.org/addressCountry')\n",
    "        if a and isinstance(a[0], dict):\n",
    "            name = a[0].get('http://schema.org/name')\n",
    "            if name:\n",
    "                c.append(name[0])\n",
    "c[:5], len(c), Counter(map(type, c))"
   ]
  },
  {
   "cell_type": "markdown",
   "metadata": {},
   "source": [
    "#### addressLocality"
   ]
  },
  {
   "cell_type": "code",
   "execution_count": 870,
   "metadata": {},
   "outputs": [
    {
     "data": {
      "text/plain": [
       "(['Glenview',\n",
       "  'Den Bosch',\n",
       "  'Maidenhead',\n",
       "  'Saint-Jean-sur-Richelieu',\n",
       "  'Imperial'],\n",
       " 1643,\n",
       " Counter({str: 1643}))"
      ]
     },
     "execution_count": 870,
     "metadata": {},
     "output_type": "execute_result"
    }
   ],
   "source": [
    "c = []\n",
    "for x in extract_subtype('jobLocation', 'Place'):\n",
    "    address = x.get('http://schema.org/address')\n",
    "    if address and isinstance(address[0], dict):\n",
    "        a = address[0].get('http://schema.org/addressLocality')\n",
    "        if a:\n",
    "            c.append(a[0])\n",
    "c[:5], len(c), Counter(map(type, c))"
   ]
  },
  {
   "cell_type": "code",
   "execution_count": 872,
   "metadata": {},
   "outputs": [
    {
     "data": {
      "text/plain": [
       "(['Reggio Emilia provincia',\n",
       "  'Pahrump',\n",
       "  'Philadelphia',\n",
       "  'Norcross',\n",
       "  'Hillsboro'],\n",
       " 962,\n",
       " Counter({str: 952, dict: 10}))"
      ]
     },
     "execution_count": 872,
     "metadata": {},
     "output_type": "execute_result"
    }
   ],
   "source": [
    "c = []\n",
    "for x in extract_subtype('jobLocation', 'Place', False):\n",
    "    address = x.get('http://schema.org/Place/address')\n",
    "    if address and isinstance(address[0], dict):\n",
    "        a = address[0].get('http://schema.org/PostalAddress/addressLocality')\n",
    "        if a:\n",
    "            c.append(a[0])\n",
    "c[:5], len(c), Counter(map(type, c))"
   ]
  },
  {
   "cell_type": "code",
   "execution_count": 874,
   "metadata": {},
   "outputs": [
    {
     "data": {
      "text/plain": [
       "[{}, {}, {}, {}, {}, {}, {}, {}, {}, {}]"
      ]
     },
     "execution_count": 874,
     "metadata": {},
     "output_type": "execute_result"
    }
   ],
   "source": [
    "[a for a in c if isinstance(a, dict)]"
   ]
  },
  {
   "cell_type": "markdown",
   "metadata": {},
   "source": [
    "#### addressRegion"
   ]
  },
  {
   "cell_type": "code",
   "execution_count": 877,
   "metadata": {},
   "outputs": [
    {
     "data": {
      "text/plain": [
       "(['IL', 'NB', 'Berkshire', 'QC', 'California'], 1509, Counter({str: 1509}))"
      ]
     },
     "execution_count": 877,
     "metadata": {},
     "output_type": "execute_result"
    }
   ],
   "source": [
    "c = []\n",
    "for x in extract_subtype('jobLocation', 'Place'):\n",
    "    address = x.get('http://schema.org/address')\n",
    "    if address and isinstance(address[0], dict):\n",
    "        a = address[0].get('http://schema.org/addressRegion')\n",
    "        if a:\n",
    "            c.append(a[0])\n",
    "c[:5], len(c), Counter(map(type, c))"
   ]
  },
  {
   "cell_type": "code",
   "execution_count": 879,
   "metadata": {},
   "outputs": [
    {
     "data": {
      "text/plain": [
       "(['Reggio Emilia provincia',\n",
       "  'Pahrump',\n",
       "  'Philadelphia',\n",
       "  'Norcross',\n",
       "  'Hillsboro'],\n",
       " 962,\n",
       " Counter({str: 952, dict: 10}))"
      ]
     },
     "execution_count": 879,
     "metadata": {},
     "output_type": "execute_result"
    }
   ],
   "source": [
    "c = []\n",
    "for x in extract_subtype('jobLocation', 'Place', False):\n",
    "    address = x.get('http://schema.org/Place/address')\n",
    "    if address and isinstance(address[0], dict):\n",
    "        a = address[0].get('http://schema.org/PostalAddress/addressLocality')\n",
    "        if a:\n",
    "            c.append(a[0])\n",
    "c[:5], len(c), Counter(map(type, c))"
   ]
  },
  {
   "cell_type": "code",
   "execution_count": 880,
   "metadata": {},
   "outputs": [
    {
     "data": {
      "text/plain": [
       "[{}, {}, {}, {}, {}, {}, {}, {}, {}, {}]"
      ]
     },
     "execution_count": 880,
     "metadata": {},
     "output_type": "execute_result"
    }
   ],
   "source": [
    "[a for a in c if isinstance(a, dict)]"
   ]
  },
  {
   "cell_type": "markdown",
   "metadata": {},
   "source": [
    "#### postalCode"
   ]
  },
  {
   "cell_type": "code",
   "execution_count": 881,
   "metadata": {},
   "outputs": [
    {
     "data": {
      "text/plain": [
       "(['60026', '5223 MA', 'SL6 8ND', 'J3A1B6', '92251'],\n",
       " 994,\n",
       " Counter({str: 972, int: 22}))"
      ]
     },
     "execution_count": 881,
     "metadata": {},
     "output_type": "execute_result"
    }
   ],
   "source": [
    "c = []\n",
    "for x in extract_subtype('jobLocation', 'Place'):\n",
    "    address = x.get('http://schema.org/address')\n",
    "    if address and isinstance(address[0], dict):\n",
    "        a = address[0].get('http://schema.org/postalCode')\n",
    "        if a:\n",
    "            c.append(a[0])\n",
    "c[:5], len(c), Counter(map(type, c))"
   ]
  },
  {
   "cell_type": "code",
   "execution_count": 882,
   "metadata": {},
   "outputs": [
    {
     "data": {
      "text/plain": [
       "(['19113', '30071', '97124', '45804', '95841'],\n",
       " 354,\n",
       " Counter({str: 344, dict: 10}))"
      ]
     },
     "execution_count": 882,
     "metadata": {},
     "output_type": "execute_result"
    }
   ],
   "source": [
    "c = []\n",
    "for x in extract_subtype('jobLocation', 'Place', False):\n",
    "    address = x.get('http://schema.org/Place/address')\n",
    "    if address and isinstance(address[0], dict):\n",
    "        a = address[0].get('http://schema.org/PostalAddress/postalCode')\n",
    "        if a:\n",
    "            c.append(a[0])\n",
    "c[:5], len(c), Counter(map(type, c))"
   ]
  },
  {
   "cell_type": "markdown",
   "metadata": {},
   "source": [
    "#### streetAddress"
   ]
  },
  {
   "cell_type": "code",
   "execution_count": 884,
   "metadata": {},
   "outputs": [
    {
     "data": {
      "text/plain": [
       "(['21 Lassell Gardens',\n",
       "  '-',\n",
       "  'East Aten Road 380',\n",
       "  '11101 South Parker Rd',\n",
       "  '古城町４丁目53'],\n",
       " 628,\n",
       " Counter({str: 628}))"
      ]
     },
     "execution_count": 884,
     "metadata": {},
     "output_type": "execute_result"
    }
   ],
   "source": [
    "c = []\n",
    "for x in extract_subtype('jobLocation', 'Place'):\n",
    "    address = x.get('http://schema.org/address')\n",
    "    if address and isinstance(address[0], dict):\n",
    "        a = address[0].get('http://schema.org/streetAddress')\n",
    "        if a:\n",
    "            c.append(a[0])\n",
    "c[:5], len(c), Counter(map(type, c))"
   ]
  },
  {
   "cell_type": "code",
   "execution_count": 885,
   "metadata": {},
   "outputs": [
    {
     "data": {
      "text/plain": [
       "(['UNKNOWN',\n",
       "  '8, Rue du Pont',\n",
       "  'Luxembourg',\n",
       "  '-',\n",
       "  'Nr Mulki \\nBappanadu tempale'],\n",
       " 206,\n",
       " Counter({str: 205, dict: 1}))"
      ]
     },
     "execution_count": 885,
     "metadata": {},
     "output_type": "execute_result"
    }
   ],
   "source": [
    "c = []\n",
    "for x in extract_subtype('jobLocation', 'Place', False):\n",
    "    address = x.get('http://schema.org/Place/address')\n",
    "    if address and isinstance(address[0], dict):\n",
    "        a = address[0].get('http://schema.org/PostalAddress/streetAddress')\n",
    "        if a:\n",
    "            c.append(a[0])\n",
    "c[:5], len(c), Counter(map(type, c))"
   ]
  },
  {
   "cell_type": "markdown",
   "metadata": {},
   "source": [
    "# Base Salary"
   ]
  },
  {
   "cell_type": "code",
   "execution_count": 887,
   "metadata": {},
   "outputs": [
    {
     "data": {
      "text/plain": [
       "(Counter({'http://schema.org/MonetaryAmount': 847,\n",
       "          'Unknown Object': 5,\n",
       "          str: 12}),\n",
       " Counter({'http://schema.org/MonetaryAmount': 320,\n",
       "          str: 234,\n",
       "          'https://schema.org/MonetaryAmount': 34,\n",
       "          'http://schema.org/PriceSpecification': 4,\n",
       "          'https://schema.org/PriceSpecification': 1,\n",
       "          'http:/schema.orgMonetaryAmount': 4}))"
      ]
     },
     "execution_count": 887,
     "metadata": {},
     "output_type": "execute_result"
    }
   ],
   "source": [
    "Counter(extract_types(json_graphs, 'baseSalary')), Counter(extract_types(graphs, 'JobPosting/baseSalary'))"
   ]
  },
  {
   "cell_type": "code",
   "execution_count": 893,
   "metadata": {},
   "outputs": [
    {
     "data": {
      "text/plain": [
       "Counter({'http://schema.org/MonetaryAmount': 847})"
      ]
     },
     "execution_count": 893,
     "metadata": {},
     "output_type": "execute_result"
    }
   ],
   "source": [
    "c = []\n",
    "for x in extract_subtype('baseSalary', 'MonetaryAmount'):\n",
    "    dtype = x.get('http://www.w3.org/1999/02/22-rdf-syntax-ns#type')\n",
    "    if dtype:\n",
    "        c.append(dtype[0])\n",
    "Counter(c)"
   ]
  },
  {
   "cell_type": "code",
   "execution_count": 894,
   "metadata": {},
   "outputs": [
    {
     "data": {
      "text/plain": [
       "Counter({'http://schema.org/MonetaryAmount': 320})"
      ]
     },
     "execution_count": 894,
     "metadata": {},
     "output_type": "execute_result"
    }
   ],
   "source": [
    "c = []\n",
    "for x in extract_subtype('baseSalary', 'MonetaryAmount', False):\n",
    "    dtype = x.get('http://www.w3.org/1999/02/22-rdf-syntax-ns#type')\n",
    "    if dtype:\n",
    "        c.append(dtype[0])\n",
    "Counter(c)"
   ]
  },
  {
   "cell_type": "code",
   "execution_count": 896,
   "metadata": {},
   "outputs": [
    {
     "data": {
      "text/plain": [
       "Counter({'http://schema.org/currency': 692,\n",
       "         'http://schema.org/value': 814,\n",
       "         'http://www.w3.org/1999/02/22-rdf-syntax-ns#type': 847,\n",
       "         '_label': 847,\n",
       "         'http://schema.org/minValue': 28,\n",
       "         'http://schema.org/maxValue': 28,\n",
       "         'http://schema.org/unitText': 11,\n",
       "         'http://schema.org/validFrom': 1,\n",
       "         'http://schema.org/validThrough': 1,\n",
       "         'http://schema.org/name': 1,\n",
       "         'http://schema.org/description': 1})"
      ]
     },
     "execution_count": 896,
     "metadata": {},
     "output_type": "execute_result"
    }
   ],
   "source": [
    "c = []\n",
    "for x in extract_subtype('baseSalary', 'MonetaryAmount'):\n",
    "    c += list(x)\n",
    "Counter(c)"
   ]
  },
  {
   "cell_type": "code",
   "execution_count": 897,
   "metadata": {},
   "outputs": [
    {
     "data": {
      "text/plain": [
       "Counter({'http://schema.org/MonetaryAmount/value': 244,\n",
       "         'http://schema.org/MonetaryAmount/currency': 311,\n",
       "         'http://www.w3.org/1999/02/22-rdf-syntax-ns#type': 320,\n",
       "         '_label': 320,\n",
       "         'http://schema.org/MonetaryAmount/maxValue': 49,\n",
       "         'http://schema.org/MonetaryAmount/minValue': 67,\n",
       "         'http://schema.org/MonetaryAmount/unitText': 9,\n",
       "         'http://schema.org/MonetaryAmount/baseSalary': 1})"
      ]
     },
     "execution_count": 897,
     "metadata": {},
     "output_type": "execute_result"
    }
   ],
   "source": [
    "c = []\n",
    "for x in extract_subtype('baseSalary', 'MonetaryAmount', False):\n",
    "    c += list(x)\n",
    "Counter(c)"
   ]
  },
  {
   "cell_type": "markdown",
   "metadata": {},
   "source": [
    "#### currency"
   ]
  },
  {
   "cell_type": "code",
   "execution_count": 900,
   "metadata": {},
   "outputs": [
    {
     "data": {
      "text/plain": [
       "(['GBP', 'USD', 'USD', 'USD', 'JPY'], 692, Counter({str: 692}))"
      ]
     },
     "execution_count": 900,
     "metadata": {},
     "output_type": "execute_result"
    }
   ],
   "source": [
    "c = []\n",
    "for x in extract_subtype('baseSalary', 'MonetaryAmount'):\n",
    "    a = x.get('http://schema.org/currency')\n",
    "    if a:\n",
    "        c.append(a[0])\n",
    "c[:5], len(c), Counter(map(type, c))"
   ]
  },
  {
   "cell_type": "code",
   "execution_count": 901,
   "metadata": {},
   "outputs": [
    {
     "data": {
      "text/plain": [
       "(['USD', 'USD', 'USD', 'RUB', 'EUR'], 311, Counter({str: 311}))"
      ]
     },
     "execution_count": 901,
     "metadata": {},
     "output_type": "execute_result"
    }
   ],
   "source": [
    "c = []\n",
    "for x in extract_subtype('baseSalary', 'MonetaryAmount', False):\n",
    "    a = x.get('http://schema.org/MonetaryAmount/currency')\n",
    "    if a:\n",
    "        c.append(a[0])\n",
    "c[:5], len(c), Counter(map(type, c))"
   ]
  },
  {
   "cell_type": "markdown",
   "metadata": {},
   "source": [
    "#### value"
   ]
  },
  {
   "cell_type": "code",
   "execution_count": 911,
   "metadata": {},
   "outputs": [
    {
     "data": {
      "text/plain": [
       "(['0.00',\n",
       "  'nach Vereinbarung',\n",
       "  '12500-28500/-',\n",
       "  '-',\n",
       "  '',\n",
       "  '25000',\n",
       "  'A convenir',\n",
       "  'Hourly',\n",
       "  '25000',\n",
       "  '$10,500'],\n",
       " 814,\n",
       " Counter({dict: 785, str: 28, bool: 1}))"
      ]
     },
     "execution_count": 911,
     "metadata": {},
     "output_type": "execute_result"
    }
   ],
   "source": [
    "c = []\n",
    "for x in extract_subtype('baseSalary', 'MonetaryAmount'):\n",
    "    a = x.get('http://schema.org/value')\n",
    "    if a:\n",
    "        c.append(a[0])\n",
    "[_ for _ in c if type(_) == str][:10], len(c), Counter(map(type, c))"
   ]
  },
  {
   "cell_type": "code",
   "execution_count": 916,
   "metadata": {},
   "outputs": [],
   "source": [
    "rdftype = 'http://www.w3.org/1999/02/22-rdf-syntax-ns#type'"
   ]
  },
  {
   "cell_type": "code",
   "execution_count": 918,
   "metadata": {},
   "outputs": [
    {
     "data": {
      "text/plain": [
       "Counter({'http://schema.org/QuantitativeValue': 780,\n",
       "         'http://schema.org/PropertyValue': 2,\n",
       "         'http://schema.org/MonetaryAmount': 1})"
      ]
     },
     "execution_count": 918,
     "metadata": {},
     "output_type": "execute_result"
    }
   ],
   "source": [
    "Counter([_[rdftype][0] for _ in c if isinstance(_, dict) and rdftype in _])"
   ]
  },
  {
   "cell_type": "code",
   "execution_count": 919,
   "metadata": {},
   "outputs": [
    {
     "data": {
      "text/plain": [
       "(['\\n                \\n                    \\n                    \\n                        9\\n                        10\\n                    \\n                    HOUR\\n                \\n            ',\n",
       "  '\\n                \\n                    \\n                    \\n                        120000\\n                    \\n                    YEAR\\n                \\n            ',\n",
       "  '\\n                \\n                    \\n                    \\n                        12.00\\n                    \\n                    HOUR\\n                \\n            ',\n",
       "  '\\n                \\n                    \\n                    \\n                        150000.00\\n                    \\n                    YEAR\\n                \\n            ',\n",
       "  '\\n                \\n                    \\n                    \\n                        47500\\n                    \\n                    YEAR\\n                \\n            ',\n",
       "  'As Per Rules',\n",
       "  '\\n                                                                                                                                                    A convenir\\n                                                                        Year\\n                                ',\n",
       "  '\\n                \\n                    \\n                    \\n                        195000\\n                    \\n                    YEAR\\n                \\n            ',\n",
       "  'Null',\n",
       "  '\\n                \\n                    \\n                    \\n                        140000\\n                    \\n                    YEAR\\n                \\n            '],\n",
       " 244,\n",
       " Counter({str: 109, dict: 135}))"
      ]
     },
     "execution_count": 919,
     "metadata": {},
     "output_type": "execute_result"
    }
   ],
   "source": [
    "c = []\n",
    "for x in extract_subtype('baseSalary', 'MonetaryAmount', False):\n",
    "    a = x.get('http://schema.org/MonetaryAmount/value')\n",
    "    if a:\n",
    "        c.append(a[0])\n",
    "[_ for _ in c if type(_) == str][:10], len(c), Counter(map(type, c))"
   ]
  },
  {
   "cell_type": "code",
   "execution_count": 920,
   "metadata": {},
   "outputs": [
    {
     "data": {
      "text/plain": [
       "Counter({'https://schema.org/QuantitativeValue': 2,\n",
       "         'http://schema.org/QuantitativeValue': 133})"
      ]
     },
     "execution_count": 920,
     "metadata": {},
     "output_type": "execute_result"
    }
   ],
   "source": [
    "Counter([_[rdftype][0] for _ in c if isinstance(_, dict) and rdftype in _])"
   ]
  },
  {
   "cell_type": "markdown",
   "metadata": {},
   "source": [
    "### Quantitative Value"
   ]
  },
  {
   "cell_type": "code",
   "execution_count": 930,
   "metadata": {},
   "outputs": [
    {
     "data": {
      "text/plain": [
       "Counter({'http://schema.org/unitText': 643,\n",
       "         'http://schema.org/minValue': 307,\n",
       "         'http://schema.org/value': 532,\n",
       "         'http://www.w3.org/1999/02/22-rdf-syntax-ns#type': 780,\n",
       "         'http://schema.org/maxValue': 298,\n",
       "         'http://schema.org/Value': 3,\n",
       "         'http://schema.org/maxvalue': 2,\n",
       "         'http://schema.org/description': 1})"
      ]
     },
     "execution_count": 930,
     "metadata": {},
     "output_type": "execute_result"
    }
   ],
   "source": [
    "c = []\n",
    "for x in extract_subtype('baseSalary', 'MonetaryAmount'):\n",
    "    a = x.get('http://schema.org/value')\n",
    "    if a and isinstance(a[0], dict) and a[0].get(rdftype) == ['http://schema.org/QuantitativeValue']:\n",
    "        c += a[0]\n",
    "Counter(c)"
   ]
  },
  {
   "cell_type": "code",
   "execution_count": 931,
   "metadata": {},
   "outputs": [
    {
     "data": {
      "text/plain": [
       "Counter({'http://schema.org/QuantitativeValue/minValue': 115,\n",
       "         'http://schema.org/QuantitativeValue/unitText': 132,\n",
       "         'http://schema.org/QuantitativeValue/value': 43,\n",
       "         'http://www.w3.org/1999/02/22-rdf-syntax-ns#type': 133,\n",
       "         'http://schema.org/QuantitativeValue/maxValue': 81})"
      ]
     },
     "execution_count": 931,
     "metadata": {},
     "output_type": "execute_result"
    }
   ],
   "source": [
    "c = []\n",
    "for x in extract_subtype('baseSalary', 'MonetaryAmount', False):\n",
    "    a = x.get('http://schema.org/MonetaryAmount/value')\n",
    "    if a and isinstance(a[0], dict) and a[0].get(rdftype) == ['http://schema.org/QuantitativeValue']:\n",
    "        c += a[0]\n",
    "Counter(c)"
   ]
  },
  {
   "cell_type": "markdown",
   "metadata": {},
   "source": [
    "#### unitText"
   ]
  },
  {
   "cell_type": "code",
   "execution_count": 935,
   "metadata": {},
   "outputs": [
    {
     "data": {
      "text/plain": [
       "(['WEEK', 'HOUR', 'YEAR', 'p.a.', 'HOUR'], 643, Counter({str: 643}))"
      ]
     },
     "execution_count": 935,
     "metadata": {},
     "output_type": "execute_result"
    }
   ],
   "source": [
    "c = []\n",
    "for x in extract_subtype('baseSalary', 'MonetaryAmount'):\n",
    "    a = x.get('http://schema.org/value')\n",
    "    if a and isinstance(a[0], dict) and a[0].get(rdftype) == ['http://schema.org/QuantitativeValue']:\n",
    "        v = a[0].get('http://schema.org/unitText')\n",
    "        if v:\n",
    "            c.append(v[0]) \n",
    "c[:5], len(c), Counter(map(type, c))"
   ]
  },
  {
   "cell_type": "code",
   "execution_count": 937,
   "metadata": {},
   "outputs": [
    {
     "data": {
      "text/plain": [
       "[('YEAR', 262),\n",
       " ('MONTH', 149),\n",
       " ('HOUR', 118),\n",
       " ('', 33),\n",
       " ('DAY', 21),\n",
       " ('ANNUM', 20),\n",
       " ('year', 7),\n",
       " ('WEEK', 5),\n",
       " ('Month', 3),\n",
       " ('-', 3)]"
      ]
     },
     "execution_count": 937,
     "metadata": {},
     "output_type": "execute_result"
    }
   ],
   "source": [
    "sorted(Counter(c).items(), key=lambda x:x[1], reverse=True)[:10]"
   ]
  },
  {
   "cell_type": "code",
   "execution_count": 939,
   "metadata": {},
   "outputs": [
    {
     "data": {
      "text/plain": [
       "(['Null', 'MONTH', 'MONTH', 'MONTH', 'MONTH'], 132, Counter({str: 132}))"
      ]
     },
     "execution_count": 939,
     "metadata": {},
     "output_type": "execute_result"
    }
   ],
   "source": [
    "c = []\n",
    "for x in extract_subtype('baseSalary', 'MonetaryAmount', False):\n",
    "    a = x.get('http://schema.org/MonetaryAmount/value')\n",
    "    if a and isinstance(a[0], dict) and a[0].get(rdftype) == ['http://schema.org/QuantitativeValue']:\n",
    "        v = a[0].get('http://schema.org/QuantitativeValue/unitText')\n",
    "        if v:\n",
    "            c.append(v[0]) \n",
    "c[:5], len(c), Counter(map(type, c))"
   ]
  },
  {
   "cell_type": "markdown",
   "metadata": {},
   "source": [
    "#### minValue"
   ]
  },
  {
   "cell_type": "code",
   "execution_count": 940,
   "metadata": {},
   "outputs": [
    {
     "data": {
      "text/plain": [
       "(['400', '69.00', 0, '850', 0], 307, Counter({str: 111, int: 159, float: 37}))"
      ]
     },
     "execution_count": 940,
     "metadata": {},
     "output_type": "execute_result"
    }
   ],
   "source": [
    "c = []\n",
    "for x in extract_subtype('baseSalary', 'MonetaryAmount'):\n",
    "    a = x.get('http://schema.org/value')\n",
    "    if a and isinstance(a[0], dict) and a[0].get(rdftype) == ['http://schema.org/QuantitativeValue']:\n",
    "        v = a[0].get('http://schema.org/minValue')\n",
    "        if v:\n",
    "            c.append(v[0]) \n",
    "c[:5], len(c), Counter(map(type, c))"
   ]
  },
  {
   "cell_type": "code",
   "execution_count": 941,
   "metadata": {},
   "outputs": [
    {
     "data": {
      "text/plain": [
       "(['0.0', '6000', '50000', '35000', '76000'], 115, Counter({str: 115}))"
      ]
     },
     "execution_count": 941,
     "metadata": {},
     "output_type": "execute_result"
    }
   ],
   "source": [
    "c = []\n",
    "for x in extract_subtype('baseSalary', 'MonetaryAmount', False):\n",
    "    a = x.get('http://schema.org/MonetaryAmount/value')\n",
    "    if a and isinstance(a[0], dict) and a[0].get(rdftype) == ['http://schema.org/QuantitativeValue']:\n",
    "        v = a[0].get('http://schema.org/QuantitativeValue/minValue')\n",
    "        if v:\n",
    "            c.append(v[0]) \n",
    "c[:5], len(c), Counter(map(type, c))"
   ]
  },
  {
   "cell_type": "code",
   "execution_count": 945,
   "metadata": {},
   "outputs": [
    {
     "data": {
      "text/plain": [
       "(['550', '69.00', 0, '1000', 0], 298, Counter({str: 107, int: 154, float: 37}))"
      ]
     },
     "execution_count": 945,
     "metadata": {},
     "output_type": "execute_result"
    }
   ],
   "source": [
    "c = []\n",
    "for x in extract_subtype('baseSalary', 'MonetaryAmount'):\n",
    "    a = x.get('http://schema.org/value')\n",
    "    if a and isinstance(a[0], dict) and a[0].get(rdftype) == ['http://schema.org/QuantitativeValue']:\n",
    "        v = a[0].get('http://schema.org/maxValue')\n",
    "        if v:\n",
    "            c.append(v[0]) \n",
    "c[:5], len(c), Counter(map(type, c))"
   ]
  },
  {
   "cell_type": "code",
   "execution_count": 946,
   "metadata": {},
   "outputs": [
    {
     "data": {
      "text/plain": [
       "(['0.0', '10000', '150000', '112000', '65000000'], 81, Counter({str: 81}))"
      ]
     },
     "execution_count": 946,
     "metadata": {},
     "output_type": "execute_result"
    }
   ],
   "source": [
    "c = []\n",
    "for x in extract_subtype('baseSalary', 'MonetaryAmount', False):\n",
    "    a = x.get('http://schema.org/MonetaryAmount/value')\n",
    "    if a and isinstance(a[0], dict) and a[0].get(rdftype) == ['http://schema.org/QuantitativeValue']:\n",
    "        v = a[0].get('http://schema.org/QuantitativeValue/maxValue')\n",
    "        if v:\n",
    "            c.append(v[0]) \n",
    "c[:5], len(c), Counter(map(type, c))"
   ]
  },
  {
   "cell_type": "code",
   "execution_count": 947,
   "metadata": {},
   "outputs": [
    {
     "data": {
      "text/plain": [
       "(['400', 0, '', 0, '£30000.00 - £35000.00 per annum'],\n",
       " 532,\n",
       " Counter({str: 420, int: 71, float: 40, dict: 1}))"
      ]
     },
     "execution_count": 947,
     "metadata": {},
     "output_type": "execute_result"
    }
   ],
   "source": [
    "c = []\n",
    "for x in extract_subtype('baseSalary', 'MonetaryAmount'):\n",
    "    a = x.get('http://schema.org/value')\n",
    "    if a and isinstance(a[0], dict) and a[0].get(rdftype) == ['http://schema.org/QuantitativeValue']:\n",
    "        v = a[0].get('http://schema.org/value')\n",
    "        if v:\n",
    "            c.append(v[0]) \n",
    "c[:5], len(c), Counter(map(type, c))"
   ]
  },
  {
   "cell_type": "code",
   "execution_count": 948,
   "metadata": {},
   "outputs": [
    {
     "data": {
      "text/plain": [
       "(['Null', '6000', '65000000', '80000', '27000'], 43, Counter({str: 43}))"
      ]
     },
     "execution_count": 948,
     "metadata": {},
     "output_type": "execute_result"
    }
   ],
   "source": [
    "c = []\n",
    "for x in extract_subtype('baseSalary', 'MonetaryAmount', False):\n",
    "    a = x.get('http://schema.org/MonetaryAmount/value')\n",
    "    if a and isinstance(a[0], dict) and a[0].get(rdftype) == ['http://schema.org/QuantitativeValue']:\n",
    "        v = a[0].get('http://schema.org/QuantitativeValue/value')\n",
    "        if v:\n",
    "            c.append(v[0]) \n",
    "c[:5], len(c), Counter(map(type, c))"
   ]
  },
  {
   "cell_type": "markdown",
   "metadata": {},
   "source": [
    "### Monetary Amount minvalue"
   ]
  },
  {
   "cell_type": "code",
   "execution_count": 950,
   "metadata": {},
   "outputs": [
    {
     "data": {
      "text/plain": [
       "([25000,\n",
       "  30000000,\n",
       "  '1000',\n",
       "  '40000',\n",
       "  '20,000/-',\n",
       "  '',\n",
       "  10000000,\n",
       "  10000000,\n",
       "  '40000',\n",
       "  '40000'],\n",
       " 28,\n",
       " Counter({int: 10, str: 17, float: 1}))"
      ]
     },
     "execution_count": 950,
     "metadata": {},
     "output_type": "execute_result"
    }
   ],
   "source": [
    "c = []\n",
    "for x in extract_subtype('baseSalary', 'MonetaryAmount'):\n",
    "    a = x.get('http://schema.org/minValue')\n",
    "    if a:\n",
    "        c.append(a[0])\n",
    "c[:10], len(c), Counter(map(type, c))"
   ]
  },
  {
   "cell_type": "code",
   "execution_count": 954,
   "metadata": {},
   "outputs": [
    {
     "data": {
      "text/plain": [
       "(['30000',\n",
       "  '35000',\n",
       "  '43000',\n",
       "  '40000',\n",
       "  '9.00',\n",
       "  '41900',\n",
       "  '9.94',\n",
       "  '52000',\n",
       "  '58000',\n",
       "  '60000'],\n",
       " 67,\n",
       " Counter({str: 67}))"
      ]
     },
     "execution_count": 954,
     "metadata": {},
     "output_type": "execute_result"
    }
   ],
   "source": [
    "c = []\n",
    "for x in extract_subtype('baseSalary', 'MonetaryAmount', False):\n",
    "    a = x.get('http://schema.org/MonetaryAmount/minValue')\n",
    "    if a:\n",
    "        c.append(a[0])\n",
    "c[:10], len(c), Counter(map(type, c))"
   ]
  },
  {
   "cell_type": "code",
   "execution_count": 953,
   "metadata": {},
   "outputs": [
    {
     "data": {
      "text/plain": [
       "([30000,\n",
       "  0,\n",
       "  '21000',\n",
       "  '50000',\n",
       "  '42,000/-',\n",
       "  '',\n",
       "  12000000,\n",
       "  12000000,\n",
       "  '50000',\n",
       "  '50000'],\n",
       " 28,\n",
       " Counter({int: 10, str: 17, float: 1}))"
      ]
     },
     "execution_count": 953,
     "metadata": {},
     "output_type": "execute_result"
    }
   ],
   "source": [
    "c = []\n",
    "for x in extract_subtype('baseSalary', 'MonetaryAmount'):\n",
    "    a = x.get('http://schema.org/maxValue')\n",
    "    if a:\n",
    "        c.append(a[0])\n",
    "c[:10], len(c), Counter(map(type, c))"
   ]
  },
  {
   "cell_type": "code",
   "execution_count": 955,
   "metadata": {},
   "outputs": [
    {
     "data": {
      "text/plain": [
       "(['40000',\n",
       "  '60000',\n",
       "  '78000',\n",
       "  '9.00',\n",
       "  '76000',\n",
       "  '9.96',\n",
       "  '52000',\n",
       "  '75000',\n",
       "  '15000',\n",
       "  '13,500,000'],\n",
       " 49,\n",
       " Counter({str: 49}))"
      ]
     },
     "execution_count": 955,
     "metadata": {},
     "output_type": "execute_result"
    }
   ],
   "source": [
    "c = []\n",
    "for x in extract_subtype('baseSalary', 'MonetaryAmount', False):\n",
    "    a = x.get('http://schema.org/MonetaryAmount/maxValue')\n",
    "    if a:\n",
    "        c.append(a[0])\n",
    "c[:10], len(c), Counter(map(type, c))"
   ]
  },
  {
   "cell_type": "markdown",
   "metadata": {},
   "source": [
    "## Date Posted"
   ]
  },
  {
   "cell_type": "code",
   "execution_count": 610,
   "metadata": {},
   "outputs": [
    {
     "data": {
      "text/plain": [
       "(Counter({'http://schema.org/Date': 1835, str: 2}),\n",
       " Counter({str: 1617, datetime.date: 206}))"
      ]
     },
     "execution_count": 610,
     "metadata": {},
     "output_type": "execute_result"
    }
   ],
   "source": [
    "Counter(extract_types(json_graphs, 'datePosted')), Counter(extract_types(graphs, 'JobPosting/datePosted'))"
   ]
  },
  {
   "cell_type": "code",
   "execution_count": 672,
   "metadata": {},
   "outputs": [
    {
     "data": {
      "text/plain": [
       "[[rdflib.term.Literal('2019-08-01 17:48:55', datatype=rdflib.term.URIRef('http://schema.org/Date'))],\n",
       " [rdflib.term.Literal('2019-07-09', datatype=rdflib.term.URIRef('http://schema.org/Date'))],\n",
       " [rdflib.term.Literal('2014-12-13T00:43:45', datatype=rdflib.term.URIRef('http://schema.org/Date'))]]"
      ]
     },
     "execution_count": 672,
     "metadata": {},
     "output_type": "execute_result"
    }
   ],
   "source": [
    "list(extract_property(json_graphs, 'datePosted'))[:3]"
   ]
  },
  {
   "cell_type": "code",
   "execution_count": 673,
   "metadata": {},
   "outputs": [
    {
     "data": {
      "text/plain": [
       "[['11/20/2019 08:55:24 AM'], ['2019-10-30'], ['\\nSeptember 24, 2017\\n']]"
      ]
     },
     "execution_count": 673,
     "metadata": {},
     "output_type": "execute_result"
    }
   ],
   "source": [
    "list(extract_property(graphs, 'JobPosting/datePosted'))[:3]"
   ]
  },
  {
   "cell_type": "markdown",
   "metadata": {},
   "source": [
    "### Hiring Organization"
   ]
  },
  {
   "cell_type": "code",
   "execution_count": 612,
   "metadata": {},
   "outputs": [
    {
     "data": {
      "text/plain": [
       "(Counter({'http://schema.org/Organization': 1731,\n",
       "          str: 45,\n",
       "          'http://schema.org/EmploymentAgency': 2,\n",
       "          'URI': 18,\n",
       "          'Unknown Object': 16}),\n",
       " Counter({'http://schema.org/Organization': 923,\n",
       "          'URI': 172,\n",
       "          str: 499,\n",
       "          'http:/schema.orgOrganization': 12,\n",
       "          'https://schema.org/Organization': 59,\n",
       "          'http://schema.org/LocalBusiness': 2,\n",
       "          'https:/schema.orgOrganization': 1,\n",
       "          'http://schema.org/Healthclub': 1,\n",
       "          'http://schema.org/EmploymentAgency': 1,\n",
       "          'http://schema.org/Corporation': 2}))"
      ]
     },
     "execution_count": 612,
     "metadata": {},
     "output_type": "execute_result"
    }
   ],
   "source": [
    "Counter(extract_types(json_graphs, 'hiringOrganization')), Counter(extract_types(graphs, 'JobPosting/hiringOrganization'))"
   ]
  },
  {
   "cell_type": "code",
   "execution_count": 674,
   "metadata": {},
   "outputs": [
    {
     "data": {
      "text/plain": [
       "[[{'http://www.w3.org/1999/02/22-rdf-syntax-ns#type': ['http://schema.org/Organization'],\n",
       "   'http://schema.org/name': ['Anixter International'],\n",
       "   '_label': ['http://jobs.anixter.com/jobs/inventory-management/glenview-il-60026-/category-manager-prof-audio-visual-solutions/153414552962719?lang=en_us']}],\n",
       " [{'http://schema.org/logo': ['https://dgivdslhqe3qo.cloudfront.net/careers/photos/41241/thumb_photo_1504517641.png'],\n",
       "   'http://schema.org/name': ['Stage lopen bij Social Deal'],\n",
       "   'http://schema.org/sameAs': ['https://www.socialdeal.nl',\n",
       "    'https://twitter.com/SocialDeal_NL',\n",
       "    'https://www.instagram.com/social.deal/',\n",
       "    'https://www.facebook.com/SocialDealNL/?fref=ts',\n",
       "    'https://www.linkedin.com/company/social-deal?trk=nav_account_sub_nav_company_admin'],\n",
       "   'http://www.w3.org/1999/02/22-rdf-syntax-ns#type': ['http://schema.org/Organization'],\n",
       "   '_label': ['http://stage.socialdeal.nl/o/stage-commerciele-economie-2']}],\n",
       " [{'http://www.w3.org/1999/02/22-rdf-syntax-ns#type': ['http://schema.org/Organization'],\n",
       "   'http://schema.org/name': ['A-Z Poster Distribution'],\n",
       "   'http://schema.org/sameAs': ['http://www.poster-campaign.com/poster-distributors/'],\n",
       "   '_label': ['http://www.poster-campaign.com/poster-distributors/']}]]"
      ]
     },
     "execution_count": 674,
     "metadata": {},
     "output_type": "execute_result"
    }
   ],
   "source": [
    "list(extract_property(json_graphs, 'hiringOrganization'))[:3]"
   ]
  },
  {
   "cell_type": "code",
   "execution_count": 675,
   "metadata": {},
   "outputs": [
    {
     "data": {
      "text/plain": [
       "[[{'http://schema.org/Organization/name': ['Manpower S.r.l.'],\n",
       "   'http://www.w3.org/1999/02/22-rdf-syntax-ns#type': ['http://schema.org/Organization'],\n",
       "   '_label': ['http://cambiolavoro.com/clav/bacheca.nsf/AnnunciDiLavoroNew/ADDETTO_ALLA_PIANIFICAZIONE_DELLA_PRODUZIONE_JUNIOR_REGIONE_EMILIA_ROMAGNA_REGGIO_EMILIA_2F4B6DB7F4B2420DC1258486004FDCCA?OpenDocument']}],\n",
       " [{'http://www.w3.org/1999/02/22-rdf-syntax-ns#type': ['http://schema.org/Organization'],\n",
       "   'http://schema.org/Organization/name': ['FCS'],\n",
       "   '_label': ['http://careers.cnsjobmarket.psychiatrist.com/jobs/psychiatric-nurse-practitioner-pahrump-nv-108424726-d']}],\n",
       " [{'http://www.w3.org/1999/02/22-rdf-syntax-ns#type': ['http://schema.org/Organization'],\n",
       "   'http://schema.org/Organization/name': ['Zara'],\n",
       "   '_label': ['http://emploi.lalibre.be/fr/emploi/37819/visual-merchandiser-zara-men-arnhem-fulltime']}]]"
      ]
     },
     "execution_count": 675,
     "metadata": {},
     "output_type": "execute_result"
    }
   ],
   "source": [
    "list(extract_property(graphs, 'JobPosting/hiringOrganization'))[:3]"
   ]
  },
  {
   "cell_type": "code",
   "execution_count": 959,
   "metadata": {},
   "outputs": [
    {
     "data": {
      "text/plain": [
       "Counter({'http://www.w3.org/1999/02/22-rdf-syntax-ns#type': 1731,\n",
       "         'http://schema.org/name': 1724,\n",
       "         '_label': 1731,\n",
       "         'http://schema.org/logo': 987,\n",
       "         'http://schema.org/sameAs': 1110,\n",
       "         'http://schema.org/url': 86,\n",
       "         'http://schema.org/department': 1,\n",
       "         'http://schema.org/address': 8,\n",
       "         'http://schema.org/email': 5,\n",
       "         'http://schema.org/employee': 1,\n",
       "         'http://schema.org/image': 21,\n",
       "         'http://schema.org/description': 15,\n",
       "         'http://schema.org/aggregateRating': 1,\n",
       "         'http://schema.org/telephone': 5,\n",
       "         'http://schema.org/contactPoint': 14,\n",
       "         'http://schema.org/legalName': 4,\n",
       "         'http://schema.org/knowsAbout': 1,\n",
       "         'http://schema.org/brand': 1,\n",
       "         'http://schema.org/location': 1})"
      ]
     },
     "execution_count": 959,
     "metadata": {},
     "output_type": "execute_result"
    }
   ],
   "source": [
    "c = []\n",
    "for x in extract_subtype('hiringOrganization', 'Organization'):\n",
    "    c += x\n",
    "Counter(c)"
   ]
  },
  {
   "cell_type": "code",
   "execution_count": 960,
   "metadata": {},
   "outputs": [
    {
     "data": {
      "text/plain": [
       "Counter({'http://schema.org/Organization/name': 898,\n",
       "         'http://www.w3.org/1999/02/22-rdf-syntax-ns#type': 923,\n",
       "         '_label': 923,\n",
       "         'http://schema.org/Organization/sameAs': 169,\n",
       "         'http://schema.org/Organization/logo': 285,\n",
       "         'http://schema.org/Organization/url': 214,\n",
       "         'http://schema.org/Organization/employmentType': 22,\n",
       "         'http://schema.org/Organization/jobLocation': 22,\n",
       "         'http://schema.org/Organization/description': 31,\n",
       "         'http://schema.org/Organization/legalName': 34,\n",
       "         'http://schema.org/Organization/telephone': 24,\n",
       "         'http://schema.org/Organization/address': 29,\n",
       "         'http://schema.org/Organization/brand': 1,\n",
       "         'http://schema.org/Organization/department': 2,\n",
       "         'http://schema.org/Organization/sameAS': 1,\n",
       "         'http://schema.org/Organization/image': 6,\n",
       "         'http://schema.org/Organization/email': 9,\n",
       "         'http://schema.org/Organization/employee': 3,\n",
       "         'http://schema.org/Organization/faxNumber': 4,\n",
       "         'http://schema.org/Organization/title': 1,\n",
       "         'http://schema.org/Organization/aggregateRating': 1,\n",
       "         'http://schema.org/Organization/foundingDate': 2,\n",
       "         'http://schema.org/Organization/member': 2,\n",
       "         'http://schema.org/Organization/baseSalary': 1,\n",
       "         'http://schema.org/Organization/contactPoint': 3,\n",
       "         'http://schema.org/Organization/datePosted': 1,\n",
       "         'http://schema.org/Organization/location': 1,\n",
       "         'http://schema.org/Organization/legalname': 1,\n",
       "         'http://schema.org/Organization/occupationalCategory': 1})"
      ]
     },
     "execution_count": 960,
     "metadata": {},
     "output_type": "execute_result"
    }
   ],
   "source": [
    "c = []\n",
    "for x in extract_subtype('hiringOrganization', 'Organization', False):\n",
    "    c += x\n",
    "Counter(c)"
   ]
  },
  {
   "cell_type": "markdown",
   "metadata": {},
   "source": [
    "#### name"
   ]
  },
  {
   "cell_type": "code",
   "execution_count": 961,
   "metadata": {},
   "outputs": [
    {
     "data": {
      "text/plain": [
       "(['Anixter International',\n",
       "  'Stage lopen bij Social Deal',\n",
       "  'A-Z Poster Distribution',\n",
       "  'Division Industrielle',\n",
       "  'Imperial Valley College',\n",
       "  'FedEx',\n",
       "  '辛麺屋 桝元',\n",
       "  'Africa Jobs | CA Global Headhunters',\n",
       "  'Bonnier News',\n",
       "  'Bold'],\n",
       " 1724,\n",
       " Counter({str: 1724}))"
      ]
     },
     "execution_count": 961,
     "metadata": {},
     "output_type": "execute_result"
    }
   ],
   "source": [
    "c = []\n",
    "for x in extract_subtype('hiringOrganization', 'Organization'):\n",
    "    a = x.get('http://schema.org/name')\n",
    "    if a:\n",
    "        c.append(a[0])\n",
    "c[:10], len(c), Counter(map(type, c))"
   ]
  },
  {
   "cell_type": "code",
   "execution_count": 962,
   "metadata": {},
   "outputs": [
    {
     "data": {
      "text/plain": [
       "(['Manpower S.r.l.',\n",
       "  'FCS',\n",
       "  'Zara',\n",
       "  'LGC Associates, LLC',\n",
       "  'Corporate & Technical Recruiters, Inc.',\n",
       "  'Integrated Talent Strategies',\n",
       "  'TempStar',\n",
       "  'http://vieclam.hufi.edu.vn/viec-lam-cong-ty-cong-ty-tnhh-sieu-nhat-thanh-e3909-vi',\n",
       "  'Vertrouwelijk',\n",
       "  'Lelie zorggroep\\xa0'],\n",
       " 898,\n",
       " Counter({str: 898}))"
      ]
     },
     "execution_count": 962,
     "metadata": {},
     "output_type": "execute_result"
    }
   ],
   "source": [
    "c = []\n",
    "for x in extract_subtype('hiringOrganization', 'Organization', False):\n",
    "    a = x.get('http://schema.org/Organization/name')\n",
    "    if a:\n",
    "        c.append(a[0])\n",
    "c[:10], len(c), Counter(map(type, c))"
   ]
  },
  {
   "cell_type": "markdown",
   "metadata": {},
   "source": [
    "#### sameAs"
   ]
  },
  {
   "cell_type": "code",
   "execution_count": 963,
   "metadata": {},
   "outputs": [
    {
     "data": {
      "text/plain": [
       "(['https://www.socialdeal.nl',\n",
       "  'http://www.poster-campaign.com/poster-distributors/',\n",
       "  'https://dev.prim-web.com/integration',\n",
       "  'https://www.imperial.edu',\n",
       "  'https://careers.fedex.com',\n",
       "  'https://caglobal.catsone.com/careers/35041-General/jobs/12462383-Afreximbank-Associate-Intra-African-Trade-Initiative-Junior-Professional-Programme-Cairo-Egypt?host=caglobal.catsone.com&portalID=37801',\n",
       "  'https://www.bonniernews.se/bonnier-news-tech/',\n",
       "  'https://www.linkedin.com/company/boldteam',\n",
       "  'https://jobs.marriott.com',\n",
       "  'https://employeebenefitsjobs.com/m/job.cgi?n=H151599'],\n",
       " 1110,\n",
       " Counter({str: 1110}))"
      ]
     },
     "execution_count": 963,
     "metadata": {},
     "output_type": "execute_result"
    }
   ],
   "source": [
    "c = []\n",
    "for x in extract_subtype('hiringOrganization', 'Organization'):\n",
    "    a = x.get('http://schema.org/sameAs')\n",
    "    if a:\n",
    "        c.append(a[0])\n",
    "c[:10], len(c), Counter(map(type, c))"
   ]
  },
  {
   "cell_type": "code",
   "execution_count": 964,
   "metadata": {},
   "outputs": [
    {
     "data": {
      "text/plain": [
       "(['http://www.lgcassociates.com',\n",
       "  'http://www.ctrecruiters.com',\n",
       "  'http://www.wehirepeople.com',\n",
       "  'http://www.tempstarstaffing.com',\n",
       "  'https://www.realstreet.com',\n",
       "  'https://www.geckohospitality.com',\n",
       "  'http://www.ktemedicaljobs.com',\n",
       "  'http://www.anodyne-services.com',\n",
       "  'http://www.reply.com/',\n",
       "  'https://wuzzuf.net/jobs/careers/Ain-Shams-University-Egypt-17109'],\n",
       " 169,\n",
       " Counter({str: 169}))"
      ]
     },
     "execution_count": 964,
     "metadata": {},
     "output_type": "execute_result"
    }
   ],
   "source": [
    "c = []\n",
    "for x in extract_subtype('hiringOrganization', 'Organization', False):\n",
    "    a = x.get('http://schema.org/Organization/sameAs')\n",
    "    if a:\n",
    "        c.append(a[0])\n",
    "c[:10], len(c), Counter(map(type, c))"
   ]
  },
  {
   "cell_type": "markdown",
   "metadata": {},
   "source": [
    "#### logo"
   ]
  },
  {
   "cell_type": "code",
   "execution_count": 987,
   "metadata": {},
   "outputs": [
    {
     "data": {
      "text/plain": [
       "(['https://dgivdslhqe3qo.cloudfront.net/careers/photos/41241/thumb_photo_1504517641.png',\n",
       "  'https://dev.prim-web.com/logo.png',\n",
       "  'https://academiccareers.com/files/pictures/Imperial_Valley_College.jpg',\n",
       "  'https://arbeit.nifty.com/img/renewal/gfj/arbeit_icon.png',\n",
       "  'https://media-eu.jobylon.com/CACHE/companies/company-logo/bonnier-news/bonniernews_logga.cf400009/50543f78631f256ad1ec83aa48286362.jpg',\n",
       "  'https://dgivdslhqe3qo.cloudfront.net/careers/photos/138241/thumb_photo_1571770896.png',\n",
       "  'https://assets.jibecdn.com/prod/marriott/0.0.102/assets/brands/gaylord_hotels.jpg',\n",
       "  'https://d3jh33bzyw1wep.cloudfront.net/s3/W1siZiIsIjIwMTgvMDMvMjYvMDkvMzEvMzYvNTUyL2hheXMgbmV3LmpwZyJdXQ',\n",
       "  'https://kaigoworker.jp/img/gfjimg_kaigo.png',\n",
       "  'https://s3.amazonaws.com/resumator/customer_20170727203532_LH43VKY3ZSIPLHSC/logos/20170816150621_Image-PNG-Transparent-Exact-Large.png'],\n",
       " 987,\n",
       " Counter({str: 969, dict: 18}))"
      ]
     },
     "execution_count": 987,
     "metadata": {},
     "output_type": "execute_result"
    }
   ],
   "source": [
    "c = []\n",
    "for x in extract_subtype('hiringOrganization', 'Organization'):\n",
    "    a = x.get('http://schema.org/logo')\n",
    "    if a:\n",
    "        c.append(a[0])\n",
    "c[:10], len(c), Counter(map(type, c))"
   ]
  },
  {
   "cell_type": "code",
   "execution_count": 988,
   "metadata": {},
   "outputs": [
    {
     "data": {
      "text/plain": [
       "Counter({'http://schema.org/imageObject': 1,\n",
       "         'http://schema.org/ImageObject': 16})"
      ]
     },
     "execution_count": 988,
     "metadata": {},
     "output_type": "execute_result"
    }
   ],
   "source": [
    "Counter([a[rdftype][0] for a in c if isinstance(a, dict) and rdftype in a])"
   ]
  },
  {
   "cell_type": "code",
   "execution_count": 989,
   "metadata": {},
   "outputs": [
    {
     "data": {
      "text/plain": [
       "Counter({'http://www.w3.org/1999/02/22-rdf-syntax-ns#type': 17,\n",
       "         'http://schema.org/url': 17,\n",
       "         'http://schema.org/name': 5,\n",
       "         'http://schema.org/height': 9,\n",
       "         'http://schema.org/width': 9,\n",
       "         'http://schema.org/alternateName': 1})"
      ]
     },
     "execution_count": 989,
     "metadata": {},
     "output_type": "execute_result"
    }
   ],
   "source": [
    "Counter([k for a in c if isinstance(a, dict) and rdftype in a for k in a])"
   ]
  },
  {
   "cell_type": "code",
   "execution_count": 990,
   "metadata": {},
   "outputs": [
    {
     "data": {
      "text/plain": [
       "[{'http://www.w3.org/1999/02/22-rdf-syntax-ns#type': ['http://schema.org/imageObject'],\n",
       "  'http://schema.org/url': ['https://www.hiq.se/globalassets/bilder/hiq_bg_bild_some.jpg']},\n",
       " {'http://www.w3.org/1999/02/22-rdf-syntax-ns#type': ['http://schema.org/ImageObject'],\n",
       "  'http://schema.org/url': ['public://styles/logo/public/sub-organisations/L&amp;CDUNDEE.png']},\n",
       " {'http://www.w3.org/1999/02/22-rdf-syntax-ns#type': ['http://schema.org/ImageObject'],\n",
       "  'http://schema.org/url': ['https://teltonika-iot-group.com/img/teltonika-logo-blue.png']},\n",
       " {'http://schema.org/name': ['TRN Logo with Website'],\n",
       "  'http://www.w3.org/1999/02/22-rdf-syntax-ns#type': ['http://schema.org/ImageObject'],\n",
       "  'http://schema.org/url': ['https://i1.wp.com/www.ohioworksnow.com/wp-content/uploads/company_logos/2019/10/TRN-Logo-with-Website-23.jpg?fit=1800%2C1043'],\n",
       "  'http://schema.org/height': [1043],\n",
       "  'http://schema.org/width': [1800]},\n",
       " {'http://www.w3.org/1999/02/22-rdf-syntax-ns#type': ['http://schema.org/ImageObject'],\n",
       "  'http://schema.org/url': ['https://dbx9jsyriv02l.cloudfront.net/website/company-profile/3121/volkswagen_financial_services_vwfsuk_profile_200x200_1509098984.png'],\n",
       "  'http://schema.org/alternateName': ['company logo']},\n",
       " {'http://www.w3.org/1999/02/22-rdf-syntax-ns#type': ['http://schema.org/ImageObject'],\n",
       "  'http://schema.org/url': ['https://teltonika-gps.com/img/teltonika-logo-blue.png']},\n",
       " {'http://www.w3.org/1999/02/22-rdf-syntax-ns#type': ['http://schema.org/ImageObject'],\n",
       "  'http://schema.org/width': [600],\n",
       "  'http://schema.org/height': [60],\n",
       "  'http://schema.org/url': ['https://s3-eu-west-1.amazonaws.com/park-je/uploads/public/580/49a/c9b/58049ac9b38db372654069.png']},\n",
       " {'http://schema.org/width': [150],\n",
       "  'http://schema.org/height': [75],\n",
       "  'http://www.w3.org/1999/02/22-rdf-syntax-ns#type': ['http://schema.org/ImageObject'],\n",
       "  'http://schema.org/name': ['Company Logo for User #2 (jobsphnet)'],\n",
       "  'http://schema.org/url': ['https://pn9uz32ejav3o9drn23skfub-wpengine.netdna-ssl.com/wp-content/uploads/company_logos/2018/08/tpcunitednewlogosmall40-150x75-1_company_logo.png']},\n",
       " {'http://schema.org/height': [78],\n",
       "  'http://schema.org/url': ['https://technicaljobs.ie/wp-content/uploads/company_logos/2014/08/peglobal-logo-v21.png'],\n",
       "  'http://www.w3.org/1999/02/22-rdf-syntax-ns#type': ['http://schema.org/ImageObject'],\n",
       "  'http://schema.org/width': [244],\n",
       "  'http://schema.org/name': ['peglobal-logo-v2']},\n",
       " {'http://schema.org/url': ['https://www.sdim.nl/wp-content/uploads/2019/08/logo-sdi.png'],\n",
       "  'http://www.w3.org/1999/02/22-rdf-syntax-ns#type': ['http://schema.org/ImageObject']}]"
      ]
     },
     "execution_count": 990,
     "metadata": {},
     "output_type": "execute_result"
    }
   ],
   "source": [
    "[a for a in c if isinstance(a, dict) and rdftype in a][:10]"
   ]
  },
  {
   "cell_type": "code",
   "execution_count": 991,
   "metadata": {},
   "outputs": [
    {
     "data": {
      "text/plain": [
       "(['Null',\n",
       "  'http://cdn.haleymarketing.com/templates/61968/logos/ctrecruiters-socialmedia.png',\n",
       "  'Null',\n",
       "  'http://cdn.haleymarketing.com/templates/62095/logos/tempstarstaffing-hml.png',\n",
       "  {'http://schema.org/ImageObject/contentUrl': ['https://bancadati.corrierelavoro.ch/custom_corrieredelticino/media/logo/logo_2545887.jpg'],\n",
       "   'http://www.w3.org/1999/02/22-rdf-syntax-ns#type': ['http://schema.org/ImageObject']},\n",
       "  'https://slb3.adicio.com/files/ys-c-02/2014-05/30/09/27/web_5388b18fb225388b18f3b3f7.jpg',\n",
       "  'https://cdn.nationalevacaturebank.nl/vacature/logo/8945397/152x54',\n",
       "  'https://slb3.adicio.com/files/ys-c-02/2019-03/19/08/31/5c910b4bb645.png',\n",
       "  'Null',\n",
       "  'https://slb4.adicio.com/files/ys-c-01/2019-06/25/12/47/5d127a5d93f7.png'],\n",
       " 285,\n",
       " Counter({str: 254, dict: 31}))"
      ]
     },
     "execution_count": 991,
     "metadata": {},
     "output_type": "execute_result"
    }
   ],
   "source": [
    "c = []\n",
    "for x in extract_subtype('hiringOrganization', 'Organization', False):\n",
    "    a = x.get('http://schema.org/Organization/logo')\n",
    "    if a:\n",
    "        c.append(a[0])\n",
    "c[:10], len(c), Counter(map(type, c))"
   ]
  },
  {
   "cell_type": "code",
   "execution_count": 992,
   "metadata": {},
   "outputs": [
    {
     "data": {
      "text/plain": [
       "Counter({'http://schema.org/ImageObject/contentUrl': 30,\n",
       "         'http://www.w3.org/1999/02/22-rdf-syntax-ns#type': 31,\n",
       "         'https://schema.org/ImageObject/url': 1,\n",
       "         'https://schema.org/ImageObject/height': 1,\n",
       "         'https://schema.org/ImageObject/width': 1})"
      ]
     },
     "execution_count": 992,
     "metadata": {},
     "output_type": "execute_result"
    }
   ],
   "source": [
    "Counter([k for a in c if isinstance(a, dict) and rdftype in a for k in a])"
   ]
  },
  {
   "cell_type": "code",
   "execution_count": 993,
   "metadata": {},
   "outputs": [
    {
     "data": {
      "text/plain": [
       "[{'http://schema.org/ImageObject/contentUrl': ['https://bancadati.corrierelavoro.ch/custom_corrieredelticino/media/logo/logo_2545887.jpg'],\n",
       "  'http://www.w3.org/1999/02/22-rdf-syntax-ns#type': ['http://schema.org/ImageObject']},\n",
       " {'http://schema.org/ImageObject/contentUrl': ['https://media.rabota.ru/processor/logo/small/2019/10/15/servis-zakaza-taksi-maksim3-e7a6a43b5602774de1f8a4384618689c.png'],\n",
       "  'http://www.w3.org/1999/02/22-rdf-syntax-ns#type': ['http://schema.org/ImageObject']},\n",
       " {'http://www.w3.org/1999/02/22-rdf-syntax-ns#type': ['http://schema.org/ImageObject'],\n",
       "  'http://schema.org/ImageObject/contentUrl': ['https://media.rabota.ru/processor/logo/small/2010/04/08/silajjn.gif']},\n",
       " {'http://www.w3.org/1999/02/22-rdf-syntax-ns#type': ['http://schema.org/ImageObject'],\n",
       "  'http://schema.org/ImageObject/contentUrl': ['https://www.robots.jobs/jobs/robotics-research-engineer-in-pittsburgh-allegheny-county-pennsylvania-us///www.robots.jobs/app/jobs/company/5db300cd521982480f81198b/logo?ts=1572012491']},\n",
       " {'http://schema.org/ImageObject/contentUrl': ['https://kirov.rabota.ru/vacancy/42847623//static/images/company-no-logo.svg'],\n",
       "  'http://www.w3.org/1999/02/22-rdf-syntax-ns#type': ['http://schema.org/ImageObject']},\n",
       " {'http://www.w3.org/1999/02/22-rdf-syntax-ns#type': ['http://schema.org/ImageObject'],\n",
       "  'http://schema.org/ImageObject/contentUrl': ['https://yahroma.rabota.ru/vacancy/42901767//static/images/company-no-logo.svg']},\n",
       " {'http://www.w3.org/1999/02/22-rdf-syntax-ns#type': ['http://schema.org/ImageObject'],\n",
       "  'http://schema.org/ImageObject/contentUrl': ['https://golitsyno.rabota.ru/vacancy/42532559//static/images/company-no-logo.svg']},\n",
       " {'http://schema.org/ImageObject/contentUrl': ['https://klimovsk.rabota.ru/vacancy/41865376//static/images/company-no-logo.svg'],\n",
       "  'http://www.w3.org/1999/02/22-rdf-syntax-ns#type': ['http://schema.org/ImageObject']},\n",
       " {'http://www.w3.org/1999/02/22-rdf-syntax-ns#type': ['http://schema.org/ImageObject'],\n",
       "  'http://schema.org/ImageObject/contentUrl': ['https://careers.alispa.it/job/viewAd.php?job_id=11520&jobdescription=INFORMATICO_in-MASSA&language=it/Null']},\n",
       " {'http://schema.org/ImageObject/contentUrl': ['https://media.rabota.ru/processor/logo/small/2015/09/03/ooofiksprajjs.gif'],\n",
       "  'http://www.w3.org/1999/02/22-rdf-syntax-ns#type': ['http://schema.org/ImageObject']}]"
      ]
     },
     "execution_count": 993,
     "metadata": {},
     "output_type": "execute_result"
    }
   ],
   "source": [
    "[a for a in c if isinstance(a, dict) and rdftype in a][:10]"
   ]
  },
  {
   "cell_type": "markdown",
   "metadata": {},
   "source": [
    "#### url"
   ]
  },
  {
   "cell_type": "code",
   "execution_count": 975,
   "metadata": {},
   "outputs": [
    {
     "data": {
      "text/plain": [
       "(['https://lavoro.informazione.it/offerte-di-lavoro-di-Iqm%20Selezione%20S.R.L.',\n",
       "  'https://venturefizz.com/jobs/boston/mid-market-sales-representative-boston-at-crimson-hexagon-boston-ma-0',\n",
       "  'https://www.adeccousa.com',\n",
       "  'https://jobs.merck.com/us/en/job/CLI008609/Senior-Clinical-Research-Associate-Oncology-San-Francisco',\n",
       "  'http://www.alibdaapalestine.com/',\n",
       "  'https://careers.oceaneering.com/global/en/job/15823/Designer',\n",
       "  'https://www.alphajump.de/unternehmen/ATLANTIC-Bonn',\n",
       "  'https://www.hiq.se/fi/',\n",
       "  'https://www.jobscout24.ch/de/job/charpentier-%C3%A8re/5117126/',\n",
       "  'https://job-like.com/company/375268/'],\n",
       " 86,\n",
       " Counter({str: 86}))"
      ]
     },
     "execution_count": 975,
     "metadata": {},
     "output_type": "execute_result"
    }
   ],
   "source": [
    "c = []\n",
    "for x in extract_subtype('hiringOrganization', 'Organization'):\n",
    "    a = x.get('http://schema.org/url')\n",
    "    if a:\n",
    "        c.append(a[0])\n",
    "c[:10], len(c), Counter(map(type, c))"
   ]
  },
  {
   "cell_type": "code",
   "execution_count": 976,
   "metadata": {},
   "outputs": [
    {
     "data": {
      "text/plain": [
       "(['http://www.lgcassociates.com',\n",
       "  'http://www.ctrecruiters.com',\n",
       "  'http://www.wehirepeople.com',\n",
       "  'http://www.tempstarstaffing.com',\n",
       "  'https://bancadati.corrierelavoro.ch/job/viewAd.php?job_id=6225073&jobdescription=FINANCIAL%20SYSTEMS%20CONSULTANT%20(6%20months%20fixed-term%20Contract)_in-Lugano&language=de//employer/viewCompany.php?id=2545887&companyName=sidler-sa',\n",
       "  'https://diversity.careercast.com/jobs/network-build-provision-engineer-tysons-vienna-va-22180-115329630-d?contextType=browse//jobs/at-t-353757-cd',\n",
       "  'https://disability.careercast.com/jobs/system-business-analyst-migrations-6006846007152019-rotterdam-zuid-holland-3012-114980762-d//jobs/adp-1204821-cd',\n",
       "  'https://jobs.mashable.com/jobs/lead-cybersecurity-analyst-hunt-red-team-incident-response-platform-engineer-50640-riverwoods-il-60015-115001464-d//jobs/discover-1788278-cd',\n",
       "  'https://www.realstreet.com',\n",
       "  'https://medivacature.nl/vacatures/vakantiemedewerkers/raamwerk/showvac/272391//exit/www.hetraamwerk.nl'],\n",
       " 214,\n",
       " Counter({str: 214}))"
      ]
     },
     "execution_count": 976,
     "metadata": {},
     "output_type": "execute_result"
    }
   ],
   "source": [
    "c = []\n",
    "for x in extract_subtype('hiringOrganization', 'Organization', False):\n",
    "    a = x.get('http://schema.org/Organization/url')\n",
    "    if a:\n",
    "        c.append(a[0])\n",
    "c[:10], len(c), Counter(map(type, c))"
   ]
  },
  {
   "cell_type": "markdown",
   "metadata": {},
   "source": [
    "## validThrough"
   ]
  },
  {
   "cell_type": "code",
   "execution_count": 613,
   "metadata": {},
   "outputs": [
    {
     "data": {
      "text/plain": [
       "(Counter({'http://schema.org/DateTime': 939,\n",
       "          'http://schema.org/Date': 174,\n",
       "          str: 2}),\n",
       " Counter({str: 544, datetime.date: 103}))"
      ]
     },
     "execution_count": 613,
     "metadata": {},
     "output_type": "execute_result"
    }
   ],
   "source": [
    "Counter(extract_types(json_graphs, 'validThrough')), Counter(extract_types(graphs, 'JobPosting/validThrough'))"
   ]
  },
  {
   "cell_type": "code",
   "execution_count": 676,
   "metadata": {},
   "outputs": [
    {
     "data": {
      "text/plain": [
       "[[rdflib.term.Literal('2019-11-11', datatype=rdflib.term.URIRef('http://schema.org/DateTime'))],\n",
       " [rdflib.term.Literal('1970-01-01T00:00:00', datatype=rdflib.term.URIRef('http://schema.org/Date'))],\n",
       " [rdflib.term.Literal('2019-12-11', datatype=rdflib.term.URIRef('http://schema.org/DateTime'))]]"
      ]
     },
     "execution_count": 676,
     "metadata": {},
     "output_type": "execute_result"
    }
   ],
   "source": [
    "list(extract_property(json_graphs, 'validThrough'))[:3]"
   ]
  },
  {
   "cell_type": "code",
   "execution_count": 678,
   "metadata": {},
   "outputs": [
    {
     "data": {
      "text/plain": [
       "[['2019-11-28'], ['2019-11-29'], ['2019-12-22']]"
      ]
     },
     "execution_count": 678,
     "metadata": {},
     "output_type": "execute_result"
    }
   ],
   "source": [
    "list(extract_property(graphs, 'JobPosting/validThrough'))[:3]"
   ]
  },
  {
   "cell_type": "markdown",
   "metadata": {},
   "source": [
    "### url"
   ]
  },
  {
   "cell_type": "code",
   "execution_count": 614,
   "metadata": {},
   "outputs": [
    {
     "data": {
      "text/plain": [
       "(Counter({'URI': 418, str: 1}),\n",
       " Counter({'URI': 325, str: 249, 'http://schema.org/URL': 1}))"
      ]
     },
     "execution_count": 614,
     "metadata": {},
     "output_type": "execute_result"
    }
   ],
   "source": [
    "Counter(extract_types(json_graphs, 'url')), Counter(extract_types(graphs, 'JobPosting/url'))"
   ]
  },
  {
   "cell_type": "code",
   "execution_count": 679,
   "metadata": {},
   "outputs": [
    {
     "data": {
      "text/plain": [
       "[['https://academiccareers.com/job/4595/pt-faculty-pool-apprenticeship-electrical-iid/'],\n",
       " ['https://careers.fedex.com/office/jobs/26086-392004?lang=en-US'],\n",
       " ['https://arbeit.nifty.com/miyazaki/nobeoka-station/froma_Y002SEC1/']]"
      ]
     },
     "execution_count": 679,
     "metadata": {},
     "output_type": "execute_result"
    }
   ],
   "source": [
    "list(extract_property(json_graphs, 'url'))[:3]"
   ]
  },
  {
   "cell_type": "code",
   "execution_count": 680,
   "metadata": {},
   "outputs": [
    {
     "data": {
      "text/plain": [
       "[['http://business.colbychamber.com/jobs/info/non-profit-and-social-services-abc-home-visitor-remote-location-170'],\n",
       " ['https://ad.searchwidget.nationalevacaturebank.nl/vacature/bladeren/Barneveld/Zinzia%20medisch%20verpleegkundige%20zorggroep/2//vacature/57f2a946-3b08-45be-8e48-d51e1c805d37/verpleegkundige'],\n",
       " ['https://buscadordetrabajo.cl/administrativo-contable//administracion-empresas/metropolitana/58207/alumno-practica-administrativo-contable']]"
      ]
     },
     "execution_count": 680,
     "metadata": {},
     "output_type": "execute_result"
    }
   ],
   "source": [
    "list(extract_property(graphs, 'JobPosting/url'))[:3]"
   ]
  },
  {
   "cell_type": "markdown",
   "metadata": {},
   "source": [
    "### industry"
   ]
  },
  {
   "cell_type": "code",
   "execution_count": 615,
   "metadata": {},
   "outputs": [
    {
     "data": {
      "text/plain": [
       "(Counter({str: 722}), Counter({str: 580, 'URI': 7}))"
      ]
     },
     "execution_count": 615,
     "metadata": {},
     "output_type": "execute_result"
    }
   ],
   "source": [
    "Counter(extract_types(json_graphs, 'industry')), Counter(extract_types(graphs, 'JobPosting/industry'))"
   ]
  },
  {
   "cell_type": "code",
   "execution_count": 616,
   "metadata": {},
   "outputs": [
    {
     "data": {
      "text/html": [
       "<div>\n",
       "<style scoped>\n",
       "    .dataframe tbody tr th:only-of-type {\n",
       "        vertical-align: middle;\n",
       "    }\n",
       "\n",
       "    .dataframe tbody tr th {\n",
       "        vertical-align: top;\n",
       "    }\n",
       "\n",
       "    .dataframe thead th {\n",
       "        text-align: right;\n",
       "    }\n",
       "</style>\n",
       "<table border=\"1\" class=\"dataframe\">\n",
       "  <thead>\n",
       "    <tr style=\"text-align: right;\">\n",
       "      <th></th>\n",
       "      <th></th>\n",
       "      <th>UNAVAILABLE</th>\n",
       "      <th>Engineering</th>\n",
       "      <th>Technology</th>\n",
       "      <th>Education</th>\n",
       "      <th>Sales</th>\n",
       "      <th>Information Technology</th>\n",
       "      <th>Gesundheitswesen/Medizin/Soziales</th>\n",
       "      <th>Einzel- und Großhandel</th>\n",
       "      <th>Healthcare</th>\n",
       "      <th>Accounting</th>\n",
       "      <th>Marketing</th>\n",
       "      <th>Banking &amp; Financial Services</th>\n",
       "      <th>Sales &amp; Marketing</th>\n",
       "      <th>Accountancy &amp; Finance</th>\n",
       "      <th>Accounting &amp; Finance</th>\n",
       "      <th>Hospitality</th>\n",
       "      <th>Finance</th>\n",
       "      <th>Software Development</th>\n",
       "      <th>Maschinen-, Anlagen u. Fahrzeugbau</th>\n",
       "    </tr>\n",
       "  </thead>\n",
       "  <tbody>\n",
       "    <tr>\n",
       "      <th>0</th>\n",
       "      <td>20.000000</td>\n",
       "      <td>20.000000</td>\n",
       "      <td>12.000000</td>\n",
       "      <td>8.000000</td>\n",
       "      <td>7.000000</td>\n",
       "      <td>7.000000</td>\n",
       "      <td>7.000000</td>\n",
       "      <td>7.000000</td>\n",
       "      <td>6.000000</td>\n",
       "      <td>6.000000</td>\n",
       "      <td>5.000000</td>\n",
       "      <td>5.000000</td>\n",
       "      <td>4.000000</td>\n",
       "      <td>4.000000</td>\n",
       "      <td>4.000000</td>\n",
       "      <td>4.000000</td>\n",
       "      <td>4.000000</td>\n",
       "      <td>4.000000</td>\n",
       "      <td>4.000000</td>\n",
       "      <td>4.000000</td>\n",
       "    </tr>\n",
       "    <tr>\n",
       "      <th>pct</th>\n",
       "      <td>0.026455</td>\n",
       "      <td>0.026455</td>\n",
       "      <td>0.015873</td>\n",
       "      <td>0.010582</td>\n",
       "      <td>0.009259</td>\n",
       "      <td>0.009259</td>\n",
       "      <td>0.009259</td>\n",
       "      <td>0.009259</td>\n",
       "      <td>0.007937</td>\n",
       "      <td>0.007937</td>\n",
       "      <td>0.006614</td>\n",
       "      <td>0.006614</td>\n",
       "      <td>0.005291</td>\n",
       "      <td>0.005291</td>\n",
       "      <td>0.005291</td>\n",
       "      <td>0.005291</td>\n",
       "      <td>0.005291</td>\n",
       "      <td>0.005291</td>\n",
       "      <td>0.005291</td>\n",
       "      <td>0.005291</td>\n",
       "    </tr>\n",
       "  </tbody>\n",
       "</table>\n",
       "</div>"
      ],
      "text/plain": [
       "                UNAVAILABLE  Engineering  Technology  Education     Sales  \\\n",
       "0    20.000000    20.000000    12.000000    8.000000   7.000000  7.000000   \n",
       "pct   0.026455     0.026455     0.015873    0.010582   0.009259  0.009259   \n",
       "\n",
       "     Information Technology  Gesundheitswesen/Medizin/Soziales  \\\n",
       "0                  7.000000                           7.000000   \n",
       "pct                0.009259                           0.009259   \n",
       "\n",
       "     Einzel- und Großhandel  Healthcare  Accounting  Marketing  \\\n",
       "0                  6.000000    6.000000    5.000000   5.000000   \n",
       "pct                0.007937    0.007937    0.006614   0.006614   \n",
       "\n",
       "     Banking & Financial Services  Sales & Marketing  Accountancy & Finance  \\\n",
       "0                        4.000000           4.000000               4.000000   \n",
       "pct                      0.005291           0.005291               0.005291   \n",
       "\n",
       "     Accounting & Finance  Hospitality   Finance  Software Development  \\\n",
       "0                4.000000     4.000000  4.000000              4.000000   \n",
       "pct              0.005291     0.005291  0.005291              0.005291   \n",
       "\n",
       "     Maschinen-, Anlagen u. Fahrzeugbau  \n",
       "0                              4.000000  \n",
       "pct                            0.005291  "
      ]
     },
     "execution_count": 616,
     "metadata": {},
     "output_type": "execute_result"
    }
   ],
   "source": [
    "pd.Series(industry for industries in extract_property(json_graphs, 'industry') for industry in industries).value_counts().to_frame().assign(pct=lambda df: df[0]/sum(df[0])).head(20).T"
   ]
  },
  {
   "cell_type": "code",
   "execution_count": 617,
   "metadata": {},
   "outputs": [
    {
     "data": {
      "text/html": [
       "<div>\n",
       "<style scoped>\n",
       "    .dataframe tbody tr th:only-of-type {\n",
       "        vertical-align: middle;\n",
       "    }\n",
       "\n",
       "    .dataframe tbody tr th {\n",
       "        vertical-align: top;\n",
       "    }\n",
       "\n",
       "    .dataframe thead th {\n",
       "        text-align: right;\n",
       "    }\n",
       "</style>\n",
       "<table border=\"1\" class=\"dataframe\">\n",
       "  <thead>\n",
       "    <tr style=\"text-align: right;\">\n",
       "      <th></th>\n",
       "      <th>Продажи</th>\n",
       "      <th>Информационные технологии, интернет, телеком</th>\n",
       "      <th>Начало карьеры, студенты</th>\n",
       "      <th>Транспорт, логистика</th>\n",
       "      <th>Бухгалтерия, управленческий учет, финансы предприятия</th>\n",
       "      <th>Медицина, фармацевтика</th>\n",
       "      <th>Строительство, недвижимость</th>\n",
       "      <th>Null</th>\n",
       "      <th>Engineering</th>\n",
       "      <th>Производство</th>\n",
       "      <th>Наука, образование</th>\n",
       "      <th>Construction</th>\n",
       "      <th>Административный персонал</th>\n",
       "      <th>Electrical</th>\n",
       "      <th>Безопасность</th>\n",
       "      <th>Туризм, гостиницы, рестораны</th>\n",
       "      <th>Safety</th>\n",
       "      <th>Маркетинг, реклама, PR</th>\n",
       "      <th>Рабочий персонал</th>\n",
       "      <th>Manufacturing</th>\n",
       "    </tr>\n",
       "  </thead>\n",
       "  <tbody>\n",
       "    <tr>\n",
       "      <th>0</th>\n",
       "      <td>41.000000</td>\n",
       "      <td>20.00000</td>\n",
       "      <td>16.000000</td>\n",
       "      <td>14.000000</td>\n",
       "      <td>12.000000</td>\n",
       "      <td>11.000000</td>\n",
       "      <td>10.00000</td>\n",
       "      <td>10.00000</td>\n",
       "      <td>9.000000</td>\n",
       "      <td>9.000000</td>\n",
       "      <td>9.000000</td>\n",
       "      <td>9.000000</td>\n",
       "      <td>9.000000</td>\n",
       "      <td>8.000000</td>\n",
       "      <td>7.000000</td>\n",
       "      <td>7.000000</td>\n",
       "      <td>7.000000</td>\n",
       "      <td>6.000000</td>\n",
       "      <td>6.000000</td>\n",
       "      <td>5.000000</td>\n",
       "    </tr>\n",
       "    <tr>\n",
       "      <th>pct</th>\n",
       "      <td>0.052767</td>\n",
       "      <td>0.02574</td>\n",
       "      <td>0.020592</td>\n",
       "      <td>0.018018</td>\n",
       "      <td>0.015444</td>\n",
       "      <td>0.014157</td>\n",
       "      <td>0.01287</td>\n",
       "      <td>0.01287</td>\n",
       "      <td>0.011583</td>\n",
       "      <td>0.011583</td>\n",
       "      <td>0.011583</td>\n",
       "      <td>0.011583</td>\n",
       "      <td>0.011583</td>\n",
       "      <td>0.010296</td>\n",
       "      <td>0.009009</td>\n",
       "      <td>0.009009</td>\n",
       "      <td>0.009009</td>\n",
       "      <td>0.007722</td>\n",
       "      <td>0.007722</td>\n",
       "      <td>0.006435</td>\n",
       "    </tr>\n",
       "  </tbody>\n",
       "</table>\n",
       "</div>"
      ],
      "text/plain": [
       "       Продажи  Информационные технологии, интернет, телеком  \\\n",
       "0    41.000000                                      20.00000   \n",
       "pct   0.052767                                       0.02574   \n",
       "\n",
       "     Начало карьеры, студенты  Транспорт, логистика  \\\n",
       "0                   16.000000             14.000000   \n",
       "pct                  0.020592              0.018018   \n",
       "\n",
       "     Бухгалтерия, управленческий учет, финансы предприятия  \\\n",
       "0                                            12.000000       \n",
       "pct                                           0.015444       \n",
       "\n",
       "     Медицина, фармацевтика  Строительство, недвижимость      Null  \\\n",
       "0                 11.000000                     10.00000  10.00000   \n",
       "pct                0.014157                      0.01287   0.01287   \n",
       "\n",
       "     Engineering  Производство  Наука, образование  Construction  \\\n",
       "0       9.000000      9.000000            9.000000      9.000000   \n",
       "pct     0.011583      0.011583            0.011583      0.011583   \n",
       "\n",
       "     Административный персонал  Electrical  Безопасность  \\\n",
       "0                     9.000000    8.000000      7.000000   \n",
       "pct                   0.011583    0.010296      0.009009   \n",
       "\n",
       "     Туризм, гостиницы, рестораны    Safety  Маркетинг, реклама, PR  \\\n",
       "0                        7.000000  7.000000                6.000000   \n",
       "pct                      0.009009  0.009009                0.007722   \n",
       "\n",
       "     Рабочий персонал  Manufacturing  \n",
       "0            6.000000       5.000000  \n",
       "pct          0.007722       0.006435  "
      ]
     },
     "execution_count": 617,
     "metadata": {},
     "output_type": "execute_result"
    }
   ],
   "source": [
    "pd.Series(industry for industries in extract_property(graphs, 'JobPosting/industry') for industry in industries).value_counts().to_frame().assign(pct=lambda df: df[0]/sum(df[0])).head(20).T"
   ]
  },
  {
   "cell_type": "markdown",
   "metadata": {},
   "source": [
    "### educationRequirements"
   ]
  },
  {
   "cell_type": "code",
   "execution_count": 681,
   "metadata": {},
   "outputs": [
    {
     "data": {
      "text/plain": [
       "(Counter({str: 187, 'http://schema.org/EducationalOccupationalCredential': 2}),\n",
       " Counter({str: 190}))"
      ]
     },
     "execution_count": 681,
     "metadata": {},
     "output_type": "execute_result"
    }
   ],
   "source": [
    "Counter(extract_types(json_graphs, 'educationRequirements')), Counter(extract_types(graphs, 'JobPosting/educationRequirements'))"
   ]
  },
  {
   "cell_type": "code",
   "execution_count": 682,
   "metadata": {},
   "outputs": [
    {
     "data": {
      "text/html": [
       "<div>\n",
       "<style scoped>\n",
       "    .dataframe tbody tr th:only-of-type {\n",
       "        vertical-align: middle;\n",
       "    }\n",
       "\n",
       "    .dataframe tbody tr th {\n",
       "        vertical-align: top;\n",
       "    }\n",
       "\n",
       "    .dataframe thead th {\n",
       "        text-align: right;\n",
       "    }\n",
       "</style>\n",
       "<table border=\"1\" class=\"dataframe\">\n",
       "  <thead>\n",
       "    <tr style=\"text-align: right;\">\n",
       "      <th></th>\n",
       "      <th>UNAVAILABLE</th>\n",
       "      <th>Abgeschlossene Berufsausbildung / Lehrabschluss</th>\n",
       "      <th></th>\n",
       "      <th>Not Specified</th>\n",
       "      <th>Abschluss Hochschule / Berufsakademie / Duales Studium</th>\n",
       "      <th>MBO</th>\n",
       "      <th>Không yêu cầu</th>\n",
       "      <th>Sonstiges</th>\n",
       "      <th>Not Applicable</th>\n",
       "      <th>Mittlere Reife</th>\n",
       "      <th>Berufslehre</th>\n",
       "      <th>Trung cấp</th>\n",
       "      <th>Abitur</th>\n",
       "      <th>&amp;amp;lt;p style=&amp;amp;quot;text-align: justify;&amp;amp;quot;&amp;amp;gt;Diplu00f4mu00e9(e) du2019un Bac ou du Bac+2, vous justifiez de plusieurs annu00e9es du2019expu00e9rience en secru00e9tariat ou sur un poste u00e9quivalent.&amp;amp;lt;br&amp;amp;gt;Les outils bureautiques nu2019ont pas de secret pour vous. Vous u00eates capable de tenir une conversation, ru00e9diger, lire et comprendre un document relatif u00e0 votre activitu00e9 en anglais.&amp;amp;lt;/p&amp;amp;gt;</th>\n",
       "      <th>HBO</th>\n",
       "      <th>Degree</th>\n",
       "      <th>None</th>\n",
       "      <th>学歴不問</th>\n",
       "      <th>Abitur / Fachabitur</th>\n",
       "      <th>Vmbo</th>\n",
       "    </tr>\n",
       "  </thead>\n",
       "  <tbody>\n",
       "    <tr>\n",
       "      <th>0</th>\n",
       "      <td>21.000000</td>\n",
       "      <td>16.000000</td>\n",
       "      <td>13.000000</td>\n",
       "      <td>7.000000</td>\n",
       "      <td>4.000000</td>\n",
       "      <td>4.000000</td>\n",
       "      <td>4.000000</td>\n",
       "      <td>4.000000</td>\n",
       "      <td>4.000000</td>\n",
       "      <td>4.000000</td>\n",
       "      <td>4.000000</td>\n",
       "      <td>2.000000</td>\n",
       "      <td>2.000000</td>\n",
       "      <td>2.000000</td>\n",
       "      <td>2.000000</td>\n",
       "      <td>2.000000</td>\n",
       "      <td>2.000000</td>\n",
       "      <td>2.000000</td>\n",
       "      <td>2.000000</td>\n",
       "      <td>2.000000</td>\n",
       "    </tr>\n",
       "    <tr>\n",
       "      <th>pct</th>\n",
       "      <td>0.111111</td>\n",
       "      <td>0.084656</td>\n",
       "      <td>0.068783</td>\n",
       "      <td>0.037037</td>\n",
       "      <td>0.021164</td>\n",
       "      <td>0.021164</td>\n",
       "      <td>0.021164</td>\n",
       "      <td>0.021164</td>\n",
       "      <td>0.021164</td>\n",
       "      <td>0.021164</td>\n",
       "      <td>0.021164</td>\n",
       "      <td>0.010582</td>\n",
       "      <td>0.010582</td>\n",
       "      <td>0.010582</td>\n",
       "      <td>0.010582</td>\n",
       "      <td>0.010582</td>\n",
       "      <td>0.010582</td>\n",
       "      <td>0.010582</td>\n",
       "      <td>0.010582</td>\n",
       "      <td>0.010582</td>\n",
       "    </tr>\n",
       "  </tbody>\n",
       "</table>\n",
       "</div>"
      ],
      "text/plain": [
       "     UNAVAILABLE  Abgeschlossene Berufsausbildung / Lehrabschluss             \\\n",
       "0      21.000000                                        16.000000  13.000000   \n",
       "pct     0.111111                                         0.084656   0.068783   \n",
       "\n",
       "     Not Specified  Abschluss Hochschule / Berufsakademie / Duales Studium  \\\n",
       "0         7.000000                                           4.000000        \n",
       "pct       0.037037                                           0.021164        \n",
       "\n",
       "          MBO  Không yêu cầu  Sonstiges  Not Applicable  Mittlere Reife  \\\n",
       "0    4.000000       4.000000   4.000000        4.000000        4.000000   \n",
       "pct  0.021164       0.021164   0.021164        0.021164        0.021164   \n",
       "\n",
       "     Berufslehre  Trung cấp    Abitur  \\\n",
       "0       4.000000   2.000000  2.000000   \n",
       "pct     0.021164   0.010582  0.010582   \n",
       "\n",
       "     &amp;lt;p style=&amp;quot;text-align: justify;&amp;quot;&amp;gt;Diplu00f4mu00e9(e) du2019un Bac ou du Bac+2, vous justifiez de plusieurs annu00e9es du2019expu00e9rience en secru00e9tariat ou sur un poste u00e9quivalent.&amp;lt;br&amp;gt;Les outils bureautiques nu2019ont pas de secret pour vous. Vous u00eates capable de tenir une conversation, ru00e9diger, lire et comprendre un document relatif u00e0 votre activitu00e9 en anglais.&amp;lt;/p&amp;gt;  \\\n",
       "0                                             2.000000                                                                                                                                                                                                                                                                                                                                                                                                                     \n",
       "pct                                           0.010582                                                                                                                                                                                                                                                                                                                                                                                                                     \n",
       "\n",
       "          HBO    Degree      None      学歴不問  Abitur / Fachabitur      Vmbo  \n",
       "0    2.000000  2.000000  2.000000  2.000000             2.000000  2.000000  \n",
       "pct  0.010582  0.010582  0.010582  0.010582             0.010582  0.010582  "
      ]
     },
     "execution_count": 682,
     "metadata": {},
     "output_type": "execute_result"
    }
   ],
   "source": [
    "pd.Series(x for xs in extract_property(json_graphs, 'educationRequirements') for x in xs if type(x) != dict).value_counts().to_frame().assign(pct=lambda df: df[0]/sum(df[0])).head(20).T"
   ]
  },
  {
   "cell_type": "code",
   "execution_count": 683,
   "metadata": {},
   "outputs": [
    {
     "data": {
      "text/html": [
       "<div>\n",
       "<style scoped>\n",
       "    .dataframe tbody tr th:only-of-type {\n",
       "        vertical-align: middle;\n",
       "    }\n",
       "\n",
       "    .dataframe tbody tr th {\n",
       "        vertical-align: top;\n",
       "    }\n",
       "\n",
       "    .dataframe thead th {\n",
       "        text-align: right;\n",
       "    }\n",
       "</style>\n",
       "<table border=\"1\" class=\"dataframe\">\n",
       "  <thead>\n",
       "    <tr style=\"text-align: right;\">\n",
       "      <th></th>\n",
       "      <th>Null</th>\n",
       "      <th>\\n      любое\\n</th>\n",
       "      <th>MBO</th>\n",
       "      <th>\\n                        не имеет значения</th>\n",
       "      <th>HBO</th>\n",
       "      <th>High School or Equivalent</th>\n",
       "      <th>Bachelor's Degree</th>\n",
       "      <th>не важно</th>\n",
       "      <th>\\n      среднее\\n</th>\n",
       "      <th>Среднее</th>\n",
       "      <th>пїЅпїЅ пїЅпїЅпїЅпїЅпїЅ пїЅпїЅпїЅпїЅпїЅпїЅпїЅпїЅ</th>\n",
       "      <th>Не имеет значения</th>\n",
       "      <th>�� ����� ��������</th>\n",
       "      <th>WO</th>\n",
       "      <th>Degree</th>\n",
       "      <th>Не важно</th>\n",
       "      <th>BS</th>\n",
       "      <th>Overig</th>\n",
       "      <th>High School Diploma</th>\n",
       "      <th>\\n                        высшее</th>\n",
       "    </tr>\n",
       "  </thead>\n",
       "  <tbody>\n",
       "    <tr>\n",
       "      <th>0</th>\n",
       "      <td>21.000000</td>\n",
       "      <td>20.000000</td>\n",
       "      <td>8.000000</td>\n",
       "      <td>7.000000</td>\n",
       "      <td>6.000000</td>\n",
       "      <td>6.000000</td>\n",
       "      <td>5.000000</td>\n",
       "      <td>5.000000</td>\n",
       "      <td>4.000000</td>\n",
       "      <td>3.000000</td>\n",
       "      <td>3.000000</td>\n",
       "      <td>3.000000</td>\n",
       "      <td>3.000000</td>\n",
       "      <td>3.000000</td>\n",
       "      <td>2.000000</td>\n",
       "      <td>2.000000</td>\n",
       "      <td>2.000000</td>\n",
       "      <td>2.000000</td>\n",
       "      <td>2.000000</td>\n",
       "      <td>2.000000</td>\n",
       "    </tr>\n",
       "    <tr>\n",
       "      <th>pct</th>\n",
       "      <td>0.106599</td>\n",
       "      <td>0.101523</td>\n",
       "      <td>0.040609</td>\n",
       "      <td>0.035533</td>\n",
       "      <td>0.030457</td>\n",
       "      <td>0.030457</td>\n",
       "      <td>0.025381</td>\n",
       "      <td>0.025381</td>\n",
       "      <td>0.020305</td>\n",
       "      <td>0.015228</td>\n",
       "      <td>0.015228</td>\n",
       "      <td>0.015228</td>\n",
       "      <td>0.015228</td>\n",
       "      <td>0.015228</td>\n",
       "      <td>0.010152</td>\n",
       "      <td>0.010152</td>\n",
       "      <td>0.010152</td>\n",
       "      <td>0.010152</td>\n",
       "      <td>0.010152</td>\n",
       "      <td>0.010152</td>\n",
       "    </tr>\n",
       "  </tbody>\n",
       "</table>\n",
       "</div>"
      ],
      "text/plain": [
       "          Null  \\n      любое\\n           MBO  \\\n",
       "0    21.000000            20.000000  8.000000   \n",
       "pct   0.106599             0.101523  0.040609   \n",
       "\n",
       "     \\n                        не имеет значения       HBO  \\\n",
       "0                                       7.000000  6.000000   \n",
       "pct                                     0.035533  0.030457   \n",
       "\n",
       "     High School or Equivalent  Bachelor's Degree  не важно  \\\n",
       "0                     6.000000           5.000000  5.000000   \n",
       "pct                   0.030457           0.025381  0.025381   \n",
       "\n",
       "     \\n      среднее\\n       Среднее  \\\n",
       "0                 4.000000  3.000000   \n",
       "pct               0.020305  0.015228   \n",
       "\n",
       "     пїЅпїЅ пїЅпїЅпїЅпїЅпїЅ пїЅпїЅпїЅпїЅпїЅпїЅпїЅпїЅ  Не имеет значения  \\\n",
       "0                                           3.000000           3.000000   \n",
       "pct                                         0.015228           0.015228   \n",
       "\n",
       "     �� ����� ��������        WO    Degree  Не важно        BS    Overig  \\\n",
       "0             3.000000  3.000000  2.000000  2.000000  2.000000  2.000000   \n",
       "pct           0.015228  0.015228  0.010152  0.010152  0.010152  0.010152   \n",
       "\n",
       "     High School Diploma  \\n                        высшее  \n",
       "0               2.000000                          2.000000  \n",
       "pct             0.010152                          0.010152  "
      ]
     },
     "execution_count": 683,
     "metadata": {},
     "output_type": "execute_result"
    }
   ],
   "source": [
    "pd.Series(x for xs in extract_property(graphs, 'JobPosting/educationRequirements') for x in xs if type(x) != dict).value_counts().to_frame().assign(pct=lambda df: df[0]/sum(df[0])).head(20).T"
   ]
  },
  {
   "cell_type": "markdown",
   "metadata": {},
   "source": [
    "### workHours"
   ]
  },
  {
   "cell_type": "code",
   "execution_count": 627,
   "metadata": {},
   "outputs": [
    {
     "data": {
      "text/plain": [
       "(Counter({str: 145}), Counter({str: 284}))"
      ]
     },
     "execution_count": 627,
     "metadata": {},
     "output_type": "execute_result"
    }
   ],
   "source": [
    "Counter(extract_types(json_graphs, 'workHours')), Counter(extract_types(graphs, 'JobPosting/workHours'))"
   ]
  },
  {
   "cell_type": "code",
   "execution_count": 686,
   "metadata": {},
   "outputs": [
    {
     "data": {
      "text/plain": [
       "[['differs from day to day'],\n",
       " ['UNAVAILABLE'],\n",
       " [''],\n",
       " ['11:00~24:00 週2日'],\n",
       " ['UNAVAILABLE'],\n",
       " ['10:00～19:00'],\n",
       " ['nach Vereinbarung'],\n",
       " ['32 hours per week'],\n",
       " ['a combinar'],\n",
       " ['A combinar.']]"
      ]
     },
     "execution_count": 686,
     "metadata": {},
     "output_type": "execute_result"
    }
   ],
   "source": [
    "list(extract_property(json_graphs, 'workHours'))[:10]"
   ]
  },
  {
   "cell_type": "code",
   "execution_count": 687,
   "metadata": {},
   "outputs": [
    {
     "data": {
      "text/plain": [
       "[['16 - 24 uur'],\n",
       " ['32 - 40 uur'],\n",
       " ['40 uur'],\n",
       " ['40 hours per week'],\n",
       " ['\\n      свободный график\\n    '],\n",
       " ['\\n      полный рабочий день\\n    '],\n",
       " ['Arbeider '],\n",
       " ['Null'],\n",
       " ['полный рабочий день'],\n",
       " ['9:30 am - 6:30pm | Monday to Saturday']]"
      ]
     },
     "execution_count": 687,
     "metadata": {},
     "output_type": "execute_result"
    }
   ],
   "source": [
    "list(extract_property(graphs, 'JobPosting/workHours'))[:10]"
   ]
  },
  {
   "cell_type": "markdown",
   "metadata": {},
   "source": [
    "### experienceRequirements"
   ]
  },
  {
   "cell_type": "code",
   "execution_count": 688,
   "metadata": {},
   "outputs": [
    {
     "data": {
      "text/plain": [
       "(Counter({str: 161, int: 3}), Counter({str: 252}))"
      ]
     },
     "execution_count": 688,
     "metadata": {},
     "output_type": "execute_result"
    }
   ],
   "source": [
    "Counter(extract_types(json_graphs, 'experienceRequirements')), Counter(extract_types(graphs, 'JobPosting/experienceRequirements'))"
   ]
  },
  {
   "cell_type": "code",
   "execution_count": 691,
   "metadata": {},
   "outputs": [
    {
     "data": {
      "text/html": [
       "<div>\n",
       "<style scoped>\n",
       "    .dataframe tbody tr th:only-of-type {\n",
       "        vertical-align: middle;\n",
       "    }\n",
       "\n",
       "    .dataframe tbody tr th {\n",
       "        vertical-align: top;\n",
       "    }\n",
       "\n",
       "    .dataframe thead th {\n",
       "        text-align: right;\n",
       "    }\n",
       "</style>\n",
       "<table border=\"1\" class=\"dataframe\">\n",
       "  <thead>\n",
       "    <tr style=\"text-align: right;\">\n",
       "      <th></th>\n",
       "      <th>Mid Level</th>\n",
       "      <th></th>\n",
       "      <th>Entry Level</th>\n",
       "      <th>Experienced</th>\n",
       "      <th>Không yêu cầu</th>\n",
       "      <th>Not Applicable</th>\n",
       "    </tr>\n",
       "  </thead>\n",
       "  <tbody>\n",
       "    <tr>\n",
       "      <th>0</th>\n",
       "      <td>12.000000</td>\n",
       "      <td>11.000000</td>\n",
       "      <td>9.000000</td>\n",
       "      <td>8.000000</td>\n",
       "      <td>4.000000</td>\n",
       "      <td>3.000000</td>\n",
       "    </tr>\n",
       "    <tr>\n",
       "      <th>pct</th>\n",
       "      <td>0.067797</td>\n",
       "      <td>0.062147</td>\n",
       "      <td>0.050847</td>\n",
       "      <td>0.045198</td>\n",
       "      <td>0.022599</td>\n",
       "      <td>0.016949</td>\n",
       "    </tr>\n",
       "  </tbody>\n",
       "</table>\n",
       "</div>"
      ],
      "text/plain": [
       "     Mid Level             Entry Level  Experienced  Không yêu cầu  \\\n",
       "0    12.000000  11.000000     9.000000     8.000000       4.000000   \n",
       "pct   0.067797   0.062147     0.050847     0.045198       0.022599   \n",
       "\n",
       "     Not Applicable  \n",
       "0          3.000000  \n",
       "pct        0.016949  "
      ]
     },
     "execution_count": 691,
     "metadata": {},
     "output_type": "execute_result"
    }
   ],
   "source": [
    "pd.Series(x for xs in extract_property(json_graphs, 'experienceRequirements') for x in xs if type(x) != dict).value_counts().to_frame().assign(pct=lambda df: df[0]/sum(df[0])).head(6).T"
   ]
  },
  {
   "cell_type": "code",
   "execution_count": 692,
   "metadata": {},
   "outputs": [
    {
     "data": {
      "text/html": [
       "<div>\n",
       "<style scoped>\n",
       "    .dataframe tbody tr th:only-of-type {\n",
       "        vertical-align: middle;\n",
       "    }\n",
       "\n",
       "    .dataframe tbody tr th {\n",
       "        vertical-align: top;\n",
       "    }\n",
       "\n",
       "    .dataframe thead th {\n",
       "        text-align: right;\n",
       "    }\n",
       "</style>\n",
       "<table border=\"1\" class=\"dataframe\">\n",
       "  <thead>\n",
       "    <tr style=\"text-align: right;\">\n",
       "      <th></th>\n",
       "      <th>Null</th>\n",
       "      <th>\\n      не имеет значения\\n</th>\n",
       "      <th>\\n      от 1 года\\n</th>\n",
       "      <th>не требуется</th>\n",
       "      <th>от 1 года</th>\n",
       "      <th>от 3 лет</th>\n",
       "    </tr>\n",
       "  </thead>\n",
       "  <tbody>\n",
       "    <tr>\n",
       "      <th>0</th>\n",
       "      <td>23.000000</td>\n",
       "      <td>12.000000</td>\n",
       "      <td>6.000000</td>\n",
       "      <td>5.00000</td>\n",
       "      <td>4.000000</td>\n",
       "      <td>3.000000</td>\n",
       "    </tr>\n",
       "    <tr>\n",
       "      <th>pct</th>\n",
       "      <td>0.089147</td>\n",
       "      <td>0.046512</td>\n",
       "      <td>0.023256</td>\n",
       "      <td>0.01938</td>\n",
       "      <td>0.015504</td>\n",
       "      <td>0.011628</td>\n",
       "    </tr>\n",
       "  </tbody>\n",
       "</table>\n",
       "</div>"
      ],
      "text/plain": [
       "          Null  \\n      не имеет значения\\n      \\n      от 1 года\\n      \\\n",
       "0    23.000000                        12.000000                 6.000000   \n",
       "pct   0.089147                         0.046512                 0.023256   \n",
       "\n",
       "     не требуется  от 1 года  от 3 лет  \n",
       "0         5.00000   4.000000  3.000000  \n",
       "pct       0.01938   0.015504  0.011628  "
      ]
     },
     "execution_count": 692,
     "metadata": {},
     "output_type": "execute_result"
    }
   ],
   "source": [
    "pd.Series(x for xs in extract_property(graphs, 'JobPosting/experienceRequirements') for x in xs if type(x) != dict).value_counts().to_frame().assign(pct=lambda df: df[0]/sum(df[0])).head(6).T"
   ]
  },
  {
   "cell_type": "markdown",
   "metadata": {},
   "source": [
    "### occupationalCategory"
   ]
  },
  {
   "cell_type": "code",
   "execution_count": 634,
   "metadata": {},
   "outputs": [
    {
     "data": {
      "text/plain": [
       "(Counter({str: 166}), Counter({str: 226, 'URI': 3}))"
      ]
     },
     "execution_count": 634,
     "metadata": {},
     "output_type": "execute_result"
    }
   ],
   "source": [
    "Counter(extract_types(json_graphs, 'occupationalCategory')), Counter(extract_types(graphs, 'JobPosting/occupationalCategory'))"
   ]
  },
  {
   "cell_type": "code",
   "execution_count": 636,
   "metadata": {},
   "outputs": [
    {
     "data": {
      "text/html": [
       "<div>\n",
       "<style scoped>\n",
       "    .dataframe tbody tr th:only-of-type {\n",
       "        vertical-align: middle;\n",
       "    }\n",
       "\n",
       "    .dataframe tbody tr th {\n",
       "        vertical-align: top;\n",
       "    }\n",
       "\n",
       "    .dataframe thead th {\n",
       "        text-align: right;\n",
       "    }\n",
       "</style>\n",
       "<table border=\"1\" class=\"dataframe\">\n",
       "  <thead>\n",
       "    <tr style=\"text-align: right;\">\n",
       "      <th></th>\n",
       "      <th>Information Technology</th>\n",
       "      <th>Other</th>\n",
       "      <th>Transportation</th>\n",
       "      <th>Engineering</th>\n",
       "      <th>Hospitality</th>\n",
       "      <th>Customer Service</th>\n",
       "      <th>Education</th>\n",
       "      <th></th>\n",
       "      <th>Retail</th>\n",
       "      <th>Accounting</th>\n",
       "      <th>General Labor</th>\n",
       "      <th>IT</th>\n",
       "      <th>Skilled Labour</th>\n",
       "      <th>Entry Level</th>\n",
       "      <th>Corporate</th>\n",
       "      <th>Management</th>\n",
       "      <th>Finance</th>\n",
       "      <th>Admin-Clerical</th>\n",
       "      <th>Event Planning</th>\n",
       "      <th>Recreation</th>\n",
       "    </tr>\n",
       "  </thead>\n",
       "  <tbody>\n",
       "    <tr>\n",
       "      <th>0</th>\n",
       "      <td>4.000000</td>\n",
       "      <td>4.000000</td>\n",
       "      <td>4.000000</td>\n",
       "      <td>4.000000</td>\n",
       "      <td>3.000000</td>\n",
       "      <td>3.000000</td>\n",
       "      <td>3.000000</td>\n",
       "      <td>2.000000</td>\n",
       "      <td>2.000000</td>\n",
       "      <td>2.000000</td>\n",
       "      <td>2.000000</td>\n",
       "      <td>2.000000</td>\n",
       "      <td>2.000000</td>\n",
       "      <td>2.000000</td>\n",
       "      <td>2.000000</td>\n",
       "      <td>2.000000</td>\n",
       "      <td>2.000000</td>\n",
       "      <td>2.000000</td>\n",
       "      <td>1.000000</td>\n",
       "      <td>1.000000</td>\n",
       "    </tr>\n",
       "    <tr>\n",
       "      <th>pct</th>\n",
       "      <td>0.016878</td>\n",
       "      <td>0.016878</td>\n",
       "      <td>0.016878</td>\n",
       "      <td>0.016878</td>\n",
       "      <td>0.012658</td>\n",
       "      <td>0.012658</td>\n",
       "      <td>0.012658</td>\n",
       "      <td>0.008439</td>\n",
       "      <td>0.008439</td>\n",
       "      <td>0.008439</td>\n",
       "      <td>0.008439</td>\n",
       "      <td>0.008439</td>\n",
       "      <td>0.008439</td>\n",
       "      <td>0.008439</td>\n",
       "      <td>0.008439</td>\n",
       "      <td>0.008439</td>\n",
       "      <td>0.008439</td>\n",
       "      <td>0.008439</td>\n",
       "      <td>0.004219</td>\n",
       "      <td>0.004219</td>\n",
       "    </tr>\n",
       "  </tbody>\n",
       "</table>\n",
       "</div>"
      ],
      "text/plain": [
       "     Information Technology     Other  Transportation  Engineering  \\\n",
       "0                  4.000000  4.000000        4.000000     4.000000   \n",
       "pct                0.016878  0.016878        0.016878     0.016878   \n",
       "\n",
       "     Hospitality  Customer Service  Education              Retail  Accounting  \\\n",
       "0       3.000000          3.000000   3.000000  2.000000  2.000000    2.000000   \n",
       "pct     0.012658          0.012658   0.012658  0.008439  0.008439    0.008439   \n",
       "\n",
       "     General Labor        IT  Skilled Labour  Entry Level  Corporate  \\\n",
       "0         2.000000  2.000000        2.000000     2.000000   2.000000   \n",
       "pct       0.008439  0.008439        0.008439     0.008439   0.008439   \n",
       "\n",
       "     Management   Finance  Admin-Clerical  Event Planning  Recreation  \n",
       "0      2.000000  2.000000        2.000000        1.000000    1.000000  \n",
       "pct    0.008439  0.008439        0.008439        0.004219    0.004219  "
      ]
     },
     "execution_count": 636,
     "metadata": {},
     "output_type": "execute_result"
    }
   ],
   "source": [
    "pd.Series(x for xs in extract_property(json_graphs, 'occupationalCategory') for x in xs if type(x) != dict).value_counts().to_frame().assign(pct=lambda df: df[0]/sum(df[0])).head(20).T"
   ]
  },
  {
   "cell_type": "code",
   "execution_count": 637,
   "metadata": {},
   "outputs": [
    {
     "data": {
      "text/html": [
       "<div>\n",
       "<style scoped>\n",
       "    .dataframe tbody tr th:only-of-type {\n",
       "        vertical-align: middle;\n",
       "    }\n",
       "\n",
       "    .dataframe tbody tr th {\n",
       "        vertical-align: top;\n",
       "    }\n",
       "\n",
       "    .dataframe thead th {\n",
       "        text-align: right;\n",
       "    }\n",
       "</style>\n",
       "<table border=\"1\" class=\"dataframe\">\n",
       "  <thead>\n",
       "    <tr style=\"text-align: right;\">\n",
       "      <th></th>\n",
       "      <th>Null</th>\n",
       "      <th>Healthcare</th>\n",
       "      <th>Engineering</th>\n",
       "      <th>Analista</th>\n",
       "      <th>Sales / Business Development</th>\n",
       "      <th>AP Mechanic</th>\n",
       "      <th>Estagiário</th>\n",
       "      <th>\\n\\t\\t            Political or Public Affairs\\n        \\t</th>\n",
       "      <th>Management</th>\n",
       "      <th>Retail / Wholesale</th>\n",
       "      <th>\\n        Service Manager IT-Dienstleistungen ecommerce SaaS ITSM Design Manager Ausschreibung\\n        \\n</th>\n",
       "      <th>\\n\\n Commercie / Verkoop\\n</th>\n",
       "      <th>Labor and Help</th>\n",
       "      <th>Weingarten / Auï¿½enbetrieb</th>\n",
       "      <th>Pharmaceuticals,Medical Sales Representative</th>\n",
       "      <th>Doktersassistent</th>\n",
       "      <th>\\n\\n Educational\\n</th>\n",
       "      <th>Secretary / Front Office</th>\n",
       "      <th>External Accountancy</th>\n",
       "      <th>Education Instruction</th>\n",
       "    </tr>\n",
       "  </thead>\n",
       "  <tbody>\n",
       "    <tr>\n",
       "      <th>0</th>\n",
       "      <td>25.000000</td>\n",
       "      <td>3.00000</td>\n",
       "      <td>3.00000</td>\n",
       "      <td>3.00000</td>\n",
       "      <td>2.00000</td>\n",
       "      <td>2.00000</td>\n",
       "      <td>2.00000</td>\n",
       "      <td>2.00000</td>\n",
       "      <td>2.00000</td>\n",
       "      <td>2.00000</td>\n",
       "      <td>1.00000</td>\n",
       "      <td>1.00000</td>\n",
       "      <td>1.00000</td>\n",
       "      <td>1.00000</td>\n",
       "      <td>1.00000</td>\n",
       "      <td>1.00000</td>\n",
       "      <td>1.00000</td>\n",
       "      <td>1.00000</td>\n",
       "      <td>1.00000</td>\n",
       "      <td>1.00000</td>\n",
       "    </tr>\n",
       "    <tr>\n",
       "      <th>pct</th>\n",
       "      <td>0.090253</td>\n",
       "      <td>0.01083</td>\n",
       "      <td>0.01083</td>\n",
       "      <td>0.01083</td>\n",
       "      <td>0.00722</td>\n",
       "      <td>0.00722</td>\n",
       "      <td>0.00722</td>\n",
       "      <td>0.00722</td>\n",
       "      <td>0.00722</td>\n",
       "      <td>0.00722</td>\n",
       "      <td>0.00361</td>\n",
       "      <td>0.00361</td>\n",
       "      <td>0.00361</td>\n",
       "      <td>0.00361</td>\n",
       "      <td>0.00361</td>\n",
       "      <td>0.00361</td>\n",
       "      <td>0.00361</td>\n",
       "      <td>0.00361</td>\n",
       "      <td>0.00361</td>\n",
       "      <td>0.00361</td>\n",
       "    </tr>\n",
       "  </tbody>\n",
       "</table>\n",
       "</div>"
      ],
      "text/plain": [
       "          Null  Healthcare  Engineering  Analista  \\\n",
       "0    25.000000     3.00000      3.00000   3.00000   \n",
       "pct   0.090253     0.01083      0.01083   0.01083   \n",
       "\n",
       "     Sales / Business Development  AP Mechanic  Estagiário  \\\n",
       "0                         2.00000      2.00000     2.00000   \n",
       "pct                       0.00722      0.00722     0.00722   \n",
       "\n",
       "     \\n\\t\\t            Political or Public Affairs\\n        \\t  Management  \\\n",
       "0                                              2.00000             2.00000   \n",
       "pct                                            0.00722             0.00722   \n",
       "\n",
       "     Retail / Wholesale  \\\n",
       "0               2.00000   \n",
       "pct             0.00722   \n",
       "\n",
       "     \\n        Service Manager IT-Dienstleistungen ecommerce SaaS ITSM Design Manager Ausschreibung\\n        \\n      \\\n",
       "0                                              1.00000                                                                \n",
       "pct                                            0.00361                                                                \n",
       "\n",
       "     \\n\\n Commercie / Verkoop\\n  \\\n",
       "0                       1.00000   \n",
       "pct                     0.00361   \n",
       "\n",
       "     Labor and Help                                      \\\n",
       "0                                              1.00000    \n",
       "pct                                            0.00361    \n",
       "\n",
       "     Weingarten / Auï¿½enbetrieb  \\\n",
       "0                        1.00000   \n",
       "pct                      0.00361   \n",
       "\n",
       "     Pharmaceuticals,Medical Sales Representative  Doktersassistent  \\\n",
       "0                                         1.00000           1.00000   \n",
       "pct                                       0.00361           0.00361   \n",
       "\n",
       "     \\n\\n Educational\\n  Secretary / Front Office   External Accountancy  \\\n",
       "0               1.00000                    1.00000               1.00000   \n",
       "pct             0.00361                    0.00361               0.00361   \n",
       "\n",
       "     Education Instruction  \n",
       "0                  1.00000  \n",
       "pct                0.00361  "
      ]
     },
     "execution_count": 637,
     "metadata": {},
     "output_type": "execute_result"
    }
   ],
   "source": [
    "pd.Series(x for xs in extract_property(graphs, 'JobPosting/occupationalCategory') for x in xs if type(x) != dict).value_counts().to_frame().assign(pct=lambda df: df[0]/sum(df[0])).head(20).T"
   ]
  },
  {
   "cell_type": "markdown",
   "metadata": {},
   "source": [
    "### qualifications"
   ]
  },
  {
   "cell_type": "code",
   "execution_count": 640,
   "metadata": {},
   "outputs": [
    {
     "data": {
      "text/plain": [
       "(Counter({str: 132}), Counter({str: 172, 'URI': 1}))"
      ]
     },
     "execution_count": 640,
     "metadata": {},
     "output_type": "execute_result"
    }
   ],
   "source": [
    "Counter(extract_types(json_graphs, 'qualifications')), Counter(extract_types(graphs, 'JobPosting/qualifications'))"
   ]
  },
  {
   "cell_type": "code",
   "execution_count": 643,
   "metadata": {},
   "outputs": [
    {
     "data": {
      "text/html": [
       "<div>\n",
       "<style scoped>\n",
       "    .dataframe tbody tr th:only-of-type {\n",
       "        vertical-align: middle;\n",
       "    }\n",
       "\n",
       "    .dataframe tbody tr th {\n",
       "        vertical-align: top;\n",
       "    }\n",
       "\n",
       "    .dataframe thead th {\n",
       "        text-align: right;\n",
       "    }\n",
       "</style>\n",
       "<table border=\"1\" class=\"dataframe\">\n",
       "  <thead>\n",
       "    <tr style=\"text-align: right;\">\n",
       "      <th></th>\n",
       "      <th>UNAVAILABLE</th>\n",
       "      <th>Sie müssen Personaler eines Unternehmens sein</th>\n",
       "      <th></th>\n",
       "      <th>Ability to work in a team environment with members of varying skill levels. Highly motivated. Learns quickly.</th>\n",
       "    </tr>\n",
       "  </thead>\n",
       "  <tbody>\n",
       "    <tr>\n",
       "      <th>0</th>\n",
       "      <td>19.000000</td>\n",
       "      <td>12.000000</td>\n",
       "      <td>9.000000</td>\n",
       "      <td>2.000000</td>\n",
       "    </tr>\n",
       "    <tr>\n",
       "      <th>pct</th>\n",
       "      <td>0.143939</td>\n",
       "      <td>0.090909</td>\n",
       "      <td>0.068182</td>\n",
       "      <td>0.015152</td>\n",
       "    </tr>\n",
       "  </tbody>\n",
       "</table>\n",
       "</div>"
      ],
      "text/plain": [
       "     UNAVAILABLE  Sie müssen Personaler eines Unternehmens sein            \\\n",
       "0      19.000000                                      12.000000  9.000000   \n",
       "pct     0.143939                                       0.090909  0.068182   \n",
       "\n",
       "     Ability to work in a team environment with members of varying skill levels. Highly motivated. Learns quickly.  \n",
       "0                                             2.000000                                                              \n",
       "pct                                           0.015152                                                              "
      ]
     },
     "execution_count": 643,
     "metadata": {},
     "output_type": "execute_result"
    }
   ],
   "source": [
    "pd.Series(x for xs in extract_property(json_graphs, 'qualifications') for x in xs if type(x) != dict).value_counts().to_frame().assign(pct=lambda df: df[0]/sum(df[0])).head(4).T"
   ]
  },
  {
   "cell_type": "code",
   "execution_count": 646,
   "metadata": {},
   "outputs": [
    {
     "data": {
      "text/html": [
       "<div>\n",
       "<style scoped>\n",
       "    .dataframe tbody tr th:only-of-type {\n",
       "        vertical-align: middle;\n",
       "    }\n",
       "\n",
       "    .dataframe tbody tr th {\n",
       "        vertical-align: top;\n",
       "    }\n",
       "\n",
       "    .dataframe thead th {\n",
       "        text-align: right;\n",
       "    }\n",
       "</style>\n",
       "<table border=\"1\" class=\"dataframe\">\n",
       "  <thead>\n",
       "    <tr style=\"text-align: right;\">\n",
       "      <th></th>\n",
       "      <th>Null</th>\n",
       "      <th>Semi Senior</th>\n",
       "      <th>You must hold a BS degree</th>\n",
       "      <th>\\n                    Qualifications\\n                        Sigma Six\\n</th>\n",
       "    </tr>\n",
       "  </thead>\n",
       "  <tbody>\n",
       "    <tr>\n",
       "      <th>0</th>\n",
       "      <td>23.000000</td>\n",
       "      <td>3.000000</td>\n",
       "      <td>2.000000</td>\n",
       "      <td>1.00000</td>\n",
       "    </tr>\n",
       "    <tr>\n",
       "      <th>pct</th>\n",
       "      <td>0.106481</td>\n",
       "      <td>0.013889</td>\n",
       "      <td>0.009259</td>\n",
       "      <td>0.00463</td>\n",
       "    </tr>\n",
       "  </tbody>\n",
       "</table>\n",
       "</div>"
      ],
      "text/plain": [
       "          Null  Semi Senior  You must hold a BS degree  \\\n",
       "0    23.000000     3.000000                   2.000000   \n",
       "pct   0.106481     0.013889                   0.009259   \n",
       "\n",
       "     \\n                    Qualifications\\n                        Sigma Six\\n                  \n",
       "0                                              1.00000                                          \n",
       "pct                                            0.00463                                          "
      ]
     },
     "execution_count": 646,
     "metadata": {},
     "output_type": "execute_result"
    }
   ],
   "source": [
    "pd.Series(x for xs in extract_property(graphs, 'JobPosting/qualifications') for x in xs if type(x) != dict).value_counts().to_frame().assign(pct=lambda df: df[0]/sum(df[0])).head(4).T"
   ]
  },
  {
   "cell_type": "markdown",
   "metadata": {},
   "source": [
    "### identifier"
   ]
  },
  {
   "cell_type": "code",
   "execution_count": 650,
   "metadata": {},
   "outputs": [
    {
     "data": {
      "text/plain": [
       "(Counter({'http://schema.org/PropertyValue': 676,\n",
       "          str: 71,\n",
       "          int: 9,\n",
       "          'Unknown Object': 8}),\n",
       " Counter({str: 47,\n",
       "          'http://schema.org/PropertyValue': 149,\n",
       "          'Unknown Object': 1}))"
      ]
     },
     "execution_count": 650,
     "metadata": {},
     "output_type": "execute_result"
    }
   ],
   "source": [
    "Counter(extract_types(json_graphs, 'identifier')), Counter(extract_types(graphs, 'JobPosting/identifier'))"
   ]
  },
  {
   "cell_type": "code",
   "execution_count": 693,
   "metadata": {},
   "outputs": [
    {
     "data": {
      "text/plain": [
       "[[{'http://schema.org/value': ['inventory-management/glenview-il-60026-/category-manager-prof-audio-visual-solutions/153414552962719'],\n",
       "   'http://schema.org/name': ['Anixter International'],\n",
       "   'http://www.w3.org/1999/02/22-rdf-syntax-ns#type': ['http://schema.org/PropertyValue'],\n",
       "   '_label': ['http://jobs.anixter.com/jobs/inventory-management/glenview-il-60026-/category-manager-prof-audio-visual-solutions/153414552962719?lang=en_us']}],\n",
       " [{'http://www.w3.org/1999/02/22-rdf-syntax-ns#type': ['http://schema.org/PropertyValue'],\n",
       "   'http://schema.org/name': ['Stage lopen bij Social Deal'],\n",
       "   'http://schema.org/value': [331661],\n",
       "   '_label': ['http://stage.socialdeal.nl/o/stage-commerciele-economie-2']}],\n",
       " [{'http://schema.org/value': ['1262'],\n",
       "   'http://schema.org/name': ['Division Industrielle'],\n",
       "   'http://www.w3.org/1999/02/22-rdf-syntax-ns#type': ['http://schema.org/PropertyValue'],\n",
       "   '_label': ['https://dev.prim-web.com/jobs/view/montreal-machiniste-anglais-francais/xy6ml/po/kd1qx/fr']}]]"
      ]
     },
     "execution_count": 693,
     "metadata": {},
     "output_type": "execute_result"
    }
   ],
   "source": [
    "list(extract_property(json_graphs, 'identifier'))[:3]"
   ]
  },
  {
   "cell_type": "code",
   "execution_count": 694,
   "metadata": {},
   "outputs": [
    {
     "data": {
      "text/plain": [
       "[['40165587'],\n",
       " ['39576074'],\n",
       " [{'http://schema.org/PropertyValue/name': ['Byrd'],\n",
       "   'http://www.w3.org/1999/02/22-rdf-syntax-ns#type': ['http://schema.org/PropertyValue'],\n",
       "   'http://schema.org/PropertyValue/value': ['3841'],\n",
       "   '_label': ['https://www.jobfluent.com/jobs/senior-fullstack-developer-berlin-21de6d?result=14']}]]"
      ]
     },
     "execution_count": 694,
     "metadata": {},
     "output_type": "execute_result"
    }
   ],
   "source": [
    "list(extract_property(graphs, 'JobPosting/identifier'))[:3]"
   ]
  },
  {
   "cell_type": "markdown",
   "metadata": {},
   "source": [
    "### salaryCurrency"
   ]
  },
  {
   "cell_type": "code",
   "execution_count": 651,
   "metadata": {},
   "outputs": [
    {
     "data": {
      "text/plain": [
       "(Counter({str: 277}), Counter({str: 123}))"
      ]
     },
     "execution_count": 651,
     "metadata": {},
     "output_type": "execute_result"
    }
   ],
   "source": [
    "Counter(extract_types(json_graphs, 'salaryCurrency')), Counter(extract_types(graphs, 'JobPosting/salaryCurrency'))"
   ]
  },
  {
   "cell_type": "code",
   "execution_count": 654,
   "metadata": {},
   "outputs": [
    {
     "data": {
      "text/html": [
       "<div>\n",
       "<style scoped>\n",
       "    .dataframe tbody tr th:only-of-type {\n",
       "        vertical-align: middle;\n",
       "    }\n",
       "\n",
       "    .dataframe tbody tr th {\n",
       "        vertical-align: top;\n",
       "    }\n",
       "\n",
       "    .dataframe thead th {\n",
       "        text-align: right;\n",
       "    }\n",
       "</style>\n",
       "<table border=\"1\" class=\"dataframe\">\n",
       "  <thead>\n",
       "    <tr style=\"text-align: right;\">\n",
       "      <th></th>\n",
       "      <th>GBP</th>\n",
       "      <th>USD</th>\n",
       "      <th>AUD</th>\n",
       "      <th>EUR</th>\n",
       "      <th>€</th>\n",
       "      <th>JPY</th>\n",
       "      <th>INR</th>\n",
       "      <th>SGD</th>\n",
       "      <th>THB</th>\n",
       "      <th>HKD</th>\n",
       "    </tr>\n",
       "  </thead>\n",
       "  <tbody>\n",
       "    <tr>\n",
       "      <th>0</th>\n",
       "      <td>117.000000</td>\n",
       "      <td>34.000000</td>\n",
       "      <td>33.000000</td>\n",
       "      <td>24.000000</td>\n",
       "      <td>12.000000</td>\n",
       "      <td>11.000000</td>\n",
       "      <td>6.000000</td>\n",
       "      <td>4.00000</td>\n",
       "      <td>4.00000</td>\n",
       "      <td>4.00000</td>\n",
       "    </tr>\n",
       "    <tr>\n",
       "      <th>pct</th>\n",
       "      <td>0.422383</td>\n",
       "      <td>0.122744</td>\n",
       "      <td>0.119134</td>\n",
       "      <td>0.086643</td>\n",
       "      <td>0.043321</td>\n",
       "      <td>0.039711</td>\n",
       "      <td>0.021661</td>\n",
       "      <td>0.01444</td>\n",
       "      <td>0.01444</td>\n",
       "      <td>0.01444</td>\n",
       "    </tr>\n",
       "  </tbody>\n",
       "</table>\n",
       "</div>"
      ],
      "text/plain": [
       "            GBP        USD        AUD        EUR          €        JPY  \\\n",
       "0    117.000000  34.000000  33.000000  24.000000  12.000000  11.000000   \n",
       "pct    0.422383   0.122744   0.119134   0.086643   0.043321   0.039711   \n",
       "\n",
       "          INR      SGD      THB      HKD  \n",
       "0    6.000000  4.00000  4.00000  4.00000  \n",
       "pct  0.021661  0.01444  0.01444  0.01444  "
      ]
     },
     "execution_count": 654,
     "metadata": {},
     "output_type": "execute_result"
    }
   ],
   "source": [
    "pd.Series(x for xs in extract_property(json_graphs, 'salaryCurrency') for x in xs if type(x) != dict).value_counts().to_frame().assign(pct=lambda df: df[0]/sum(df[0])).head(10).T"
   ]
  },
  {
   "cell_type": "code",
   "execution_count": 695,
   "metadata": {},
   "outputs": [
    {
     "data": {
      "text/html": [
       "<div>\n",
       "<style scoped>\n",
       "    .dataframe tbody tr th:only-of-type {\n",
       "        vertical-align: middle;\n",
       "    }\n",
       "\n",
       "    .dataframe tbody tr th {\n",
       "        vertical-align: top;\n",
       "    }\n",
       "\n",
       "    .dataframe thead th {\n",
       "        text-align: right;\n",
       "    }\n",
       "</style>\n",
       "<table border=\"1\" class=\"dataframe\">\n",
       "  <thead>\n",
       "    <tr style=\"text-align: right;\">\n",
       "      <th></th>\n",
       "      <th>CZK</th>\n",
       "      <th>AUD</th>\n",
       "      <th>GBP</th>\n",
       "      <th>USD</th>\n",
       "      <th>RUB</th>\n",
       "      <th>RUR</th>\n",
       "      <th>руб.</th>\n",
       "      <th>EUR</th>\n",
       "      <th>Null</th>\n",
       "      <th>USD</th>\n",
       "    </tr>\n",
       "  </thead>\n",
       "  <tbody>\n",
       "    <tr>\n",
       "      <th>0</th>\n",
       "      <td>22.000000</td>\n",
       "      <td>17.000000</td>\n",
       "      <td>16.000000</td>\n",
       "      <td>13.000000</td>\n",
       "      <td>12.000000</td>\n",
       "      <td>8.000000</td>\n",
       "      <td>4.000000</td>\n",
       "      <td>3.000000</td>\n",
       "      <td>3.000000</td>\n",
       "      <td>2.000000</td>\n",
       "    </tr>\n",
       "    <tr>\n",
       "      <th>pct</th>\n",
       "      <td>0.177419</td>\n",
       "      <td>0.137097</td>\n",
       "      <td>0.129032</td>\n",
       "      <td>0.104839</td>\n",
       "      <td>0.096774</td>\n",
       "      <td>0.064516</td>\n",
       "      <td>0.032258</td>\n",
       "      <td>0.024194</td>\n",
       "      <td>0.024194</td>\n",
       "      <td>0.016129</td>\n",
       "    </tr>\n",
       "  </tbody>\n",
       "</table>\n",
       "</div>"
      ],
      "text/plain": [
       "           CZK        AUD        GBP        USD        RUB       RUR  \\\n",
       "0    22.000000  17.000000  16.000000  13.000000  12.000000  8.000000   \n",
       "pct   0.177419   0.137097   0.129032   0.104839   0.096774  0.064516   \n",
       "\n",
       "         руб.       EUR      Null      USD   \n",
       "0    4.000000  3.000000  3.000000  2.000000  \n",
       "pct  0.032258  0.024194  0.024194  0.016129  "
      ]
     },
     "execution_count": 695,
     "metadata": {},
     "output_type": "execute_result"
    }
   ],
   "source": [
    "pd.Series(x for xs in extract_property(graphs, 'JobPosting/salaryCurrency') for x in xs if type(x) != dict).value_counts().to_frame().assign(pct=lambda df: df[0]/sum(df[0])).head(10).T"
   ]
  },
  {
   "cell_type": "markdown",
   "metadata": {},
   "source": [
    "### employmentType"
   ]
  },
  {
   "cell_type": "code",
   "execution_count": 698,
   "metadata": {},
   "outputs": [
    {
     "data": {
      "text/plain": [
       "(Counter({str: 1505}), Counter({str: 1085, 'URI': 2}))"
      ]
     },
     "execution_count": 698,
     "metadata": {},
     "output_type": "execute_result"
    }
   ],
   "source": [
    "Counter(extract_types(json_graphs, 'employmentType')), Counter(extract_types(graphs, 'JobPosting/employmentType'))"
   ]
  },
  {
   "cell_type": "code",
   "execution_count": 696,
   "metadata": {},
   "outputs": [
    {
     "data": {
      "text/html": [
       "<div>\n",
       "<style scoped>\n",
       "    .dataframe tbody tr th:only-of-type {\n",
       "        vertical-align: middle;\n",
       "    }\n",
       "\n",
       "    .dataframe tbody tr th {\n",
       "        vertical-align: top;\n",
       "    }\n",
       "\n",
       "    .dataframe thead th {\n",
       "        text-align: right;\n",
       "    }\n",
       "</style>\n",
       "<table border=\"1\" class=\"dataframe\">\n",
       "  <thead>\n",
       "    <tr style=\"text-align: right;\">\n",
       "      <th></th>\n",
       "      <th>FULL_TIME</th>\n",
       "      <th>Permanent</th>\n",
       "      <th>PART_TIME</th>\n",
       "      <th>OTHER</th>\n",
       "      <th>CONTRACTOR</th>\n",
       "      <th>Contract</th>\n",
       "      <th></th>\n",
       "      <th>Full Time</th>\n",
       "      <th>TEMPORARY</th>\n",
       "      <th>INTERN</th>\n",
       "    </tr>\n",
       "  </thead>\n",
       "  <tbody>\n",
       "    <tr>\n",
       "      <th>0</th>\n",
       "      <td>661.00000</td>\n",
       "      <td>214.000000</td>\n",
       "      <td>83.000000</td>\n",
       "      <td>66.000000</td>\n",
       "      <td>57.000000</td>\n",
       "      <td>50.000000</td>\n",
       "      <td>41.000000</td>\n",
       "      <td>32.000000</td>\n",
       "      <td>29.000000</td>\n",
       "      <td>28.000000</td>\n",
       "    </tr>\n",
       "    <tr>\n",
       "      <th>pct</th>\n",
       "      <td>0.41915</td>\n",
       "      <td>0.135701</td>\n",
       "      <td>0.052632</td>\n",
       "      <td>0.041852</td>\n",
       "      <td>0.036145</td>\n",
       "      <td>0.031706</td>\n",
       "      <td>0.025999</td>\n",
       "      <td>0.020292</td>\n",
       "      <td>0.018389</td>\n",
       "      <td>0.017755</td>\n",
       "    </tr>\n",
       "  </tbody>\n",
       "</table>\n",
       "</div>"
      ],
      "text/plain": [
       "     FULL_TIME   Permanent  PART_TIME      OTHER  CONTRACTOR   Contract  \\\n",
       "0    661.00000  214.000000  83.000000  66.000000   57.000000  50.000000   \n",
       "pct    0.41915    0.135701   0.052632   0.041852    0.036145   0.031706   \n",
       "\n",
       "                Full Time  TEMPORARY     INTERN  \n",
       "0    41.000000  32.000000  29.000000  28.000000  \n",
       "pct   0.025999   0.020292   0.018389   0.017755  "
      ]
     },
     "execution_count": 696,
     "metadata": {},
     "output_type": "execute_result"
    }
   ],
   "source": [
    "pd.Series(x for xs in extract_property(json_graphs, 'employmentType') for x in xs if type(x) != dict).value_counts().to_frame().assign(pct=lambda df: df[0]/sum(df[0])).head(10).T"
   ]
  },
  {
   "cell_type": "code",
   "execution_count": 697,
   "metadata": {},
   "outputs": [
    {
     "data": {
      "text/html": [
       "<div>\n",
       "<style scoped>\n",
       "    .dataframe tbody tr th:only-of-type {\n",
       "        vertical-align: middle;\n",
       "    }\n",
       "\n",
       "    .dataframe tbody tr th {\n",
       "        vertical-align: top;\n",
       "    }\n",
       "\n",
       "    .dataframe thead th {\n",
       "        text-align: right;\n",
       "    }\n",
       "</style>\n",
       "<table border=\"1\" class=\"dataframe\">\n",
       "  <thead>\n",
       "    <tr style=\"text-align: right;\">\n",
       "      <th></th>\n",
       "      <th>FULL_TIME</th>\n",
       "      <th>Paid Work</th>\n",
       "      <th>Full Time</th>\n",
       "      <th>Full-time</th>\n",
       "      <th>Null</th>\n",
       "      <th>Permanent</th>\n",
       "      <th>Contract</th>\n",
       "      <th>CDI</th>\n",
       "      <th>Temporary</th>\n",
       "      <th>Vollzeit</th>\n",
       "    </tr>\n",
       "  </thead>\n",
       "  <tbody>\n",
       "    <tr>\n",
       "      <th>0</th>\n",
       "      <td>176.000000</td>\n",
       "      <td>173.000000</td>\n",
       "      <td>92.000000</td>\n",
       "      <td>44.000000</td>\n",
       "      <td>37.000000</td>\n",
       "      <td>37.000000</td>\n",
       "      <td>23.000000</td>\n",
       "      <td>20.000000</td>\n",
       "      <td>13.000000</td>\n",
       "      <td>12.000000</td>\n",
       "    </tr>\n",
       "    <tr>\n",
       "      <th>pct</th>\n",
       "      <td>0.154386</td>\n",
       "      <td>0.151754</td>\n",
       "      <td>0.080702</td>\n",
       "      <td>0.038596</td>\n",
       "      <td>0.032456</td>\n",
       "      <td>0.032456</td>\n",
       "      <td>0.020175</td>\n",
       "      <td>0.017544</td>\n",
       "      <td>0.011404</td>\n",
       "      <td>0.010526</td>\n",
       "    </tr>\n",
       "  </tbody>\n",
       "</table>\n",
       "</div>"
      ],
      "text/plain": [
       "      FULL_TIME   Paid Work  Full Time  Full-time       Null  Permanent  \\\n",
       "0    176.000000  173.000000  92.000000  44.000000  37.000000  37.000000   \n",
       "pct    0.154386    0.151754   0.080702   0.038596   0.032456   0.032456   \n",
       "\n",
       "      Contract        CDI  Temporary   Vollzeit  \n",
       "0    23.000000  20.000000  13.000000  12.000000  \n",
       "pct   0.020175   0.017544   0.011404   0.010526  "
      ]
     },
     "execution_count": 697,
     "metadata": {},
     "output_type": "execute_result"
    }
   ],
   "source": [
    "pd.Series(x for xs in extract_property(graphs, 'JobPosting/employmentType') for x in xs if type(x) != dict).value_counts().to_frame().assign(pct=lambda df: df[0]/sum(df[0])).head(10).T"
   ]
  },
  {
   "cell_type": "markdown",
   "metadata": {},
   "source": [
    "When it's multiple it's normally a listing"
   ]
  },
  {
   "cell_type": "code",
   "execution_count": 584,
   "metadata": {},
   "outputs": [
    {
     "data": {
      "text/plain": [
       "[['アルバイト', '正社員'],\n",
       " ['PART_TIME', 'FULL_TIME'],\n",
       " ['OTHER', 'FULL_TIME'],\n",
       " ['CONTRACTOR', 'FULL_TIME'],\n",
       " ['PART_TIME', 'INTERN', 'OTHER'],\n",
       " ['FULL_TIME', 'OTHER'],\n",
       " ['PART_TIME', 'FULL_TIME'],\n",
       " ['CONTRACTOR', 'FULL_TIME', 'TEMPORARY'],\n",
       " ['PART_TIME', 'PERMANENT'],\n",
       " ['PART_TIME', 'FULL_TIME'],\n",
       " ['CONTRACTOR', 'FULL_TIME'],\n",
       " ['PART_TIME', 'FULL_TIME'],\n",
       " ['CONTRACTOR', 'FULL_TIME'],\n",
       " ['TEMPORARY', 'FULL_TIME'],\n",
       " ['CONTRACTOR', 'FULL_TIME'],\n",
       " ['PART_TIME', 'INTERNSHIP'],\n",
       " ['PART_TIME', 'FULL_TIME'],\n",
       " ['CONTRACTOR', 'PER_DIEM', 'FULL_TIME', 'PART_TIME'],\n",
       " ['INTERN', 'FULL_TIME'],\n",
       " ['CONTRACTOR', 'PART_TIME', 'FULL_TIME', 'TEMPORARY']]"
      ]
     },
     "execution_count": 584,
     "metadata": {},
     "output_type": "execute_result"
    }
   ],
   "source": [
    "list(x for x in extract_property(json_graphs, 'employmentType') if len(x) > 1)[:20]"
   ]
  },
  {
   "cell_type": "markdown",
   "metadata": {},
   "source": [
    "### jobBenefits"
   ]
  },
  {
   "cell_type": "code",
   "execution_count": 656,
   "metadata": {},
   "outputs": [
    {
     "data": {
      "text/plain": [
       "(Counter({str: 142}), Counter({str: 51}))"
      ]
     },
     "execution_count": 656,
     "metadata": {},
     "output_type": "execute_result"
    }
   ],
   "source": [
    "Counter(extract_types(json_graphs, 'jobBenefits')), Counter(extract_types(graphs, 'JobPosting/jobBenefits'))"
   ]
  },
  {
   "cell_type": "code",
   "execution_count": 700,
   "metadata": {},
   "outputs": [
    {
     "data": {
      "text/plain": [
       "[['UNAVAILABLE'],\n",
       " ['待遇&lt;br&gt;◆車・バイク通勤ＯＫ\\u3000◆制服あり\\u3000◆昇給(規定有)\\u3000◆研修2～3ヶ月（[P]900円、[A]大学生850円、高校生800円）'],\n",
       " ['VISION, SICK_DAYS, DOMESTIC_PARTNER, VACATION, DENTAL, LIFE_INSURANCE, PARENTAL_LEAVE, RETIREMENT_PLAN, MEDICAL'],\n",
       " ['  &lt; インセンティブ &gt; \\n  業績連動賞与年3回（8月、12月、4月）\\n\\n  &lt; 諸手当 &gt;\\n  ・通勤交通費支給\\r\\n・自転車通勤補助金\\n\\n  &lt; 保険 &gt;\\n社会保険制度あり\\n'],\n",
       " ['+bonus '],\n",
       " [''],\n",
       " ['Job Security, HRA, TA, DA'],\n",
       " ['Vale-transporte'],\n",
       " ['DWS Available'],\n",
       " ['Car or Car Allowance, Pension']]"
      ]
     },
     "execution_count": 700,
     "metadata": {},
     "output_type": "execute_result"
    }
   ],
   "source": [
    "list(extract_property(json_graphs, 'jobBenefits'))[:10]"
   ]
  },
  {
   "cell_type": "code",
   "execution_count": 702,
   "metadata": {},
   "outputs": [
    {
     "data": {
      "text/plain": [
       "[['\\n                        Accent Jobs est parfaitement conscient que le marché du travail est constitué de différents groupes cibles chacun ayant ses propres souhaits et exigences.Nous gérons cette diversité en l?abordant à travers différents départements spécialisés.Ainsi nous pouvons aider chaque personne en connaissance de cause.Lors du processus de candidature nous jouons le rôle du coach pour vous apporter aide et conseil. Notre objectif? Vous aider à dénicher le job de vos rêves!\\n                    '],\n",
       " ['\\n                                            All your information will be kept confidential according to EEO guidelines.                                        '],\n",
       " ['Het startsalaris is €9,94 bruto per uur, exclusief vakantietoeslag en reiskostenvergoeding;Wil je graag veel werken, dat kan! Hier krijg je de mogelijkheid voor voorman of -vrouw of teamleider;Reiskostenvergoeding vanaf 10 km;Werken in een duurzaam bedrijf met de mooiste bloemen;Jij maakt deel uit van een gezellig en hardwerkend team.Kan jij niet wachten om aan de slag te gaan? Solliciteer dan vandaag nog! Wij nemen op werkdagen binnen 24 uur contact met je op om de sollicitatie met je te bespreken. Zijn we een match? Dan nodigen we je uit voor een gesprek op kantoor in Barendrecht. ']]"
      ]
     },
     "execution_count": 702,
     "metadata": {},
     "output_type": "execute_result"
    }
   ],
   "source": [
    "list(extract_property(graphs, 'JobPosting/jobBenefits'))[:3]"
   ]
  },
  {
   "cell_type": "markdown",
   "metadata": {},
   "source": [
    "### Skills"
   ]
  },
  {
   "cell_type": "code",
   "execution_count": 703,
   "metadata": {},
   "outputs": [
    {
     "data": {
      "text/plain": [
       "(Counter({str: 141}), Counter({str: 118, 'URI': 1}))"
      ]
     },
     "execution_count": 703,
     "metadata": {},
     "output_type": "execute_result"
    }
   ],
   "source": [
    "Counter(extract_types(json_graphs, 'skills')), Counter(extract_types(graphs, 'JobPosting/skills'))"
   ]
  },
  {
   "cell_type": "code",
   "execution_count": 704,
   "metadata": {},
   "outputs": [
    {
     "data": {
      "text/plain": [
       "[['Must be reasonably fit and good at talking to people'],\n",
       " ['UNAVAILABLE'],\n",
       " ['Branch Coordinator'],\n",
       " ['UNAVAILABLE'],\n",
       " ['以下すべてのご経験をお持ちの方からのご応募をおまちしています！\\n・何らかのシステム開発経験\\u3000実務３年以上\\n・PHP 実務３年以上\\n'],\n",
       " [''],\n",
       " ['JavaScript, Apple iOS, Android'],\n",
       " ['Klantvriendelijk, Representatief, Leergierig'],\n",
       " ['Computer Literacy_old, Agreeableness, Information gathering &amp; synthesis, English comprehension, Customer Service Situation Handling'],\n",
       " ['scala', 'akka', 'node.js', 'functional-programming', 'java']]"
      ]
     },
     "execution_count": 704,
     "metadata": {},
     "output_type": "execute_result"
    }
   ],
   "source": [
    "list(extract_property(json_graphs, 'skills'))[:10]"
   ]
  },
  {
   "cell_type": "code",
   "execution_count": 705,
   "metadata": {},
   "outputs": [
    {
     "data": {
      "text/plain": [
       "[[' ASP.net, Crystal reports, mobile app, MsSql Server, mvc '],\n",
       " ['Null'],\n",
       " ['VUE.js, ReactJS, Python, English, APIs, AngularJS, Agile']]"
      ]
     },
     "execution_count": 705,
     "metadata": {},
     "output_type": "execute_result"
    }
   ],
   "source": [
    "list(extract_property(graphs, 'JobPosting/skills'))[:3]"
   ]
  },
  {
   "cell_type": "markdown",
   "metadata": {},
   "source": [
    "### image"
   ]
  },
  {
   "cell_type": "code",
   "execution_count": 663,
   "metadata": {},
   "outputs": [
    {
     "data": {
      "text/plain": [
       "(Counter({'URI': 59,\n",
       "          str: 1,\n",
       "          'http://schema.org/ImageObject': 45,\n",
       "          'Unknown Object': 1}),\n",
       " Counter({'URI': 167,\n",
       "          'http://schema.org/ImageObject': 5,\n",
       "          str: 37,\n",
       "          'https://schema.org/ImageObject': 1}))"
      ]
     },
     "execution_count": 663,
     "metadata": {},
     "output_type": "execute_result"
    }
   ],
   "source": [
    "Counter(extract_types(json_graphs, 'image')), Counter(extract_types(graphs, 'JobPosting/image'))"
   ]
  },
  {
   "cell_type": "code",
   "execution_count": 708,
   "metadata": {},
   "outputs": [
    {
     "data": {
      "text/plain": [
       "[['https://arbeit.nifty.com/arbeit_images/froma/05457077.jpg'],\n",
       " ['https://s3-ap-northeast-1.amazonaws.com/paiza-webapp/job_offers/photo1s/000/007/660/medium/img_uniaim_01.jpg?1564365756'],\n",
       " ['https://cfs.pokepara.jp/Pokepara/Images/shopc/shop6922/photo/q_420_300_man_search.jpg']]"
      ]
     },
     "execution_count": 708,
     "metadata": {},
     "output_type": "execute_result"
    }
   ],
   "source": [
    "list(extract_property(json_graphs, 'image'))[:3]"
   ]
  },
  {
   "cell_type": "code",
   "execution_count": 707,
   "metadata": {},
   "outputs": [
    {
     "data": {
      "text/plain": [
       "[['https://chambermaster.blob.core.windows.net/images/customers/3079/members/641/jobs/170/JOB_MAIN/LiveWell_Logo.jpg'],\n",
       " [{'http://www.w3.org/1999/02/22-rdf-syntax-ns#type': ['http://schema.org/ImageObject'],\n",
       "   'http://schema.org/ImageObject/url': ['https://weinjobs.de/index.php?mod=details&id=2459/thumbnails/67057945.jpg'],\n",
       "   'http://schema.org/ImageObject/width': ['200'],\n",
       "   'http://schema.org/ImageObject/height': ['250'],\n",
       "   '_label': ['https://weinjobs.de/index.php?mod=details&id=2459']}],\n",
       " ['Null']]"
      ]
     },
     "execution_count": 707,
     "metadata": {},
     "output_type": "execute_result"
    }
   ],
   "source": [
    "list(extract_property(graphs, 'JobPosting/image'))[:3]"
   ]
  },
  {
   "cell_type": "markdown",
   "metadata": {},
   "source": [
    "### jobLocationType"
   ]
  },
  {
   "cell_type": "code",
   "execution_count": 709,
   "metadata": {},
   "outputs": [
    {
     "data": {
      "text/plain": [
       "(Counter({str: 52}), Counter({str: 9}))"
      ]
     },
     "execution_count": 709,
     "metadata": {},
     "output_type": "execute_result"
    }
   ],
   "source": [
    "Counter(extract_types(json_graphs, 'jobLocationType')), Counter(extract_types(graphs, 'JobPosting/jobLocationType'))"
   ]
  },
  {
   "cell_type": "code",
   "execution_count": 712,
   "metadata": {},
   "outputs": [
    {
     "data": {
      "text/html": [
       "<div>\n",
       "<style scoped>\n",
       "    .dataframe tbody tr th:only-of-type {\n",
       "        vertical-align: middle;\n",
       "    }\n",
       "\n",
       "    .dataframe tbody tr th {\n",
       "        vertical-align: top;\n",
       "    }\n",
       "\n",
       "    .dataframe thead th {\n",
       "        text-align: right;\n",
       "    }\n",
       "</style>\n",
       "<table border=\"1\" class=\"dataframe\">\n",
       "  <thead>\n",
       "    <tr style=\"text-align: right;\">\n",
       "      <th></th>\n",
       "      <th>TELECOMMUTE</th>\n",
       "      <th></th>\n",
       "      <th>am Arbeitsplatz (z.B. Büro)</th>\n",
       "    </tr>\n",
       "  </thead>\n",
       "  <tbody>\n",
       "    <tr>\n",
       "      <th>0</th>\n",
       "      <td>48.000000</td>\n",
       "      <td>3.000000</td>\n",
       "      <td>1.000000</td>\n",
       "    </tr>\n",
       "    <tr>\n",
       "      <th>pct</th>\n",
       "      <td>0.923077</td>\n",
       "      <td>0.057692</td>\n",
       "      <td>0.019231</td>\n",
       "    </tr>\n",
       "  </tbody>\n",
       "</table>\n",
       "</div>"
      ],
      "text/plain": [
       "     TELECOMMUTE            am Arbeitsplatz (z.B. Büro)\n",
       "0      48.000000  3.000000                     1.000000\n",
       "pct     0.923077  0.057692                     0.019231"
      ]
     },
     "execution_count": 712,
     "metadata": {},
     "output_type": "execute_result"
    }
   ],
   "source": [
    "pd.Series(x for xs in extract_property(json_graphs, 'jobLocationType') for x in xs if type(x) != dict).value_counts().to_frame().assign(pct=lambda df: df[0]/sum(df[0])).head(10).T"
   ]
  },
  {
   "cell_type": "code",
   "execution_count": 713,
   "metadata": {},
   "outputs": [
    {
     "data": {
      "text/html": [
       "<div>\n",
       "<style scoped>\n",
       "    .dataframe tbody tr th:only-of-type {\n",
       "        vertical-align: middle;\n",
       "    }\n",
       "\n",
       "    .dataframe tbody tr th {\n",
       "        vertical-align: top;\n",
       "    }\n",
       "\n",
       "    .dataframe thead th {\n",
       "        text-align: right;\n",
       "    }\n",
       "</style>\n",
       "<table border=\"1\" class=\"dataframe\">\n",
       "  <thead>\n",
       "    <tr style=\"text-align: right;\">\n",
       "      <th></th>\n",
       "      <th>TELECOMMUTE</th>\n",
       "    </tr>\n",
       "  </thead>\n",
       "  <tbody>\n",
       "    <tr>\n",
       "      <th>0</th>\n",
       "      <td>9.0</td>\n",
       "    </tr>\n",
       "    <tr>\n",
       "      <th>pct</th>\n",
       "      <td>1.0</td>\n",
       "    </tr>\n",
       "  </tbody>\n",
       "</table>\n",
       "</div>"
      ],
      "text/plain": [
       "     TELECOMMUTE\n",
       "0            9.0\n",
       "pct          1.0"
      ]
     },
     "execution_count": 713,
     "metadata": {},
     "output_type": "execute_result"
    }
   ],
   "source": [
    "pd.Series(x for xs in extract_property(graphs, 'JobPosting/jobLocationType') for x in xs if type(x) != dict).value_counts().to_frame().assign(pct=lambda df: df[0]/sum(df[0])).head(10).T"
   ]
  },
  {
   "cell_type": "markdown",
   "metadata": {},
   "source": [
    "### incentiveCompensation"
   ]
  },
  {
   "cell_type": "code",
   "execution_count": 714,
   "metadata": {},
   "outputs": [
    {
     "data": {
      "text/plain": [
       "(Counter({str: 47}), Counter({str: 14}))"
      ]
     },
     "execution_count": 714,
     "metadata": {},
     "output_type": "execute_result"
    }
   ],
   "source": [
    "Counter(extract_types(json_graphs, 'incentiveCompensation')), Counter(extract_types(graphs, 'JobPosting/incentiveCompensation'))"
   ]
  },
  {
   "cell_type": "code",
   "execution_count": 715,
   "metadata": {},
   "outputs": [
    {
     "data": {
      "text/plain": [
       "[[\"Wat bieden wij jou:  De opdrachtgever biedt jouw een uidagende en afwisselende functie binnen een oganisatie die continu in beweging is. Je werkt met jonge gemotiveerde collega's met korte lijnen en veel eigen verantwoordelijkheid, waar medewerkers worden gestimuleerd zichzelf te ontwikkelen.  Voor deze functie zoeken wij  een enthousiaste verkoper voor 32 uur op de afdeling witgoed/huishoudelijk.\"],\n",
       " [''],\n",
       " ['Provides Equity'],\n",
       " [''],\n",
       " [''],\n",
       " [''],\n",
       " [''],\n",
       " ['Up to £9.75 per hour'],\n",
       " ['Expenses Covered'],\n",
       " ['1時間\\u30002500円']]"
      ]
     },
     "execution_count": 715,
     "metadata": {},
     "output_type": "execute_result"
    }
   ],
   "source": [
    "list(extract_property(json_graphs, 'incentiveCompensation'))[:10]"
   ]
  },
  {
   "cell_type": "code",
   "execution_count": 717,
   "metadata": {},
   "outputs": [
    {
     "data": {
      "text/plain": [
       "[['Unterkunft wird gestellt: Ja'],\n",
       " ['あり\\u3000前年度実績\\u3000年2回・計2.90月分'],\n",
       " ['Concentra is an Equal Opportunity Employer,\\xa0including disability/veterans'],\n",
       " ['$42,000 - $47,000 Base Salary (DOE) PLUS Bonus - None hourly'],\n",
       " ['\\n\\t\\t\\t\\t\\t\\t\\t\\t£24,000 plus location allowance where applicable\\t\\t\\t\\t\\t\\t\\t\\t'],\n",
       " ['\\nPartnership Opportunity:\\nUnknown\\n'],\n",
       " ['- Fulltime dienstverband;\\n- € 15,67 per uur (incl. reserveringen en o.b.v. ervaring);\\n- Goede bonusregeling (gemiddeld €1500 pm!);\\n- Doorgroeimogelijkheden;\\n- Borrels en teamuitjes.'],\n",
       " ['\\n                Remuneration\\n                Working for Optoma, you can expect a competitive salary with additional corporate benefits such as medical insurance, dental cover, pension and up to 27 days holiday per year - subject to service requirements.\\n\\n            '],\n",
       " ['\\n                                -Оформление по ТК РФ.-График 5/2, с 08:00 до 17:00.-Предоставляется спецодежда, спецобувь и инструмент.-Для иногородних предоставляется общежитие.\\n                            '],\n",
       " ['Bonus, Uang Makan, Uang Bensin, THR']]"
      ]
     },
     "execution_count": 717,
     "metadata": {},
     "output_type": "execute_result"
    }
   ],
   "source": [
    "list(extract_property(graphs, 'JobPosting/incentiveCompensation'))[:10]"
   ]
  }
 ],
 "metadata": {
  "kernelspec": {
   "display_name": "Python 3",
   "language": "python",
   "name": "python3"
  },
  "language_info": {
   "codemirror_mode": {
    "name": "ipython",
    "version": 3
   },
   "file_extension": ".py",
   "mimetype": "text/x-python",
   "name": "python",
   "nbconvert_exporter": "python",
   "pygments_lexer": "ipython3",
   "version": "3.6.6"
  }
 },
 "nbformat": 4,
 "nbformat_minor": 2
}
