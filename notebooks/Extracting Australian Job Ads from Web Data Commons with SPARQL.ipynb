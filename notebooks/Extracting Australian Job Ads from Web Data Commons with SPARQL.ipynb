{
 "cells": [
  {
   "cell_type": "markdown",
   "metadata": {},
   "source": [
    "For more details see https://skeptric.com/sparql-job-country/"
   ]
  },
  {
   "cell_type": "code",
   "execution_count": 1,
   "metadata": {},
   "outputs": [],
   "source": [
    "%load_ext autoreload\n",
    "%autoreload 2"
   ]
  },
  {
   "cell_type": "code",
   "execution_count": 2,
   "metadata": {},
   "outputs": [],
   "source": [
    "import sys\n",
    "import gzip\n",
    "import rdflib\n",
    "import urllib\n",
    "from urllib.request import urlretrieve\n",
    "from pathlib import Path\n",
    "\n",
    "import dateutil\n",
    "import datetime\n",
    "\n",
    "import logging\n",
    "\n",
    "from tqdm.notebook import tqdm"
   ]
  },
  {
   "cell_type": "code",
   "execution_count": 3,
   "metadata": {},
   "outputs": [],
   "source": [
    "sys.path.insert(0, '../src')"
   ]
  },
  {
   "cell_type": "code",
   "execution_count": 4,
   "metadata": {},
   "outputs": [],
   "source": [
    "from lib.rdftool import *"
   ]
  },
  {
   "cell_type": "markdown",
   "metadata": {},
   "source": [
    "Data From http://webdatacommons.org/structureddata/2019-12/stats/schema_org_subsets.html\n",
    "\n",
    "Download both the microdata (1.9GB) and the JSON-LD (700MB)"
   ]
  },
  {
   "cell_type": "code",
   "execution_count": 5,
   "metadata": {},
   "outputs": [],
   "source": [
    "DEST_DIR = Path('..') / 'data' / 'webcommons'\n",
    "DEST_DIR.mkdir(parents=True, exist_ok=True)"
   ]
  },
  {
   "cell_type": "code",
   "execution_count": 6,
   "metadata": {},
   "outputs": [],
   "source": [
    "class TqdmUpTo(tqdm):\n",
    "    def update_to(self, b=1, bsize=1, tsize=None):\n",
    "        if tsize is not None:\n",
    "            self.total = tsize\n",
    "        self.update(b * bsize - self.n)  # will also set self.n = b * bsize\n",
    "\n",
    "def download(url, filename, overwrite=False):\n",
    "    filename = Path(filename)\n",
    "    if (not filename.exists()) or overwrite:\n",
    "        with TqdmUpTo(unit = 'B', unit_scale = True, unit_divisor = 1024, miniters = 1, desc = Path(filename).name) as t:\n",
    "            urlretrieve(url, filename = filename, reporthook = t.update_to)"
   ]
  },
  {
   "cell_type": "code",
   "execution_count": 7,
   "metadata": {},
   "outputs": [],
   "source": [
    "JOBS_JSON_2019 = DEST_DIR / '2019-12_json_JobPosting.gz'"
   ]
  },
  {
   "cell_type": "code",
   "execution_count": 8,
   "metadata": {},
   "outputs": [],
   "source": [
    "JOBS_MD_2019 = DEST_DIR / '2019-12_md_JobPosting.gz'"
   ]
  },
  {
   "cell_type": "code",
   "execution_count": 9,
   "metadata": {},
   "outputs": [],
   "source": [
    "download('http://data.dws.informatik.uni-mannheim.de/structureddata/2019-12/quads/classspecific/json/schema_JobPosting.gz',\n",
    "         JOBS_JSON_2019)"
   ]
  },
  {
   "cell_type": "code",
   "execution_count": 10,
   "metadata": {},
   "outputs": [],
   "source": [
    "download('http://data.dws.informatik.uni-mannheim.de/structureddata/2019-12/quads/classspecific/md/schema_JobPosting.gz',\n",
    "         JOBS_MD_2019)"
   ]
  },
  {
   "cell_type": "markdown",
   "metadata": {},
   "source": [
    "# JSON"
   ]
  },
  {
   "cell_type": "code",
   "execution_count": 11,
   "metadata": {},
   "outputs": [],
   "source": [
    "def get_domain(url):\n",
    "    return urllib.parse.urlparse(url).netloc"
   ]
  },
  {
   "cell_type": "code",
   "execution_count": 12,
   "metadata": {},
   "outputs": [],
   "source": [
    "def parse_nquads_distinct(lines, total=None):\n",
    "    seen = set()\n",
    "    for group, quad_lines in tqdm(groupby(lines, get_quad_label), total=total):\n",
    "        domain = get_domain(group)\n",
    "        if domain in seen:\n",
    "            continue\n",
    "        graph = rdflib.Graph(identifier=group)\n",
    "        try:\n",
    "            graph.parse(data=''.join(quad_lines), format='nquads')\n",
    "        except rdflib.plugins.parsers.ntriples.ParseError as e:\n",
    "            msg = str(e)\n",
    "            if len(msg) > 255:\n",
    "                msg = msg[:255] + '...'\n",
    "            logging.error(str(msg))\n",
    "            continue\n",
    "        if list(get_job_postings(graph)):\n",
    "            seen.add(domain)\n",
    "            yield graph"
   ]
  },
  {
   "cell_type": "code",
   "execution_count": 13,
   "metadata": {},
   "outputs": [],
   "source": [
    "rdflib.term.bind(rdflib.term.URIRef(\"http://schema.org/Date\"), datetime.datetime, dateutil.parser.parse, lambda dt: dt.isoformat())\n",
    "rdflib.term.bind(rdflib.term.URIRef(\"http://schema.org/DateTime\"), datetime.datetime, dateutil.parser.parse, lambda dt: dt.isoformat())\n",
    "rdflib.term.bind(rdflib.term.URIRef(\"https://schema.org/Date\"), datetime.datetime, dateutil.parser.parse, lambda dt: dt.isoformat())\n",
    "rdflib.term.bind(rdflib.term.URIRef(\"https://schema.org/DateTime\"), datetime.datetime, dateutil.parser.parse, lambda dt: dt.isoformat())"
   ]
  },
  {
   "cell_type": "code",
   "execution_count": 14,
   "metadata": {
    "scrolled": true
   },
   "outputs": [
    {
     "data": {
      "application/vnd.jupyter.widget-view+json": {
       "model_id": "cfc170f6e71541fe88e748473f0305a6",
       "version_major": 2,
       "version_minor": 0
      },
      "text/plain": [
       "HBox(children=(IntProgress(value=0, max=460000), HTML(value='')))"
      ]
     },
     "metadata": {},
     "output_type": "display_data"
    },
    {
     "name": "stderr",
     "output_type": "stream",
     "text": [
      "/home/eross/.virtualenvs/ds/lib/python3.6/site-packages/dateutil/parser/_parser.py:1204: UnknownTimezoneWarning: tzname CET identified but not understood.  Pass `tzinfos` argument in order to correctly return a timezone-aware datetime.  In a future version, this will raise an exception.\n",
      "  category=UnknownTimezoneWarning)\n",
      "skype:raloffice?call|skype:raloffice?chat does not look like a valid URI, trying to serialize this will break.\n",
      "https://www.accenture.com/us-en?c=us_us_brand_10460943&amp;n=psgs_brand_1218&amp;c=ad_usadfy17_10000001&amp;n=psgs_Brand-|-US-|-Exact_accenture&amp;gclid=EAIaIQobChMIpKXKyq2o5AIVksDACh36_QtlEAAYASAAEgLCbPD_BwE does not look like a valid URI, trying to serialize this will break.\n"
     ]
    },
    {
     "name": "stdout",
     "output_type": "stream",
     "text": [
      "\n"
     ]
    }
   ],
   "source": [
    "json_graphs = list(parse_nquads_distinct(gzip.open(JOBS_JSON_2019, 'rt'), 460_000))"
   ]
  },
  {
   "cell_type": "code",
   "execution_count": 15,
   "metadata": {
    "scrolled": false
   },
   "outputs": [
    {
     "data": {
      "application/vnd.jupyter.widget-view+json": {
       "model_id": "cf7a748110f043eebe1a1b388357f7f7",
       "version_major": 2,
       "version_minor": 0
      },
      "text/plain": [
       "HBox(children=(IntProgress(value=0, max=680000), HTML(value='')))"
      ]
     },
     "metadata": {},
     "output_type": "display_data"
    },
    {
     "name": "stderr",
     "output_type": "stream",
     "text": [
      "http://chart.apis.google.com/chart?chs=155x155&cht=qr&chl=http%3A%2F%2Fwww%2Eemprega%2Einfo%2FVA%2D93231%2Demprego%2Dde%2DScrum%2DMaster%2Dem%2DCampinas%2DSP&chld=|0 does not look like a valid URI, trying to serialize this will break.\n",
      "https://www.flexibleworks.co.uk/homepage.php?employerid=16&company=Citizen\\ does not look like a valid URI, trying to serialize this will break.\n",
      "https://www.diversitylink.co.uk/homepage.php?employerid=122&company=St-Andrew\\ does not look like a valid URI, trying to serialize this will break.\n",
      "https://cbb.de/karriere/stellenboerse/detail/s-51-h-entwicklungsingenieur-entwicklungsingenieur-projektleiter-dipl-ing-elektrotechnik-dipl/javascript:linkTo_UnCryptMailto('nbjmup+kpctAdcc\\/ef'); does not look like a valid URI, trying to serialize this will break.\n",
      "ERROR:root:Invalid line (Failed to eat <([^:]+:[^\\s\"<>]*)> at <http://schema.org/JobPosting/\\\"description\\\"> \"\\n\\t\\t\\t\\t\\u0420\\u0430\\u0431\\u043E\\u0442\\u0430 \\u043D\\u0430 \\u0437\\u0430\\u0432\\u043E\\u0434\\u0435 \\u0432 \\u0427\\u0435\\u0445\\u0438\\u0438\\n\\u0413\\u043E\\u0440\\u...\n",
      "ERROR:root:Invalid line (Failed to eat <([^:]+:[^\\s\"<>]*)> at <http://schema.org/JobPosting/\\\"description\\\"> \"\\n\\t\\t\\t\\t\\u0420\\u0430\\u0431\\u043E\\u0442\\u0430 \\u0432 \\u0427\\u0435\\u0445\\u0456\\u0457 \\u043D\\u0430 \\u0417\\u0430\\u0432\\u043E\\u0434\\u0456 \\u041F\\u0430\\u043D\\u0...\n",
      "ERROR:root:Invalid line (Failed to eat <([^:]+:[^\\s\"<>]*)> at <http://schema.org/JobPosting/\\\"description\\\"> \"\\n\\t\\t\\t\\t\\u00A0\\n\\u0412\\u0410\\u041A\\u0410\\u041D\\u0421\\u0418\\u042F \\u0432 \\u0427\\u0435\\u0445\\u0438\\u0438 \\u041D\\u0410 \\u0417\\u0410\\u0412\\u041E\\u0414 \\u043A\\...\n",
      "ERROR:root:Invalid line (Failed to eat <([^:]+:[^\\s\"<>]*)> at <http://schema.org/JobPosting/\\\"description\\\"> \"\\n\\t\\t\\t\\t\\u0420\\u0430\\u0431\\u043E\\u0442\\u0430 \\u0434\\u043B\\u044F \\u044D\\u043B\\u0435\\u043A\\u0442\\u0440\\u0438\\u043A\\u043E\\u0432 \\u0432 \\u0427\\u0435\\u0445\\u04...\n",
      "ERROR:root:Invalid line (Failed to eat <([^:]+:[^\\s\"<>]*)> at <http://schema.org/JobPosting/\\\"description\\\"> \"\\n\\t\\t\\t\\t\\u0420\\u0430\\u0431\\u043E\\u0442\\u0430 \\u0432 \\u0427\\u0435\\u0445\\u0438\\u0438 \\u0443\\u043F\\u0430\\u043A\\u043E\\u0432\\u043A\\u0430 \\u043C\\u044F\\u0441\\u04...\n",
      "ERROR:root:Invalid line (Failed to eat <([^:]+:[^\\s\"<>]*)> at <http://schema.org/JobPosting/\\\"description\\\"> \"\\n\\t\\t\\t\\t\\u0420\\u0430\\u0431\\u043E\\u0442\\u0430 \\u0441\\u0432\\u0430\\u0440\\u0449\\u0438\\u043A\\u043E\\u043C \\u0432 \\u0427\\u0435\\u0445\\u0438\\u0438\\n\\u0417\\u0430\\u0...\n",
      "ERROR:root:Invalid line (Failed to eat <([^:]+:[^\\s\"<>]*)> at <http://schema.org/JobPosting/\\\"description\\\"> \"\\n\\t\\t\\t\\t\\u041F\\u0440\\u043E\\u0432\\u043E\\u0434\\u0438\\u0442\\u044C\\u0441\\u044F \\u043D\\u0430\\u0431\\u0456\\u0440 \\u043B\\u044E\\u0434\\u0435\\u0439 \\u043D\\u0430 \\u04...\n",
      "ERROR:root:Invalid line (Failed to eat <([^:]+:[^\\s\"<>]*)> at <http://schema.org/JobPosting/\\\"description\\\"> \"\\n\\t\\t\\t\\t\\u0412\\u0456\\u0434\\u043A\\u0440\\u0438\\u0442\\u0442\\u044F \\u0440\\u043E\\u0431\\u043E\\u0447\\u043E\\u0457 \\u0442\\u0440\\u044C\\u043E\\u0445\\u043C\\u0456\\u0441...\n",
      "ERROR:root:Invalid line (Failed to eat <([^:]+:[^\\s\"<>]*)> at <http://schema.org/JobPosting/\\\"description\\\"> \"\\n\\t\\t\\t\\t\\u041F\\u0440\\u043E\\u0438\\u0437\\u0432\\u043E\\u0434\\u0441\\u0442\\u0432\\u043E \\u043B\\u0438\\u0444\\u0442\\u043E\\u0432 \\u0432 \\u0427\\u0435\\u0445\\u0438\\u043...\n",
      "ERROR:root:Invalid line (Failed to eat <([^:]+:[^\\s\"<>]*)> at <http://schema.org/JobPosting/\\\"description\\\"> \"\\n\\t\\t\\t\\t\\u0420\\u0430\\u0431\\u043E\\u0442\\u0430 \\u043D\\u0430 \\u0437\\u0430\\u0432\\u043E\\u0434\\u0435 \\u0421embrit\\n\\n\\u0417\\u0430\\u0432\\u043E\\u0434 \\u0432\\u0438...\n",
      "ERROR:root:Invalid line (Failed to eat <([^:]+:[^\\s\"<>]*)> at <http://schema.org/JobPosting/\\\"description\\\"> \"\\n\\t\\t\\t\\t\\u0418\\u0437\\u0433\\u043E\\u0442\\u043E\\u0432\\u043B\\u0435\\u043D\\u0438\\u0435 \\u0438 \\u0441\\u0431\\u043E\\u0440 \\u0441\\u0438\\u0441\\u0442\\u0435\\u043C \\u04...\n",
      "ERROR:root:Invalid line (Failed to eat <([^:]+:[^\\s\"<>]*)> at <http://schema.org/JobPosting/\\\"description\\\"> \"\\n\\t\\t\\t\\t\\u0412\\u0456\\u0434\\u043A\\u0440\\u0438\\u0442\\u0442\\u044F \\u0440\\u043E\\u0431\\u043E\\u0447\\u043E\\u0457 \\u0442\\u0440\\u044C\\u043E\\u0445\\u043C\\u0456\\u0441...\n",
      "ERROR:root:Invalid line (Failed to eat <([^:]+:[^\\s\"<>]*)> at <http://schema.org/JobPosting/\\\"description\\\"> \"\\n\\t\\t\\t\\t\\u0420\\u0430\\u0431\\u043E\\u0442\\u0430 \\u0432 \\u0427\\u0435\\u0445\\u0438\\u0438 \\u043D\\u0430\\u00A0 DPD \\u041F\\u043E\\u0447\\u0442\\u0430 \\u0433\\u043E\\u044...\n",
      "ERROR:root:Invalid line (Failed to eat <([^:]+:[^\\s\"<>]*)> at <http://schema.org/JobPosting/\\\"description\\\"> \"\\n\\t\\t\\t\\t\\u0420\\u043E\\u0431\\u043E\\u0442\\u0430 \\u043D\\u0430 \\u0430\\u0432\\u0442\\u043E\\u043C\\u043E\\u0431\\u0456\\u043B\\u044C\\u043D\\u043E\\u043C\\u0443 \\u0437\\u043...\n",
      "ERROR:root:Invalid line (Failed to eat <([^:]+:[^\\s\"<>]*)> at <http://schema.org/JobPosting/\\\"description\\\"> \"\\n\\t\\t\\t\\t\\u041F\\u0440\\u043E\\u0438\\u0437\\u0432\\u043E\\u0434\\u0441\\u0442\\u0432\\u043E \\u043C\\u0435\\u043B\\u043A\\u0438\\u0445 \\u0434\\u0435\\u0442\\u0430\\u043B\\u0435...\n",
      "ERROR:root:Invalid line (Failed to eat <([^:]+:[^\\s\"<>]*)> at <http://schema.org/JobPosting/\\\"description\\\"> \"\\n\\t\\t\\t\\t\\u0412\\u0456\\u0434\\u043A\\u0440\\u0438\\u0442\\u0442\\u044F \\u0440\\u043E\\u0431\\u043E\\u0447\\u043E\\u0457 \\u0442\\u0440\\u044C\\u043E\\u0445\\u043C\\u0456\\u0441...\n",
      "ERROR:root:Invalid line (Failed to eat <([^:]+:[^\\s\"<>]*)> at <http://schema.org/JobPosting/\\\"description\\\"> \"\\n\\t\\t\\t\\t\\u0420\\u0430\\u0431\\u043E\\u0447\\u0438\\u0439 \\u043D\\u0430 \\u043F\\u0440\\u043E\\u0438\\u0437\\u0432\\u043E\\u0434\\u0441\\u0442\\u0432\\u043E \\u0432 \\u0427\\u04...\n",
      "ERROR:root:Invalid line (Failed to eat <([^:]+:[^\\s\"<>]*)> at <http://schema.org/JobPosting/\\\"description\\\"> \"\\n\\t\\t\\t\\t\\u0420\\u0430\\u0431\\u043E\\u0442\\u0430 \\u043D\\u0430 \\u0437\\u0430\\u0432\\u043E\\u0434\\u0435 \\u041F\\u0430\\u043D\\u0430\\u0441\\u043E\\u043D\\u0438\\u043A \\u04...\n",
      "ERROR:root:Invalid line (Failed to eat <([^:]+:[^\\s\"<>]*)> at <http://schema.org/JobPosting/\\\"description\\\"> \"\\n\\t\\t\\t\\t\\u0441\\u0442\\u043E\\u043B\\u044F\\u0440\\u044B \\u0438 \\u0434\\u0435\\u0440\\u0435\\u0432\\u043E\\u043E\\u0431\\u0440\\u0430\\u0431\\u043E\\u0442\\u0447\\u0438\\u043A...\n",
      "ERROR:root:Invalid line (Failed to eat <([^:]+:[^\\s\"<>]*)> at <http://schema.org/JobPosting/\\\"description\\\"> \"\\n\\t\\t\\t\\t\\u041A\\u043E\\u043D\\u0432\\u0435\\u0439\\u0435\\u0440 \\u043F\\u043E \\u0441\\u0431\\u043E\\u0440\\u0443 \\u0431\\u043B\\u043E\\u043A\\u043E\\u0432 \\u0443\\u043F\\u04...\n",
      "ERROR:root:Invalid line (Failed to eat <([^:]+:[^\\s\"<>]*)> at <http://schema.org/JobPosting/\\\"description\\\"> \"\\n\\t\\t\\t\\t\\u0412\\u0456\\u0434\\u043A\\u0440\\u0438\\u0442\\u0442\\u044F \\u0440\\u043E\\u0431\\u043E\\u0447\\u043E\\u0457 \\u0442\\u0440\\u044C\\u043E\\u0445\\u043C\\u0456\\u0441...\n",
      "ERROR:root:Invalid line (Failed to eat <([^:]+:[^\\s\"<>]*)> at <http://schema.org/JobPosting/\\\"description\\\"> \"\\n\\t\\t\\t\\t\\u0420\\u0430\\u0431\\u043E\\u0442\\u0430 \\u043D\\u0430 \\u0441\\u043A\\u043B\\u0430\\u0434\\u0430\\u0445\\u00A0 \\u0432 \\u0427\\u0435\\u0445\\u0438\\u044E\\n\\u0443\\u...\n",
      "ERROR:root:Invalid line (Failed to eat <([^:]+:[^\\s\"<>]*)> at <http://schema.org/JobPosting/\\\"description\\\"> \"\\n\\t\\t\\t\\t\\u0412\\u0456\\u0434\\u043A\\u0440\\u0438\\u0442\\u0442\\u044F \\u0440\\u043E\\u0431\\u043E\\u0447\\u043E\\u0457 \\u0442\\u0440\\u044C\\u043E\\u0445\\u043C\\u0456\\u0441...\n",
      "ERROR:root:Invalid line (Failed to eat <([^:]+:[^\\s\"<>]*)> at <http://schema.org/JobPosting/\\\"description\\\"> \"\\n\\t\\t\\t\\t\\u0412\\u0456\\u0434\\u043A\\u0440\\u0438\\u0442\\u0442\\u044F \\u0440\\u043E\\u0431\\u043E\\u0447\\u043E\\u0457 \\u0442\\u0440\\u044C\\u043E\\u0445\\u043C\\u0456\\u0441...\n",
      "ERROR:root:Invalid line (Failed to eat <([^:]+:[^\\s\"<>]*)> at <http://schema.org/JobPosting/\\\"description\\\"> \"\\n\\t\\t\\t\\t\\u0420\\u0430\\u0431\\u043E\\u0442\\u0430 \\u0432 \\u0427\\u0435\\u0445\\u0438\\u0438 \\u043D\\u0430 \\u0437\\u0430\\u0432\\u043E\\u0434\\u0435 \\u043C\\u0435\\u0442\\u0...\n",
      "ERROR:root:Invalid line (Failed to eat <([^:]+:[^\\s\"<>]*)> at <http://schema.org/JobPosting/\\\"description\\\"> \"\\n\\t\\t\\t\\t\\u0420\\u0430\\u0431\\u043E\\u0442\\u0430 \\u043D\\u0430 \\u0437\\u0430\\u0432\\u043E\\u0434\\u0435 Mubea \\u0432 \\u0433\\u043E\\u0440\\u043E\\u0434\\u0435 \\u0413\\u0...\n",
      "ERROR:root:Invalid line (Failed to eat <([^:]+:[^\\s\"<>]*)> at <http://schema.org/JobPosting/\\\"description\\\"> \"\\n\\t\\t\\t\\t\\u0420\\u0430\\u0431\\u043E\\u0442\\u0430 \\u0432 \\u0427\\u0435\\u0445\\u0438\\u0438 \\u043D\\u0430 \\u0437\\u0430\\u0432\\u043E\\u0434\\u0435 \\u0417\\u043E\\u0434\\u0...\n",
      "ERROR:root:Invalid line (Failed to eat <([^:]+:[^\\s\"<>]*)> at <http://schema.org/JobPosting/\\\"description\\\"> \"\\n\\t\\t\\t\\t\\u0420\\u0430\\u0431\\u043E\\u0447\\u0438\\u0439 \\u043D\\u0430 \\u043A\\u043E\\u043D\\u0432\\u0435\\u0439\\u0435\\u0440 \\u043F\\u043E \\u0441\\u0431\\u043E\\u0440\\u04...\n"
     ]
    },
    {
     "name": "stderr",
     "output_type": "stream",
     "text": [
      "ERROR:root:Invalid line (Failed to eat <([^:]+:[^\\s\"<>]*)> at <http://schema.org/JobPosting/\\\"description\\\"> \"\\n\\t\\t\\t\\t\\u0420\\u0410\\u0411\\u041E\\u0422\\u0410 \\u0412 \\u0427\\u0415\\u0425\\u0418\\u0418 \\u041D\\u0410 \\u0428\\u041E\\u041A\\u041E\\u041B\\u0410\\u0414\\u041D\\u041E\\u04...\n",
      "ERROR:root:Invalid line (Failed to eat <([^:]+:[^\\s\"<>]*)> at <http://schema.org/JobPosting/\\\"description\\\"> \"\\n\\t\\t\\t\\t\\u0421\\u043E\\u0441\\u0442\\u0430\\u0432\\u043B\\u0435\\u043D\\u0438\\u044F \\u0438 \\u043A\\u043E\\u043C\\u043F\\u043B\\u0435\\u043A\\u0442\\u0430\\u0446\\u0438\\u044F...\n",
      "ERROR:root:Invalid line (Failed to eat <([^:]+:[^\\s\"<>]*)> at <http://schema.org/JobPosting/\\\"description\\\"> \"\\n\\t\\t\\t\\t\\u0420\\u0430\\u0431\\u043E\\u0442\\u0430 \\u0432 \\u0427\\u0435\\u0445\\u0438\\u0438 \\u0422\\u0440\\u0430\\u043A\\u0442\\u043E\\u0440\\u0438\\u0441\\u0442\\u043E\\u043...\n",
      "ERROR:root:Invalid line (Failed to eat <([^:]+:[^\\s\"<>]*)> at <http://schema.org/JobPosting/\\\"description\\\"> \"\\n\\t\\t\\t\\t\\u0418\\u0437\\u0433\\u043E\\u0442\\u043E\\u0432\\u043B\\u0435\\u043D\\u0438\\u0435 \\u043A\\u043E\\u043D\\u0434\\u0438\\u0446\\u0438\\u043E\\u043D\\u0435\\u0440\\u043E\\...\n",
      "ERROR:root:Invalid line (Failed to eat <([^:]+:[^\\s\"<>]*)> at <http://schema.org/JobPosting/\\\"description\\\"> \"\\n\\t\\t\\t\\t\\u0420\\u0430\\u0431\\u043E\\u0442\\u0430 \\u0432 \\u0427\\u0435\\u0445\\u0438\\u0438 \\u0434\\u043B\\u044F \\u0436\\u0435\\u043D\\u0449\\u0438\\u043D \\u0434\\u043E 45...\n",
      "ERROR:root:Invalid line (Failed to eat <([^:]+:[^\\s\"<>]*)> at <http://schema.org/JobPosting/\\\"description\\\"> \"\\n\\t\\t\\t\\t\\u0420\\u0430\\u0431\\u043E\\u0442\\u0430 \\u0432 \\u0427\\u0435\\u0445\\u0438\\u0438 \\u0434\\u043B\\u044F\\u00A0 \\u043C\\u0443\\u0436\\u0447\\u0438\\u043D, \\u0434\\u...\n",
      "ERROR:root:Invalid line (Failed to eat <([^:]+:[^\\s\"<>]*)> at <http://schema.org/JobPosting/\\\"description\\\"> \"\\n\\t\\t\\t\\t\\u0420\\u0430\\u0431\\u043E\\u0442\\u0430 \\u043D\\u0430 \\u0441\\u043A\\u043B\\u0430\\u0434\\u0430\\u0445 \\u0438\\u043D\\u0442\\u0435\\u0440\\u043D\\u0435\\u0442 \\u04...\n",
      "ERROR:root:Invalid line (Failed to eat <([^:]+:[^\\s\"<>]*)> at <http://schema.org/JobPosting/\\\"description\\\"> \"\\n\\t\\t\\t\\t\\u0420\\u0430\\u0431\\u043E\\u0442\\u0430 \\u0432 \\u0427\\u0435\\u0445\\u0438\\u0438 \\u043D\\u0430 \\u0430\\u0432\\u0442\\u043E\\u0437\\u0430\\u0432\\u043E\\u0434\\u04...\n",
      "ERROR:root:Invalid line (Failed to eat <([^:]+:[^\\s\"<>]*)> at <http://schema.org/JobPosting/\\\"description\\\"> \"\\n\\t\\t\\t\\t\\u0420\\u0430\\u0431\\u043E\\u0442\\u0430 \\u0432 \\u0427\\u0435\\u0445\\u0438\\u0438\\u00A0 \\u043D\\u0430 \\u043F\\u0435\\u043A\\u0430\\u0440\\u043D\\u0435\\n\\u041E\\u...\n",
      "ERROR:root:Invalid line (Failed to eat <([^:]+:[^\\s\"<>]*)> at <http://schema.org/JobPosting/\\\"description\\\"> \"\\n\\t\\t\\t\\t\\u0420\\u0430\\u0431\\u043E\\u0442\\u0430 \\u0432 \\u0427\\u0435\\u0445\\u0438\\u0438 \\u043D\\u0430 \\u0437\\u0430\\u0432\\u043E\\u0434\\u0435 IZOPOL Plzen\\n\\u0412\\...\n",
      "WARNING:rdflib.term:https://spaceindividuals.com//job-details?id={{job._id}} does not look like a valid URI, trying to serialize this will break.\n"
     ]
    },
    {
     "name": "stdout",
     "output_type": "stream",
     "text": [
      "\n"
     ]
    }
   ],
   "source": [
    "md_graphs = list(parse_nquads_distinct(gzip.open(JOBS_MD_2019, 'rt'), 680_000))"
   ]
  },
  {
   "cell_type": "code",
   "execution_count": 25,
   "metadata": {},
   "outputs": [
    {
     "data": {
      "text/plain": [
       "5376"
      ]
     },
     "execution_count": 25,
     "metadata": {},
     "output_type": "execute_result"
    }
   ],
   "source": [
    "len(json_graphs)"
   ]
  },
  {
   "cell_type": "code",
   "execution_count": 17,
   "metadata": {},
   "outputs": [
    {
     "data": {
      "text/plain": [
       "10087"
      ]
     },
     "execution_count": 17,
     "metadata": {},
     "output_type": "execute_result"
    }
   ],
   "source": [
    "len(md_graphs)"
   ]
  },
  {
   "cell_type": "code",
   "execution_count": 255,
   "metadata": {},
   "outputs": [],
   "source": [
    "dataset = rdflib.Dataset()\n",
    "for graph in json_graphs + md_graphs:\n",
    "    dataset.add_graph(graph)"
   ]
  },
  {
   "cell_type": "markdown",
   "metadata": {},
   "source": [
    "# Attempt 1: Using the URL\n",
    "\n",
    "Australian job ads are likely to be posted from a `.au` domain."
   ]
  },
  {
   "cell_type": "code",
   "execution_count": 253,
   "metadata": {},
   "outputs": [],
   "source": [
    "def show(results):\n",
    "    for row in results:\n",
    "        print([field.toPython() if field else field for field in row])"
   ]
  },
  {
   "cell_type": "markdown",
   "metadata": {},
   "source": [
    "We can extract the source URL from common code from the graph identifier"
   ]
  },
  {
   "cell_type": "code",
   "execution_count": 256,
   "metadata": {},
   "outputs": [
    {
     "name": "stdout",
     "output_type": "stream",
     "text": [
      "['https://werkeninleisure.nl/o/bijbaan-groen-en-technisch-onderhoud-de-schatberg']\n",
      "['https://jobs.wcbradley.com/TIKI%C2%AE%20Brand/job/Menomonee-Falls-Financial-Analyst-WI-53051/545158300/']\n",
      "['http://www.ifallschamber.com/jobs/info/administrative-administrative-assistant-191']\n",
      "['https://www.jobs-bielefeld.org/stellenanzeigen-schalten']\n",
      "['http://class1personnel.com/job/sheltered-housing-team-leader/']\n",
      "['https://headhunter.ge/vacancy/32999959']\n",
      "['https://careers.thesustainablerecruiter.com/careers/4565-General/jobs/543352-Marketing-and-Communicatie-Stage-nog-1-plek-beschikbaar?host=careers.thesustainablerecruiter.com']\n",
      "['https://tire-factory.hiringthing.com/job/17125/warehouse-associate']\n",
      "['http://jobbank.com.mm/jobs/detail/receptionist-japanese-speaker-1823.html?lang=japanese']\n",
      "['https://www.cannarecruiter.com/job/cannacity-dispensary-full-time-entry-level-dispensary-openings/']\n",
      "CPU times: user 0 ns, sys: 0 ns, total: 0 ns\n",
      "Wall time: 7.5 ms\n"
     ]
    }
   ],
   "source": [
    "%%time\n",
    "results = dataset.query(r'''\n",
    "PREFIX sdo: <http://schema.org/>\n",
    "\n",
    "SELECT ?src\n",
    "WHERE {\n",
    "    GRAPH ?src\n",
    "    {[] a sdo:JobPosting .}\n",
    "}\n",
    "LIMIT 10\n",
    "''')\n",
    "\n",
    "\n",
    "show(results)"
   ]
  },
  {
   "cell_type": "markdown",
   "metadata": {},
   "source": [
    "We can extract the domain with [replace function](https://www.w3.org/TR/sparql11-query/#func-replace)"
   ]
  },
  {
   "cell_type": "code",
   "execution_count": 257,
   "metadata": {},
   "outputs": [
    {
     "name": "stdout",
     "output_type": "stream",
     "text": [
      "['werkeninleisure.nl', 'https://werkeninleisure.nl/o/bijbaan-groen-en-technisch-onderhoud-de-schatberg']\n",
      "['jobs.wcbradley.com', 'https://jobs.wcbradley.com/TIKI%C2%AE%20Brand/job/Menomonee-Falls-Financial-Analyst-WI-53051/545158300/']\n",
      "['www.ifallschamber.com', 'http://www.ifallschamber.com/jobs/info/administrative-administrative-assistant-191']\n",
      "['www.jobs-bielefeld.org', 'https://www.jobs-bielefeld.org/stellenanzeigen-schalten']\n",
      "['class1personnel.com', 'http://class1personnel.com/job/sheltered-housing-team-leader/']\n",
      "['headhunter.ge', 'https://headhunter.ge/vacancy/32999959']\n",
      "['careers.thesustainablerecruiter.com', 'https://careers.thesustainablerecruiter.com/careers/4565-General/jobs/543352-Marketing-and-Communicatie-Stage-nog-1-plek-beschikbaar?host=careers.thesustainablerecruiter.com']\n",
      "['tire-factory.hiringthing.com', 'https://tire-factory.hiringthing.com/job/17125/warehouse-associate']\n",
      "['jobbank.com.mm', 'http://jobbank.com.mm/jobs/detail/receptionist-japanese-speaker-1823.html?lang=japanese']\n",
      "['www.cannarecruiter.com', 'https://www.cannarecruiter.com/job/cannacity-dispensary-full-time-entry-level-dispensary-openings/']\n",
      "CPU times: user 15.6 ms, sys: 0 ns, total: 15.6 ms\n",
      "Wall time: 16.2 ms\n"
     ]
    }
   ],
   "source": [
    "%%time\n",
    "results = dataset.query(r'''\n",
    "PREFIX sdo: <http://schema.org/>\n",
    "\n",
    "SELECT ?domain ?src\n",
    "WHERE {\n",
    "    GRAPH ?src\n",
    "    {[] a sdo:JobPosting .}\n",
    "    BIND (replace(str(?src), 'https?://([^?/]+).*', '\\\\1') AS ?domain)\n",
    "\n",
    "}\n",
    "LIMIT 10\n",
    "''')\n",
    "\n",
    "\n",
    "show(results)"
   ]
  },
  {
   "cell_type": "markdown",
   "metadata": {},
   "source": [
    "And then filter on the domain with [strends](https://www.w3.org/TR/sparql11-query/#func-strends)"
   ]
  },
  {
   "cell_type": "code",
   "execution_count": 258,
   "metadata": {},
   "outputs": [
    {
     "name": "stdout",
     "output_type": "stream",
     "text": [
      "['www.ramrecruitment.com.au', 'https://www.ramrecruitment.com.au/job/security-shifts-this-weekend-next/']\n",
      "['www.businessservicesjobs.com.au', 'https://www.businessservicesjobs.com.au/job/manager-business-services-achieve-partnership-australia-vic-melbourne-191108/214764']\n",
      "['www.client-server.com.au', 'https://www.client-server.com.au/job/data-engineer-1/']\n",
      "['www.nursingjobs.com.au', 'https://www.nursingjobs.com.au/job/12836/nurse-unit-manager/']\n",
      "['www.saulrecruitment.com.au', 'https://www.saulrecruitment.com.au/job/senior-systems-administrator-client-site-for-a-boutique-msp/']\n",
      "['www.shk.com.au', 'https://www.shk.com.au/job/executive-director-freight-victoria-1']\n",
      "['careers.sportaus.gov.au', 'http://careers.sportaus.gov.au/casual-job-details/query/7762978/']\n",
      "['volunteeringqld.org.au', 'https://volunteeringqld.org.au/roles/138232']\n",
      "['www.iscd.edu.au', 'https://www.iscd.edu.au/job/designer-sales-consultant-2/']\n",
      "['careers.swire.com.au', 'https://careers.swire.com.au/job/Saraji-%28HSE_LOC_005%29-Safety-Advisor-Saraji/564344301/']\n",
      "CPU times: user 578 ms, sys: 15.6 ms, total: 594 ms\n",
      "Wall time: 691 ms\n"
     ]
    }
   ],
   "source": [
    "%%time\n",
    "results = dataset.query(r'''\n",
    "PREFIX sdo: <http://schema.org/>\n",
    "\n",
    "SELECT ?domain ?src\n",
    "WHERE {\n",
    "    GRAPH ?src\n",
    "    {[] a sdo:JobPosting .}\n",
    "    BIND (replace(str(?src), 'https?://([^?/]+).*', '\\\\1') AS ?domain)\n",
    "    FILTER (strends(?domain, '.au'))\n",
    "}\n",
    "LIMIT 10\n",
    "''')\n",
    "\n",
    "\n",
    "show(results)"
   ]
  },
  {
   "cell_type": "code",
   "execution_count": 259,
   "metadata": {},
   "outputs": [
    {
     "name": "stdout",
     "output_type": "stream",
     "text": [
      "CPU times: user 7.75 s, sys: 172 ms, total: 7.92 s\n",
      "Wall time: 8.42 s\n"
     ]
    }
   ],
   "source": [
    "%%time\n",
    "result = dataset.query(r'''\n",
    "PREFIX sdo: <http://schema.org/>\n",
    "\n",
    "SELECT DISTINCT ?src\n",
    "WHERE {\n",
    "    GRAPH ?src\n",
    "    {[] a sdo:JobPosting .}\n",
    "    BIND (replace(str(?src), 'https?://([^?/]+).*', '\\\\1') AS ?domain)\n",
    "    FILTER (strends(?domain, '.au'))\n",
    "}\n",
    "''')\n",
    "\n",
    "au_domains = [x[0] for x in result]"
   ]
  },
  {
   "cell_type": "code",
   "execution_count": 260,
   "metadata": {},
   "outputs": [
    {
     "data": {
      "text/plain": [
       "[rdflib.term.URIRef('https://www.ramrecruitment.com.au/job/security-shifts-this-weekend-next/'),\n",
       " rdflib.term.URIRef('https://www.businessservicesjobs.com.au/job/manager-business-services-achieve-partnership-australia-vic-melbourne-191108/214764'),\n",
       " rdflib.term.URIRef('https://www.client-server.com.au/job/data-engineer-1/'),\n",
       " rdflib.term.URIRef('https://www.nursingjobs.com.au/job/12836/nurse-unit-manager/'),\n",
       " rdflib.term.URIRef('https://www.saulrecruitment.com.au/job/senior-systems-administrator-client-site-for-a-boutique-msp/')]"
      ]
     },
     "execution_count": 260,
     "metadata": {},
     "output_type": "execute_result"
    }
   ],
   "source": [
    "au_domains[:5]"
   ]
  },
  {
   "cell_type": "markdown",
   "metadata": {},
   "source": [
    "This gives 233 domains"
   ]
  },
  {
   "cell_type": "code",
   "execution_count": 261,
   "metadata": {},
   "outputs": [
    {
     "data": {
      "text/plain": [
       "233"
      ]
     },
     "execution_count": 261,
     "metadata": {},
     "output_type": "execute_result"
    }
   ],
   "source": [
    "len(au_domains)"
   ]
  },
  {
   "cell_type": "markdown",
   "metadata": {},
   "source": [
    "# Extracting country from schema"
   ]
  },
  {
   "cell_type": "markdown",
   "metadata": {},
   "source": [
    "Extracting it from a Country name"
   ]
  },
  {
   "cell_type": "code",
   "execution_count": 263,
   "metadata": {},
   "outputs": [
    {
     "name": "stdout",
     "output_type": "stream",
     "text": [
      "['US', 127]\n",
      "['CA', 20]\n",
      "['DE', 20]\n",
      "['GB', 18]\n",
      "['IL', 14]\n",
      "['IN', 7]\n",
      "['worldwide', 6]\n",
      "['FR', 6]\n",
      "['BR', 5]\n",
      "['MY', 5]\n",
      "['AU', 5]\n",
      "['DK', 4]\n",
      "['Vietnam', 4]\n",
      "['NL', 4]\n",
      "[rdflib.term.Literal(''), 4]\n",
      "CPU times: user 2.38 s, sys: 203 ms, total: 2.58 s\n",
      "Wall time: 2.59 s\n"
     ]
    }
   ],
   "source": [
    "%%time\n",
    "results = dataset.query('''\n",
    "PREFIX sdo: <http://schema.org/>\n",
    "\n",
    "\n",
    "SELECT ?country (COUNT(distinct ?src) as ?count)\n",
    "WHERE {\n",
    "    GRAPH ?src\n",
    "    {[] a sdo:JobPosting; sdo:jobLocation/sdo:address/sdo:addressCountry/sdo:name ?country .}\n",
    "}\n",
    "GROUP BY ?country\n",
    "ORDER BY DESC(?count)\n",
    "LIMIT 15\n",
    "''')\n",
    "\n",
    "show(results)"
   ]
  },
  {
   "cell_type": "markdown",
   "metadata": {},
   "source": [
    "308 jobs with countries"
   ]
  },
  {
   "cell_type": "code",
   "execution_count": 264,
   "metadata": {},
   "outputs": [
    {
     "name": "stdout",
     "output_type": "stream",
     "text": [
      "[308]\n",
      "CPU times: user 2.34 s, sys: 141 ms, total: 2.48 s\n",
      "Wall time: 2.59 s\n"
     ]
    }
   ],
   "source": [
    "%%time\n",
    "results = dataset.query('''\n",
    "PREFIX sdo: <http://schema.org/>\n",
    "\n",
    "\n",
    "SELECT (count(distinct ?src) as ?count)\n",
    "WHERE {\n",
    "    GRAPH ?src\n",
    "    {[] a sdo:JobPosting; sdo:jobLocation/sdo:address/sdo:addressCountry/sdo:name ?country .}\n",
    "}\n",
    "''')\n",
    "\n",
    "show(results)"
   ]
  },
  {
   "cell_type": "markdown",
   "metadata": {},
   "source": [
    "Sometimes the addressCountry is just text, and sometimes a blank node"
   ]
  },
  {
   "cell_type": "code",
   "execution_count": 265,
   "metadata": {},
   "outputs": [
    {
     "name": "stdout",
     "output_type": "stream",
     "text": [
      "['NL', 'https://werkeninleisure.nl/o/bijbaan-groen-en-technisch-onderhoud-de-schatberg']\n",
      "['Deutschland', 'https://www.jobs-bielefeld.org/stellenanzeigen-schalten']\n",
      "['GB', 'http://class1personnel.com/job/sheltered-housing-team-leader/']\n",
      "['GB', 'https://www.spheredigitalrecruitment.com/job/graduate-campaign-executive-12/']\n",
      "['ZA', 'https://www.graftonrecruitment.com/job/diesel-fitter-8/']\n",
      "['Uganda', 'https://jobopenings.co.ug/job/5793/technical-specialist-knowledge-management-and-communications-specialist-uganda-ican-61696/']\n",
      "['NL', 'https://werkenbij.vakmedianet.nl/o/database-marketeer']\n",
      "['Ireland', 'https://www.nursebank.ie/jobs/practice-nurse-full-time-north-dublin-irl/546-1/']\n",
      "['Australia', 'https://www.businessservicesjobs.com.au/job/manager-business-services-achieve-partnership-australia-vic-melbourne-191108/214764']\n",
      "['Afghanistan', 'https://maihoangphotocopy.com/tuyen-ky-thuat-may-photocopy/']\n",
      "['United States', 'https://www.adeccousa.com/jobs/order-picker-new-albany-ohio/?ID=US_EN_99_022492_618285']\n",
      "['N8c8957f6c1c9421b8aeaa2a6a6a3cc64', 'https://www.istar.com/about-us/careers/co/investments/A2.013/analyst-asset-management-new-york/all/']\n",
      "['United States', 'https://elgljobs.com/job/231/physician-supervisor/']\n",
      "['JP', 'https://marutoku.saiyo-kakaricho.com/entry/offer/detail/117907']\n",
      "['United States', 'https://copassionjobs.org/job/79/leadership-intern/']\n",
      "CPU times: user 31.2 ms, sys: 15.6 ms, total: 46.9 ms\n",
      "Wall time: 27.2 ms\n"
     ]
    }
   ],
   "source": [
    "%%time\n",
    "results = dataset.query('''\n",
    "PREFIX sdo: <http://schema.org/>\n",
    "\n",
    "\n",
    "SELECT ?country ?src\n",
    "WHERE {\n",
    "    GRAPH ?src\n",
    "    {[] a sdo:JobPosting; sdo:jobLocation/sdo:address/sdo:addressCountry ?country .}\n",
    "}\n",
    "LIMIT 15\n",
    "''')\n",
    "\n",
    "show(results)"
   ]
  },
  {
   "cell_type": "markdown",
   "metadata": {},
   "source": [
    "We can just get the countries with isLiteral"
   ]
  },
  {
   "cell_type": "code",
   "execution_count": 266,
   "metadata": {},
   "outputs": [
    {
     "name": "stdout",
     "output_type": "stream",
     "text": [
      "['United States', 385]\n",
      "['JP', 358]\n",
      "['GB', 345]\n",
      "['US', 320]\n",
      "['DE', 270]\n",
      "['NL', 253]\n",
      "['Deutschland', 179]\n",
      "['United Kingdom', 139]\n",
      "['FR', 110]\n",
      "['AU', 86]\n",
      "CPU times: user 3 s, sys: 125 ms, total: 3.12 s\n",
      "Wall time: 3.23 s\n"
     ]
    }
   ],
   "source": [
    "%%time\n",
    "results = dataset.query('''\n",
    "PREFIX sdo: <http://schema.org/>\n",
    "\n",
    "\n",
    "SELECT ?country (COUNT(distinct ?src) AS ?count)\n",
    "WHERE {\n",
    "    GRAPH ?src\n",
    "    {[] a sdo:JobPosting; sdo:jobLocation/sdo:address/sdo:addressCountry ?country .}\n",
    "    FILTER (isLiteral(?country))\n",
    "}\n",
    "GROUP BY ?country\n",
    "ORDER BY DESC(?count)\n",
    "LIMIT 10\n",
    "''')\n",
    "\n",
    "show(results)"
   ]
  },
  {
   "cell_type": "markdown",
   "metadata": {},
   "source": [
    "This gives over 3700 results"
   ]
  },
  {
   "cell_type": "code",
   "execution_count": 267,
   "metadata": {},
   "outputs": [
    {
     "name": "stdout",
     "output_type": "stream",
     "text": [
      "[3763]\n",
      "CPU times: user 2.95 s, sys: 93.8 ms, total: 3.05 s\n",
      "Wall time: 3.17 s\n"
     ]
    }
   ],
   "source": [
    "%%time\n",
    "results = dataset.query('''\n",
    "PREFIX sdo: <http://schema.org/>\n",
    "\n",
    "\n",
    "SELECT (count(distinct ?src) as ?total)\n",
    "WHERE {\n",
    "    GRAPH ?src\n",
    "    {[] a sdo:JobPosting; sdo:jobLocation/sdo:address/sdo:addressCountry ?country .}\n",
    "    FILTER (isLiteral(?country))\n",
    "}\n",
    "''')\n",
    "\n",
    "show(results)"
   ]
  },
  {
   "cell_type": "markdown",
   "metadata": {},
   "source": [
    "We can combine the two; for some reason I don't understand we get URIs in here like `schema.org/JobPosting`"
   ]
  },
  {
   "cell_type": "code",
   "execution_count": 372,
   "metadata": {},
   "outputs": [
    {
     "name": "stdout",
     "output_type": "stream",
     "text": [
      "['US', 447]\n",
      "['United States', 385]\n",
      "['GB', 363]\n",
      "['JP', 359]\n",
      "['DE', 290]\n",
      "['NL', 257]\n",
      "['Deutschland', 179]\n",
      "['United Kingdom', 140]\n",
      "['FR', 116]\n",
      "['AU', 91]\n",
      "['CA', 81]\n",
      "['India', 60]\n",
      "[rdflib.term.Literal(''), 60]\n",
      "['http://schema.org/JobPosting', 56]\n",
      "['http://schema.org/Place', 56]\n",
      "CPU times: user 3.89 s, sys: 156 ms, total: 4.05 s\n",
      "Wall time: 4.46 s\n"
     ]
    }
   ],
   "source": [
    "%%time\n",
    "results = dataset.query('''\n",
    "PREFIX sdo: <http://schema.org/>\n",
    "\n",
    "\n",
    "SELECT ?country (count(distinct ?src) as ?total)\n",
    "WHERE {\n",
    "    GRAPH ?src\n",
    "    {_:j a sdo:JobPosting; sdo:jobLocation/sdo:address/sdo:addressCountry/(sdo:name?) ?country .}\n",
    "}\n",
    "GROUP BY ?country\n",
    "ORDER BY DESC(?total)\n",
    "LIMIT 15\n",
    "''')\n",
    "\n",
    "show(results)"
   ]
  },
  {
   "cell_type": "markdown",
   "metadata": {},
   "source": [
    "But not if we do it this way:"
   ]
  },
  {
   "cell_type": "code",
   "execution_count": 269,
   "metadata": {},
   "outputs": [
    {
     "name": "stdout",
     "output_type": "stream",
     "text": [
      "['US', 609]\n",
      "['JP', 444]\n",
      "['United States', 395]\n",
      "['GB', 363]\n",
      "['DE', 304]\n",
      "['NL', 258]\n",
      "['Deutschland', 179]\n",
      "['United Kingdom', 140]\n",
      "['FR', 116]\n",
      "['AU', 91]\n",
      "['CA', 84]\n",
      "['India', 70]\n",
      "['Canada', 66]\n",
      "[rdflib.term.Literal(''), 60]\n",
      "['IN', 57]\n",
      "CPU times: user 2.84 s, sys: 219 ms, total: 3.06 s\n",
      "Wall time: 3.2 s\n"
     ]
    }
   ],
   "source": [
    "%%time\n",
    "results = dataset.query('''\n",
    "PREFIX sdo: <http://schema.org/>\n",
    "\n",
    "\n",
    "SELECT ?country (count(?src) as ?total)\n",
    "WHERE {\n",
    "    GRAPH ?src\n",
    "    {_:j a sdo:JobPosting; sdo:jobLocation/sdo:address/(sdo:addressCountry|sdo:addressCountry/sdo:name) ?country .}\n",
    "}\n",
    "GROUP BY ?country\n",
    "ORDER BY DESC(?total)\n",
    "LIMIT 15\n",
    "''')\n",
    "\n",
    "show(results)"
   ]
  },
  {
   "cell_type": "markdown",
   "metadata": {},
   "source": [
    "However if we filter the nodes to literals we get the same results (after deduplicating)"
   ]
  },
  {
   "cell_type": "code",
   "execution_count": 375,
   "metadata": {},
   "outputs": [
    {
     "name": "stdout",
     "output_type": "stream",
     "text": [
      "['US', 447]\n",
      "['United States', 385]\n",
      "['GB', 363]\n",
      "['JP', 359]\n",
      "['DE', 290]\n",
      "['NL', 257]\n",
      "['Deutschland', 179]\n",
      "['United Kingdom', 140]\n",
      "['FR', 116]\n",
      "['AU', 91]\n",
      "['CA', 81]\n",
      "['India', 60]\n",
      "[rdflib.term.Literal(''), 60]\n",
      "['IN', 56]\n",
      "['Canada', 44]\n",
      "['BE', 41]\n",
      "['USA', 39]\n",
      "['PL', 38]\n",
      "['BR', 38]\n",
      "['ES', 38]\n",
      "CPU times: user 3.59 s, sys: 78.1 ms, total: 3.67 s\n",
      "Wall time: 3.78 s\n"
     ]
    }
   ],
   "source": [
    "%%time\n",
    "results = dataset.query('''\n",
    "PREFIX sdo: <http://schema.org/>\n",
    "\n",
    "\n",
    "SELECT ?country (count(distinct ?src) as ?total)\n",
    "WHERE {\n",
    "    GRAPH ?src\n",
    "    {_:j a sdo:JobPosting; sdo:jobLocation/sdo:address/(sdo:addressCountry|sdo:addressCountry/sdo:name) ?country .}\n",
    "    FILTER (!isblank(?country))\n",
    "}\n",
    "GROUP BY ?country\n",
    "ORDER BY DESC(?total)\n",
    "limit 20\n",
    "''')\n",
    "\n",
    "show(results)"
   ]
  },
  {
   "cell_type": "code",
   "execution_count": 376,
   "metadata": {},
   "outputs": [
    {
     "name": "stdout",
     "output_type": "stream",
     "text": [
      "['US', 447]\n",
      "['United States', 385]\n",
      "['GB', 363]\n",
      "['JP', 359]\n",
      "['DE', 290]\n",
      "['NL', 257]\n",
      "['Deutschland', 179]\n",
      "['United Kingdom', 140]\n",
      "['FR', 116]\n",
      "['AU', 91]\n",
      "['CA', 81]\n",
      "['India', 60]\n",
      "[rdflib.term.Literal(''), 60]\n",
      "['IN', 56]\n",
      "['Canada', 44]\n",
      "['USA', 41]\n",
      "['BE', 41]\n",
      "['PL', 38]\n",
      "['BR', 38]\n",
      "['ES', 38]\n",
      "CPU times: user 3.42 s, sys: 62.5 ms, total: 3.48 s\n",
      "Wall time: 3.55 s\n"
     ]
    }
   ],
   "source": [
    "%%time\n",
    "results = dataset.query('''\n",
    "PREFIX sdo: <http://schema.org/>\n",
    "\n",
    "\n",
    "SELECT ?country (count(distinct ?src) as ?total)\n",
    "WHERE {\n",
    "    GRAPH ?src\n",
    "    {_:j a sdo:JobPosting; sdo:jobLocation/sdo:address/sdo:addressCountry/(sdo:name?) ?country .}\n",
    "    FILTER (isliteral(?country))\n",
    "}\n",
    "GROUP BY ?country\n",
    "ORDER BY DESC(?total)\n",
    "limit 20\n",
    "''')\n",
    "\n",
    "show(results)"
   ]
  },
  {
   "cell_type": "markdown",
   "metadata": {},
   "source": [
    "We can also get results from the fully qualified version of the schema (this tends to be used in Microdata)"
   ]
  },
  {
   "cell_type": "code",
   "execution_count": 287,
   "metadata": {},
   "outputs": [
    {
     "name": "stdout",
     "output_type": "stream",
     "text": [
      "['http://schema.org/PostalAddress/addressCountry', 1351]\n",
      "['http://schema.org/Country/name', 4]\n",
      "['http://schema.org/PostalAddress/addressLocality', 3]\n",
      "['http://schema.org/PostalAddress/streetAddress', 1]\n",
      "['http://schema.org/PostalAddress/addressRegion', 1]\n",
      "CPU times: user 5.59 s, sys: 172 ms, total: 5.77 s\n",
      "Wall time: 5.96 s\n"
     ]
    }
   ],
   "source": [
    "%%time\n",
    "results = dataset.query('''\n",
    "PREFIX sdo: <http://schema.org/>\n",
    "PREFIX sdo_jp: <http://schema.org/JobPosting/>\n",
    "PREFIX sdo_pl: <http://schema.org/Place/>\n",
    "PREFIX sdo_pa: <http://schema.org/PostalAddress/>\n",
    "PREFIX sdo_co: <http://schema.org/Country/>\n",
    "\n",
    "SELECT ?relation (count(distinct ?src) as ?count)\n",
    "WHERE {\n",
    "    GRAPH ?src\n",
    "    {[] a sdo:JobPosting ;\n",
    "         sdo_jp:jobLocation/sdo_pl:address/sdo_pa:addressCountry/(sdo_co:name?) ?country .\n",
    "         [] ?relation ?country .\n",
    "         FILTER (isliteral(?country) &&\n",
    "                (lcase(str(?country)) not in ('', 'na', 'n/a', 'unavailable', ' ', 'null')))\n",
    "         }\n",
    "}\n",
    "GROUP BY ?relation\n",
    "ORDER BY DESC(?count)\n",
    "LIMIT 10\n",
    "''')\n",
    "\n",
    "show(results)"
   ]
  },
  {
   "cell_type": "markdown",
   "metadata": {},
   "source": [
    "And we can combine the results together"
   ]
  },
  {
   "cell_type": "code",
   "execution_count": 308,
   "metadata": {},
   "outputs": [
    {
     "name": "stdout",
     "output_type": "stream",
     "text": [
      "['United States', 469]\n",
      "['US', 463]\n",
      "['United States', 393]\n",
      "['GB', 365]\n",
      "['JP', 359]\n",
      "['DE', 295]\n",
      "['RU', 283]\n",
      "['NL', 257]\n",
      "['Deutschland', 186]\n",
      "['United Kingdom', 142]\n",
      "CPU times: user 5.27 s, sys: 188 ms, total: 5.45 s\n",
      "Wall time: 5.56 s\n"
     ]
    }
   ],
   "source": [
    "%%time\n",
    "results = dataset.query('''\n",
    "PREFIX sdo: <http://schema.org/>\n",
    "PREFIX sdo_jp: <http://schema.org/JobPosting/>\n",
    "PREFIX sdo_pl: <http://schema.org/Place/>\n",
    "PREFIX sdo_pa: <http://schema.org/PostalAddress/>\n",
    "PREFIX sdo_co: <http://schema.org/Country/>\n",
    "\n",
    "SELECT ?country (count(distinct ?src) as ?count)\n",
    "WHERE {\n",
    "    GRAPH ?src\n",
    "    {[] a sdo:JobPosting ;\n",
    "         (sdo:jobLocation|sdo_jp:jobLocation)/(sdo:address|sdo_pl:address)/(sdo:addressCountry|sdo_pa:addressCountry)/((sdo:name|sdo_co:name)?) ?country .\n",
    "         FILTER (isliteral(?country))\n",
    "         }\n",
    "}\n",
    "GROUP BY ?country\n",
    "ORDER BY DESC(?count)\n",
    "LIMIT 10\n",
    "''')\n",
    "\n",
    "show(results)"
   ]
  },
  {
   "cell_type": "markdown",
   "metadata": {},
   "source": [
    "Notice the duplicates are due to language tags"
   ]
  },
  {
   "cell_type": "code",
   "execution_count": 309,
   "metadata": {},
   "outputs": [
    {
     "data": {
      "text/plain": [
       "[rdflib.term.Literal('United States', lang='en'),\n",
       " rdflib.term.Literal('US'),\n",
       " rdflib.term.Literal('United States'),\n",
       " rdflib.term.Literal('GB'),\n",
       " rdflib.term.Literal('JP'),\n",
       " rdflib.term.Literal('DE'),\n",
       " rdflib.term.Literal('RU'),\n",
       " rdflib.term.Literal('NL'),\n",
       " rdflib.term.Literal('Deutschland'),\n",
       " rdflib.term.Literal('United Kingdom')]"
      ]
     },
     "execution_count": 309,
     "metadata": {},
     "output_type": "execute_result"
    }
   ],
   "source": [
    "[r[0] for r in results]"
   ]
  },
  {
   "cell_type": "markdown",
   "metadata": {},
   "source": [
    "We can combine them using str, and strip away surrounding whitespace.\n",
    "\n",
    "There are still many varians: 'United States', 'US', 'United States of America' and 'us' are all the same."
   ]
  },
  {
   "cell_type": "code",
   "execution_count": 379,
   "metadata": {},
   "outputs": [
    {
     "name": "stdout",
     "output_type": "stream",
     "text": [
      "['United States', 863]\n",
      "['US', 496]\n",
      "['GB', 381]\n",
      "['JP', 362]\n",
      "['DE', 355]\n",
      "['RU', 287]\n",
      "['NL', 264]\n",
      "['Deutschland', 192]\n",
      "['United Kingdom', 175]\n",
      "['FR', 128]\n",
      "['AU', 96]\n",
      "['CA', 88]\n",
      "['India', 65]\n",
      "['Canada', 61]\n",
      "[rdflib.term.Literal(''), 60]\n",
      "['IN', 59]\n",
      "['Germany', 50]\n",
      "['USA', 50]\n",
      "['BE', 45]\n",
      "['ES', 43]\n",
      "['PL', 39]\n",
      "['BR', 39]\n",
      "['BY', 37]\n",
      "['UK', 34]\n",
      "['Brazil', 32]\n",
      "['Null', 30]\n",
      "['AT', 30]\n",
      "['UA', 30]\n",
      "['CH', 29]\n",
      "['Australia', 28]\n",
      "['SG', 26]\n",
      "['China', 24]\n",
      "['KZ', 22]\n",
      "['VN', 22]\n",
      "['Nederland', 21]\n",
      "['Schweiz', 21]\n",
      "['HK', 21]\n",
      "['IE', 19]\n",
      "['PT', 19]\n",
      "['ZA', 18]\n",
      "['France', 18]\n",
      "['NZ', 18]\n",
      "['United States of America', 18]\n",
      "['IT', 18]\n",
      "['AF', 17]\n",
      "['MY', 17]\n",
      "['IL', 16]\n",
      "['AE', 16]\n",
      "['Ireland', 14]\n",
      "['SE', 14]\n",
      "CPU times: user 6.59 s, sys: 172 ms, total: 6.77 s\n",
      "Wall time: 7.06 s\n"
     ]
    }
   ],
   "source": [
    "%%time\n",
    "results = dataset.query(r'''\n",
    "PREFIX sdo: <http://schema.org/>\n",
    "PREFIX sdo_jp: <http://schema.org/JobPosting/>\n",
    "PREFIX sdo_pl: <http://schema.org/Place/>\n",
    "PREFIX sdo_pa: <http://schema.org/PostalAddress/>\n",
    "PREFIX sdo_co: <http://schema.org/Country/>\n",
    "\n",
    "SELECT ?countryplain (count(distinct ?src) as ?count)\n",
    "WHERE {\n",
    "    GRAPH ?src\n",
    "    {[] a sdo:JobPosting ;\n",
    "         (sdo:jobLocation|sdo_jp:jobLocation)/(sdo:address|sdo_pl:address)/(sdo:addressCountry|sdo_pa:addressCountry)/((sdo:name|sdo_co:name)?) ?country .\n",
    "         FILTER (isliteral(?country))\n",
    "         BIND (replace(str(?country), '[ \\n\\t]*(.*)[ \\n\\t]*', '\\\\1') as ?countryplain)\n",
    "         }\n",
    "}\n",
    "GROUP BY ?countryplain\n",
    "ORDER BY DESC(?count)\n",
    "LIMIT 50\n",
    "''')\n",
    "\n",
    "show(results)"
   ]
  },
  {
   "cell_type": "markdown",
   "metadata": {},
   "source": [
    "Extracting Australian job ads"
   ]
  },
  {
   "cell_type": "code",
   "execution_count": 313,
   "metadata": {},
   "outputs": [
    {
     "name": "stdout",
     "output_type": "stream",
     "text": [
      "CPU times: user 7.33 s, sys: 141 ms, total: 7.47 s\n",
      "Wall time: 7.75 s\n"
     ]
    }
   ],
   "source": [
    "%%time\n",
    "results = dataset.query(r'''\n",
    "PREFIX sdo: <http://schema.org/>\n",
    "PREFIX sdo_jp: <http://schema.org/JobPosting/>\n",
    "PREFIX sdo_pl: <http://schema.org/Place/>\n",
    "PREFIX sdo_pa: <http://schema.org/PostalAddress/>\n",
    "PREFIX sdo_co: <http://schema.org/Country/>\n",
    "\n",
    "SELECT DISTINCT ?src\n",
    "WHERE {\n",
    "    GRAPH ?src\n",
    "    {[] a sdo:JobPosting ;\n",
    "         (sdo:jobLocation|sdo_jp:jobLocation)/(sdo:address|sdo_pl:address)/(sdo:addressCountry|sdo_pa:addressCountry)/((sdo:name|sdo_co:name)?) ?country .\n",
    "         FILTER (isliteral(?country) && lcase(replace(str(?country), '[ \\n\\t]*(.*)[ \\n\\t]*', '\\\\1')) in ('au', 'australia'))\n",
    "         }\n",
    "}\n",
    "''')\n",
    "\n",
    "au_country = [row[0] for row in results]"
   ]
  },
  {
   "cell_type": "code",
   "execution_count": 314,
   "metadata": {},
   "outputs": [
    {
     "data": {
      "text/plain": [
       "(124,\n",
       " [rdflib.term.URIRef('https://www.businessservicesjobs.com.au/job/manager-business-services-achieve-partnership-australia-vic-melbourne-191108/214764'),\n",
       "  rdflib.term.URIRef('https://www.finxl.co.nz/job/opentext-developer/'),\n",
       "  rdflib.term.URIRef('https://www.client-server.com.au/job/data-engineer-1/'),\n",
       "  rdflib.term.URIRef('https://www.nursingjobs.com.au/job/12836/nurse-unit-manager/'),\n",
       "  rdflib.term.URIRef('https://www.shk.com.au/job/executive-director-freight-victoria-1')])"
      ]
     },
     "execution_count": 314,
     "metadata": {},
     "output_type": "execute_result"
    }
   ],
   "source": [
    "len(au_country), au_country[:5]"
   ]
  },
  {
   "cell_type": "markdown",
   "metadata": {},
   "source": [
    "We got an extra 40 urls not ending in .au"
   ]
  },
  {
   "cell_type": "code",
   "execution_count": 320,
   "metadata": {},
   "outputs": [
    {
     "data": {
      "text/plain": [
       "(233, 124, 273)"
      ]
     },
     "execution_count": 320,
     "metadata": {},
     "output_type": "execute_result"
    }
   ],
   "source": [
    "len(au_domains), len(au_country), len(set(au_domains + au_country))"
   ]
  },
  {
   "cell_type": "markdown",
   "metadata": {},
   "source": [
    "Some notable additions:\n",
    "\n",
    "* Many NZ job sites\n",
    "* Some global companies/recruiters: aecom, aerotek\n",
    "* Some talent platforms like breezy.hr, gosnaphop, recruitee\n",
    "* Devonport in Tasmania (pop c. 30k) has its own website: jobsindevonport.com"
   ]
  },
  {
   "cell_type": "code",
   "execution_count": 323,
   "metadata": {},
   "outputs": [
    {
     "data": {
      "text/plain": [
       "['http://careers.sanchurro.com/p/7ad99d50189b-duty-manager-midland-gate',\n",
       " 'http://jobs.functionn.io/job/32248/full-stack-engineer-melbourne',\n",
       " 'https://airteam.breezy.hr/p/b2f30a8e060b-senior-front-end-developer',\n",
       " 'https://angel.co/company/liven/jobs/581117-ios-developer',\n",
       " 'https://australianz.aecom.jobs/fortitude-valley-aus/professional-highways-engineer/ED6A0076CE97414296B9F7C36F155980/job/',\n",
       " 'https://big-fat-smile-group-ltd.breezy.hr/p/9253fd6759cc-early-childhood-teacher',\n",
       " 'https://careers.engagesq.com/o/change-and-adoption-senior-consultant',\n",
       " 'https://cgh.vincere.io/careers/job/45425/environmental-planning-manager',\n",
       " 'https://costco.gosnaphop.com/jsYqsU/administration-clerk-administration-bundamba-qld-australia-au2830w000100',\n",
       " 'https://cturtle.vincere.io/careers/job/32943/advertising-executives',\n",
       " 'https://cummins-australia.jobs/mildura-aus/resident-field-service-diesel-mechanic-technician-broken-hill/452E7BEF97EB43048CA60EFC3B0072DB/job/',\n",
       " 'https://cummins-technician.jobs/mackay-aus/power-generation-field-service-technician/2BA2205E5A4747769A75F20840F8587D/job/',\n",
       " 'https://edrolo.breezy.hr/p/b3af0e74324d-graduate-client-support-role',\n",
       " 'https://hologiccareers.gr8people.com/index.gp?opportunityID=1033&method=cappportal.showJob',\n",
       " 'https://ihg-veterans.jobs/sydney-aus/business-development-manager-crowne-plaza-sydney-darling-harbour/97A0926769F14F4B8A407A47FF39C78D/job/',\n",
       " 'https://jobs.en-au.aerotek.com/OyJYTS/technical-sales-engineer-engineering-oil-mining-adelaide-13041994',\n",
       " 'https://jobs.theconversation.com/jobs/24926-astro-3-d-postdoc-researcher-in-theory-galaxy-form',\n",
       " 'https://jobs.writethedocs.org/job/164/senior-developer-content-designer/',\n",
       " 'https://jobsindevonport.com/jobs/agronico-leith-tasmania-1045-company-accountant/',\n",
       " 'https://parc-engineering.breezy.hr/p/61820f172729-electrical-supervisor',\n",
       " 'https://rga.recruitee.com/o/receptionist-property',\n",
       " 'https://vibrato.recruitee.com/o/delivery-lead-sydney',\n",
       " 'https://worksafevic.gosnaphop.com/9EjeUv/customer-experience-service-designer-executive-corporate-strategy-strategy-planning-geelong-vic-australia-jr000091',\n",
       " 'https://www.becomerecruitment.co.nz/job/junior-creative-team-2/',\n",
       " 'https://www.benchmarque.co/jobs/AV-Guest-Relations-Manager-Function-and-Events-CBD',\n",
       " 'https://www.cartermurray.com/job/account-manager-cloud-sales-iaas/',\n",
       " 'https://www.cgcrecruitment.com/job/state-director-construction-project-management-consultancy/',\n",
       " 'https://www.cyresourcing.com/job/finance-assistant-8/',\n",
       " 'https://www.davidsonwp.com/job/100562133280264/accounts-officer-4-month-contract/',\n",
       " 'https://www.daviesstewart.com/job/internal-recruitment-officer-1/',\n",
       " 'https://www.energonpeople.com/job/systems-engineer-liverpool-ps50k/',\n",
       " 'https://www.finxl.co.nz/job/opentext-developer/',\n",
       " 'https://www.illume-recruitment.com/jobs/sales-manager-31',\n",
       " 'https://www.littonandrews.com/job/temp-opportunities-3/',\n",
       " 'https://www.medicalstaffireland.com/job/become-a-barefoot-gp-in-australia-29/',\n",
       " 'https://www.nvisiontalent.com/job/1005096465934/office-365-engineer/',\n",
       " 'https://www.nzpe.co.nz/jobs/pharmacist-1305',\n",
       " 'https://www.people2people.co.nz/jobs/hr-co-ordinator-2',\n",
       " 'https://www.russell-taylor.co.uk/jobs/labourer-202',\n",
       " 'https://www.sanctuaryrecruitment.com/job/permanent-general-practitioner-dws-bulk-billing-perth-wa/']"
      ]
     },
     "execution_count": 323,
     "metadata": {},
     "output_type": "execute_result"
    }
   ],
   "source": [
    "sorted(term.toPython() for term in au_country if term not in set(au_domains))"
   ]
  },
  {
   "cell_type": "markdown",
   "metadata": {},
   "source": [
    "# Extracting currency\n",
    "\n",
    "Australia has a unique currency: the Australian dollar (AUD). Jobs with Australian dollar are very likely to be Australian (unlike Euro or US dollar used in many regions)"
   ]
  },
  {
   "cell_type": "code",
   "execution_count": 329,
   "metadata": {
    "scrolled": true
   },
   "outputs": [
    {
     "name": "stdout",
     "output_type": "stream",
     "text": [
      "['GBP', 179]\n",
      "['EUR', 93]\n",
      "['USD', 69]\n",
      "['€', 58]\n",
      "['AUD', 41]\n",
      "['JPY', 27]\n",
      "[rdflib.term.Literal(''), 13]\n",
      "['円', 8]\n",
      "['INR', 7]\n",
      "['HKD', 7]\n",
      "['CAD', 6]\n",
      "['SGD', 6]\n",
      "['THB', 5]\n",
      "['NZD', 3]\n",
      "['AFN', 3]\n",
      "['MYR', 3]\n",
      "['BRL', 3]\n",
      "['Rs', 3]\n",
      "['VND', 2]\n",
      "['Euro', 1]\n",
      "CPU times: user 2.02 s, sys: 109 ms, total: 2.12 s\n",
      "Wall time: 2.45 s\n"
     ]
    }
   ],
   "source": [
    "%%time\n",
    "results = dataset.query('''\n",
    "PREFIX sdo: <http://schema.org/>\n",
    "PREFIX sdo_jp: <http://schema.org/JobPosting/>\n",
    "\n",
    "SELECT ?curr (COUNT(distinct ?src) as ?count)\n",
    "WHERE {\n",
    "    GRAPH ?src\n",
    "    {[] a sdo:JobPosting ;\n",
    "        sdo:salaryCurrency ?currency .\n",
    "    }\n",
    "    BIND (str(?currency) as ?curr)\n",
    "}\n",
    "GROUP BY ?curr\n",
    "ORDER BY DESC(?count)\n",
    "LIMIT 20\n",
    "''')\n",
    "\n",
    "show(results)"
   ]
  },
  {
   "cell_type": "markdown",
   "metadata": {},
   "source": [
    "Using the prefixed path"
   ]
  },
  {
   "cell_type": "code",
   "execution_count": 331,
   "metadata": {},
   "outputs": [
    {
     "name": "stdout",
     "output_type": "stream",
     "text": [
      "['AUD', 60]\n",
      "['CZK', 55]\n",
      "['RUB', 49]\n",
      "['USD', 46]\n",
      "['GBP', 43]\n",
      "['RUR', 36]\n",
      "['EUR', 19]\n",
      "['\\n\\nGBP\\n', 14]\n",
      "['Null', 13]\n",
      "['руб.', 8]\n",
      "['€', 6]\n",
      "['INR', 5]\n",
      "['Kč', 3]\n",
      "['£', 3]\n",
      "['PLN', 3]\n",
      "['USD ', 2]\n",
      "['≪昇給・賞与≫', 2]\n",
      "['月給 月給25万円+通勤手当 ≪月給内訳≫ 基本給23万円+手当 ≪手当詳細≫', 2]\n",
      "['JPY', 2]\n",
      "['KZT', 2]\n",
      "CPU times: user 2.08 s, sys: 188 ms, total: 2.27 s\n",
      "Wall time: 2.46 s\n"
     ]
    }
   ],
   "source": [
    "%%time\n",
    "results = dataset.query('''\n",
    "PREFIX sdo: <http://schema.org/>\n",
    "PREFIX sdo_jp: <http://schema.org/JobPosting/>\n",
    "\n",
    "SELECT ?curr (COUNT(distinct ?src) as ?count)\n",
    "WHERE {\n",
    "    GRAPH ?src\n",
    "    {[] a sdo:JobPosting ;\n",
    "        sdo_jp:salaryCurrency ?currency .\n",
    "    }\n",
    "    BIND (str(?currency) as ?curr)\n",
    "}\n",
    "GROUP BY ?curr\n",
    "ORDER BY DESC(?count)\n",
    "LIMIT 20\n",
    "''')\n",
    "\n",
    "show(results)"
   ]
  },
  {
   "cell_type": "markdown",
   "metadata": {},
   "source": [
    "The currency can also be in the baseSalary"
   ]
  },
  {
   "cell_type": "code",
   "execution_count": 381,
   "metadata": {},
   "outputs": [
    {
     "name": "stdout",
     "output_type": "stream",
     "text": [
      "['GBP', 314]\n",
      "['JPY', 261]\n",
      "['USD', 234]\n",
      "['EUR', 211]\n",
      "[rdflib.term.Literal(''), 117]\n",
      "['INR', 102]\n",
      "['JPN', 93]\n",
      "['€', 62]\n",
      "['AUD', 54]\n",
      "['AFA', 23]\n",
      "CPU times: user 2.58 s, sys: 46.9 ms, total: 2.62 s\n",
      "Wall time: 2.85 s\n"
     ]
    }
   ],
   "source": [
    "%%time\n",
    "results = dataset.query('''\n",
    "PREFIX sdo: <http://schema.org/>\n",
    "\n",
    "SELECT ?curr (COUNT(distinct ?src) AS ?count)\n",
    "WHERE {\n",
    "    GRAPH ?src\n",
    "    {[] a sdo:JobPosting ;\n",
    "        sdo:baseSalary/sdo:currency ?currency .\n",
    "    }\n",
    "    BIND (str(?currency) as ?curr)\n",
    "}\n",
    "GROUP BY ?curr\n",
    "ORDER BY DESC(?count)\n",
    "LIMIT 10\n",
    "''')\n",
    "\n",
    "show(results)"
   ]
  },
  {
   "cell_type": "markdown",
   "metadata": {},
   "source": [
    "And adding the fully qualified schema"
   ]
  },
  {
   "cell_type": "code",
   "execution_count": 334,
   "metadata": {},
   "outputs": [
    {
     "name": "stdout",
     "output_type": "stream",
     "text": [
      "['GBP', 314]\n",
      "['JPY', 261]\n",
      "['USD', 234]\n",
      "['EUR', 211]\n",
      "[rdflib.term.Literal(''), 117]\n",
      "['INR', 102]\n",
      "['JPN', 93]\n",
      "['€', 62]\n",
      "['AUD', 54]\n",
      "['AFA', 23]\n",
      "['VND', 18]\n",
      "['CAD', 16]\n",
      "['HKD', 14]\n",
      "['RUR', 13]\n",
      "['£', 11]\n",
      "['SEK', 11]\n",
      "['PKR', 9]\n",
      "['SGD', 9]\n",
      "['THB', 9]\n",
      "['MYR', 9]\n",
      "CPU times: user 3.09 s, sys: 109 ms, total: 3.2 s\n",
      "Wall time: 3.51 s\n"
     ]
    }
   ],
   "source": [
    "%%time\n",
    "results = dataset.query('''\n",
    "PREFIX sdo: <http://schema.org/>\n",
    "PREFIX sdo_jp: <http://schema.org/JobPosting/>\n",
    "PREFIX sdo_mv: <http://schema.org/MonetaryValue/>\n",
    "\n",
    "SELECT ?curr (COUNT(distinct ?src) AS ?count)\n",
    "WHERE {\n",
    "    GRAPH ?src\n",
    "    {[] a sdo:JobPosting ;\n",
    "        (sdo:baseSalary|sdo_jp:baseSalary)/(sdo:currency|sdo_mv:currency) ?currency .\n",
    "    }\n",
    "    BIND (str(?currency) as ?curr)\n",
    "}\n",
    "GROUP BY ?curr\n",
    "ORDER BY DESC(?count)\n",
    "LIMIT 20\n",
    "''')\n",
    "\n",
    "show(results)"
   ]
  },
  {
   "cell_type": "markdown",
   "metadata": {},
   "source": [
    "Putting it all together - let's check we're getting something from each path"
   ]
  },
  {
   "cell_type": "code",
   "execution_count": 336,
   "metadata": {},
   "outputs": [
    {
     "name": "stdout",
     "output_type": "stream",
     "text": [
      "['http://schema.org/currency', 1611]\n",
      "['http://schema.org/salaryCurrency', 540]\n",
      "['http://schema.org/JobPosting/salaryCurrency', 397]\n",
      "['https://schema.org/MonetaryAmount/currency', 38]\n",
      "['http://schema.org/MonetaryAmount/currency', 26]\n",
      "['http://schema.org/priceCurrency', 8]\n",
      "['http://schema.org/currenciesAccepted', 3]\n",
      "['http://schema.org/addressCountry', 2]\n",
      "['http://schema.org/JobPosting/experienceRequirements', 1]\n",
      "['http://schema.org/JobPosting/datePosted', 1]\n",
      "['http://schema.org/JobPosting/url', 1]\n",
      "['http://schema.org/JobPosting/baseSalary', 1]\n",
      "CPU times: user 24 s, sys: 344 ms, total: 24.3 s\n",
      "Wall time: 25.1 s\n"
     ]
    }
   ],
   "source": [
    "%%time\n",
    "results = dataset.query(r'''\n",
    "PREFIX sdo: <http://schema.org/>\n",
    "PREFIX sdo_jp: <http://schema.org/JobPosting/>\n",
    "PREFIX sdo_mv: <http://schema.org/MonetaryValue/>\n",
    "\n",
    "\n",
    "SELECT ?prefix (COUNT(distinct ?src) as ?count)\n",
    "WHERE {\n",
    "    GRAPH ?src\n",
    "    {[] a sdo:JobPosting ;\n",
    "        ((sdo:salaryCurrency|sdo_jp:salaryCurrency)|\n",
    "         (sdo:baseSalary|sdo_jp:baseSalary)/(sdo:currency|sdo_mv:currency)) ?currency .\n",
    "     [] ?prefix ?currency .\n",
    "    }\n",
    "    BIND (replace(str(?currency), '[ \\n\\t]+', '') as ?curr)\n",
    "    FILTER (!(lcase(?curr) in ('', 'null', 'na', 'n/a', 'unavailable')))\n",
    "}\n",
    "GROUP BY ?prefix\n",
    "ORDER BY DESC(?count)\n",
    "LIMIT 20\n",
    "''')\n",
    "\n",
    "show(results)"
   ]
  },
  {
   "cell_type": "markdown",
   "metadata": {},
   "source": [
    "We could still do some normalisation: e.g. € = EUR, £ = GBP, ..."
   ]
  },
  {
   "cell_type": "code",
   "execution_count": 338,
   "metadata": {},
   "outputs": [
    {
     "name": "stdout",
     "output_type": "stream",
     "text": [
      "['GBP', 392]\n",
      "['USD', 302]\n",
      "['EUR', 295]\n",
      "['JPY', 266]\n",
      "['AUD', 114]\n",
      "['INR', 108]\n",
      "['JPN', 93]\n",
      "['€', 68]\n",
      "['CZK', 57]\n",
      "['RUB', 50]\n",
      "['RUR', 49]\n",
      "['AFA', 23]\n",
      "['CAD', 19]\n",
      "['VND', 18]\n",
      "['HKD', 14]\n",
      "['£', 14]\n",
      "['BRL', 12]\n",
      "['SEK', 11]\n",
      "['PKR', 10]\n",
      "['THB', 10]\n",
      "CPU times: user 5.17 s, sys: 141 ms, total: 5.31 s\n",
      "Wall time: 5.41 s\n"
     ]
    }
   ],
   "source": [
    "%%time\n",
    "results = dataset.query(r'''\n",
    "PREFIX sdo: <http://schema.org/>\n",
    "PREFIX sdo_jp: <http://schema.org/JobPosting/>\n",
    "PREFIX sdo_mv: <http://schema.org/MonetaryValue/>\n",
    "PREFIX sdos_mv: <https://schema.org/MonetaryValue/>\n",
    "\n",
    "\n",
    "SELECT ?curr (COUNT(distinct ?src) as ?count)\n",
    "WHERE {\n",
    "    GRAPH ?src\n",
    "    {[] a sdo:JobPosting ;\n",
    "        ((sdo:salaryCurrency|sdo_jp:salaryCurrency)|\n",
    "         (sdo:baseSalary|sdo_jp:baseSalary)/(sdo:currency|sdo_mv:currency|sdos_mv:currency)) ?currency .\n",
    "    }\n",
    "    BIND (replace(str(?currency), '[ \\n\\t]+', '') as ?curr)\n",
    "    FILTER (!(lcase(?curr) in ('', 'null', 'na', 'n/a', 'unavailable')))\n",
    "}\n",
    "GROUP BY ?curr\n",
    "ORDER BY DESC(?count)\n",
    "LIMIT 20\n",
    "''')\n",
    "\n",
    "show(results)"
   ]
  },
  {
   "cell_type": "markdown",
   "metadata": {},
   "source": [
    "Getting jobs paying in AUD AU jobs"
   ]
  },
  {
   "cell_type": "code",
   "execution_count": 342,
   "metadata": {},
   "outputs": [
    {
     "name": "stdout",
     "output_type": "stream",
     "text": [
      "CPU times: user 4.59 s, sys: 156 ms, total: 4.75 s\n",
      "Wall time: 4.96 s\n"
     ]
    }
   ],
   "source": [
    "%%time\n",
    "results = dataset.query(r'''\n",
    "PREFIX sdo: <http://schema.org/>\n",
    "PREFIX sdo_jp: <http://schema.org/JobPosting/>\n",
    "PREFIX sdo_mv: <http://schema.org/MonetaryValue/>\n",
    "PREFIX sdos_mv: <https://schema.org/MonetaryValue/>\n",
    "\n",
    "\n",
    "SELECT distinct ?src\n",
    "WHERE {\n",
    "    GRAPH ?src\n",
    "    {[] a sdo:JobPosting ;\n",
    "        ((sdo:salaryCurrency|sdo_jp:salaryCurrency)|\n",
    "         (sdo:baseSalary|sdo_jp:baseSalary)/(sdo:currency|sdo_mv:currency|sdos_mv:currency)) ?currency .\n",
    "    }\n",
    "    BIND (replace(str(?currency), '[ \\n\\t]+', '') as ?curr)\n",
    "    FILTER (lcase(?curr) = 'aud')\n",
    "}\n",
    "''')\n",
    "\n",
    "au_salary = [row[0] for row in results]"
   ]
  },
  {
   "cell_type": "markdown",
   "metadata": {},
   "source": [
    "Get 114 URLs"
   ]
  },
  {
   "cell_type": "code",
   "execution_count": 343,
   "metadata": {},
   "outputs": [
    {
     "data": {
      "text/plain": [
       "(114,\n",
       " [rdflib.term.URIRef('https://www.businessservicesjobs.com.au/job/manager-business-services-achieve-partnership-australia-vic-melbourne-191108/214764'),\n",
       "  rdflib.term.URIRef('https://www.globalmedics.com/jobs/vac46758-emergency-department-registrar?keywords=registrar+paediatrics'),\n",
       "  rdflib.term.URIRef('https://www.nursingjobs.com.au/job/12836/nurse-unit-manager/'),\n",
       "  rdflib.term.URIRef('http://careers.sportaus.gov.au/casual-job-details/query/7762978/'),\n",
       "  rdflib.term.URIRef('http://jobboards.adlogic.com.au/oscarwylee/job-details/query/Optometrist+-+Queensland+%28Relocation+Package%21%29/in/New+South+Wales/7712328/')])"
      ]
     },
     "execution_count": 343,
     "metadata": {},
     "output_type": "execute_result"
    }
   ],
   "source": [
    "len(au_salary), au_salary[:5]"
   ]
  },
  {
   "cell_type": "markdown",
   "metadata": {},
   "source": [
    "There are 18 jobs not in AU domains"
   ]
  },
  {
   "cell_type": "code",
   "execution_count": 346,
   "metadata": {},
   "outputs": [
    {
     "data": {
      "text/plain": [
       "(233, 114, 251)"
      ]
     },
     "execution_count": 346,
     "metadata": {},
     "output_type": "execute_result"
    }
   ],
   "source": [
    "len(au_domains), len(au_salary), len(set(au_domains + au_salary))"
   ]
  },
  {
   "cell_type": "code",
   "execution_count": 347,
   "metadata": {},
   "outputs": [],
   "source": [
    "new_jobs = [url.toPython() for url in au_salary if url not in set(au_domains + au_country)]"
   ]
  },
  {
   "cell_type": "markdown",
   "metadata": {},
   "source": [
    "While a couple of these are false positives (particularly NZ jobs), some are definitely correct"
   ]
  },
  {
   "cell_type": "code",
   "execution_count": 348,
   "metadata": {},
   "outputs": [
    {
     "data": {
      "text/plain": [
       "['https://www.globalmedics.com/jobs/vac46758-emergency-department-registrar?keywords=registrar+paediatrics',\n",
       " 'https://www.awf.co.nz/job/specialist-water-and-sand-blaster-slash-spray-painter/',\n",
       " 'https://www.cartermurray.com.sg/job/marketing-manager-46/',\n",
       " 'https://myrecruitmentplus.com/job-details/query/inside-saas-software-sales-perfect-for-a-recruiter-s80k-base-and-s180k-ote/in/sydney/7760726/',\n",
       " 'http://careers.centreport.co.nz/job-details/query/Cargo+Handler+-+Break+Bulk/in/Wellington/7762814/',\n",
       " 'https://www.dimplecare.com/job-details/query/team-leader/in/victoria/7672086/',\n",
       " 'https://www.ethosbc.com/job/100858132055947/operational-risk-manager/',\n",
       " 'https://au.talentinternational.com/jobs/executive-assistant-27',\n",
       " 'https://brannigans.co.nz/job-details/query/chief-executive-officer/in/canterbury/7710393/',\n",
       " 'https://greenstone-recruitment.co.nz/job-details/query/farm-assistant-868984-bay-of-plenty/in/bay-of-plenty/7774644/',\n",
       " 'https://www.taylorroot.de/job/partner-competition-melbourne-cbd/',\n",
       " 'http://careers.perentigroup.com/job-details/query/Machinist/in/Western+Australia/7680099/']"
      ]
     },
     "execution_count": 348,
     "metadata": {},
     "output_type": "execute_result"
    }
   ],
   "source": [
    "new_jobs"
   ]
  },
  {
   "cell_type": "markdown",
   "metadata": {},
   "source": [
    "Get total of 285 domains that contain some jobs that are likely to be Australian"
   ]
  },
  {
   "cell_type": "code",
   "execution_count": 349,
   "metadata": {},
   "outputs": [
    {
     "data": {
      "text/plain": [
       "285"
      ]
     },
     "execution_count": 349,
     "metadata": {},
     "output_type": "execute_result"
    }
   ],
   "source": [
    "len(set(au_domains + au_country + au_salary))"
   ]
  },
  {
   "cell_type": "markdown",
   "metadata": {},
   "source": [
    "In a single query"
   ]
  },
  {
   "cell_type": "code",
   "execution_count": 370,
   "metadata": {},
   "outputs": [
    {
     "name": "stdout",
     "output_type": "stream",
     "text": [
      "[285]\n",
      "CPU times: user 20.4 s, sys: 422 ms, total: 20.8 s\n",
      "Wall time: 22.4 s\n"
     ]
    }
   ],
   "source": [
    "%%time\n",
    "results = dataset.query(r'''\n",
    "PREFIX sdo: <http://schema.org/>\n",
    "PREFIX sdo_jp: <http://schema.org/JobPosting/>\n",
    "PREFIX sdo_pl: <http://schema.org/Place/>\n",
    "PREFIX sdo_pa: <http://schema.org/PostalAddress/>\n",
    "PREFIX sdo_co: <http://schema.org/Country/>\n",
    "PREFIX sdo_mv: <http://schema.org/MonetaryValue/>\n",
    "PREFIX sdos_mv: <https://schema.org/MonetaryValue/>\n",
    "\n",
    "\n",
    "SELECT (COUNT(distinct ?src) AS ?count)\n",
    "WHERE {\n",
    " { \n",
    "  GRAPH ?src\n",
    "  {[] a sdo:JobPosting .}\n",
    "  BIND (replace(str(?src), \n",
    "                'https?://([^?/]+).*',\n",
    "                '\\\\1') AS ?domain)\n",
    "    FILTER (strends(?domain, '.au'))\n",
    " }\n",
    " UNION\n",
    " {\n",
    "  GRAPH ?src\n",
    "  {\n",
    "    {[] a sdo:JobPosting ;\n",
    "         (sdo:jobLocation|sdo_jp:jobLocation)/\n",
    "         (sdo:address|sdo_pl:address)/\n",
    "         (sdo:addressCountry|sdo_pa:addressCountry)/\n",
    "         ((sdo:name|sdo_co:name)?) ?country .\n",
    "         FILTER (isliteral(?country) && \n",
    "                 lcase(replace(str(?country),\n",
    "                               '[ \\n\\t]*(.*)[ \\n\\t]*',\n",
    "                               '\\\\1')) in ('au', 'australia'))\n",
    "    }\n",
    "    UNION\n",
    "    {[] a sdo:JobPosting ;\n",
    "        ((sdo:salaryCurrency|sdo_jp:salaryCurrency)|\n",
    "         (sdo:baseSalary|sdo_jp:baseSalary)/\n",
    "         (sdo:currency|sdo_mv:currency|sdos_mv:currency)) ?currency .\n",
    "    BIND (replace(str(?currency), '[ \\n\\t]+', '') as ?curr)\n",
    "    FILTER (lcase(?curr) = 'aud')}\n",
    "  }\n",
    " }\n",
    "}\n",
    "''')\n",
    "\n",
    "show(results)"
   ]
  }
 ],
 "metadata": {
  "kernelspec": {
   "display_name": "Python 3",
   "language": "python",
   "name": "python3"
  },
  "language_info": {
   "codemirror_mode": {
    "name": "ipython",
    "version": 3
   },
   "file_extension": ".py",
   "mimetype": "text/x-python",
   "name": "python",
   "nbconvert_exporter": "python",
   "pygments_lexer": "ipython3",
   "version": "3.6.6"
  }
 },
 "nbformat": 4,
 "nbformat_minor": 2
}
